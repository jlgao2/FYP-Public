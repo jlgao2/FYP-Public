{
 "cells": [
  {
   "cell_type": "markdown",
   "metadata": {},
   "source": [
    "notes to improve on\n",
    "\n",
    "regularisation\n",
    "transforms\n",
    "auto lr find\n",
    "transfer learning?"
   ]
  },
  {
   "cell_type": "code",
   "execution_count": 23,
   "metadata": {},
   "outputs": [],
   "source": [
    "import os\n",
    "import numpy as np\n",
    "import pandas as pd\n",
    "import matplotlib as plt\n",
    "from pathlib2 import Path\n",
    "from PIL import Image\n",
    "import torch\n",
    "import math\n",
    "import torch.nn as nn\n",
    "from torchvision.transforms import transforms\n",
    "from matplotlib import pyplot\n",
    "import pandas as pd\n"
   ]
  },
  {
   "cell_type": "markdown",
   "metadata": {},
   "source": [
    "The key"
   ]
  },
  {
   "cell_type": "code",
   "execution_count": 45,
   "metadata": {},
   "outputs": [],
   "source": [
    "key = { 1: 'boomerang', 2:'kangaroo', 3:'crab', 4:'cactus', 5:'flip flops', 6:'banana' }\n",
    "inv_key = {v: k for k, v in key.items()}"
   ]
  },
  {
   "cell_type": "markdown",
   "metadata": {},
   "source": [
    "Paths"
   ]
  },
  {
   "cell_type": "code",
   "execution_count": 3,
   "metadata": {},
   "outputs": [],
   "source": [
    "DATA_PATH = Path(os.getcwd()+\"/data\")\n",
    "PATH = DATA_PATH/\"kaggle\"\n",
    "TRAIN_PATH = PATH/\"Train/\"\n",
    "TEST_PATH = PATH/\"Test/\""
   ]
  },
  {
   "cell_type": "markdown",
   "metadata": {},
   "source": [
    "Select Devices"
   ]
  },
  {
   "cell_type": "code",
   "execution_count": 4,
   "metadata": {},
   "outputs": [],
   "source": [
    "dev = torch.device(\n",
    "     \"cuda\") if torch.cuda.is_available() else torch.device(\"cpu\")\n",
    "cpu = torch.device(\"cpu\")"
   ]
  },
  {
   "cell_type": "markdown",
   "metadata": {},
   "source": [
    "Import CSVs"
   ]
  },
  {
   "cell_type": "code",
   "execution_count": 24,
   "metadata": {},
   "outputs": [],
   "source": [
    "sketches_df = pd.read_csv(PATH/'sketches_train.csv')"
   ]
  },
  {
   "cell_type": "code",
   "execution_count": 47,
   "metadata": {},
   "outputs": [
    {
     "ename": "TypeError",
     "evalue": "'dict' object is not callable",
     "output_type": "error",
     "traceback": [
      "\u001b[1;31m---------------------------------------------------------------------------\u001b[0m",
      "\u001b[1;31mTypeError\u001b[0m                                 Traceback (most recent call last)",
      "\u001b[1;32m<ipython-input-47-7217cec03f06>\u001b[0m in \u001b[0;36m<module>\u001b[1;34m\u001b[0m\n\u001b[0;32m      1\u001b[0m \u001b[0msketch_y\u001b[0m \u001b[1;33m=\u001b[0m \u001b[0msketches_df\u001b[0m\u001b[1;33m.\u001b[0m\u001b[0mloc\u001b[0m\u001b[1;33m[\u001b[0m\u001b[1;33m:\u001b[0m\u001b[1;33m,\u001b[0m\u001b[1;33m[\u001b[0m\u001b[1;34m'word'\u001b[0m\u001b[1;33m]\u001b[0m\u001b[1;33m]\u001b[0m\u001b[1;33m\u001b[0m\u001b[1;33m\u001b[0m\u001b[0m\n\u001b[1;32m----> 2\u001b[1;33m \u001b[0msketch_y\u001b[0m \u001b[1;33m=\u001b[0m \u001b[0minv_key\u001b[0m\u001b[1;33m(\u001b[0m\u001b[0msketch_y\u001b[0m\u001b[1;33m)\u001b[0m\u001b[1;33m\u001b[0m\u001b[1;33m\u001b[0m\u001b[0m\n\u001b[0m",
      "\u001b[1;31mTypeError\u001b[0m: 'dict' object is not callable"
     ]
    }
   ],
   "source": [
    "sketch_y = sketches_df.loc[:,['word']]\n",
    "sketch_y = inv_key(sketch_y)\n",
    "\n",
    "for word, factor in inv_key.items():\n",
    "    sketch_y2 = sketch_y.replace(word.lower(), initial)\n"
   ]
  },
  {
   "cell_type": "code",
   "execution_count": 35,
   "metadata": {},
   "outputs": [
    {
     "data": {
      "text/plain": [
       "<bound method NDFrame.head of       V1  V2  V3  V4  V5  V6  V7  V8  V9  V10  ...  V775  V776  V777  V778  \\\n",
       "0      0   0   0   0   0   0   0   0   0    0  ...     0     0     0     0   \n",
       "1      0   0   0   0   0   0   0   0   0    0  ...     0     0     0     0   \n",
       "2      0   0   0   0   0   0   0   0   0    0  ...     0     0     0     0   \n",
       "3      0   0   0   0   0   0   0   0   0    0  ...     0     0     0     0   \n",
       "4      0   0   0   0   0   0   0   0   0    0  ...     0     0     0     0   \n",
       "...   ..  ..  ..  ..  ..  ..  ..  ..  ..  ...  ...   ...   ...   ...   ...   \n",
       "5995   0   0   0   0   0   0   0   0   0    0  ...     0     0     0     0   \n",
       "5996   0   0   0   0   0   0   0   0   0    0  ...     0     0     0     0   \n",
       "5997   0   0   0   0   0   0   0   0   0    0  ...     0     0     0     0   \n",
       "5998   0   0   0   0   0   0   0   0   0    0  ...     0     0     0     0   \n",
       "5999   0   0   0   0   0   0   0   0   0    0  ...     0     0     0     0   \n",
       "\n",
       "      V779  V780  V781  V782  V783  V784  \n",
       "0        0     0     0     0     0     0  \n",
       "1        0     0     0     0     0     0  \n",
       "2        0     0     0     0     0     0  \n",
       "3        0     0     0     0     0     0  \n",
       "4        0     0     0     0     0     0  \n",
       "...    ...   ...   ...   ...   ...   ...  \n",
       "5995     0     0     0     0     0     0  \n",
       "5996     0     0     0     0     0     0  \n",
       "5997     0     0     0     0     0     0  \n",
       "5998     0     0     0     0     0     0  \n",
       "5999     0     0     0     0     0     0  \n",
       "\n",
       "[6000 rows x 784 columns]>"
      ]
     },
     "execution_count": 35,
     "metadata": {},
     "output_type": "execute_result"
    }
   ],
   "source": [
    "sketch_x = sketches_df.iloc[:,1:785]\n",
    "sketch_x.head"
   ]
  },
  {
   "cell_type": "code",
   "execution_count": 44,
   "metadata": {},
   "outputs": [
    {
     "data": {
      "text/plain": [
       "array([  0,   0,   0,   0,   0,   0,   0,   0,   0,   0,   0,   0,   0,\n",
       "         0,   0,   0,   0,   0,   0,   0,   0,   0,   0,   0,   0,   0,\n",
       "         0,   0,   0,   0,   0,   0,   0,   0,   0,   0,   0,   0,   0,\n",
       "         0,   0,   0,   0,   0,   0,   0,   0,   0,   0,   0,   0,   0,\n",
       "         0,   0,   0,   0,   0,   0,   0,   0,   0,   0,   0,   0,   0,\n",
       "         0,   0,   0,   0,   0,   0,   0,   0,   0,   0,   0,   0,   0,\n",
       "         0,   0,   0,   0,   0,   0,   0,   0,   0,   0,   0,   0,   0,\n",
       "         0,   0,   0,   0,   0,   0,   0,  65, 106, 129, 138,  60,   1,\n",
       "         0,   0,   0,   0,   0,   0,   0,   0,   0,   0,   0,   0,   0,\n",
       "         0,   0,   0,   0,   0,   0,   0,   0,  17, 254, 255, 248, 246,\n",
       "       255, 223, 133,  42,   0,   0,   0,   0,   0,   0,   0,   0,   0,\n",
       "         0,   0,   0,   0,   0,   0,   0,   0,   0,   0,   0, 128, 250,\n",
       "       201,  16,  84, 175, 248, 254, 111,   0,   0,   0,   0,   0,   0,\n",
       "         0,   0,   0,   0,   0,   0,   0,   0,   0,   0,   0,   0,   0,\n",
       "         0,  71, 252, 154,   0,   0,  17, 164, 254, 110,   0,   0,   0,\n",
       "         0,   0,   0,   0,   0,   0,   0,   0,   0,   0,   0,   0,   0,\n",
       "         0,   0,   0,   0, 130, 253,  43,   0,   0,   3, 164, 254,  78,\n",
       "         0,   0,   0,   0,   0,   0,   0,   0,   0,   0,   0,   0,   0,\n",
       "         0,   0,   0,   0,   0,   0,  14, 237, 168,   0,   0,   0,   3,\n",
       "       202, 225,  12,   0,   0,   0,   0,   0,   0,   0,   0,   0,   0,\n",
       "         0,   0,   0,   0,   0,   0,   0,   0,   0, 124, 253,  32,   0,\n",
       "         0,   0,  50, 252, 141,   0,   0,   0,   0,   0,   0,   0,   0,\n",
       "         0,   0,   0,   0,   0,   0,   0,   0,   0,   0,   0,  41, 255,\n",
       "        83,   0,   0,   0,   0, 154, 244,   2,   0,   0,   0,   0,   0,\n",
       "         0,   0,   0,   0,   0,   0,   0,   0,   0,   0,   0,   0,   0,\n",
       "        46, 255,  79,   0,   0,   0,   0,  92, 255,  34,   0,   0,   0,\n",
       "         0,   0,   0,   0,   0,   0,   0,   0,   0,   0,   0,   0,   0,\n",
       "         0,   0,  87, 255,  38,   0,   0,   0,   0,  50, 255,  76,   0,\n",
       "         0,   0,   0,   0,   0,   0,   0,   0,   0,   0,   0,   0,   0,\n",
       "         0,   0,   0,   0, 169, 236,   4,   0,   0,   0,   0,  14, 255,\n",
       "       112,   0,   0,   0,   0,   0,   0,   0,   0,   0,   0,   0,   0,\n",
       "         0,   0,   0,   0,   0,  42, 253, 124,   0,   0,   0,   0,   0,\n",
       "        49, 255,  80,   0,   0,   0,   0,   0,   0,   0,   0,   0,   0,\n",
       "         0,   0,   0,   0,   0,   0,  26, 203, 237,  14,   0,   0,   0,\n",
       "         0,   0, 101, 255,  28,   0,   0,   0,   0,   0,   0,   0,   0,\n",
       "         0,   0,   0,   0,   0,   0,   0,  55, 229, 238,  68,   0,   0,\n",
       "         0,   0,   0,   0, 153, 232,   0,   0,   0,   0,   0,   0,   0,\n",
       "         0,   0,   0,   0,   0,   0,   0,  44, 160, 249, 214,  38,   0,\n",
       "         0,   0,   0,   0,   0,   0, 213, 179,   0,   0,   0,   0,   0,\n",
       "         0,   0,   0,   0,   0,   0,   1,  66, 182, 254, 240, 137,  14,\n",
       "         0,   0,   0,   0,   0,   0,   0,  69, 255,  89,   0,   0,   0,\n",
       "        10,  67,  51,  32,  13,  41, 106, 171, 234, 255, 227, 115,  14,\n",
       "         0,   0,   0,   0,   0,   0,   0,   0,  26, 210, 225,   4,   0,\n",
       "         0,   0, 127, 255, 255, 255, 255, 255, 255, 218, 153,  82,   5,\n",
       "         0,   0,   0,   0,   0,   0,   0,   0,   0,  78, 230, 239,  64,\n",
       "         0,   0,   0,   0,  46, 224, 255, 243, 192, 122,  28,   0,   0,\n",
       "         0,   0,   0,   0,   0,   0,   0,   0,   0,  21, 166, 255, 200,\n",
       "        39,   0,   0,   0,   0,   0,   0,   0,  60, 159, 244, 255, 202,\n",
       "       104,  15,   0,   0,   0,   0,   6,  25,  45,  81, 167, 245, 246,\n",
       "       116,   3,   0,   0,   0,   0,   0,   0,   0,   0,   0,   0,  14,\n",
       "       102, 200, 255, 246, 221, 221, 222, 241, 255, 255, 255, 255, 228,\n",
       "       142,  36,   0,   0,   0,   0,   0,   0,   0,   0,   0,   0,   0,\n",
       "         0,   0,   0,   0,  44, 134, 153, 153, 153, 137, 116,  96,  77,\n",
       "        52,   2,   0,   0,   0,   0,   0,   0,   0,   0,   0,   0,   0,\n",
       "         0,   0,   0,   0,   0,   0,   0,   0,   0,   0,   0,   0,   0,\n",
       "         0,   0,   0,   0,   0,   0,   0,   0,   0,   0,   0,   0,   0,\n",
       "         0,   0,   0,   0,   0,   0,   0,   0,   0,   0,   0,   0,   0,\n",
       "         0,   0,   0,   0,   0,   0,   0,   0,   0,   0,   0,   0,   0,\n",
       "         0,   0,   0,   0,   0,   0,   0,   0,   0,   0,   0,   0,   0,\n",
       "         0,   0,   0,   0,   0,   0,   0,   0,   0,   0,   0,   0,   0,\n",
       "         0,   0,   0,   0], dtype=int64)"
      ]
     },
     "execution_count": 44,
     "metadata": {},
     "output_type": "execute_result"
    }
   ],
   "source": [
    "list of \n",
    "for idx, row in sketch_x:\n",
    "    array = row.values.reshape(28,28)\n",
    "    img = Image.fromarray(sqr)\n",
    "    switch(sketch_y(index)):"
   ]
  },
  {
   "cell_type": "code",
   "execution_count": 19,
   "metadata": {},
   "outputs": [
    {
     "name": "stdout",
     "output_type": "stream",
     "text": [
      "[nan  0.  0. ...  0.  0.  0.]\n"
     ]
    }
   ],
   "source": [
    "# sketches = np.genfromtxt(PATH/'sketches_train.csv', delimiter=',')\n",
    "# #train_x = train_x/256\n",
    "\n",
    "# sketches_test = np.genfromtxt(PATH/'sketches_test.csv', delimiter=',')\n",
    "# #test_x = test_x/256\n",
    "\n",
    "# sketches_y = sketches[:,784]\n",
    "# print(sketches_y)"
   ]
  },
  {
   "cell_type": "code",
   "execution_count": null,
   "metadata": {},
   "outputs": [],
   "source": []
  },
  {
   "cell_type": "code",
   "execution_count": 22,
   "metadata": {},
   "outputs": [
    {
     "name": "stdout",
     "output_type": "stream",
     "text": [
      "[      nan 1.000e+00 2.000e+00 ... 5.998e+03 5.999e+03 6.000e+03]\n"
     ]
    }
   ],
   "source": [
    "sketches_y = sketches[:,786]\n",
    "print(sketches_y)"
   ]
  },
  {
   "cell_type": "markdown",
   "metadata": {},
   "source": [
    "Save Images"
   ]
  },
  {
   "cell_type": "code",
   "execution_count": null,
   "metadata": {},
   "outputs": [],
   "source": [
    "i = 0\n",
    "for row in train_x:\n",
    "    arr = row\n",
    "    i += 1\n",
    "    sqr = arr.reshape(28,28)\n",
    "    img = Image.fromarray(sqr)\n",
    "    img.save(str(TRAIN_PATH)+\"/\"+str(i)+\".png\", \"PNG\")\n",
    "i = 0\n",
    "for row in test_x:\n",
    "    arr = row\n",
    "    i += 1\n",
    "    sqr = arr.reshape(28,28)\n",
    "    img = Image.fromarray(sqr)\n",
    "    img.save(str(TEST_PATH)+\"/\"+str(i)+\".png\", \"PNG\")"
   ]
  },
  {
   "cell_type": "code",
   "execution_count": null,
   "metadata": {},
   "outputs": [],
   "source": [
    "Read Images"
   ]
  },
  {
   "cell_type": "code",
   "execution_count": 6,
   "metadata": {},
   "outputs": [
    {
     "name": "stdout",
     "output_type": "stream",
     "text": [
      "torch.Size([6000, 1, 28, 28]) torch.Size([6000]) torch.Size([1200, 1, 28, 28])\n"
     ]
    }
   ],
   "source": [
    "train_x, train_y, test_x = map(\n",
    "    torch.tensor, (train_x, train_y, test_x)\n",
    ")\n",
    "\n",
    "train_x = train_x.float().to(dev).view(-1, 1, 28, 28)\n",
    "test_x = test_x.float().to(cpu).view(-1, 1, 28, 28)\n",
    "train_y = train_y.long().to(dev)\n",
    "\n",
    "print(train_x.shape, train_y.shape, test_x.shape)"
   ]
  },
  {
   "cell_type": "code",
   "execution_count": 7,
   "metadata": {},
   "outputs": [],
   "source": [
    "from torch.utils.data import TensorDataset"
   ]
  },
  {
   "cell_type": "code",
   "execution_count": 8,
   "metadata": {},
   "outputs": [],
   "source": [
    "sketch_ds = TensorDataset(train_x, train_y)"
   ]
  },
  {
   "cell_type": "code",
   "execution_count": 9,
   "metadata": {},
   "outputs": [],
   "source": [
    "train_transformations = transforms.Compose([\n",
    "    transforms.RandomHorizontalFlip(),\n",
    "    transforms.RandomCrop(28,padding=4),\n",
    "    transforms.ToTensor(),\n",
    "    transforms.Normalize((0.5,0.5,0.5), (0.5,0.5,0.5))\n",
    "])"
   ]
  },
  {
   "cell_type": "code",
   "execution_count": 10,
   "metadata": {},
   "outputs": [
    {
     "ename": "TypeError",
     "evalue": "'TensorDataset' object is not callable",
     "output_type": "error",
     "traceback": [
      "\u001b[1;31m---------------------------------------------------------------------------\u001b[0m",
      "\u001b[1;31mTypeError\u001b[0m                                 Traceback (most recent call last)",
      "\u001b[1;32m<ipython-input-10-36da698f1a61>\u001b[0m in \u001b[0;36m<module>\u001b[1;34m\u001b[0m\n\u001b[1;32m----> 1\u001b[1;33m \u001b[0msds2\u001b[0m \u001b[1;33m=\u001b[0m \u001b[0msketch_ds\u001b[0m\u001b[1;33m(\u001b[0m\u001b[0mtransform\u001b[0m\u001b[1;33m=\u001b[0m\u001b[0mtrain_transformations\u001b[0m\u001b[1;33m)\u001b[0m\u001b[1;33m\u001b[0m\u001b[1;33m\u001b[0m\u001b[0m\n\u001b[0m",
      "\u001b[1;31mTypeError\u001b[0m: 'TensorDataset' object is not callable"
     ]
    }
   ],
   "source": [
    "sds2 = sketch_ds(transform=train_transformations)"
   ]
  }
 ],
 "metadata": {
  "kernelspec": {
   "display_name": "Python [conda env:fastai] *",
   "language": "python",
   "name": "conda-env-fastai-py"
  },
  "language_info": {
   "codemirror_mode": {
    "name": "ipython",
    "version": 3
   },
   "file_extension": ".py",
   "mimetype": "text/x-python",
   "name": "python",
   "nbconvert_exporter": "python",
   "pygments_lexer": "ipython3",
   "version": "3.7.6"
  }
 },
 "nbformat": 4,
 "nbformat_minor": 4
}
