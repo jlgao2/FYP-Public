{
 "cells": [
  {
   "cell_type": "markdown",
   "metadata": {},
   "source": [
    "notes to improve on\n",
    "\n",
    "regularisation\n",
    "transforms\n",
    "auto lr find\n",
    "transfer learning?"
   ]
  },
  {
   "cell_type": "code",
   "execution_count": 1,
   "metadata": {},
   "outputs": [],
   "source": [
    "import os\n",
    "import numpy as np\n",
    "import pandas as pd\n",
    "import matplotlib as plt\n",
    "from pathlib2 import Path\n",
    "from PIL import Image\n",
    "import torch\n",
    "import math\n",
    "import torch.nn as nn\n",
    "from torchvision.transforms import transforms\n",
    "from matplotlib import pyplot\n",
    "import pandas as pd\n"
   ]
  },
  {
   "cell_type": "markdown",
   "metadata": {},
   "source": [
    "The key"
   ]
  },
  {
   "cell_type": "code",
   "execution_count": null,
   "metadata": {},
   "outputs": [],
   "source": []
  },
  {
   "cell_type": "markdown",
   "metadata": {},
   "source": [
    "Paths"
   ]
  },
  {
   "cell_type": "code",
   "execution_count": 10,
   "metadata": {},
   "outputs": [],
   "source": [
    "DATA_PATH = Path(os.getcwd()+\"/data\")\n",
    "PATH = DATA_PATH/\"kaggle\"\n",
    "TRAIN_PATH = PATH/\"upsampled_images\"\n",
    "TEST_PATH = PATH/\"Test/\""
   ]
  },
  {
   "cell_type": "markdown",
   "metadata": {},
   "source": [
    "Select Devices"
   ]
  },
  {
   "cell_type": "markdown",
   "metadata": {},
   "source": [
    "Import CSVs"
   ]
  },
  {
   "cell_type": "code",
   "execution_count": 3,
   "metadata": {},
   "outputs": [],
   "source": [
    "sketch_df = pd.read_csv(PATH/'sketches_train.csv')"
   ]
  },
  {
   "cell_type": "code",
   "execution_count": 4,
   "metadata": {},
   "outputs": [
    {
     "data": {
      "text/plain": [
       "<bound method NDFrame.head of       V1  V2  V3  V4  V5  V6  V7  V8  V9  V10  ...  V775  V776  V777  V778  \\\n",
       "0      0   0   0   0   0   0   0   0   0    0  ...     0     0     0     0   \n",
       "1      0   0   0   0   0   0   0   0   0    0  ...     0     0     0     0   \n",
       "2      0   0   0   0   0   0   0   0   0    0  ...     0     0     0     0   \n",
       "3      0   0   0   0   0   0   0   0   0    0  ...     0     0     0     0   \n",
       "4      0   0   0   0   0   0   0   0   0    0  ...     0     0     0     0   \n",
       "...   ..  ..  ..  ..  ..  ..  ..  ..  ..  ...  ...   ...   ...   ...   ...   \n",
       "5995   0   0   0   0   0   0   0   0   0    0  ...     0     0     0     0   \n",
       "5996   0   0   0   0   0   0   0   0   0    0  ...     0     0     0     0   \n",
       "5997   0   0   0   0   0   0   0   0   0    0  ...     0     0     0     0   \n",
       "5998   0   0   0   0   0   0   0   0   0    0  ...     0     0     0     0   \n",
       "5999   0   0   0   0   0   0   0   0   0    0  ...     0     0     0     0   \n",
       "\n",
       "      V779  V780  V781  V782  V783  V784  \n",
       "0        0     0     0     0     0     0  \n",
       "1        0     0     0     0     0     0  \n",
       "2        0     0     0     0     0     0  \n",
       "3        0     0     0     0     0     0  \n",
       "4        0     0     0     0     0     0  \n",
       "...    ...   ...   ...   ...   ...   ...  \n",
       "5995     0     0     0     0     0     0  \n",
       "5996     0     0     0     0     0     0  \n",
       "5997     0     0     0     0     0     0  \n",
       "5998     0     0     0     0     0     0  \n",
       "5999     0     0     0     0     0     0  \n",
       "\n",
       "[6000 rows x 784 columns]>"
      ]
     },
     "execution_count": 4,
     "metadata": {},
     "output_type": "execute_result"
    }
   ],
   "source": [
    "sketch_x = sketch_df.iloc[:,1:785]\n",
    "sketch_x.head"
   ]
  },
  {
   "cell_type": "code",
   "execution_count": 5,
   "metadata": {},
   "outputs": [
    {
     "data": {
      "text/plain": [
       "<bound method NDFrame.head of            word\n",
       "0     boomerang\n",
       "1     boomerang\n",
       "2     boomerang\n",
       "3     boomerang\n",
       "4     boomerang\n",
       "...         ...\n",
       "5995     banana\n",
       "5996     banana\n",
       "5997     banana\n",
       "5998     banana\n",
       "5999     banana\n",
       "\n",
       "[6000 rows x 1 columns]>"
      ]
     },
     "execution_count": 5,
     "metadata": {},
     "output_type": "execute_result"
    }
   ],
   "source": [
    "sketch_y = sketch_df.iloc[:,785:786]\n",
    "sketch_y.head"
   ]
  },
  {
   "cell_type": "code",
   "execution_count": 6,
   "metadata": {},
   "outputs": [
    {
     "data": {
      "text/plain": [
       "(784,)"
      ]
     },
     "execution_count": 6,
     "metadata": {},
     "output_type": "execute_result"
    }
   ],
   "source": [
    "(sketch_x.to_numpy()[5]).shape"
   ]
  },
  {
   "cell_type": "code",
   "execution_count": 26,
   "metadata": {},
   "outputs": [],
   "source": [
    "#make images from array\n",
    "i = 0\n",
    "for row in sketch_x.to_numpy(): #get numpy array from pandas df \n",
    "    arr = row \n",
    "    i += 1\n",
    "    sqr = arr.reshape(28,28).astype(np.uint8)\n",
    "    img = Image.fromarray(sqr)\n",
    "    img.save(str(TRAIN_PATH)+\"/\"+str(i)+\".png\", \"PNG\")"
   ]
  },
  {
   "cell_type": "code",
   "execution_count": 22,
   "metadata": {},
   "outputs": [
    {
     "data": {
      "text/plain": [
       "WindowsPath('C:/Users/georg/.fyp/data/kaggle/Train')"
      ]
     },
     "execution_count": 22,
     "metadata": {},
     "output_type": "execute_result"
    }
   ],
   "source": [
    "TRAIN_PATH"
   ]
  },
  {
   "cell_type": "code",
   "execution_count": 13,
   "metadata": {},
   "outputs": [],
   "source": [
    "#organise images into class folders\n",
    "\n",
    "shapeIDs = list(sketch_y['word'].unique())\n",
    "\n",
    "#Run Once to make img\n",
    "for s in shapeIDs:\n",
    "    os.makedirs(str(TRAIN_PATH)+'/'+s)\n",
    "\n",
    "for idx in sketch_y.index:\n",
    "    image = str(idx+1)+'.png'\n",
    "    folder = sketch_y.loc[idx, 'word']\n",
    "    old = 'C:/Users/georg/.fyp/data/kaggle/upsampled_images/{}'.format(image)\n",
    "    new = 'C:/Users/georg/.fyp/data/kaggle/upsampled_images/{}/{}'.format(folder, image)\n",
    "    try:\n",
    "        os.rename(old, new)\n",
    "    except:\n",
    "        print('{} - {}'.format(image,folder))"
   ]
  },
  {
   "cell_type": "code",
   "execution_count": 16,
   "metadata": {},
   "outputs": [],
   "source": [
    "#try fastai method\n",
    "from fastai.vision import *\n",
    "np.random.seed(103078)\n",
    "sketch_data = ImageDataBunch.from_folder(TRAIN_PATH, train=\".\", valid_pct=0.2,\n",
    "        ds_tfms=get_transforms(), size=28, num_workers=1).normalize(mnist_stats)"
   ]
  },
  {
   "cell_type": "code",
   "execution_count": 6,
   "metadata": {},
   "outputs": [
    {
     "data": {
      "text/plain": [
       "['banana', 'boomerang', 'cactus', 'crab', 'flip flops', 'kangaroo']"
      ]
     },
     "execution_count": 6,
     "metadata": {},
     "output_type": "execute_result"
    }
   ],
   "source": [
    "sketch_data.classes"
   ]
  },
  {
   "cell_type": "code",
   "execution_count": 17,
   "metadata": {},
   "outputs": [
    {
     "data": {
      "image/png": "[encoded data removed]",
      "text/plain": [
       "<Figure size 504x576 with 9 Axes>"
      ]
     },
     "metadata": {
      "needs_background": "light"
     },
     "output_type": "display_data"
    }
   ],
   "source": [
    "sketch_data.show_batch(rows=3, figsize=(7,8))"
   ]
  },
  {
   "cell_type": "code",
   "execution_count": 18,
   "metadata": {},
   "outputs": [],
   "source": [
    "learn = cnn_learner(sketch_data, models.resnet34, metrics=error_rate)"
   ]
  },
  {
   "cell_type": "code",
   "execution_count": 20,
   "metadata": {},
   "outputs": [
    {
     "data": {
      "text/html": [
       "<table border=\"1\" class=\"dataframe\">\n",
       "  <thead>\n",
       "    <tr style=\"text-align: left;\">\n",
       "      <th>epoch</th>\n",
       "      <th>train_loss</th>\n",
       "      <th>valid_loss</th>\n",
       "      <th>error_rate</th>\n",
       "      <th>time</th>\n",
       "    </tr>\n",
       "  </thead>\n",
       "  <tbody>\n",
       "    <tr>\n",
       "      <td>0</td>\n",
       "      <td>0.762425</td>\n",
       "      <td>0.643073</td>\n",
       "      <td>0.219167</td>\n",
       "      <td>00:17</td>\n",
       "    </tr>\n",
       "    <tr>\n",
       "      <td>1</td>\n",
       "      <td>0.757405</td>\n",
       "      <td>0.593227</td>\n",
       "      <td>0.209167</td>\n",
       "      <td>00:16</td>\n",
       "    </tr>\n",
       "    <tr>\n",
       "      <td>2</td>\n",
       "      <td>0.723470</td>\n",
       "      <td>0.559972</td>\n",
       "      <td>0.183333</td>\n",
       "      <td>00:16</td>\n",
       "    </tr>\n",
       "    <tr>\n",
       "      <td>3</td>\n",
       "      <td>0.665628</td>\n",
       "      <td>0.541063</td>\n",
       "      <td>0.193333</td>\n",
       "      <td>00:16</td>\n",
       "    </tr>\n",
       "    <tr>\n",
       "      <td>4</td>\n",
       "      <td>0.634917</td>\n",
       "      <td>0.516674</td>\n",
       "      <td>0.180833</td>\n",
       "      <td>00:16</td>\n",
       "    </tr>\n",
       "  </tbody>\n",
       "</table>"
      ],
      "text/plain": [
       "<IPython.core.display.HTML object>"
      ]
     },
     "metadata": {},
     "output_type": "display_data"
    }
   ],
   "source": [
    "learn.fit_one_cycle(5)"
   ]
  },
  {
   "cell_type": "code",
   "execution_count": 21,
   "metadata": {},
   "outputs": [],
   "source": [
    "learn.save('stage-1')"
   ]
  },
  {
   "cell_type": "code",
   "execution_count": 22,
   "metadata": {},
   "outputs": [],
   "source": [
    "learn.freeze()"
   ]
  },
  {
   "cell_type": "code",
   "execution_count": 23,
   "metadata": {},
   "outputs": [],
   "source": [
    "learn.unfreeze()"
   ]
  },
  {
   "cell_type": "code",
   "execution_count": 24,
   "metadata": {},
   "outputs": [
    {
     "data": {
      "text/html": [
       "\n",
       "    <div>\n",
       "        <style>\n",
       "            /* Turns off some styling */\n",
       "            progress {\n",
       "                /* gets rid of default border in Firefox and Opera. */\n",
       "                border: none;\n",
       "                /* Needs to be in here for Safari polyfill so background images work as expected. */\n",
       "                background-size: auto;\n",
       "            }\n",
       "            .progress-bar-interrupted, .progress-bar-interrupted::-webkit-progress-bar {\n",
       "                background: #F44336;\n",
       "            }\n",
       "        </style>\n",
       "      <progress value='1' class='' max='2', style='width:300px; height:20px; vertical-align: middle;'></progress>\n",
       "      50.00% [1/2 00:13<00:13]\n",
       "    </div>\n",
       "    \n",
       "<table border=\"1\" class=\"dataframe\">\n",
       "  <thead>\n",
       "    <tr style=\"text-align: left;\">\n",
       "      <th>epoch</th>\n",
       "      <th>train_loss</th>\n",
       "      <th>valid_loss</th>\n",
       "      <th>error_rate</th>\n",
       "      <th>time</th>\n",
       "    </tr>\n",
       "  </thead>\n",
       "  <tbody>\n",
       "    <tr>\n",
       "      <td>0</td>\n",
       "      <td>0.980417</td>\n",
       "      <td>#na#</td>\n",
       "      <td>00:13</td>\n",
       "    </tr>\n",
       "  </tbody>\n",
       "</table><p>\n",
       "\n",
       "    <div>\n",
       "        <style>\n",
       "            /* Turns off some styling */\n",
       "            progress {\n",
       "                /* gets rid of default border in Firefox and Opera. */\n",
       "                border: none;\n",
       "                /* Needs to be in here for Safari polyfill so background images work as expected. */\n",
       "                background-size: auto;\n",
       "            }\n",
       "            .progress-bar-interrupted, .progress-bar-interrupted::-webkit-progress-bar {\n",
       "                background: #F44336;\n",
       "            }\n",
       "        </style>\n",
       "      <progress value='8' class='' max='75', style='width:300px; height:20px; vertical-align: middle;'></progress>\n",
       "      10.67% [8/75 00:03<00:33 2.0361]\n",
       "    </div>\n",
       "    "
      ],
      "text/plain": [
       "<IPython.core.display.HTML object>"
      ]
     },
     "metadata": {},
     "output_type": "display_data"
    },
    {
     "name": "stdout",
     "output_type": "stream",
     "text": [
      "LR Finder is complete, type {learner_name}.recorder.plot() to see the graph.\n"
     ]
    }
   ],
   "source": [
    "learn.lr_find()"
   ]
  },
  {
   "cell_type": "code",
   "execution_count": 25,
   "metadata": {},
   "outputs": [
    {
     "data": {
      "image/png": "[encoded data removed]",
      "text/plain": [
       "<Figure size 432x288 with 1 Axes>"
      ]
     },
     "metadata": {
      "needs_background": "light"
     },
     "output_type": "display_data"
    }
   ],
   "source": [
    "# If the plot is not showing try to give a start and end learning rate\n",
    "# learn.lr_find(start_lr=1e-5, end_lr=1e-1)\n",
    "learn.recorder.plot()"
   ]
  },
  {
   "cell_type": "code",
   "execution_count": 26,
   "metadata": {},
   "outputs": [
    {
     "data": {
      "text/html": [
       "<table border=\"1\" class=\"dataframe\">\n",
       "  <thead>\n",
       "    <tr style=\"text-align: left;\">\n",
       "      <th>epoch</th>\n",
       "      <th>train_loss</th>\n",
       "      <th>valid_loss</th>\n",
       "      <th>error_rate</th>\n",
       "      <th>time</th>\n",
       "    </tr>\n",
       "  </thead>\n",
       "  <tbody>\n",
       "    <tr>\n",
       "      <td>0</td>\n",
       "      <td>0.551679</td>\n",
       "      <td>0.474639</td>\n",
       "      <td>0.151667</td>\n",
       "      <td>00:19</td>\n",
       "    </tr>\n",
       "    <tr>\n",
       "      <td>1</td>\n",
       "      <td>0.461697</td>\n",
       "      <td>0.391745</td>\n",
       "      <td>0.129167</td>\n",
       "      <td>00:17</td>\n",
       "    </tr>\n",
       "    <tr>\n",
       "      <td>2</td>\n",
       "      <td>0.436365</td>\n",
       "      <td>0.477431</td>\n",
       "      <td>0.151667</td>\n",
       "      <td>00:19</td>\n",
       "    </tr>\n",
       "    <tr>\n",
       "      <td>3</td>\n",
       "      <td>0.432133</td>\n",
       "      <td>0.514794</td>\n",
       "      <td>0.174167</td>\n",
       "      <td>00:22</td>\n",
       "    </tr>\n",
       "    <tr>\n",
       "      <td>4</td>\n",
       "      <td>0.414255</td>\n",
       "      <td>0.523461</td>\n",
       "      <td>0.172500</td>\n",
       "      <td>00:19</td>\n",
       "    </tr>\n",
       "    <tr>\n",
       "      <td>5</td>\n",
       "      <td>0.400405</td>\n",
       "      <td>0.587031</td>\n",
       "      <td>0.190833</td>\n",
       "      <td>00:17</td>\n",
       "    </tr>\n",
       "    <tr>\n",
       "      <td>6</td>\n",
       "      <td>0.406135</td>\n",
       "      <td>0.688241</td>\n",
       "      <td>0.215833</td>\n",
       "      <td>00:21</td>\n",
       "    </tr>\n",
       "    <tr>\n",
       "      <td>7</td>\n",
       "      <td>0.409965</td>\n",
       "      <td>0.447089</td>\n",
       "      <td>0.132500</td>\n",
       "      <td>00:18</td>\n",
       "    </tr>\n",
       "    <tr>\n",
       "      <td>8</td>\n",
       "      <td>0.379688</td>\n",
       "      <td>0.376913</td>\n",
       "      <td>0.120833</td>\n",
       "      <td>00:17</td>\n",
       "    </tr>\n",
       "    <tr>\n",
       "      <td>9</td>\n",
       "      <td>0.392108</td>\n",
       "      <td>0.672256</td>\n",
       "      <td>0.214167</td>\n",
       "      <td>00:18</td>\n",
       "    </tr>\n",
       "    <tr>\n",
       "      <td>10</td>\n",
       "      <td>0.351912</td>\n",
       "      <td>0.343618</td>\n",
       "      <td>0.102500</td>\n",
       "      <td>00:17</td>\n",
       "    </tr>\n",
       "    <tr>\n",
       "      <td>11</td>\n",
       "      <td>0.339457</td>\n",
       "      <td>0.389464</td>\n",
       "      <td>0.132500</td>\n",
       "      <td>00:18</td>\n",
       "    </tr>\n",
       "    <tr>\n",
       "      <td>12</td>\n",
       "      <td>0.311580</td>\n",
       "      <td>0.377231</td>\n",
       "      <td>0.120833</td>\n",
       "      <td>00:17</td>\n",
       "    </tr>\n",
       "    <tr>\n",
       "      <td>13</td>\n",
       "      <td>0.299561</td>\n",
       "      <td>0.345148</td>\n",
       "      <td>0.107500</td>\n",
       "      <td>00:18</td>\n",
       "    </tr>\n",
       "    <tr>\n",
       "      <td>14</td>\n",
       "      <td>0.274525</td>\n",
       "      <td>0.402365</td>\n",
       "      <td>0.116667</td>\n",
       "      <td>00:17</td>\n",
       "    </tr>\n",
       "    <tr>\n",
       "      <td>15</td>\n",
       "      <td>0.268359</td>\n",
       "      <td>0.410212</td>\n",
       "      <td>0.140000</td>\n",
       "      <td>00:21</td>\n",
       "    </tr>\n",
       "    <tr>\n",
       "      <td>16</td>\n",
       "      <td>0.249167</td>\n",
       "      <td>0.305411</td>\n",
       "      <td>0.098333</td>\n",
       "      <td>00:17</td>\n",
       "    </tr>\n",
       "    <tr>\n",
       "      <td>17</td>\n",
       "      <td>0.216563</td>\n",
       "      <td>0.311477</td>\n",
       "      <td>0.087500</td>\n",
       "      <td>00:18</td>\n",
       "    </tr>\n",
       "    <tr>\n",
       "      <td>18</td>\n",
       "      <td>0.191628</td>\n",
       "      <td>0.289661</td>\n",
       "      <td>0.096667</td>\n",
       "      <td>00:17</td>\n",
       "    </tr>\n",
       "    <tr>\n",
       "      <td>19</td>\n",
       "      <td>0.188108</td>\n",
       "      <td>0.261207</td>\n",
       "      <td>0.076667</td>\n",
       "      <td>00:18</td>\n",
       "    </tr>\n",
       "    <tr>\n",
       "      <td>20</td>\n",
       "      <td>0.162390</td>\n",
       "      <td>0.277929</td>\n",
       "      <td>0.079167</td>\n",
       "      <td>00:18</td>\n",
       "    </tr>\n",
       "    <tr>\n",
       "      <td>21</td>\n",
       "      <td>0.156482</td>\n",
       "      <td>0.286083</td>\n",
       "      <td>0.090000</td>\n",
       "      <td>00:18</td>\n",
       "    </tr>\n",
       "    <tr>\n",
       "      <td>22</td>\n",
       "      <td>0.141336</td>\n",
       "      <td>0.293720</td>\n",
       "      <td>0.088333</td>\n",
       "      <td>00:18</td>\n",
       "    </tr>\n",
       "    <tr>\n",
       "      <td>23</td>\n",
       "      <td>0.129351</td>\n",
       "      <td>0.287206</td>\n",
       "      <td>0.087500</td>\n",
       "      <td>00:17</td>\n",
       "    </tr>\n",
       "    <tr>\n",
       "      <td>24</td>\n",
       "      <td>0.113460</td>\n",
       "      <td>0.286146</td>\n",
       "      <td>0.087500</td>\n",
       "      <td>00:17</td>\n",
       "    </tr>\n",
       "    <tr>\n",
       "      <td>25</td>\n",
       "      <td>0.102343</td>\n",
       "      <td>0.280019</td>\n",
       "      <td>0.079167</td>\n",
       "      <td>00:17</td>\n",
       "    </tr>\n",
       "    <tr>\n",
       "      <td>26</td>\n",
       "      <td>0.099196</td>\n",
       "      <td>0.278959</td>\n",
       "      <td>0.078333</td>\n",
       "      <td>00:17</td>\n",
       "    </tr>\n",
       "    <tr>\n",
       "      <td>27</td>\n",
       "      <td>0.093658</td>\n",
       "      <td>0.281095</td>\n",
       "      <td>0.080000</td>\n",
       "      <td>00:17</td>\n",
       "    </tr>\n",
       "    <tr>\n",
       "      <td>28</td>\n",
       "      <td>0.081027</td>\n",
       "      <td>0.272857</td>\n",
       "      <td>0.081667</td>\n",
       "      <td>00:17</td>\n",
       "    </tr>\n",
       "    <tr>\n",
       "      <td>29</td>\n",
       "      <td>0.084568</td>\n",
       "      <td>0.274243</td>\n",
       "      <td>0.079167</td>\n",
       "      <td>00:17</td>\n",
       "    </tr>\n",
       "  </tbody>\n",
       "</table>"
      ],
      "text/plain": [
       "<IPython.core.display.HTML object>"
      ]
     },
     "metadata": {},
     "output_type": "display_data"
    }
   ],
   "source": [
    "learn.fit_one_cycle(30, max_lr=slice(4e-3,5e-5))"
   ]
  },
  {
   "cell_type": "code",
   "execution_count": 27,
   "metadata": {},
   "outputs": [],
   "source": [
    "learn.save('stage-2')"
   ]
  },
  {
   "cell_type": "code",
   "execution_count": 28,
   "metadata": {},
   "outputs": [
    {
     "data": {
      "text/html": [],
      "text/plain": [
       "<IPython.core.display.HTML object>"
      ]
     },
     "metadata": {},
     "output_type": "display_data"
    }
   ],
   "source": [
    "interp = ClassificationInterpretation.from_learner(learn)"
   ]
  },
  {
   "cell_type": "code",
   "execution_count": 29,
   "metadata": {},
   "outputs": [
    {
     "data": {
      "image/png": "[encoded data removed]",
      "text/plain": [
       "<Figure size 432x288 with 1 Axes>"
      ]
     },
     "metadata": {
      "needs_background": "light"
     },
     "output_type": "display_data"
    }
   ],
   "source": [
    "interp.plot_confusion_matrix()"
   ]
  },
  {
   "cell_type": "code",
   "execution_count": 34,
   "metadata": {},
   "outputs": [],
   "source": [
    "learn.export()"
   ]
  },
  {
   "cell_type": "code",
   "execution_count": 18,
   "metadata": {},
   "outputs": [],
   "source": [
    "test_df = pd.read_csv(PATH/'sketches_test.csv')"
   ]
  },
  {
   "cell_type": "code",
   "execution_count": 85,
   "metadata": {},
   "outputs": [
    {
     "data": {
      "text/plain": [
       "<bound method NDFrame.head of       Unnamed: 0  V1  V2  V3  V4  V5  V6  V7  V8  V9  ...  V777  V778  V779  \\\n",
       "0              1   0   0   0   0   0   0   0   0   0  ...     0     0     0   \n",
       "1              2   0   0   0   0   0   0   0   0   0  ...     0     0     0   \n",
       "2              3   0   0   0   0   0   0   0   0   0  ...     0     0     0   \n",
       "3              4   0   0   0   0   0   0   0   0   0  ...     0     0     0   \n",
       "4              5   0   0   0   0   0   0   0   0   0  ...     0     0     0   \n",
       "...          ...  ..  ..  ..  ..  ..  ..  ..  ..  ..  ...   ...   ...   ...   \n",
       "1195        1196   0   0   0   0   0   0   0   0   0  ...     0     0     0   \n",
       "1196        1197   0   0   0   0   0   0   0   0   0  ...     0     0     0   \n",
       "1197        1198   0   0   0   0   0   0   0   0   0  ...     0     0     0   \n",
       "1198        1199   0   0   0   0   0   0   0   0   0  ...     0     0     0   \n",
       "1199        1200   0   0   0   0   0   0   0   0   0  ...     0     0     0   \n",
       "\n",
       "      V780  V781  V782  V783  V784  word    id  \n",
       "0        0     0     0     0     0   NaN     1  \n",
       "1        0     0     0     0     0   NaN     2  \n",
       "2        0     0     0     0     0   NaN     3  \n",
       "3        0     0     0     0     0   NaN     4  \n",
       "4        0     0     0     0     0   NaN     5  \n",
       "...    ...   ...   ...   ...   ...   ...   ...  \n",
       "1195     0     0     0     0     0   NaN  1196  \n",
       "1196     0     0     0     0     0   NaN  1197  \n",
       "1197     0     0     0     0     0   NaN  1198  \n",
       "1198     0     0     0     0     0   NaN  1199  \n",
       "1199     0     0     0     0     0   NaN  1200  \n",
       "\n",
       "[1200 rows x 787 columns]>"
      ]
     },
     "execution_count": 85,
     "metadata": {},
     "output_type": "execute_result"
    }
   ],
   "source": [
    "test_df.head"
   ]
  },
  {
   "cell_type": "code",
   "execution_count": 35,
   "metadata": {},
   "outputs": [],
   "source": [
    "defaults.device = torch.device('cpu')\n",
    "\n",
    "pred_class = []\n",
    "pred_idx = []\n",
    "outputs = []\n",
    "\n",
    "for i in range(1200):\n",
    "    idx = i+1\n",
    "    img = open_image(str(TEST_PATH)+\"/\"+str(idx)+\".png\")\n",
    "    a,b,c = learn.predict(img)\n",
    "    pred_class.append(a)\n",
    "    pred_idx.append(b)\n",
    "    outputs.append(c)\n",
    "\n",
    "\n"
   ]
  },
  {
   "cell_type": "code",
   "execution_count": 20,
   "metadata": {},
   "outputs": [],
   "source": [
    "df = pd.DataFrame(data={\"id\": range(1,1201,1), \"word\": pred_class})\n",
    "df.to_csv(\"./result_pd.csv\", sep=',',index=False)"
   ]
  }
 ],
 "metadata": {
  "kernelspec": {
   "display_name": "Python [conda env:fastai] *",
   "language": "python",
   "name": "conda-env-fastai-py"
  },
  "language_info": {
   "codemirror_mode": {
    "name": "ipython",
    "version": 3
   },
   "file_extension": ".py",
   "mimetype": "text/x-python",
   "name": "python",
   "nbconvert_exporter": "python",
   "pygments_lexer": "ipython3",
   "version": "3.7.6"
  }
 },
 "nbformat": 4,
 "nbformat_minor": 4
}
