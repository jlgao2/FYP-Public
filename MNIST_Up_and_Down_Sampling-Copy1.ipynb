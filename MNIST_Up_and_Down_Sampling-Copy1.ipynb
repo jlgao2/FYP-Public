{
 "cells": [
  {
   "cell_type": "code",
   "execution_count": 2,
   "metadata": {
    "colab": {
     "base_uri": "https://localhost:8080/",
     "height": 72
    },
    "colab_type": "code",
    "id": "EnzyDhFcryu-",
    "outputId": "86fec1d2-6cd8-4785-a655-0abcc78ad01b"
   },
   "outputs": [],
   "source": [
    "%matplotlib inline"
   ]
  },
  {
   "cell_type": "markdown",
   "metadata": {},
   "source": [
    "Author: Jia Lin Gao 2020"
   ]
  },
  {
   "cell_type": "markdown",
   "metadata": {},
   "source": [
    "This notebook is adapted from blockquoted tutorial below\n"
   ]
  },
  {
   "cell_type": "markdown",
   "metadata": {
    "colab_type": "text",
    "id": "Dw79PqmAryvH"
   },
   "source": [
    "\n",
    ">What is `torch.nn` *really*?\n",
    "============================\n",
    "by Jeremy Howard, `fast.ai <https://www.fast.ai>`_. Thanks to Rachel Thomas and Francisco Ingham.\n"
   ]
  },
  {
   "cell_type": "markdown",
   "metadata": {
    "colab_type": "text",
    "id": "x-EnyqEIryvJ"
   },
   "source": [
    "> We recommend running this tutorial as a notebook, not a script. To download the notebook (.ipynb) file,\n",
    "click the link at the top of the page.\n",
    "\n",
    "> PyTorch provides the elegantly designed modules and classes `torch.nn <https://pytorch.org/docs/stable/nn.html>`_ ,\n",
    "`torch.optim <https://pytorch.org/docs/stable/optim.html>`_ ,\n",
    "`Dataset <https://pytorch.org/docs/stable/data.html?highlight=dataset#torch.utils.data.Dataset>`_ ,\n",
    "and `DataLoader <https://pytorch.org/docs/stable/data.html?highlight=dataloader#torch.utils.data.DataLoader>`_\n",
    "to help you create and train neural networks.\n",
    "In order to fully utilize their power and customize\n",
    "them for your problem, you need to really understand exactly what they're\n",
    "doing. To develop this understanding, we will first train basic neural net\n",
    "on the MNIST data set without using any features from these models; we will\n",
    "initially only use the most basic PyTorch tensor functionality. Then, we will\n",
    "incrementally add one feature from ``torch.nn``, ``torch.optim``, ``Dataset``, or\n",
    "``DataLoader`` at a time, showing exactly what each piece does, and how it\n",
    "works to make the code either more concise, or more flexible.\n",
    "\n",
    "> **This tutorial assumes you already have PyTorch installed, and are familiar\n",
    "with the basics of tensor operations.** (If you're familiar with Numpy array\n",
    "operations, you'll find the PyTorch tensor operations used here nearly identical).\n",
    "\n",
    "> MNIST data setup\n",
    "----------------\n",
    "> We will use the classic `MNIST <http://deeplearning.net/data/mnist/>`_ dataset,\n",
    "which consists of black-and-white images of hand-drawn digits (between 0 and 9).\n",
    "\n",
    "> We will use `pathlib <https://docs.python.org/3/library/pathlib.html>`_\n",
    "for dealing with paths (part of the Python 3 standard library), and will\n",
    "download the dataset using\n",
    "`requests <http://docs.python-requests.org/en/master/>`_. We will only\n",
    "import modules when we use them, so you can see exactly what's being\n",
    "used at each point.*\n",
    "\n"
   ]
  },
  {
   "cell_type": "code",
   "execution_count": 4,
   "metadata": {
    "colab": {},
    "colab_type": "code",
    "id": "-imu9jYFryvO"
   },
   "outputs": [],
   "source": [
    "from pathlib import Path\n",
    "import requests\n",
    "\n",
    "DATA_PATH = Path(\"/data\")\n",
    "PATH = DATA_PATH/\"mnist\"\n",
    "\n",
    "PATH.mkdir(parents=True, exist_ok=True)\n",
    "\n",
    "URL = \"http://deeplearning.net/data/mnist/\"\n",
    "FILENAME = \"mnist.pkl.gz\"\n",
    "\n",
    "if not (PATH / FILENAME).exists():\n",
    "        content = requests.get(URL + FILENAME).content\n",
    "        (PATH / FILENAME).open(\"wb\").write(content)"
   ]
  },
  {
   "cell_type": "markdown",
   "metadata": {
    "colab_type": "text",
    "id": "GXsyHWlTryvT"
   },
   "source": [
    ">This dataset is in numpy array format, and has been stored using pickle,\n",
    "a python-specific format for serializing data.\n",
    "\n"
   ]
  },
  {
   "cell_type": "code",
   "execution_count": 5,
   "metadata": {
    "colab": {},
    "colab_type": "code",
    "id": "4OdIvjDaryvV"
   },
   "outputs": [],
   "source": [
    "import pickle\n",
    "import gzip\n",
    "\n",
    "with gzip.open((PATH / FILENAME).as_posix(), \"rb\") as f:\n",
    "        ((x_train, y_train), (x_valid, y_valid), _) = pickle.load(f, encoding=\"latin-1\")"
   ]
  },
  {
   "cell_type": "markdown",
   "metadata": {
    "colab_type": "text",
    "id": "rJTytUHKryve"
   },
   "source": [
    ">Each image is 28 x 28, and is being stored as a flattened row of length\n",
    "784 (=28x28). Let's take a look at one; we need to reshape it to 2d\n",
    "first.\n",
    "\n"
   ]
  },
  {
   "cell_type": "code",
   "execution_count": 6,
   "metadata": {
    "colab": {
     "base_uri": "https://localhost:8080/",
     "height": 283
    },
    "colab_type": "code",
    "id": "4RQxBoaoryvf",
    "outputId": "d80fc41c-fc47-4e76-af1c-ce54daf2fd56"
   },
   "outputs": [
    {
     "name": "stdout",
     "output_type": "stream",
     "text": [
      "(50000, 784)\n"
     ]
    },
    {
     "data": {
      "image/png": "[encoded data removed]",
      "text/plain": [
       "<Figure size 432x288 with 1 Axes>"
      ]
     },
     "metadata": {
      "needs_background": "light"
     },
     "output_type": "display_data"
    }
   ],
   "source": [
    "from matplotlib import pyplot\n",
    "import numpy as np\n",
    "\n",
    "pyplot.imshow(x_train[0].reshape((28, 28)), cmap=\"gray\")\n",
    "print(x_train.shape)"
   ]
  },
  {
   "cell_type": "markdown",
   "metadata": {},
   "source": [
    "We can now play with some matrix and image transformations using PIL and Numpy"
   ]
  },
  {
   "cell_type": "code",
   "execution_count": 7,
   "metadata": {
    "colab": {},
    "colab_type": "code",
    "id": "i-_bUe_JzCnM"
   },
   "outputs": [],
   "source": [
    "import PIL"
   ]
  },
  {
   "cell_type": "code",
   "execution_count": 8,
   "metadata": {
    "colab": {
     "base_uri": "https://localhost:8080/",
     "height": 283
    },
    "colab_type": "code",
    "id": "K-zwvlI9RFxW",
    "outputId": "5a1fdec3-24e7-4a85-c09b-827b8b074e81"
   },
   "outputs": [
    {
     "data": {
      "text/plain": [
       "<matplotlib.image.AxesImage at 0x26f85b6db88>"
      ]
     },
     "execution_count": 8,
     "metadata": {},
     "output_type": "execute_result"
    },
    {
     "data": {
      "image/png": "[encoded data removed]",
      "text/plain": [
       "<Figure size 432x288 with 1 Axes>"
      ]
     },
     "metadata": {
      "needs_background": "light"
     },
     "output_type": "display_data"
    }
   ],
   "source": [
    "e1 = x_train[0].reshape((28,28))\n",
    "pyplot.imshow(e1, cmap=\"gray\")"
   ]
  },
  {
   "cell_type": "markdown",
   "metadata": {
    "colab_type": "text",
    "id": "ZNrZnj9HJmko"
   },
   "source": [
    "Lets convert it into unsigned int form so we can then convert them to PIL format and use the PIL library for image transformations"
   ]
  },
  {
   "cell_type": "code",
   "execution_count": 10,
   "metadata": {
    "colab": {
     "base_uri": "https://localhost:8080/",
     "height": 283
    },
    "colab_type": "code",
    "id": "Dx_e6t8ZUf_U",
    "outputId": "941425a7-a9a4-4cbf-e3a8-95593f6b79ca"
   },
   "outputs": [],
   "source": [
    "e2 = np.uint8(e1*255)"
   ]
  },
  {
   "cell_type": "markdown",
   "metadata": {
    "colab_type": "text",
    "id": "yOG7NdYsJ15d"
   },
   "source": [
    "Pil does the downsampling for us wew"
   ]
  },
  {
   "cell_type": "code",
   "execution_count": 11,
   "metadata": {
    "colab": {},
    "colab_type": "code",
    "id": "REYvInneU0zv"
   },
   "outputs": [
    {
     "data": {
      "text/plain": [
       "<matplotlib.image.AxesImage at 0x26f85bd5288>"
      ]
     },
     "execution_count": 11,
     "metadata": {},
     "output_type": "execute_result"
    },
    {
     "data": {
      "image/png": "[encoded data removed]",
      "text/plain": [
       "<Figure size 432x288 with 1 Axes>"
      ]
     },
     "metadata": {
      "needs_background": "light"
     },
     "output_type": "display_data"
    }
   ],
   "source": [
    "e3 = PIL.Image.fromarray(e2)\n",
    "e4 = e3.resize((14, 14))\n",
    "pyplot.imshow(e4, cmap=\"gray\")"
   ]
  },
  {
   "cell_type": "markdown",
   "metadata": {
    "colab_type": "text",
    "id": "gJeSwMAzJ8rp"
   },
   "source": [
    "The PIL library can also upsample for us which is convenient - no need to do it manually"
   ]
  },
  {
   "cell_type": "code",
   "execution_count": 13,
   "metadata": {
    "colab": {
     "base_uri": "https://localhost:8080/",
     "height": 283
    },
    "colab_type": "code",
    "id": "_fvC3WX6RzQv",
    "outputId": "4080c983-4796-4232-e2e5-27ae0e1d31c0"
   },
   "outputs": [
    {
     "data": {
      "text/plain": [
       "<matplotlib.image.AxesImage at 0x26f85c655c8>"
      ]
     },
     "execution_count": 13,
     "metadata": {},
     "output_type": "execute_result"
    },
    {
     "data": {
      "image/png": "[encoded data removed]",
      "text/plain": [
       "<Figure size 432x288 with 1 Axes>"
      ]
     },
     "metadata": {
      "needs_background": "light"
     },
     "output_type": "display_data"
    }
   ],
   "source": [
    "e5 = e4.resize((28,28),resample = 3)\n",
    "pyplot.imshow(e5, cmap=\"gray\")"
   ]
  },
  {
   "cell_type": "markdown",
   "metadata": {},
   "source": [
    "We can then calculate mean absolute error, mean squared error and structural similarity index"
   ]
  },
  {
   "cell_type": "code",
   "execution_count": 23,
   "metadata": {
    "colab": {
     "base_uri": "https://localhost:8080/",
     "height": 35
    },
    "colab_type": "code",
    "id": "Pr9zPN8kZFcc",
    "outputId": "1b1b19bc-2122-4f80-c067-2f733ec26b29"
   },
   "outputs": [
    {
     "name": "stdout",
     "output_type": "stream",
     "text": [
      "The MSE of bicubic interpolation is 33.640306122448976\n",
      "The SSIM of bicubic interpolation is 0.7645665158980219\n"
     ]
    },
    {
     "name": "stderr",
     "output_type": "stream",
     "text": [
      "C:\\Users\\georg\\anaconda3\\envs\\fastai\\lib\\site-packages\\ipykernel_launcher.py:5: UserWarning: DEPRECATED: skimage.measure.compare_ssim has been moved to skimage.metrics.structural_similarity. It will be removed from skimage.measure in version 0.18.\n",
      "  \"\"\"\n"
     ]
    }
   ],
   "source": [
    "e5_mae = np.average(np.asarray(e5) - np.asarray(e3))\n",
    "e5_mse = np.average(np.square(np.asarray(e5)-np.asarray(e3))) \n",
    "from skimage.measure import compare_ssim as ssim\n",
    "print(\"The MSE of bicubic interpolation on this image is\", e5_mse)\n",
    "e5_ssim = ssim(np.asarray(e5), np.asarray(e3))\n",
    "print(\"The SSIM of bicubic interpolation on this image is\", e5_ssim)\n"
   ]
  },
  {
   "cell_type": "code",
   "execution_count": 24,
   "metadata": {},
   "outputs": [
    {
     "name": "stdout",
     "output_type": "stream",
     "text": [
      "# packages in environment at C:\\Users\\georg\\anaconda3\\envs\\fastai:\n",
      "#\n",
      "# Name                    Version                   Build  Channel\n",
      "_anaconda_depends         2019.03                  py37_0  \n",
      "alabaster                 0.7.12                   py37_0  \n",
      "anaconda                  custom                   py37_1  \n",
      "anaconda-client           1.7.2                    py37_0  \n",
      "anaconda-project          0.8.4                      py_0  \n",
      "argh                      0.26.2                   py37_0  \n",
      "asn1crypto                1.3.0                    py37_0  \n",
      "astroid                   2.3.3                    py37_0  \n",
      "astropy                   4.0              py37he774522_0  \n",
      "atomicwrites              1.3.0                    py37_1  \n",
      "attrs                     19.3.0                     py_0  \n",
      "autopep8                  1.4.4                      py_0  \n",
      "babel                     2.8.0                      py_0  \n",
      "backcall                  0.1.0                    py37_0  \n",
      "backports                 1.0                        py_2  \n",
      "backports.os              0.1.1                    py37_0  \n",
      "backports.shutil_get_terminal_size 1.0.0                    py37_2  \n",
      "bcrypt                    3.1.7            py37he774522_0  \n",
      "beautifulsoup4            4.8.2                    py37_0  \n",
      "bitarray                  1.2.1            py37he774522_0  \n",
      "bkcharts                  0.2                      py37_0  \n",
      "blas                      1.0                         mkl  \n",
      "bleach                    3.1.0                    py37_0  \n",
      "blosc                     1.16.3               h7bd577a_0  \n",
      "bokeh                     1.4.0                    py37_0  \n",
      "boto                      2.49.0                   py37_0  \n",
      "bottleneck                1.3.2            py37h2a96729_0  \n",
      "bzip2                     1.0.8                he774522_0  \n",
      "ca-certificates           2019.11.28           hecc5488_0    conda-forge\n",
      "certifi                   2019.11.28       py37hc8dfbb8_1    conda-forge\n",
      "cffi                      1.14.0           py37h7a1dbc1_0  \n",
      "chardet                   3.0.4                 py37_1003  \n",
      "click                     7.1.1                      py_0  \n",
      "cloudpickle               1.3.0                      py_0  \n",
      "clyent                    1.2.2                    py37_1  \n",
      "colorama                  0.4.3                      py_0  \n",
      "comtypes                  1.1.7                    py37_0  \n",
      "console_shortcut          0.1.1                         4  \n",
      "contextlib2               0.6.0.post1                py_0  \n",
      "cryptography              2.8              py37h7a1dbc1_0  \n",
      "cudatoolkit               10.1.243             h74a9793_0  \n",
      "curl                      7.69.1               h2a8f88b_0  \n",
      "cycler                    0.10.0                   py37_0  \n",
      "cymem                     2.0.2            py37h6538335_0    fastai\n",
      "cython                    0.29.15          py37ha925a31_0  \n",
      "cython-blis               0.2.4            py37hfa6e2cd_1    fastai\n",
      "cytoolz                   0.10.1           py37he774522_0  \n",
      "dask                      2.13.0                     py_0  \n",
      "dask-core                 2.13.0                     py_0  \n",
      "dataclasses               0.6                        py_0    fastai\n",
      "decorator                 4.4.2                      py_0  \n",
      "defusedxml                0.6.0                      py_0  \n",
      "diff-match-patch          20181111                   py_0  \n",
      "distributed               2.13.0                   py37_0  \n",
      "docutils                  0.16                     py37_0  \n",
      "entrypoints               0.3                      py37_0  \n",
      "et_xmlfile                1.0.1                    py37_0  \n",
      "fastai                    1.0.60                        1    fastai\n",
      "fastcache                 1.1.0            py37he774522_0  \n",
      "fastprogress              0.2.2                      py_0    fastai\n",
      "filelock                  3.0.12                     py_0  \n",
      "flake8                    3.7.9                    py37_0  \n",
      "flask                     1.1.1                      py_1  \n",
      "freetype                  2.9.1                ha9979f8_1  \n",
      "fsspec                    0.6.3                      py_0  \n",
      "future                    0.18.2                   py37_0  \n",
      "get_terminal_size         1.0.0                h38e98db_0  \n",
      "gevent                    1.4.0            py37he774522_0  \n",
      "git                       2.23.0               h6bb4b03_0  \n",
      "glob2                     0.7                        py_0  \n",
      "greenlet                  0.4.15           py37hfa6e2cd_0  \n",
      "h5py                      2.10.0           py37h5e291fa_0  \n",
      "hdf5                      1.10.4               h7ebc959_0  \n",
      "heapdict                  1.0.1                      py_0  \n",
      "html5lib                  1.0.1                    py37_0  \n",
      "hypothesis                5.5.4                      py_0  \n",
      "icc_rt                    2019.0.0             h0cc432a_1  \n",
      "icu                       58.2                 ha66f8fd_1  \n",
      "idna                      2.9                        py_1  \n",
      "imageio                   2.8.0                      py_0  \n",
      "imagesize                 1.2.0                      py_0  \n",
      "importlib_metadata        1.5.0                    py37_0  \n",
      "intel-openmp              2020.0                      166  \n",
      "intervaltree              3.0.2                      py_0  \n",
      "ipykernel                 5.1.4            py37h39e3cac_0  \n",
      "ipython                   7.13.0           py37h5ca1d4c_0  \n",
      "ipython_genutils          0.2.0                    py37_0  \n",
      "ipywidgets                7.5.1                      py_0    conda-forge\n",
      "isort                     4.3.21                   py37_0  \n",
      "itsdangerous              1.1.0                    py37_0  \n",
      "jdcal                     1.4.1                      py_0  \n",
      "jedi                      0.15.2                   py37_0  \n",
      "jinja2                    2.11.1                     py_0  \n",
      "joblib                    0.14.1                     py_0  \n",
      "jpeg                      9c                hfa6e2cd_1001    conda-forge\n",
      "json5                     0.9.3                      py_0  \n",
      "jsonschema                3.2.0                    py37_0  \n",
      "jupyter                   1.0.0                    py37_7  \n",
      "jupyter_client            6.1.0                      py_0  \n",
      "jupyter_console           6.1.0                      py_0  \n",
      "jupyter_core              4.6.1                    py37_0  \n",
      "jupyterlab                1.2.6              pyhf63ae98_0  \n",
      "jupyterlab_server         1.0.7                      py_0  \n",
      "jupyterthemes             0.20.0                   pypi_0    pypi\n",
      "keyring                   21.1.0                   py37_0  \n",
      "kiwisolver                1.1.0            py37ha925a31_0  \n",
      "krb5                      1.17.1               hc04afaa_0  \n",
      "lazy-object-proxy         1.4.3            py37he774522_0  \n",
      "lesscpy                   0.14.0                   pypi_0    pypi\n",
      "libarchive                3.3.3                h0643e63_5  \n",
      "libcurl                   7.69.1               h2a8f88b_0  \n",
      "libiconv                  1.15                 h1df5818_7  \n",
      "libjpeg-turbo             2.0.3                hfa6e2cd_1    conda-forge\n",
      "liblief                   0.9.0                ha925a31_3  \n",
      "libpng                    1.6.37               h2a8f88b_0  \n",
      "libsodium                 1.0.16               h9d3ae62_0  \n",
      "libspatialindex           1.9.3                h33f27b4_0  \n",
      "libssh2                   1.9.0                h7a1dbc1_1  \n",
      "libtiff                   4.1.0                h56a325e_0  \n",
      "libxml2                   2.9.9                h464c3ec_0  \n",
      "libxslt                   1.1.33               h579f668_0  \n",
      "llvmlite                  0.31.0           py37ha925a31_0  \n",
      "locket                    0.2.0                    py37_1  \n",
      "lxml                      4.5.0            py37h1350720_0  \n",
      "lz4-c                     1.8.1.2              h2fa13f4_0  \n",
      "lzo                       2.10                 h6df0209_2  \n",
      "m2w64-gcc-libgfortran     5.3.0                         6  \n",
      "m2w64-gcc-libs            5.3.0                         7  \n",
      "m2w64-gcc-libs-core       5.3.0                         7  \n",
      "m2w64-gmp                 6.1.0                         2  \n",
      "m2w64-libwinpthread-git   5.0.0.4634.697f757               2  \n",
      "markupsafe                1.1.1            py37he774522_0  \n",
      "matplotlib                3.1.3                    py37_0  \n",
      "matplotlib-base           3.1.3            py37h64f37c6_0  \n",
      "mccabe                    0.6.1                    py37_1  \n",
      "menuinst                  1.4.16           py37he774522_0  \n",
      "mistune                   0.8.4            py37he774522_0  \n",
      "mkl                       2020.0                      166  \n",
      "mkl-service               2.3.0            py37hb782905_0  \n",
      "mkl_fft                   1.0.15           py37h14836fe_0  \n",
      "mkl_random                1.1.0            py37h675688f_0  \n",
      "mock                      4.0.1                      py_0  \n",
      "more-itertools            8.2.0                      py_0  \n",
      "mpmath                    1.1.0                    py37_0  \n",
      "msgpack-python            1.0.0            py37h74a9793_1  \n",
      "msys2-conda-epoch         20160418                      1  \n",
      "multipledispatch          0.6.0                    py37_0  \n",
      "murmurhash                1.0.2            py37h33f27b4_0  \n",
      "nb_conda_kernels          2.2.3                    py37_0  \n",
      "nbconvert                 5.6.1                    py37_0  \n",
      "nbformat                  5.0.4                      py_0  \n",
      "networkx                  2.4                        py_0  \n",
      "ninja                     1.9.0            py37h74a9793_0  \n",
      "nltk                      3.4.5                    py37_0  \n",
      "nose                      1.3.7                    py37_2  \n",
      "notebook                  6.0.3                    py37_0  \n",
      "numba                     0.48.0           py37h47e9c7a_0  \n",
      "numexpr                   2.7.1            py37h25d0782_0  \n",
      "numpy                     1.18.1           py37h93ca92e_0  \n",
      "numpy-base                1.18.1           py37hc3f5095_1  \n",
      "numpydoc                  0.9.2                      py_0  \n",
      "nvidia-ml-py3             7.352.0                    py_0    fastai\n",
      "olefile                   0.46                     py37_0  \n",
      "openpyxl                  3.0.3                      py_0  \n",
      "openssl                   1.1.1d               hfa6e2cd_0    conda-forge\n",
      "packaging                 20.3                       py_0  \n",
      "pandas                    1.0.3            py37h47e9c7a_0  \n",
      "pandoc                    2.2.3.2                       0  \n",
      "pandocfilters             1.4.2                    py37_1  \n",
      "paramiko                  2.7.1                      py_0  \n",
      "parso                     0.5.2                      py_0  \n",
      "partd                     1.1.0                      py_0  \n",
      "path                      13.1.0                   py37_0  \n",
      "path.py                   12.4.0                        0  \n",
      "pathlib2                  2.3.5                    py37_0  \n",
      "pathtools                 0.1.2                      py_1  \n",
      "patsy                     0.5.1                    py37_0  \n",
      "pep8                      1.7.1                    py37_0  \n",
      "pexpect                   4.8.0                    py37_0  \n",
      "pickleshare               0.7.5                    py37_0  \n",
      "pillow                    6.0.0            py37hdc69c19_0  \n",
      "pip                       20.0.2                   py37_1  \n",
      "pkginfo                   1.5.0.1                  py37_0  \n",
      "plac                      0.9.6                    py37_0  \n",
      "pluggy                    0.13.1                   py37_0  \n",
      "ply                       3.11                     pypi_0    pypi\n",
      "powershell_shortcut       0.0.1                         3  \n",
      "preshed                   2.0.1            py37h33f27b4_0  \n",
      "prometheus_client         0.7.1                      py_0  \n",
      "prompt-toolkit            3.0.4                      py_0  \n",
      "prompt_toolkit            3.0.4                         0  \n",
      "psutil                    5.7.0            py37he774522_0  \n",
      "py                        1.8.1                      py_0  \n",
      "py-lief                   0.9.0            py37ha925a31_3  \n",
      "pycodestyle               2.5.0                    py37_0  \n",
      "pycosat                   0.6.3            py37he774522_0  \n",
      "pycparser                 2.20                       py_0  \n",
      "pycrypto                  2.6.1            py37hfa6e2cd_9  \n",
      "pycurl                    7.43.0.5         py37h7a1dbc1_0  \n",
      "pydocstyle                4.0.1                      py_0  \n",
      "pyflakes                  2.1.1                    py37_0  \n",
      "pygments                  2.6.1                      py_0  \n",
      "pylint                    2.4.4                    py37_0  \n",
      "pynacl                    1.3.0            py37h62dcd97_0  \n",
      "pyodbc                    4.0.30           py37ha925a31_0  \n",
      "pyopenssl                 19.1.0                   py37_0  \n",
      "pyparsing                 2.4.6                      py_0  \n",
      "pyqt                      5.9.2            py37h6538335_2  \n",
      "pyreadline                2.1                      py37_1  \n",
      "pyrsistent                0.15.7           py37he774522_0  \n",
      "pysocks                   1.7.1                    py37_0  \n",
      "pytables                  3.6.1            py37h1da0976_0  \n",
      "pytest                    5.4.1                    py37_0  \n",
      "pytest-arraydiff          0.3              py37h39e3cac_0  \n",
      "pytest-astropy            0.8.0                      py_0  \n",
      "pytest-astropy-header     0.1.2                      py_0  \n",
      "pytest-doctestplus        0.5.0                      py_0  \n",
      "pytest-openfiles          0.4.0                      py_0  \n",
      "pytest-remotedata         0.3.2                    py37_0  \n",
      "python                    3.7.6                h60c2a47_2  \n",
      "python-dateutil           2.8.1                      py_0  \n",
      "python-jsonrpc-server     0.3.4                      py_0  \n",
      "python-language-server    0.31.9                   py37_0  \n",
      "python-libarchive-c       2.8                     py37_13  \n",
      "python_abi                3.7                     1_cp37m    conda-forge\n",
      "pytorch                   1.4.0           py3.7_cuda101_cudnn7_0    pytorch\n",
      "pytz                      2019.3                     py_0  \n",
      "pywavelets                1.1.1            py37he774522_0  \n",
      "pywin32                   227              py37he774522_1  \n",
      "pywin32-ctypes            0.2.0                 py37_1000  \n",
      "pywinpty                  0.5.7                    py37_0  \n",
      "pyyaml                    5.3.1            py37he774522_0  \n",
      "pyzmq                     18.1.1           py37ha925a31_0  \n",
      "qdarkstyle                2.8                        py_0  \n",
      "qt                        5.9.7            vc14h73c81de_0  \n",
      "qtawesome                 0.7.0                      py_0  \n",
      "qtconsole                 4.7.2                      py_0  \n",
      "qtpy                      1.9.0                      py_0  \n",
      "requests                  2.23.0                   py37_0  \n",
      "rope                      0.16.0                     py_0  \n",
      "rtree                     0.9.3            py37h21ff451_0  \n",
      "ruamel_yaml               0.15.87          py37he774522_0  \n",
      "scikit-image              0.16.2           py37he350917_0    conda-forge\n",
      "scikit-learn              0.22.1           py37h6288b17_0  \n",
      "scipy                     1.4.1            py37h9439919_0  \n",
      "seaborn                   0.10.0                     py_0  \n",
      "send2trash                1.5.0                    py37_0  \n",
      "setuptools                46.1.1                   py37_0  \n",
      "simplegeneric             0.8.1                    py37_2  \n",
      "singledispatch            3.4.0.3                  py37_0  \n",
      "sip                       4.19.8           py37h6538335_0  \n",
      "six                       1.14.0                   py37_0  \n",
      "snappy                    1.1.7                h777316e_3  \n",
      "snowballstemmer           2.0.0                      py_0  \n",
      "sortedcollections         1.1.2                    py37_0  \n",
      "sortedcontainers          2.1.0                    py37_0  \n",
      "soupsieve                 2.0                        py_0  \n",
      "spacy                     2.1.8            py37he980bc4_0    fastai\n",
      "sphinx                    2.4.4                      py_0  \n",
      "sphinxcontrib             1.0                      py37_1  \n",
      "sphinxcontrib-applehelp   1.0.2                      py_0  \n",
      "sphinxcontrib-devhelp     1.0.2                      py_0  \n",
      "sphinxcontrib-htmlhelp    1.0.3                      py_0  \n",
      "sphinxcontrib-jsmath      1.0.1                      py_0  \n",
      "sphinxcontrib-qthelp      1.0.3                      py_0  \n",
      "sphinxcontrib-serializinghtml 1.1.4                      py_0  \n",
      "sphinxcontrib-websupport  1.2.1                      py_0  \n",
      "spyder                    4.1.1                    py37_1  \n",
      "spyder-kernels            1.9.0                    py37_0  \n",
      "sqlalchemy                1.3.15           py37he774522_1  \n",
      "sqlite                    3.31.1               he774522_0  \n",
      "srsly                     0.1.0            py37h6538335_0    fastai\n",
      "statsmodels               0.11.0           py37he774522_0  \n",
      "sympy                     1.5.1                    py37_0  \n",
      "tbb                       2020.0               h74a9793_0  \n",
      "tblib                     1.6.0                      py_0  \n",
      "terminado                 0.8.3                    py37_0  \n",
      "testpath                  0.4.4                      py_0  \n",
      "thinc                     7.0.8            py37he980bc4_0    fastai\n",
      "tk                        8.6.8                hfa6e2cd_0  \n",
      "toolz                     0.10.0                     py_0  \n",
      "torchvision               0.5.0                py37_cu101    pytorch\n",
      "tornado                   6.0.4            py37he774522_1  \n",
      "tqdm                      4.43.0                     py_0  \n",
      "traitlets                 4.3.3                    py37_0  \n",
      "ujson                     1.35             py37hfa6e2cd_0  \n",
      "unicodecsv                0.14.1                   py37_0  \n",
      "urllib3                   1.25.8                   py37_0  \n",
      "vc                        14.1                 h0510ff6_4  \n",
      "vs2015_runtime            14.16.27012          hf0eaf9b_1  \n",
      "wasabi                    0.2.2                      py_0    fastai\n",
      "watchdog                  0.10.2                   py37_0  \n",
      "wcwidth                   0.1.8                      py_0  \n",
      "webencodings              0.5.1                    py37_1  \n",
      "werkzeug                  1.0.0                      py_0  \n",
      "wheel                     0.34.2                   py37_0  \n",
      "widgetsnbextension        3.5.1                    py37_0    conda-forge\n",
      "win_inet_pton             1.1.0                    py37_0  \n",
      "win_unicode_console       0.5                      py37_0  \n",
      "wincertstore              0.2                      py37_0  \n",
      "winpty                    0.4.3                         4  \n",
      "wrapt                     1.12.1           py37he774522_1  \n",
      "xlrd                      1.2.0                    py37_0  \n",
      "xlsxwriter                1.2.8                      py_0  \n",
      "xlwings                   0.18.0                   py37_0  \n",
      "xlwt                      1.3.0                    py37_0  \n",
      "xz                        5.2.4                h2fa13f4_4  \n",
      "yaml                      0.1.7                hc54c509_2  \n",
      "yapf                      0.28.0                     py_0  \n",
      "zeromq                    4.3.1                h33f27b4_3  \n",
      "zict                      2.0.0                      py_0  \n",
      "zipp                      2.2.0                      py_0  \n",
      "zlib                      1.2.11               h62dcd97_3  \n",
      "zstd                      1.3.7                h508b16e_0  \n"
     ]
    }
   ],
   "source": [
    "!conda list #since we got an error lets just check the version - looks pretty up to date to me"
   ]
  },
  {
   "cell_type": "markdown",
   "metadata": {
    "colab_type": "text",
    "id": "TjwREgqpKAy2"
   },
   "source": [
    "We've validated the approach, now lets downsample the whole dataset\n",
    "\n",
    "wew I just did a python\n"
   ]
  },
  {
   "cell_type": "code",
   "execution_count": 163,
   "metadata": {
    "colab": {},
    "colab_type": "code",
    "id": "ctXGUL_8z8zB"
   },
   "outputs": [],
   "source": [
    "def downsample(array):\n",
    "  dsda = np.ones((array.shape[0],196)) \n",
    "  for i in range(array.shape[0]):\n",
    "    ar = array[i].reshape((28,28))\n",
    "    ar = np.int8(ar*255)\n",
    "    ar2 = PIL.Image.fromarray(ar)\n",
    "    ar3 = ar2.resize((14,14))\n",
    "    ar4 = np.asarray(ar3).reshape((1, 196))\n",
    "    ar5 = ar4.astype(np.float32)/255\n",
    "    dsda[i,:] = ar5\n",
    "  return dsda\n",
    "\n",
    "xt_ds = downsample(x_train)\n",
    "xv_ds = downsample(x_valid)\n",
    "\n"
   ]
  },
  {
   "cell_type": "code",
   "execution_count": 164,
   "metadata": {
    "colab": {
     "base_uri": "https://localhost:8080/",
     "height": 283
    },
    "colab_type": "code",
    "id": "ftSiPGsXAcer",
    "outputId": "1971b8a9-ebe1-4eb6-96e0-45de0e724bca"
   },
   "outputs": [
    {
     "data": {
      "text/plain": [
       "<matplotlib.image.AxesImage at 0x2c0211be988>"
      ]
     },
     "execution_count": 164,
     "metadata": {},
     "output_type": "execute_result"
    },
    {
     "data": {
      "image/png": "[encoded data removed]",
      "text/plain": [
       "<Figure size 432x288 with 1 Axes>"
      ]
     },
     "metadata": {
      "needs_background": "light"
     },
     "output_type": "display_data"
    }
   ],
   "source": [
    "imshow(xv_ds[555].reshape((14,14)), cmap='gray')"
   ]
  },
  {
   "cell_type": "markdown",
   "metadata": {
    "colab_type": "text",
    "id": "xCDTB0VkKUYn"
   },
   "source": [
    "We can use much of the same code to obtain upsampleed images using bicubic or bilinear interpolations to measure the network that we will surely build ^__^\n"
   ]
  },
  {
   "cell_type": "code",
   "execution_count": 209,
   "metadata": {},
   "outputs": [
    {
     "data": {
      "text/plain": [
       "-0.21568627450980393"
      ]
     },
     "execution_count": 209,
     "metadata": {},
     "output_type": "execute_result"
    }
   ],
   "source": [
    "-55/255"
   ]
  },
  {
   "cell_type": "code",
   "execution_count": 210,
   "metadata": {
    "colab": {},
    "colab_type": "code",
    "id": "-QaAPo7g0lU9"
   },
   "outputs": [],
   "source": [
    "def downupsample(array):\n",
    "  dsda = np.ones((array.shape[0],196)) \n",
    "  usda = np.ones((array.shape[0],784)) \n",
    "\n",
    "  for i in range(array.shape[0]):\n",
    "    ar = array[i].reshape((28,28))\n",
    "    ar = np.int8(ar*255)\n",
    "    ar2 = PIL.Image.fromarray(ar)\n",
    "    ar3 = ar2.resize((14,14))\n",
    "    ar4 = np.asarray(ar3).reshape((1, 196))\n",
    "    ar5 = ar4.astype(np.float64)/255\n",
    "    dsda[i,:] = np.clip(ar5,0,1)\n",
    "    ar6 = ar3.resize((28,28), resample = 3)\n",
    "    ar7 = np.asarray(ar6).reshape((1, 784))\n",
    "    ar8 = ar7.astype(np.float32)/255\n",
    "    usda[i,:] = np.clip(ar8,0,1)\n",
    "  return dsda, usda\n",
    "xt_ds, xt_us = downupsample(x_train)\n",
    "xv_ds, xv_us= downupsample(x_valid)\n"
   ]
  },
  {
   "cell_type": "markdown",
   "metadata": {
    "colab_type": "text",
    "id": "4Hm_eVgjy1B7"
   },
   "source": [
    "## Now lets try it the pytorch way"
   ]
  },
  {
   "cell_type": "markdown",
   "metadata": {
    "colab_type": "text",
    "id": "Ok1DSXwIryvk"
   },
   "source": [
    "PyTorch uses ``torch.tensor``, rather than numpy arrays, so we need to\n",
    "convert our data.\n",
    "\n"
   ]
  },
  {
   "cell_type": "code",
   "execution_count": 166,
   "metadata": {},
   "outputs": [
    {
     "data": {
      "text/plain": [
       "(50000, 784)"
      ]
     },
     "execution_count": 166,
     "metadata": {},
     "output_type": "execute_result"
    }
   ],
   "source": [
    "x_train.shape"
   ]
  },
  {
   "cell_type": "code",
   "execution_count": 213,
   "metadata": {
    "colab": {
     "base_uri": "https://localhost:8080/",
     "height": 183
    },
    "colab_type": "code",
    "id": "wLotz1h2ryvl",
    "outputId": "cb0f0eb6-5b47-4f78-cb11-ac6591fcea19",
    "scrolled": true
   },
   "outputs": [
    {
     "name": "stderr",
     "output_type": "stream",
     "text": [
      "C:\\Users\\georg\\anaconda3\\envs\\fastai\\lib\\site-packages\\ipykernel_launcher.py:11: UserWarning: To copy construct from a tensor, it is recommended to use sourceTensor.clone().detach() or sourceTensor.clone().detach().requires_grad_(True), rather than torch.tensor(sourceTensor).\n",
      "  # This is added back by InteractiveShellApp.init_path()\n"
     ]
    }
   ],
   "source": [
    "import torch\n",
    "#change this code from \n",
    "\"\"\"\n",
    "x_train, y_train, x_valid, y_valid = map(\n",
    "    torch.tensor, (x_train, y_train, x_valid, y_valid)\n",
    ")\n",
    "\"\"\"\n",
    "#to\n",
    "\n",
    "x_train, xt_ds, xt_us = map(\n",
    "torch.tensor, (x_train, xt_ds, xt_us)\n",
    "    )\n",
    "[n, c] = x_train.shape\n",
    "\n"
   ]
  },
  {
   "cell_type": "code",
   "execution_count": 216,
   "metadata": {
    "colab": {
     "base_uri": "https://localhost:8080/",
     "height": 35
    },
    "colab_type": "code",
    "id": "YbFlN9Q2szAi",
    "outputId": "32b8508e-ce9f-469f-9914-dc020727f7fc"
   },
   "outputs": [],
   "source": [
    "x_train = x_train.float()\n",
    "xt_ds = xt_ds.float()\n",
    "xt_us = xt_us.float()"
   ]
  },
  {
   "cell_type": "markdown",
   "metadata": {
    "colab_type": "text",
    "id": "jE1eLYgvsywZ"
   },
   "source": [
    "\n",
    "    "
   ]
  },
  {
   "cell_type": "code",
   "execution_count": 169,
   "metadata": {},
   "outputs": [],
   "source": [
    "def showTensor(x, dim):\n",
    "    imshow(x[0].detach().numpy().reshape((dim,dim)), cmap='gray')"
   ]
  },
  {
   "cell_type": "markdown",
   "metadata": {
    "colab_type": "text",
    "id": "2-VKlkVdryvu"
   },
   "source": [
    ">Neural net from scratch (no torch.nn)\n",
    "---------------------------------------------\n",
    "\n",
    ">Let's first create a model using nothing but PyTorch tensor operations. We're assuming\n",
    "you're already familiar with the basics of neural networks. (If you're not, you can\n",
    "learn them at `course.fast.ai <https://course.fast.ai>`_).\n",
    "\n",
    ">PyTorch provides methods to create random or zero-filled tensors, which we will\n",
    "use to create our weights and bias for a simple linear model. These are just regular\n",
    "tensors, with one very special addition: we tell PyTorch that they require a\n",
    "gradient. This causes PyTorch to record all of the operations done on the tensor,\n",
    "so that it can calculate the gradient during back-propagation *automatically*!\n",
    "\n",
    ">For the weights, we set ``requires_grad`` **after** the initialization, since we\n",
    "don't want that step included in the gradient. (Note that a trailling ``_`` in\n",
    "PyTorch signifies that the operation is performed in-place.)\n",
    "\n",
    "<div class=\"alert alert-info\"><h4>Note</h4><p>We are initializing the weights here with\n",
    "   `Xavier initialisation <http://proceedings.mlr.press/v9/glorot10a/glorot10a.pdf>`_\n",
    "   (by multiplying with 1/sqrt(n)).</p></div>\n",
    "\n"
   ]
  },
  {
   "cell_type": "code",
   "execution_count": 170,
   "metadata": {
    "colab": {},
    "colab_type": "code",
    "id": "Llsgi-Lwryvw"
   },
   "outputs": [
    {
     "data": {
      "text/plain": [
       "'torch.FloatTensor'"
      ]
     },
     "execution_count": 170,
     "metadata": {},
     "output_type": "execute_result"
    }
   ],
   "source": [
    "import math\n",
    "\n",
    "weights = torch.randn(196, 784) / 196\n",
    "weights.requires_grad_()\n",
    "bias = torch.zeros(784, requires_grad=True)\n",
    "\n",
    "xt_ds.type()"
   ]
  },
  {
   "cell_type": "markdown",
   "metadata": {
    "colab_type": "text",
    "id": "eXsxpMuKryv0"
   },
   "source": [
    ">Thanks to PyTorch's ability to calculate gradients automatically, we can\n",
    "use any standard Python function (or callable object) as a model! So\n",
    "let's just write a plain matrix multiplication and broadcasted addition\n",
    "to create a simple linear model. We also need an activation function, so\n",
    "we'll write `log_softmax` and use it. Remember: although PyTorch\n",
    "provides lots of pre-written loss functions, activation functions, and\n",
    "so forth, you can easily write your own using plain python. PyTorch will\n",
    "even create fast GPU or vectorized CPU code for your function\n",
    "automatically.\n",
    "\n",
    "For a regression problem we cannot use a log softmax, so we modify this model to use a Relu activation fu\n",
    "\n"
   ]
  },
  {
   "cell_type": "code",
   "execution_count": 225,
   "metadata": {
    "colab": {},
    "colab_type": "code",
    "id": "288zx75Iryv1"
   },
   "outputs": [],
   "source": [
    "def relu(x):\n",
    "    return torch.clamp(x, 0, 1)\n",
    "\n",
    "def model(xb):\n",
    "    return relu(xb @ weights + bias)"
   ]
  },
  {
   "cell_type": "markdown",
   "metadata": {
    "colab_type": "text",
    "id": "F35xmdJwryv5"
   },
   "source": [
    "In the above, the ``@`` stands for the dot product operation. We will call\n",
    "our function on one batch of data (in this case, 64 images).  This is\n",
    "one *forward pass*.  Note that our predictions won't be any better than\n",
    "random at this stage, since we start with random weights.\n",
    "\n"
   ]
  },
  {
   "cell_type": "code",
   "execution_count": 172,
   "metadata": {
    "colab": {},
    "colab_type": "code",
    "id": "EHfdVe0nryv6",
    "scrolled": true
   },
   "outputs": [
    {
     "name": "stdout",
     "output_type": "stream",
     "text": [
      "tensor([5.3132e-02, 7.4322e-03, 8.8324e-03, 0.0000e+00, 1.7297e-02, 0.0000e+00,\n",
      "        0.0000e+00, 0.0000e+00, 0.0000e+00, 0.0000e+00, 2.2474e-02, 4.6466e-02,\n",
      "        5.6253e-02, 0.0000e+00, 0.0000e+00, 1.0054e-02, 9.9687e-03, 3.9483e-03,\n",
      "        0.0000e+00, 1.9397e-03, 7.4351e-03, 0.0000e+00, 0.0000e+00, 0.0000e+00,\n",
      "        3.8919e-02, 5.6654e-03, 4.0201e-02, 0.0000e+00, 1.1856e-03, 2.4085e-02,\n",
      "        0.0000e+00, 0.0000e+00, 3.0032e-02, 2.3959e-02, 0.0000e+00, 4.1262e-03,\n",
      "        0.0000e+00, 0.0000e+00, 0.0000e+00, 4.5143e-02, 0.0000e+00, 0.0000e+00,\n",
      "        0.0000e+00, 2.9725e-03, 0.0000e+00, 0.0000e+00, 0.0000e+00, 0.0000e+00,\n",
      "        0.0000e+00, 2.2036e-02, 4.8747e-02, 0.0000e+00, 0.0000e+00, 2.1893e-02,\n",
      "        3.4204e-02, 0.0000e+00, 2.3451e-03, 1.4863e-02, 0.0000e+00, 2.0355e-02,\n",
      "        1.2619e-02, 4.2207e-02, 0.0000e+00, 0.0000e+00, 2.1356e-02, 1.3698e-02,\n",
      "        3.0875e-02, 9.8392e-03, 0.0000e+00, 1.0817e-02, 1.6902e-02, 4.5232e-02,\n",
      "        0.0000e+00, 1.5290e-02, 0.0000e+00, 0.0000e+00, 4.6651e-02, 0.0000e+00,\n",
      "        0.0000e+00, 0.0000e+00, 0.0000e+00, 0.0000e+00, 0.0000e+00, 0.0000e+00,\n",
      "        0.0000e+00, 5.8136e-03, 0.0000e+00, 0.0000e+00, 2.9316e-02, 0.0000e+00,\n",
      "        0.0000e+00, 0.0000e+00, 2.1747e-02, 0.0000e+00, 1.9679e-02, 0.0000e+00,\n",
      "        1.8836e-02, 0.0000e+00, 0.0000e+00, 1.7199e-02, 0.0000e+00, 2.6635e-02,\n",
      "        0.0000e+00, 0.0000e+00, 0.0000e+00, 0.0000e+00, 4.4742e-02, 0.0000e+00,\n",
      "        0.0000e+00, 0.0000e+00, 1.6492e-02, 0.0000e+00, 0.0000e+00, 9.3969e-03,\n",
      "        0.0000e+00, 3.3908e-02, 0.0000e+00, 3.9612e-02, 0.0000e+00, 0.0000e+00,\n",
      "        0.0000e+00, 0.0000e+00, 0.0000e+00, 5.5788e-03, 0.0000e+00, 0.0000e+00,\n",
      "        0.0000e+00, 0.0000e+00, 3.3586e-04, 1.6733e-03, 1.0716e-02, 0.0000e+00,\n",
      "        0.0000e+00, 0.0000e+00, 1.6496e-02, 1.1046e-03, 0.0000e+00, 0.0000e+00,\n",
      "        0.0000e+00, 1.7441e-02, 1.8410e-02, 2.6564e-02, 1.1122e-02, 0.0000e+00,\n",
      "        0.0000e+00, 6.6379e-03, 0.0000e+00, 0.0000e+00, 4.4623e-02, 0.0000e+00,\n",
      "        0.0000e+00, 0.0000e+00, 0.0000e+00, 4.0252e-03, 2.0349e-02, 0.0000e+00,\n",
      "        0.0000e+00, 0.0000e+00, 0.0000e+00, 0.0000e+00, 0.0000e+00, 0.0000e+00,\n",
      "        5.2007e-03, 1.9725e-02, 6.0695e-02, 0.0000e+00, 0.0000e+00, 0.0000e+00,\n",
      "        0.0000e+00, 3.8829e-02, 0.0000e+00, 7.3426e-03, 2.5772e-02, 1.3400e-02,\n",
      "        0.0000e+00, 0.0000e+00, 0.0000e+00, 0.0000e+00, 0.0000e+00, 1.9546e-02,\n",
      "        0.0000e+00, 0.0000e+00, 0.0000e+00, 0.0000e+00, 1.5525e-02, 0.0000e+00,\n",
      "        0.0000e+00, 0.0000e+00, 0.0000e+00, 6.4798e-03, 2.7245e-02, 0.0000e+00,\n",
      "        0.0000e+00, 0.0000e+00, 0.0000e+00, 0.0000e+00, 2.4550e-03, 0.0000e+00,\n",
      "        0.0000e+00, 0.0000e+00, 2.3338e-02, 0.0000e+00, 0.0000e+00, 0.0000e+00,\n",
      "        6.2798e-03, 0.0000e+00, 7.0579e-02, 1.8808e-02, 1.9319e-03, 2.7069e-02,\n",
      "        0.0000e+00, 1.8571e-02, 0.0000e+00, 7.3608e-03, 1.5281e-02, 1.3301e-02,\n",
      "        2.1936e-02, 3.7556e-02, 0.0000e+00, 0.0000e+00, 0.0000e+00, 3.9854e-03,\n",
      "        0.0000e+00, 5.2440e-02, 6.8034e-03, 0.0000e+00, 0.0000e+00, 2.2250e-02,\n",
      "        0.0000e+00, 4.4104e-02, 1.9816e-02, 3.7537e-03, 0.0000e+00, 0.0000e+00,\n",
      "        3.7579e-02, 3.8436e-02, 1.9016e-02, 0.0000e+00, 2.4242e-02, 2.4230e-02,\n",
      "        3.3549e-02, 3.3717e-03, 1.7077e-02, 0.0000e+00, 0.0000e+00, 8.9398e-03,\n",
      "        3.2490e-02, 2.3427e-02, 0.0000e+00, 2.4195e-02, 3.0977e-02, 1.5804e-02,\n",
      "        0.0000e+00, 0.0000e+00, 0.0000e+00, 1.1356e-02, 2.7622e-02, 5.0018e-02,\n",
      "        0.0000e+00, 0.0000e+00, 1.0456e-02, 2.2718e-02, 0.0000e+00, 0.0000e+00,\n",
      "        2.8835e-02, 2.6976e-02, 0.0000e+00, 0.0000e+00, 1.5108e-02, 0.0000e+00,\n",
      "        0.0000e+00, 0.0000e+00, 0.0000e+00, 8.8891e-04, 2.7351e-03, 2.7736e-02,\n",
      "        0.0000e+00, 0.0000e+00, 1.0599e-02, 1.2710e-02, 0.0000e+00, 3.9457e-02,\n",
      "        0.0000e+00, 0.0000e+00, 3.9030e-03, 4.8235e-02, 4.7999e-02, 0.0000e+00,\n",
      "        1.9950e-02, 0.0000e+00, 0.0000e+00, 2.0951e-02, 8.9363e-03, 1.9766e-02,\n",
      "        0.0000e+00, 2.5107e-03, 1.1479e-02, 5.3541e-03, 0.0000e+00, 0.0000e+00,\n",
      "        2.0820e-02, 2.3679e-02, 6.6088e-03, 0.0000e+00, 0.0000e+00, 0.0000e+00,\n",
      "        0.0000e+00, 1.7871e-02, 1.2880e-02, 0.0000e+00, 0.0000e+00, 3.4151e-02,\n",
      "        1.9461e-02, 0.0000e+00, 4.5457e-02, 0.0000e+00, 0.0000e+00, 5.7827e-02,\n",
      "        2.5825e-02, 0.0000e+00, 0.0000e+00, 1.0163e-02, 0.0000e+00, 0.0000e+00,\n",
      "        7.5772e-03, 0.0000e+00, 2.7209e-02, 2.4083e-02, 0.0000e+00, 4.6338e-03,\n",
      "        1.2731e-02, 2.1497e-03, 2.6142e-02, 6.6986e-02, 2.6421e-02, 0.0000e+00,\n",
      "        0.0000e+00, 0.0000e+00, 0.0000e+00, 0.0000e+00, 0.0000e+00, 2.7880e-02,\n",
      "        0.0000e+00, 1.9596e-02, 9.8326e-03, 4.8715e-02, 0.0000e+00, 1.3544e-02,\n",
      "        0.0000e+00, 9.3761e-04, 0.0000e+00, 2.3996e-02, 0.0000e+00, 2.8350e-02,\n",
      "        4.1308e-03, 0.0000e+00, 4.4372e-02, 1.3451e-02, 0.0000e+00, 1.0380e-02,\n",
      "        0.0000e+00, 7.0981e-03, 0.0000e+00, 0.0000e+00, 0.0000e+00, 8.7759e-03,\n",
      "        0.0000e+00, 0.0000e+00, 3.7893e-02, 0.0000e+00, 0.0000e+00, 1.8428e-02,\n",
      "        2.4434e-02, 2.8583e-03, 4.4267e-02, 0.0000e+00, 0.0000e+00, 1.8005e-03,\n",
      "        4.9708e-02, 0.0000e+00, 1.0328e-02, 2.9603e-02, 8.5375e-03, 4.0780e-02,\n",
      "        5.0668e-02, 1.8540e-02, 0.0000e+00, 3.3942e-02, 8.8552e-03, 1.6859e-02,\n",
      "        2.0574e-02, 3.8564e-02, 0.0000e+00, 2.8773e-02, 0.0000e+00, 9.5773e-03,\n",
      "        0.0000e+00, 0.0000e+00, 1.5756e-02, 0.0000e+00, 2.2213e-03, 3.0760e-02,\n",
      "        0.0000e+00, 0.0000e+00, 2.6885e-02, 1.5594e-02, 3.6844e-02, 2.0023e-02,\n",
      "        0.0000e+00, 0.0000e+00, 0.0000e+00, 0.0000e+00, 0.0000e+00, 1.2349e-02,\n",
      "        1.1492e-02, 0.0000e+00, 0.0000e+00, 1.3923e-02, 3.6774e-03, 2.6361e-02,\n",
      "        0.0000e+00, 3.3004e-02, 0.0000e+00, 9.1923e-03, 0.0000e+00, 0.0000e+00,\n",
      "        7.1098e-03, 1.6970e-02, 2.1551e-02, 0.0000e+00, 0.0000e+00, 2.0889e-02,\n",
      "        0.0000e+00, 0.0000e+00, 0.0000e+00, 4.6883e-02, 0.0000e+00, 1.8066e-02,\n",
      "        1.6698e-02, 8.7076e-03, 2.6659e-03, 5.9003e-03, 1.1096e-04, 1.8501e-02,\n",
      "        1.7839e-02, 2.9004e-02, 2.4018e-02, 4.5818e-02, 0.0000e+00, 2.4819e-02,\n",
      "        0.0000e+00, 0.0000e+00, 0.0000e+00, 6.0996e-03, 8.8194e-03, 9.2335e-04,\n",
      "        1.4478e-02, 0.0000e+00, 0.0000e+00, 0.0000e+00, 1.1651e-02, 0.0000e+00,\n",
      "        1.4052e-04, 0.0000e+00, 1.1192e-02, 0.0000e+00, 4.4065e-02, 0.0000e+00,\n",
      "        6.6554e-02, 2.3107e-02, 2.1689e-02, 0.0000e+00, 1.0893e-02, 2.0750e-03,\n",
      "        0.0000e+00, 6.9185e-03, 2.0704e-03, 1.3683e-02, 0.0000e+00, 1.1790e-02,\n",
      "        6.2446e-03, 3.9280e-02, 0.0000e+00, 2.9254e-03, 0.0000e+00, 2.1180e-02,\n",
      "        2.8581e-02, 0.0000e+00, 2.5596e-02, 3.5692e-02, 7.1195e-03, 0.0000e+00,\n",
      "        0.0000e+00, 2.2129e-02, 0.0000e+00, 0.0000e+00, 0.0000e+00, 0.0000e+00,\n",
      "        0.0000e+00, 0.0000e+00, 0.0000e+00, 0.0000e+00, 0.0000e+00, 0.0000e+00,\n",
      "        3.9687e-02, 0.0000e+00, 2.7497e-02, 0.0000e+00, 0.0000e+00, 0.0000e+00,\n",
      "        2.3940e-02, 5.6771e-03, 2.8467e-02, 0.0000e+00, 7.0653e-03, 4.7606e-04,\n",
      "        0.0000e+00, 0.0000e+00, 1.4609e-02, 2.1945e-02, 0.0000e+00, 0.0000e+00,\n",
      "        6.5575e-03, 0.0000e+00, 0.0000e+00, 0.0000e+00, 1.2341e-03, 2.3908e-02,\n",
      "        1.0328e-02, 2.6752e-02, 2.8208e-02, 0.0000e+00, 2.5512e-02, 1.1679e-02,\n",
      "        3.2612e-02, 1.6429e-02, 1.6025e-02, 3.9017e-02, 3.2300e-02, 1.9487e-02,\n",
      "        0.0000e+00, 0.0000e+00, 1.9943e-02, 1.4397e-02, 0.0000e+00, 4.0315e-05,\n",
      "        0.0000e+00, 0.0000e+00, 2.7879e-02, 0.0000e+00, 1.4691e-03, 0.0000e+00,\n",
      "        4.3012e-02, 0.0000e+00, 0.0000e+00, 0.0000e+00, 0.0000e+00, 0.0000e+00,\n",
      "        2.5165e-02, 0.0000e+00, 0.0000e+00, 0.0000e+00, 0.0000e+00, 2.9677e-02,\n",
      "        1.1215e-02, 2.4182e-02, 0.0000e+00, 0.0000e+00, 0.0000e+00, 1.3375e-02,\n",
      "        2.5327e-02, 1.2981e-02, 0.0000e+00, 0.0000e+00, 4.5655e-03, 1.1209e-02,\n",
      "        1.8790e-02, 0.0000e+00, 0.0000e+00, 1.8140e-02, 7.0902e-03, 0.0000e+00,\n",
      "        0.0000e+00, 0.0000e+00, 2.2193e-02, 0.0000e+00, 0.0000e+00, 0.0000e+00,\n",
      "        0.0000e+00, 7.3149e-03, 2.9655e-05, 0.0000e+00, 4.8418e-02, 2.9195e-02,\n",
      "        2.5456e-02, 9.8030e-03, 1.4446e-02, 1.8197e-02, 0.0000e+00, 2.4490e-03,\n",
      "        1.6143e-02, 9.5198e-03, 0.0000e+00, 0.0000e+00, 1.2752e-02, 1.2058e-04,\n",
      "        0.0000e+00, 5.9131e-03, 0.0000e+00, 4.6658e-02, 0.0000e+00, 1.5254e-02,\n",
      "        2.5846e-03, 0.0000e+00, 0.0000e+00, 1.3555e-02, 7.8229e-02, 2.0900e-02,\n",
      "        2.3755e-02, 3.7645e-02, 4.3358e-02, 0.0000e+00, 1.4462e-02, 0.0000e+00,\n",
      "        5.3102e-02, 1.1710e-02, 0.0000e+00, 0.0000e+00, 4.0931e-03, 0.0000e+00,\n",
      "        0.0000e+00, 2.2194e-02, 4.3466e-03, 0.0000e+00, 0.0000e+00, 3.8446e-02,\n",
      "        3.6779e-02, 0.0000e+00, 0.0000e+00, 0.0000e+00, 0.0000e+00, 1.5723e-03,\n",
      "        5.6355e-03, 6.9447e-03, 0.0000e+00, 0.0000e+00, 3.6535e-02, 3.5688e-02,\n",
      "        0.0000e+00, 0.0000e+00, 0.0000e+00, 1.8200e-02, 0.0000e+00, 0.0000e+00,\n",
      "        1.3114e-03, 4.7481e-03, 1.8070e-02, 7.9094e-05, 3.7065e-02, 5.6308e-03,\n",
      "        8.3889e-03, 0.0000e+00, 2.8961e-03, 4.6363e-02, 2.2443e-02, 0.0000e+00,\n",
      "        0.0000e+00, 2.9376e-02, 0.0000e+00, 3.1422e-02, 4.8117e-02, 1.3021e-02,\n",
      "        0.0000e+00, 0.0000e+00, 0.0000e+00, 1.7792e-02, 0.0000e+00, 3.0542e-02,\n",
      "        0.0000e+00, 6.6217e-03, 0.0000e+00, 0.0000e+00, 4.7190e-03, 3.5650e-03,\n",
      "        0.0000e+00, 0.0000e+00, 6.1121e-03, 0.0000e+00, 1.8998e-02, 5.0745e-02,\n",
      "        3.2349e-02, 0.0000e+00, 2.6472e-02, 0.0000e+00, 0.0000e+00, 0.0000e+00,\n",
      "        0.0000e+00, 2.2051e-02, 7.0203e-03, 0.0000e+00, 0.0000e+00, 0.0000e+00,\n",
      "        0.0000e+00, 3.6268e-04, 1.0224e-02, 2.4601e-02, 0.0000e+00, 0.0000e+00,\n",
      "        0.0000e+00, 1.9289e-02, 1.1958e-02, 1.0115e-02, 5.0034e-02, 2.4380e-02,\n",
      "        0.0000e+00, 0.0000e+00, 2.2867e-02, 0.0000e+00, 0.0000e+00, 1.2858e-03,\n",
      "        0.0000e+00, 3.1419e-03, 2.2707e-02, 2.1935e-02, 1.4986e-02, 1.8329e-02,\n",
      "        2.5876e-02, 0.0000e+00, 2.8766e-04, 0.0000e+00, 0.0000e+00, 2.8229e-02,\n",
      "        0.0000e+00, 1.8185e-02, 0.0000e+00, 1.2357e-02, 0.0000e+00, 8.2426e-03,\n",
      "        0.0000e+00, 0.0000e+00, 0.0000e+00, 1.5671e-02, 3.1014e-02, 0.0000e+00,\n",
      "        0.0000e+00, 2.3600e-02, 4.3603e-02, 0.0000e+00, 0.0000e+00, 1.9723e-02,\n",
      "        1.5457e-02, 0.0000e+00, 0.0000e+00, 3.2572e-02, 0.0000e+00, 3.9574e-02,\n",
      "        2.0039e-02, 0.0000e+00, 8.7626e-03, 3.5561e-02, 0.0000e+00, 3.8323e-03,\n",
      "        2.4376e-03, 5.5524e-02, 6.1741e-03, 4.1761e-03, 5.0129e-02, 0.0000e+00,\n",
      "        1.1816e-02, 1.6774e-02, 1.7703e-02, 1.7053e-02, 1.0256e-02, 1.4989e-02,\n",
      "        2.4807e-02, 0.0000e+00, 0.0000e+00, 3.4616e-02, 0.0000e+00, 1.5688e-02,\n",
      "        0.0000e+00, 9.4630e-03, 7.9844e-04, 1.2705e-02],\n",
      "       grad_fn=<SelectBackward>) tensor([ 6.9624e-03,  2.3750e-03, -4.7716e-03,  2.2685e-03,  2.2080e-03,\n",
      "        -8.6992e-03, -1.9500e-03, -2.0002e-03,  5.9830e-04,  2.8838e-04,\n",
      "        -7.7127e-04,  2.3333e-03, -5.7905e-03, -6.2246e-03, -6.8949e-03,\n",
      "         2.4048e-03, -5.6337e-03,  3.4310e-03,  5.1812e-03,  1.3956e-03,\n",
      "         4.2744e-03,  1.6085e-03,  6.9228e-03, -2.8960e-03, -3.8592e-03,\n",
      "         8.0991e-03, -8.8342e-03, -7.1665e-03,  9.6095e-03, -5.5621e-03,\n",
      "        -5.0302e-03,  2.4573e-03,  9.0553e-03,  4.1957e-03,  7.0793e-03,\n",
      "        -4.3788e-04, -2.3411e-03, -7.0348e-03, -3.2529e-03,  8.0201e-03,\n",
      "         8.8440e-05,  7.7889e-03,  1.6421e-03,  5.1764e-03, -1.8877e-03,\n",
      "        -6.0283e-03, -9.6761e-03,  7.3795e-04, -1.4471e-03, -4.0659e-03,\n",
      "         4.1027e-03,  1.3771e-03, -1.0467e-03, -8.0843e-04,  2.5371e-04,\n",
      "        -7.9788e-04,  9.4701e-04,  1.1680e-03,  3.5474e-03,  2.6062e-03,\n",
      "        -7.7352e-03,  5.0842e-05,  5.5491e-03, -6.3035e-04,  3.4398e-04,\n",
      "         2.1659e-03, -2.5824e-03, -1.7100e-03, -2.9817e-03,  9.1885e-03,\n",
      "        -5.5687e-03,  4.9355e-03,  3.8595e-03, -6.6932e-03,  1.0542e-02,\n",
      "         3.9967e-03, -2.4647e-03, -8.7652e-04, -1.7744e-03,  5.7704e-03,\n",
      "         1.2310e-02,  1.7116e-03,  2.1153e-03, -2.3114e-03, -2.9099e-03,\n",
      "         1.3064e-03,  9.7058e-03,  6.5367e-04, -2.7245e-03, -1.5607e-03,\n",
      "        -3.7537e-03, -1.7127e-03,  1.0890e-02, -1.2537e-03, -1.3699e-02,\n",
      "        -4.1165e-03, -1.3817e-02,  9.1761e-05,  1.1442e-02,  5.9606e-03,\n",
      "        -5.1843e-03,  6.1071e-03, -1.0790e-02,  3.9219e-03, -2.3004e-03,\n",
      "         9.5088e-03, -2.0732e-03,  1.0110e-02, -1.3952e-03,  3.0603e-03,\n",
      "         3.8524e-03, -5.1168e-03,  7.6705e-03, -5.9709e-03, -1.2714e-05,\n",
      "         5.1629e-04,  3.4550e-03, -6.6977e-04, -4.2651e-03, -3.2003e-03,\n",
      "        -7.6186e-04, -1.0504e-03, -7.8629e-03,  1.6785e-03,  1.0653e-02,\n",
      "        -1.9905e-03, -1.8379e-03,  1.3154e-03, -8.9715e-04,  4.2898e-03,\n",
      "         1.6245e-03, -1.4539e-04,  7.9263e-03,  4.8544e-03,  1.0328e-03,\n",
      "        -1.3434e-02, -7.7092e-04,  8.4437e-03, -4.6111e-03, -2.4395e-03,\n",
      "        -3.8823e-04, -6.4634e-03, -4.9730e-04,  8.4455e-03,  9.1863e-03,\n",
      "        -6.9924e-03, -1.2907e-04, -7.4388e-03,  7.6745e-03, -1.0425e-04,\n",
      "         1.3247e-02,  1.9517e-03,  6.9299e-03,  4.9859e-03, -1.6691e-03,\n",
      "        -1.7441e-03, -2.4015e-03, -4.9424e-03, -3.6045e-03,  3.7307e-04,\n",
      "        -1.1528e-02, -8.6087e-04, -5.1501e-03,  7.2068e-03, -1.3103e-03,\n",
      "         3.0395e-03, -1.2957e-04,  1.6762e-03,  4.8544e-03,  1.2524e-03,\n",
      "         2.6223e-03, -4.9709e-03, -1.3156e-02,  1.4575e-03, -5.0897e-03,\n",
      "        -9.0489e-04,  2.6983e-03, -7.5390e-03, -4.8078e-05, -3.6161e-03,\n",
      "         5.6361e-03, -1.4448e-03, -4.4063e-03,  3.8603e-03, -1.0796e-04,\n",
      "        -6.5313e-03, -3.0611e-03, -1.5616e-03,  5.0095e-03,  5.4533e-03,\n",
      "        -1.1846e-03, -2.7541e-03,  5.4902e-04, -5.7290e-03,  6.5466e-03,\n",
      "         7.1593e-03, -7.6258e-03,  1.2938e-03,  1.0652e-02,  6.1911e-03,\n",
      "        -3.2755e-03,  1.6294e-03, -9.3990e-04,  5.9633e-03,  7.9005e-03,\n",
      "         9.0372e-03,  1.3730e-03, -4.0293e-04, -8.4260e-04,  2.1846e-03,\n",
      "        -3.3487e-03, -4.2911e-03, -5.9263e-03, -4.7536e-03,  2.0601e-03,\n",
      "         6.2694e-03,  3.2468e-04, -7.2076e-04,  3.9115e-03, -1.6009e-03,\n",
      "         2.7181e-03,  4.3349e-03,  2.6699e-03,  1.5585e-03, -3.9112e-03,\n",
      "        -4.7924e-03, -2.8270e-03, -6.3353e-04,  1.4061e-04, -5.6290e-03,\n",
      "        -2.0487e-03, -1.0129e-04,  4.3936e-03,  3.9996e-04, -6.4668e-03,\n",
      "        -7.3419e-03,  1.0942e-03, -7.1561e-04,  5.0903e-03,  1.2532e-03,\n",
      "         1.6548e-03, -1.1902e-02,  5.9975e-04,  8.5249e-03, -1.7749e-03,\n",
      "         9.8744e-03,  1.1540e-03, -5.1346e-04, -3.7491e-03,  1.3555e-03,\n",
      "         7.8866e-04,  4.5010e-03,  1.1736e-03,  4.7546e-03,  2.5053e-03,\n",
      "        -1.0675e-02, -7.2504e-03,  2.0489e-03,  8.8077e-03, -2.8527e-03,\n",
      "        -4.8150e-03, -1.8884e-03,  5.2980e-03,  1.7853e-03, -5.9351e-03,\n",
      "         5.9508e-03, -1.1829e-04, -6.0413e-03,  5.5944e-03, -2.9197e-04,\n",
      "         4.2477e-04,  9.7229e-04,  5.8908e-03, -5.5361e-03, -4.4766e-03,\n",
      "         5.1235e-03,  3.4364e-03,  3.3736e-04, -4.4128e-03,  1.4847e-03,\n",
      "         1.4831e-03,  1.7675e-03,  3.9100e-03, -6.6025e-03, -1.0982e-03,\n",
      "        -6.2031e-03,  3.5219e-03,  3.9935e-03, -1.6343e-03,  4.1066e-03,\n",
      "         2.7110e-03,  1.0734e-02, -1.8134e-03,  3.7465e-03, -6.4553e-03,\n",
      "         9.4003e-03, -5.4301e-03, -3.9424e-03, -3.2139e-03,  2.0599e-03,\n",
      "         6.8540e-03, -7.5164e-04,  3.0490e-03,  5.3457e-04,  2.7951e-03,\n",
      "        -1.2510e-03,  6.6349e-04,  2.0223e-03,  1.1275e-03,  4.2131e-03,\n",
      "         4.7560e-03,  4.7508e-03, -2.2350e-04,  5.0372e-04,  2.8433e-03,\n",
      "         7.3183e-03, -5.2786e-03,  3.7225e-03,  6.7893e-03,  7.5128e-04,\n",
      "         2.0883e-03,  2.1204e-03,  1.8884e-03, -2.2686e-03, -4.2455e-03,\n",
      "        -4.8002e-03,  8.9582e-04,  1.0707e-02,  8.6321e-03, -9.7903e-03,\n",
      "         5.6406e-03,  4.0717e-03,  1.3484e-02,  5.3289e-03, -5.7829e-03,\n",
      "        -1.1881e-03, -7.0199e-03,  6.2681e-03,  4.0470e-04,  5.1425e-03,\n",
      "        -3.1378e-03,  8.6040e-03,  2.5325e-03, -1.5846e-03,  4.6541e-04,\n",
      "        -2.5376e-03,  6.4296e-03,  5.9842e-04,  1.5540e-03, -1.0956e-03,\n",
      "         8.4863e-05, -7.9372e-04, -7.2633e-03, -3.4609e-04, -3.9339e-04,\n",
      "         1.0352e-04,  5.2626e-03, -6.7610e-03,  1.6577e-03,  1.9272e-03,\n",
      "         5.3005e-03, -2.9048e-03,  4.2526e-03, -1.3601e-03, -3.3058e-03,\n",
      "        -7.2770e-03, -1.5360e-03,  3.4804e-03,  2.5597e-03, -1.8344e-03,\n",
      "        -5.6567e-04, -9.4318e-03,  1.9767e-03, -8.9717e-03, -1.4171e-03,\n",
      "         3.8546e-03,  7.1760e-03,  6.0689e-03,  2.2975e-03, -7.1488e-03,\n",
      "        -3.8421e-03, -1.2909e-03, -4.2642e-03, -2.3990e-03,  6.6443e-03,\n",
      "        -1.2739e-03, -2.7445e-04,  3.7543e-03, -2.2624e-04,  2.8183e-04,\n",
      "         8.8913e-03, -7.3179e-03, -6.8969e-04, -9.9521e-03,  7.3780e-03,\n",
      "         5.6426e-03,  4.2633e-03, -5.4438e-03,  9.2513e-03,  2.1203e-03,\n",
      "        -7.5176e-04,  3.8386e-03,  3.7275e-03, -3.6406e-03,  4.0695e-03,\n",
      "        -3.9328e-03,  9.4308e-04,  4.0947e-03,  1.6891e-03,  1.5334e-03,\n",
      "         6.5139e-03, -3.8108e-03,  4.2948e-03,  1.7829e-03,  3.2808e-03,\n",
      "         5.6840e-03, -5.3528e-03, -5.0828e-03,  1.6660e-03,  4.0738e-03,\n",
      "        -7.1841e-03, -2.0154e-03,  4.8283e-03,  3.7132e-03,  5.8037e-03,\n",
      "        -2.4755e-03, -6.4314e-03, -1.0106e-02,  6.4064e-03, -5.5175e-03,\n",
      "         5.0275e-03,  7.3117e-03, -2.2774e-03,  1.2376e-02,  5.1784e-03,\n",
      "        -4.7898e-03, -8.8528e-03, -1.6930e-03,  1.0493e-03,  1.2277e-03,\n",
      "        -3.5082e-03,  9.9770e-04,  9.2516e-04,  5.5919e-03, -6.0463e-03,\n",
      "         4.2870e-04,  4.3536e-04,  7.1057e-03,  5.9117e-03, -3.1781e-03,\n",
      "        -7.8645e-03, -8.0104e-05,  2.5216e-03,  1.2183e-03, -4.1007e-03,\n",
      "         3.6554e-03,  3.7208e-03, -2.1210e-03, -7.9284e-03, -4.4828e-04,\n",
      "         2.7575e-04, -3.5443e-03,  2.2181e-03, -1.4608e-02,  3.2477e-03,\n",
      "         5.0009e-03, -4.5344e-03,  9.1065e-03,  2.5062e-03,  4.3298e-03,\n",
      "         1.9481e-03,  2.9119e-03, -1.0510e-03,  4.6137e-03,  4.6026e-03,\n",
      "         5.2740e-03,  6.2197e-03,  2.7882e-03, -2.9535e-03, -1.5630e-04,\n",
      "        -8.4978e-03,  7.5350e-03,  4.8213e-04, -3.6431e-04, -4.0096e-03,\n",
      "         2.7693e-03,  8.5288e-04, -6.3233e-03,  4.5000e-03,  3.1539e-03,\n",
      "         5.9332e-03,  7.2879e-03,  2.0953e-03, -1.2328e-03,  9.9236e-04,\n",
      "        -4.8468e-04,  8.0031e-03,  5.8239e-04,  5.6787e-03, -2.9156e-03,\n",
      "         6.4948e-03, -1.3773e-02, -6.8078e-04,  5.7207e-04,  1.8382e-03,\n",
      "         3.5530e-03,  6.5922e-03, -2.9302e-03, -3.5456e-03,  5.5720e-05,\n",
      "         9.8509e-03,  6.5043e-03,  8.0721e-03,  5.9305e-03, -3.5457e-03,\n",
      "         3.8208e-03, -6.4615e-03, -7.2042e-03, -1.4437e-03,  6.6873e-03,\n",
      "        -6.1976e-04,  3.8435e-03, -8.3182e-03, -4.8333e-04, -1.4898e-03,\n",
      "         1.3823e-03, -1.0659e-02,  1.3508e-03,  5.7311e-03, -3.3009e-03,\n",
      "        -1.9470e-04, -1.0724e-02, -3.3124e-03,  8.9695e-03, -1.9821e-03,\n",
      "         1.0820e-02,  4.7125e-03,  3.0794e-03,  6.0564e-03,  4.8332e-03,\n",
      "         1.1409e-03,  8.5914e-04, -6.1075e-04,  1.8674e-03, -1.6625e-03,\n",
      "         7.4611e-03, -5.7608e-03, -2.2751e-03, -7.8835e-03, -5.9750e-03,\n",
      "         1.0179e-02, -4.9516e-03, -4.5433e-03, -1.7053e-03, -2.2604e-03,\n",
      "        -8.3420e-03,  3.6431e-03,  4.6112e-03,  4.7336e-03,  3.7178e-03,\n",
      "         5.4144e-03, -9.7562e-03,  2.4577e-03,  5.9094e-03, -2.5410e-03,\n",
      "         1.1485e-03,  1.9606e-03,  7.5995e-03, -1.2321e-03, -3.7610e-03,\n",
      "        -2.1529e-03,  9.2016e-04, -5.9322e-05,  7.6578e-03, -2.1053e-04,\n",
      "         2.8355e-03,  1.0004e-02, -6.1026e-03, -8.7250e-03,  3.7393e-03,\n",
      "        -6.4649e-03, -9.7276e-03,  9.7475e-03, -6.0106e-05, -1.8409e-03,\n",
      "        -2.9757e-03, -1.5390e-03,  6.3746e-03, -1.3965e-05, -1.0186e-03,\n",
      "        -4.1094e-03,  1.7090e-02, -1.0335e-03,  1.2180e-03,  5.0694e-03,\n",
      "        -9.4093e-04,  3.6832e-03,  1.9871e-03,  2.7804e-03,  2.9101e-03,\n",
      "         2.0084e-03, -9.3951e-03, -2.6297e-03, -1.1125e-03, -2.2899e-03,\n",
      "         3.1217e-04, -3.3939e-03, -5.3929e-03,  1.0383e-03, -5.7679e-03,\n",
      "        -9.5388e-03, -1.1860e-02, -3.0662e-03, -5.0101e-03,  5.3794e-03,\n",
      "         5.4520e-03,  1.9315e-03,  1.0636e-03,  5.9509e-03,  9.5816e-03,\n",
      "        -1.3901e-04, -1.1470e-02, -4.5133e-04, -2.6432e-03,  1.9512e-03,\n",
      "         2.3015e-03,  5.8396e-03, -8.3558e-03,  4.0546e-03,  2.9854e-03,\n",
      "        -5.4492e-03,  1.4658e-03,  3.1633e-03, -2.7564e-03,  1.7212e-03,\n",
      "        -5.2491e-04, -1.1880e-03,  1.2823e-02,  1.2548e-02,  9.1759e-04,\n",
      "        -4.2254e-03, -4.5801e-03,  8.3932e-04, -5.2589e-03, -2.4685e-03,\n",
      "         1.6142e-03, -5.2957e-03,  8.4232e-03,  2.4560e-03,  1.8874e-03,\n",
      "         1.2416e-03,  3.6235e-03, -5.6718e-03,  2.8927e-04,  4.9868e-03,\n",
      "        -7.1002e-03,  3.7389e-03,  3.2218e-03, -1.6309e-04, -1.0403e-02,\n",
      "         7.2879e-03, -2.9538e-03, -1.5801e-03,  4.1315e-03, -1.5339e-03,\n",
      "        -6.1531e-03, -2.7344e-03, -9.3932e-03, -2.9716e-03,  1.2180e-03,\n",
      "         1.1059e-04,  5.5214e-03,  3.3290e-03,  6.8712e-03, -9.6402e-03,\n",
      "         7.0283e-03, -8.9489e-03,  3.6059e-05, -1.8935e-04, -7.2501e-04,\n",
      "        -3.5033e-03,  6.7006e-05, -5.3432e-03, -1.0844e-02,  1.5982e-03,\n",
      "        -1.3651e-03,  4.2478e-04, -2.4685e-03,  4.9939e-03, -5.3971e-03,\n",
      "        -3.4534e-03, -7.2730e-03,  1.6095e-03,  4.3124e-03,  1.9510e-03,\n",
      "         6.7282e-03, -1.1010e-03,  1.5461e-03,  1.8999e-03,  6.5208e-03,\n",
      "         1.7618e-03,  6.9028e-03,  6.3609e-04, -2.3011e-03,  4.0240e-03,\n",
      "         9.0455e-03,  2.1960e-03, -9.5819e-03, -3.9977e-03, -6.5688e-03,\n",
      "        -4.5178e-03,  1.1261e-02,  3.1919e-03, -5.7599e-03,  8.1980e-03,\n",
      "         2.5867e-03, -4.0105e-03, -2.1857e-03, -6.7678e-03, -1.5442e-03,\n",
      "        -3.9052e-03,  1.8990e-03, -9.1197e-03, -4.8652e-04, -1.0388e-02,\n",
      "        -5.4028e-03, -1.0301e-03, -1.0102e-02, -7.3611e-03, -6.2014e-03,\n",
      "        -2.5850e-03, -6.0028e-03,  4.7296e-03,  6.1786e-03,  8.6474e-03,\n",
      "         8.4812e-03,  2.7513e-03, -2.6102e-03,  5.3516e-03, -3.3312e-03,\n",
      "         7.0389e-04, -8.0429e-03, -2.1006e-04, -1.0850e-02,  6.3541e-03,\n",
      "        -1.2308e-02,  4.6880e-03, -6.2614e-03, -1.7272e-04,  1.7963e-03,\n",
      "         3.9601e-03,  2.8128e-03,  1.0321e-02, -7.3967e-04, -1.8976e-03,\n",
      "         1.9654e-03, -3.2213e-03, -2.7923e-03, -5.3656e-03,  5.1970e-03,\n",
      "         1.2841e-03,  2.9069e-03, -1.0931e-03, -1.5015e-03,  3.5281e-04,\n",
      "         2.4566e-03, -7.2816e-03,  4.6313e-03, -9.4188e-03, -2.1746e-03,\n",
      "        -1.0149e-03, -1.2062e-03,  3.3009e-03,  1.7248e-03,  2.8767e-03,\n",
      "         7.4228e-03,  2.4218e-04, -5.0703e-03,  7.9114e-03, -6.9633e-03,\n",
      "         2.8117e-03, -1.4748e-03, -3.5751e-03, -1.2340e-03],\n",
      "       grad_fn=<SelectBackward>) tensor([0.0000, 0.0000, 0.0000, 0.0000, 0.0000, 0.0000, 0.0000, 0.0000, 0.0000,\n",
      "        0.0000, 0.0000, 0.0000, 0.0000, 0.0000, 0.0000, 0.0000, 0.0000, 0.0000,\n",
      "        0.0000, 0.0000, 0.0000, 0.0000, 0.0000, 0.0000, 0.0000, 0.0000, 0.0000,\n",
      "        0.0000, 0.0000, 0.0000, 0.0000, 0.0000, 0.0000, 0.0000, 0.0667, 0.0667,\n",
      "        0.5294, 0.0980, 0.9961, 0.4941, 0.0000, 0.0000, 0.0000, 0.0000, 0.0000,\n",
      "        0.1882, 0.9882, 0.9882, 0.9882, 0.9882, 0.9804, 0.3176, 0.2157, 0.0000,\n",
      "        0.0000, 0.0000, 0.0000, 0.0000, 0.0000, 0.0000, 0.6078, 0.9882, 0.8000,\n",
      "        0.0000, 0.6000, 0.0000, 0.0000, 0.0000, 0.0000, 0.0000, 0.0000, 0.0000,\n",
      "        0.0000, 0.0000, 0.0000, 0.5412, 0.7412, 0.0000, 0.0000, 0.0000, 0.0000,\n",
      "        0.0000, 0.0000, 0.0000, 0.0000, 0.0000, 0.0000, 0.0000, 0.0000, 0.0000,\n",
      "        0.9412, 0.6235, 0.0000, 0.0000, 0.0000, 0.0000, 0.0000, 0.0000, 0.0000,\n",
      "        0.0000, 0.0000, 0.0000, 0.0000, 0.0000, 0.0000, 0.7255, 0.9882, 0.1020,\n",
      "        0.0000, 0.0000, 0.0000, 0.0000, 0.0000, 0.0000, 0.0000, 0.0000, 0.0000,\n",
      "        0.0000, 0.0000, 0.0000, 0.9725, 0.9725, 0.0000, 0.0000, 0.0000, 0.0000,\n",
      "        0.0000, 0.0000, 0.0000, 0.0000, 0.0000, 0.0000, 0.5765, 0.9882, 0.9882,\n",
      "        0.7098, 0.0000, 0.0000, 0.0000, 0.0000, 0.0000, 0.0000, 0.0000, 0.0000,\n",
      "        0.2549, 0.9882, 0.9882, 0.7725, 0.0039, 0.0000, 0.0000, 0.0000, 0.0000,\n",
      "        0.0000, 0.0000, 0.0000, 0.6706, 0.9882, 0.9882, 0.9529, 0.0392, 0.0000,\n",
      "        0.0000, 0.0000, 0.0000, 0.0000, 0.0000, 0.0000, 0.0000, 0.0000, 0.0000,\n",
      "        0.0000, 0.0000, 0.0000, 0.0000, 0.0000, 0.0000, 0.0000, 0.0000, 0.0000,\n",
      "        0.0000, 0.0000, 0.0000, 0.0000, 0.0000, 0.0000, 0.0000, 0.0000, 0.0000,\n",
      "        0.0000, 0.0000, 0.0000, 0.0000, 0.0000, 0.0000, 0.0000])\n"
     ]
    }
   ],
   "source": [
    "bs = 64  # batch size\n",
    "\n",
    "xb = xt_ds[0:bs]  # a mini-batch from x\n",
    "preds = model(xb)  # predictions\n",
    "preds[0], preds.shape\n",
    "print(preds[0], weights[0], xt_ds[0])\n"
   ]
  },
  {
   "cell_type": "code",
   "execution_count": 173,
   "metadata": {},
   "outputs": [
    {
     "name": "stdout",
     "output_type": "stream",
     "text": [
      "tensor(0.0782, grad_fn=<MaxBackward1>)\n"
     ]
    }
   ],
   "source": [
    "print(torch.max(preds[0]))"
   ]
  },
  {
   "cell_type": "markdown",
   "metadata": {
    "colab_type": "text",
    "id": "oD9GjH0arywA"
   },
   "source": [
    "As you see, the ``preds`` tensor contains not only the tensor values, but also a\n",
    "gradient function. We'll use this later to do backprop.\n",
    "\n",
    "Let's implement negative log-likelihood to use as the loss function\n",
    "(again, we can just use standard Python):\n",
    "\n"
   ]
  },
  {
   "cell_type": "code",
   "execution_count": 174,
   "metadata": {
    "colab": {},
    "colab_type": "code",
    "id": "MM5yn2gtrywB"
   },
   "outputs": [],
   "source": [
    "def nll(input, target):\n",
    "    return torch.pow(input-target, 2).mean()\n",
    "\n",
    "loss_func = nll"
   ]
  },
  {
   "cell_type": "markdown",
   "metadata": {
    "colab_type": "text",
    "id": "X4X3Up4DrywF"
   },
   "source": [
    "Let's check our loss with our random model, so we can see if we improve\n",
    "after a backprop pass later.\n",
    "\n"
   ]
  },
  {
   "cell_type": "code",
   "execution_count": 175,
   "metadata": {
    "colab": {},
    "colab_type": "code",
    "id": "Z7-b88ZFrywG"
   },
   "outputs": [
    {
     "name": "stdout",
     "output_type": "stream",
     "text": [
      "tensor(0.1050, grad_fn=<MeanBackward0>)\n"
     ]
    }
   ],
   "source": [
    "yb = x_train[0:bs]\n",
    "print(loss_func(preds, yb))"
   ]
  },
  {
   "cell_type": "markdown",
   "metadata": {
    "colab_type": "text",
    "id": "YrQQ0Fl8rywK"
   },
   "source": [
    "Let's also implement a function to calculate the accuracy of our model.\n",
    "For each prediction, if the index with the largest value matches the\n",
    "target value, then the prediction was correct.\n",
    "\n"
   ]
  },
  {
   "cell_type": "code",
   "execution_count": 181,
   "metadata": {
    "colab": {},
    "colab_type": "code",
    "id": "q3SFRYUUrywM"
   },
   "outputs": [
    {
     "data": {
      "text/plain": [
       "<matplotlib.image.AxesImage at 0x2c021f28488>"
      ]
     },
     "execution_count": 181,
     "metadata": {},
     "output_type": "execute_result"
    },
    {
     "data": {
      "image/png": "[encoded data removed]",
      "text/plain": [
       "<Figure size 432x288 with 1 Axes>"
      ]
     },
     "metadata": {
      "needs_background": "light"
     },
     "output_type": "display_data"
    }
   ],
   "source": []
  },
  {
   "cell_type": "markdown",
   "metadata": {
    "colab_type": "text",
    "id": "AtGjH1qrrywS"
   },
   "source": [
    "Let's check the accuracy of our random model, so we can see if our\n",
    "accuracy improves as our loss improves.\n",
    "\n"
   ]
  },
  {
   "cell_type": "code",
   "execution_count": null,
   "metadata": {
    "colab": {},
    "colab_type": "code",
    "id": "mo4B7uxDrywT"
   },
   "outputs": [],
   "source": []
  },
  {
   "cell_type": "markdown",
   "metadata": {
    "colab_type": "text",
    "id": "LaJfLGyjrywX"
   },
   "source": [
    "We can now run a training loop.  For each iteration, we will:\n",
    "\n",
    "- select a mini-batch of data (of size ``bs``)\n",
    "- use the model to make predictions\n",
    "- calculate the loss\n",
    "- ``loss.backward()`` updates the gradients of the model, in this case, ``weights``\n",
    "  and ``bias``.\n",
    "\n",
    "We now use these gradients to update the weights and bias.  We do this\n",
    "within the ``torch.no_grad()`` context manager, because we do not want these\n",
    "actions to be recorded for our next calculation of the gradient.  You can read\n",
    "more about how PyTorch's Autograd records operations\n",
    "`here <https://pytorch.org/docs/stable/notes/autograd.html>`_.\n",
    "\n",
    "We then set the\n",
    "gradients to zero, so that we are ready for the next loop.\n",
    "Otherwise, our gradients would record a running tally of all the operations\n",
    "that had happened (i.e. ``loss.backward()`` *adds* the gradients to whatever is\n",
    "already stored, rather than replacing them).\n",
    "\n",
    ".. tip:: You can use the standard python debugger to step through PyTorch\n",
    "   code, allowing you to check the various variable values at each step.\n",
    "   Uncomment ``set_trace()`` below to try it out.\n",
    "\n",
    "\n"
   ]
  },
  {
   "cell_type": "code",
   "execution_count": 182,
   "metadata": {
    "colab": {},
    "colab_type": "code",
    "id": "Oz8xjyeyrywX"
   },
   "outputs": [],
   "source": [
    "from IPython.core.debugger import set_trace\n",
    "\n",
    "lr = 0.2  # learning rate\n",
    "epochs = 20  # how many epochs to train for\n",
    "\n",
    "for epoch in range(epochs):\n",
    "    for i in range((n - 1) // bs + 1):\n",
    "        #         set_trace()\n",
    "        start_i = i * bs\n",
    "        end_i = start_i + bs\n",
    "        xb = xt_ds[start_i:end_i]\n",
    "        yb = x_train[start_i:end_i]\n",
    "        pred = model(xb)\n",
    "        loss = loss_func(pred, yb)\n",
    "\n",
    "        loss.backward()\n",
    "        with torch.no_grad():\n",
    "            weights -= weights.grad * lr\n",
    "            bias -= bias.grad * lr\n",
    "            weights.grad.zero_()\n",
    "            bias.grad.zero_()"
   ]
  },
  {
   "cell_type": "markdown",
   "metadata": {
    "colab_type": "text",
    "id": "EE71t4fPrywd"
   },
   "source": [
    "That's it: we've created and trained a minimal neural network (in this case, a\n",
    "logistic regression, since we have no hidden layers) entirely from scratch!\n",
    "\n",
    "Let's check the loss and accuracy and compare those to what we got\n",
    "earlier. We expect that the loss will have decreased and accuracy to\n",
    "have increased, and they have.\n",
    "\n"
   ]
  },
  {
   "cell_type": "code",
   "execution_count": 214,
   "metadata": {},
   "outputs": [
    {
     "data": {
      "image/png": "[encoded data removed]",
      "text/plain": [
       "<Figure size 432x288 with 1 Axes>"
      ]
     },
     "metadata": {
      "needs_background": "light"
     },
     "output_type": "display_data"
    }
   ],
   "source": [
    "showTensor(xt_us, 28)"
   ]
  },
  {
   "cell_type": "code",
   "execution_count": 217,
   "metadata": {},
   "outputs": [
    {
     "data": {
      "text/plain": [
       "<matplotlib.image.AxesImage at 0x2c023d7a6c8>"
      ]
     },
     "execution_count": 217,
     "metadata": {},
     "output_type": "execute_result"
    },
    {
     "data": {
      "image/png": "[encoded data removed]",
      "text/plain": [
       "<Figure size 432x288 with 1 Axes>"
      ]
     },
     "metadata": {
      "needs_background": "light"
     },
     "output_type": "display_data"
    }
   ],
   "source": [
    "imshow(model(xt_ds[0]).detach().numpy().reshape((28,28)), cmap='gray')"
   ]
  },
  {
   "cell_type": "code",
   "execution_count": 218,
   "metadata": {},
   "outputs": [
    {
     "name": "stdout",
     "output_type": "stream",
     "text": [
      "tensor(0.)\n",
      "tensor([0.0000, 0.0000, 0.0000, 0.0000, 0.0000, 0.0000, 0.0000, 0.0000, 0.0000,\n",
      "        0.0000, 0.0000, 0.0000, 0.0000, 0.0000, 0.0000, 0.0000, 0.0000, 0.0000,\n",
      "        0.0000, 0.0000, 0.0000, 0.0000, 0.0000, 0.0000, 0.0000, 0.0000, 0.0000,\n",
      "        0.0000, 0.0000, 0.0000, 0.0000, 0.0000, 0.0000, 0.0000, 0.0000, 0.0000,\n",
      "        0.0000, 0.0000, 0.0000, 0.0000, 0.0000, 0.0000, 0.0000, 0.0000, 0.0000,\n",
      "        0.0000, 0.0000, 0.0000, 0.0000, 0.0000, 0.0000, 0.0000, 0.0000, 0.0000,\n",
      "        0.0000, 0.0000, 0.0000, 0.0000, 0.0000, 0.0000, 0.0000, 0.0000, 0.0000,\n",
      "        0.0000, 0.0000, 0.0000, 0.0000, 0.0000, 0.0000, 0.0000, 0.0000, 0.0000,\n",
      "        0.0000, 0.0000, 0.0000, 0.0000, 0.0000, 0.0000, 0.0000, 0.0000, 0.0000,\n",
      "        0.0039, 0.0000, 0.0000, 0.0000, 0.0000, 0.0000, 0.0000, 0.0000, 0.0000,\n",
      "        0.0000, 0.0000, 0.0000, 0.0000, 0.0000, 0.0000, 0.0000, 0.0000, 0.0000,\n",
      "        0.0157, 0.0824, 0.0824, 0.0196, 0.0549, 0.1843, 0.2157, 0.1451, 0.0824,\n",
      "        0.0196, 0.0000, 0.0000, 0.0000, 0.0000, 0.0000, 0.0000, 0.0000, 0.0000,\n",
      "        0.0000, 0.0000, 0.0000, 0.0000, 0.0000, 0.0000, 0.0000, 0.0000, 0.0000,\n",
      "        0.0000, 0.0784, 0.3333, 0.3333, 0.0824, 0.2118, 0.7098, 0.8275, 0.5608,\n",
      "        0.3098, 0.0784, 0.0000, 0.0000, 0.0000, 0.0000, 0.0000, 0.0000, 0.0000,\n",
      "        0.0000, 0.0039, 0.0235, 0.0784, 0.1765, 0.2196, 0.2039, 0.2118, 0.2510,\n",
      "        0.2588, 0.2510, 0.3765, 0.6275, 0.5725, 0.2157, 0.2863, 0.7804, 0.8784,\n",
      "        0.5725, 0.3059, 0.0784, 0.0000, 0.0000, 0.0000, 0.0000, 0.0000, 0.0000,\n",
      "        0.0000, 0.0000, 0.0196, 0.0863, 0.3098, 0.6902, 0.8549, 0.8078, 0.7882,\n",
      "        0.8078, 0.8275, 0.8549, 0.9059, 0.9608, 0.8000, 0.4196, 0.2824, 0.3961,\n",
      "        0.3608, 0.1843, 0.0667, 0.0157, 0.0000, 0.0000, 0.0000, 0.0000, 0.0000,\n",
      "        0.0000, 0.0000, 0.0000, 0.0118, 0.0706, 0.3412, 0.8275, 1.0000, 1.0000,\n",
      "        1.0000, 1.0000, 0.9765, 0.8784, 0.8784, 0.9725, 0.8196, 0.4196, 0.1922,\n",
      "        0.1412, 0.0745, 0.0000, 0.0000, 0.0000, 0.0039, 0.0000, 0.0000, 0.0000,\n",
      "        0.0000, 0.0000, 0.0000, 0.0000, 0.0000, 0.0000, 0.1804, 0.5882, 0.8667,\n",
      "        1.0000, 1.0000, 0.9529, 0.7098, 0.3137, 0.2941, 0.6588, 0.6353, 0.2196,\n",
      "        0.0157, 0.0196, 0.0157, 0.0000, 0.0000, 0.0000, 0.0000, 0.0000, 0.0000,\n",
      "        0.0000, 0.0000, 0.0000, 0.0000, 0.0000, 0.0000, 0.0000, 0.0706, 0.3294,\n",
      "        0.5882, 0.8392, 0.9333, 0.8667, 0.5765, 0.0510, 0.0000, 0.3569, 0.3922,\n",
      "        0.0863, 0.0000, 0.0000, 0.0000, 0.0000, 0.0000, 0.0000, 0.0000, 0.0000,\n",
      "        0.0000, 0.0000, 0.0000, 0.0000, 0.0000, 0.0000, 0.0000, 0.0000, 0.0078,\n",
      "        0.0510, 0.2353, 0.5529, 0.7412, 0.7882, 0.5725, 0.0863, 0.0000, 0.0667,\n",
      "        0.1020, 0.0196, 0.0000, 0.0000, 0.0000, 0.0000, 0.0000, 0.0000, 0.0000,\n",
      "        0.0000, 0.0000, 0.0000, 0.0000, 0.0000, 0.0000, 0.0000, 0.0000, 0.0039,\n",
      "        0.0000, 0.0000, 0.0353, 0.2784, 0.5255, 0.7765, 0.6941, 0.2863, 0.0392,\n",
      "        0.0000, 0.0000, 0.0000, 0.0039, 0.0000, 0.0000, 0.0000, 0.0000, 0.0000,\n",
      "        0.0000, 0.0000, 0.0000, 0.0000, 0.0000, 0.0000, 0.0000, 0.0000, 0.0000,\n",
      "        0.0000, 0.0000, 0.0000, 0.0000, 0.0157, 0.2941, 0.8275, 0.9412, 0.6471,\n",
      "        0.3373, 0.0157, 0.0000, 0.0000, 0.0000, 0.0000, 0.0000, 0.0000, 0.0000,\n",
      "        0.0000, 0.0000, 0.0000, 0.0000, 0.0000, 0.0000, 0.0000, 0.0000, 0.0000,\n",
      "        0.0000, 0.0000, 0.0000, 0.0039, 0.0000, 0.0000, 0.1255, 0.6039, 0.8196,\n",
      "        0.7686, 0.6039, 0.3137, 0.1255, 0.0275, 0.0000, 0.0000, 0.0000, 0.0000,\n",
      "        0.0000, 0.0000, 0.0000, 0.0000, 0.0000, 0.0000, 0.0000, 0.0000, 0.0000,\n",
      "        0.0000, 0.0000, 0.0000, 0.0000, 0.0000, 0.0000, 0.0000, 0.0157, 0.1137,\n",
      "        0.3255, 0.6588, 0.8314, 0.8549, 0.6314, 0.1765, 0.0000, 0.0000, 0.0000,\n",
      "        0.0000, 0.0000, 0.0000, 0.0000, 0.0000, 0.0000, 0.0000, 0.0000, 0.0000,\n",
      "        0.0000, 0.0000, 0.0000, 0.0000, 0.0000, 0.0000, 0.0000, 0.0039, 0.0000,\n",
      "        0.0000, 0.0353, 0.3961, 0.7255, 1.0000, 0.9373, 0.4784, 0.1804, 0.0431,\n",
      "        0.0000, 0.0000, 0.0000, 0.0000, 0.0000, 0.0000, 0.0000, 0.0000, 0.0000,\n",
      "        0.0000, 0.0000, 0.0000, 0.0000, 0.0000, 0.0000, 0.0000, 0.0000, 0.0039,\n",
      "        0.0000, 0.0000, 0.0000, 0.0000, 0.2784, 0.8275, 1.0000, 0.9294, 0.6392,\n",
      "        0.1608, 0.0000, 0.0000, 0.0000, 0.0000, 0.0000, 0.0000, 0.0000, 0.0000,\n",
      "        0.0000, 0.0000, 0.0000, 0.0000, 0.0000, 0.0000, 0.0000, 0.0000, 0.0000,\n",
      "        0.0000, 0.0000, 0.0784, 0.1059, 0.0902, 0.3294, 0.8275, 1.0000, 1.0000,\n",
      "        0.7961, 0.2000, 0.0000, 0.0000, 0.0000, 0.0000, 0.0000, 0.0000, 0.0000,\n",
      "        0.0000, 0.0000, 0.0000, 0.0000, 0.0000, 0.0000, 0.0000, 0.0000, 0.0000,\n",
      "        0.0000, 0.0000, 0.0196, 0.3020, 0.5333, 0.7059, 0.8706, 1.0000, 1.0000,\n",
      "        0.9412, 0.6471, 0.1647, 0.0000, 0.0000, 0.0000, 0.0000, 0.0000, 0.0000,\n",
      "        0.0000, 0.0000, 0.0000, 0.0000, 0.0000, 0.0000, 0.0000, 0.0000, 0.0000,\n",
      "        0.0118, 0.0627, 0.1333, 0.3098, 0.6000, 0.8275, 0.9961, 1.0000, 0.8627,\n",
      "        0.7373, 0.6275, 0.4196, 0.1059, 0.0000, 0.0000, 0.0000, 0.0000, 0.0000,\n",
      "        0.0000, 0.0000, 0.0000, 0.0000, 0.0039, 0.0000, 0.0000, 0.0000, 0.0000,\n",
      "        0.0000, 0.0627, 0.2941, 0.6549, 0.8745, 0.9647, 0.9961, 0.9647, 0.7490,\n",
      "        0.3490, 0.1451, 0.1451, 0.1059, 0.0275, 0.0000, 0.0000, 0.0000, 0.0000,\n",
      "        0.0000, 0.0000, 0.0000, 0.0000, 0.0000, 0.0000, 0.0275, 0.1176, 0.1686,\n",
      "        0.1961, 0.2588, 0.3608, 0.5961, 0.9686, 1.0000, 0.9059, 0.7765, 0.6863,\n",
      "        0.4471, 0.0627, 0.0000, 0.0000, 0.0000, 0.0000, 0.0039, 0.0000, 0.0000,\n",
      "        0.0000, 0.0000, 0.0000, 0.0000, 0.0000, 0.0000, 0.0000, 0.1137, 0.4471,\n",
      "        0.6745, 0.8118, 0.8863, 0.9020, 0.9686, 1.0000, 0.8980, 0.4196, 0.1725,\n",
      "        0.1647, 0.1098, 0.0118, 0.0000, 0.0000, 0.0000, 0.0000, 0.0000, 0.0000,\n",
      "        0.0000, 0.0000, 0.0000, 0.0000, 0.0000, 0.0000, 0.0000, 0.0000, 0.1137,\n",
      "        0.4471, 0.6784, 0.8157, 0.8745, 0.8549, 0.8392, 0.8275, 0.5882, 0.1255,\n",
      "        0.0000, 0.0000, 0.0000, 0.0000, 0.0039, 0.0000, 0.0000, 0.0000, 0.0000,\n",
      "        0.0000, 0.0000, 0.0000, 0.0000, 0.0000, 0.0000, 0.0000, 0.0000, 0.0000,\n",
      "        0.0275, 0.1176, 0.1765, 0.2118, 0.2275, 0.2235, 0.2157, 0.2118, 0.1490,\n",
      "        0.0275, 0.0000, 0.0000, 0.0000, 0.0000, 0.0000, 0.0000, 0.0000, 0.0000,\n",
      "        0.0000, 0.0000, 0.0000, 0.0000, 0.0000, 0.0000, 0.0000, 0.0000, 0.0000,\n",
      "        0.0039, 0.0000, 0.0000, 0.0000, 0.0000, 0.0000, 0.0000, 0.0000, 0.0000,\n",
      "        0.0000, 0.0000, 0.0039, 0.0000, 0.0000, 0.0000, 0.0000, 0.0000, 0.0000,\n",
      "        0.0000, 0.0000, 0.0000, 0.0000, 0.0000, 0.0000, 0.0000, 0.0000, 0.0000,\n",
      "        0.0000, 0.0000, 0.0000, 0.0000, 0.0000, 0.0000, 0.0000, 0.0000, 0.0000,\n",
      "        0.0000, 0.0000, 0.0000, 0.0000, 0.0000, 0.0000, 0.0000, 0.0000, 0.0000,\n",
      "        0.0000, 0.0000, 0.0000, 0.0000, 0.0000, 0.0000, 0.0000, 0.0000, 0.0000,\n",
      "        0.0000, 0.0000, 0.0000, 0.0000, 0.0000, 0.0000, 0.0000, 0.0000, 0.0000,\n",
      "        0.0000, 0.0000, 0.0000, 0.0000, 0.0000, 0.0000, 0.0000, 0.0000, 0.0000,\n",
      "        0.0000, 0.0000, 0.0000, 0.0000, 0.0000, 0.0000, 0.0000, 0.0000, 0.0000,\n",
      "        0.0000])\n"
     ]
    }
   ],
   "source": [
    "print(torch.min(xt_us))\n",
    "print(xt_us[0])"
   ]
  },
  {
   "cell_type": "code",
   "execution_count": 224,
   "metadata": {},
   "outputs": [
    {
     "name": "stdout",
     "output_type": "stream",
     "text": [
      "tensor([0.0000, 0.0000, 0.0000, 0.0000, 0.0000, 0.0000, 0.0000, 0.0000, 0.0000,\n",
      "        0.0000, 0.0000, 0.0000, 0.0000, 0.0000, 0.0000, 0.0000, 0.0000, 0.0000,\n",
      "        0.0000, 0.0000, 0.0000, 0.0000, 0.0000, 0.0000, 0.0000, 0.0000, 0.0000,\n",
      "        0.0000, 0.0000, 0.0000, 0.0000, 0.0000, 0.0000, 0.0000, 0.0000, 0.0000,\n",
      "        0.0000, 0.0000, 0.0000, 0.0000, 0.0000, 0.0000, 0.0000, 0.0000, 0.0000,\n",
      "        0.0000, 0.0000, 0.0000, 0.0000, 0.0000, 0.0000, 0.0000, 0.0000, 0.0000,\n",
      "        0.0000, 0.0000, 0.0000, 0.0000, 0.0000, 0.0000, 0.0000, 0.0000, 0.0000,\n",
      "        0.0000, 0.0000, 0.0000, 0.0000, 0.0000, 0.0000, 0.0000, 0.0000, 0.0000,\n",
      "        0.0000, 0.0000, 0.0000, 0.0000, 0.0000, 0.0000, 0.0000, 0.0000, 0.0000,\n",
      "        0.0000, 0.0000, 0.0000, 0.0000, 0.0000, 0.0000, 0.0000, 0.0000, 0.0000,\n",
      "        0.0000, 0.0000, 0.0000, 0.0000, 0.0000, 0.0000, 0.0000, 0.0000, 0.0000,\n",
      "        0.0000, 0.0000, 0.0000, 0.0000, 0.0000, 0.0000, 0.0000, 0.0000, 0.0000,\n",
      "        0.0000, 0.0000, 0.0000, 0.0000, 0.0000, 0.0000, 0.0000, 0.0000, 0.0000,\n",
      "        0.0000, 0.0000, 0.0000, 0.0000, 0.0000, 0.0000, 0.0000, 0.0000, 0.0000,\n",
      "        0.0000, 0.0000, 0.0000, 0.0000, 0.0000, 0.0000, 0.0000, 0.0000, 0.0000,\n",
      "        0.0000, 0.0000, 0.0000, 0.0000, 0.0000, 0.0000, 0.0000, 0.0000, 0.0000,\n",
      "        0.0000, 0.0000, 0.0000, 0.0000, 0.0000, 0.0000, 0.0000, 0.0000, 0.0000,\n",
      "        0.0000, 0.0000, 0.0000, 0.0000, 0.0000, 0.0000, 0.0000, 0.0000, 0.0000,\n",
      "        0.0000, 0.0000, 0.0000, 0.0000, 0.0000, 0.0000, 0.0000, 0.0000, 0.0000,\n",
      "        0.0000, 0.0000, 0.0000, 0.0000, 0.0000, 0.0000, 0.0000, 0.0000, 0.0430,\n",
      "        0.3203, 0.6211, 0.9922, 0.9922, 0.9570, 0.4688, 0.0312, 0.0000, 0.0000,\n",
      "        0.0000, 0.0000, 0.0000, 0.0000, 0.0000, 0.0000, 0.0000, 0.0000, 0.0000,\n",
      "        0.0000, 0.0000, 0.0000, 0.0000, 0.0000, 0.0000, 0.0000, 0.0000, 0.0469,\n",
      "        0.6719, 0.9883, 0.9922, 0.9883, 0.9883, 0.9883, 0.9883, 0.6055, 0.0234,\n",
      "        0.0000, 0.0000, 0.0000, 0.0000, 0.0000, 0.0000, 0.0000, 0.0000, 0.0000,\n",
      "        0.0000, 0.0000, 0.0000, 0.0000, 0.0000, 0.0000, 0.0000, 0.0000, 0.0195,\n",
      "        0.6836, 0.9883, 0.9883, 0.9922, 0.7188, 0.7539, 0.9883, 0.9883, 0.9883,\n",
      "        0.0859, 0.0000, 0.0000, 0.0000, 0.0000, 0.0000, 0.0000, 0.0000, 0.0000,\n",
      "        0.0000, 0.0000, 0.0000, 0.0000, 0.0000, 0.0000, 0.0000, 0.0000, 0.0312,\n",
      "        0.6914, 0.9883, 0.9883, 0.7617, 0.2305, 0.0156, 0.0156, 0.0781, 0.8086,\n",
      "        0.9883, 0.1211, 0.0000, 0.0000, 0.0000, 0.0000, 0.0000, 0.0000, 0.0000,\n",
      "        0.0000, 0.0000, 0.0000, 0.0000, 0.0000, 0.0000, 0.0000, 0.0000, 0.0000,\n",
      "        0.4414, 0.9883, 0.9883, 0.6953, 0.1953, 0.0000, 0.0000, 0.0000, 0.1523,\n",
      "        0.8711, 0.9883, 0.5117, 0.0000, 0.0000, 0.0000, 0.0000, 0.0000, 0.0000,\n",
      "        0.0000, 0.0000, 0.0000, 0.0000, 0.0000, 0.0000, 0.0000, 0.0000, 0.0000,\n",
      "        0.3242, 0.9453, 0.9883, 0.9297, 0.1680, 0.0000, 0.0000, 0.0000, 0.0000,\n",
      "        0.6680, 0.9883, 0.9883, 0.1758, 0.0000, 0.0000, 0.0000, 0.0000, 0.0000,\n",
      "        0.0000, 0.0000, 0.0000, 0.0000, 0.0000, 0.0000, 0.0000, 0.0000, 0.0000,\n",
      "        0.0430, 0.8125, 0.9883, 0.9688, 0.2383, 0.0000, 0.0000, 0.0000, 0.0117,\n",
      "        0.7617, 0.9883, 0.9883, 0.9883, 0.0859, 0.0000, 0.0000, 0.0000, 0.0000,\n",
      "        0.0000, 0.0000, 0.0000, 0.0000, 0.0000, 0.0000, 0.0000, 0.0000, 0.0000,\n",
      "        0.0000, 0.3516, 0.9883, 0.9883, 0.6836, 0.0000, 0.0000, 0.0000, 0.0234,\n",
      "        0.5742, 0.9883, 0.9883, 0.9883, 0.9883, 0.0859, 0.0000, 0.0000, 0.0000,\n",
      "        0.0000, 0.0000, 0.0000, 0.0000, 0.0000, 0.0000, 0.0000, 0.0000, 0.0000,\n",
      "        0.0000, 0.0000, 0.8398, 0.9883, 0.9883, 0.1953, 0.0000, 0.0000, 0.0000,\n",
      "        0.3984, 0.9883, 0.9883, 0.8594, 0.9883, 0.9883, 0.0859, 0.0000, 0.0000,\n",
      "        0.0000, 0.0000, 0.0000, 0.0000, 0.0000, 0.0000, 0.0000, 0.0000, 0.0000,\n",
      "        0.0000, 0.0000, 0.0000, 0.9492, 0.9883, 0.9883, 0.0859, 0.0000, 0.1328,\n",
      "        0.6211, 0.9922, 0.9883, 0.4648, 0.5234, 0.9883, 0.9883, 0.0859, 0.0000,\n",
      "        0.0000, 0.0000, 0.0000, 0.0000, 0.0000, 0.0000, 0.0000, 0.0000, 0.0000,\n",
      "        0.0000, 0.0000, 0.0000, 0.0000, 0.9531, 0.9922, 0.8438, 0.3555, 0.2812,\n",
      "        0.9922, 0.9922, 0.9805, 0.7500, 0.0742, 0.7656, 0.9961, 0.9922, 0.0859,\n",
      "        0.0000, 0.0000, 0.0000, 0.0000, 0.0000, 0.0000, 0.0000, 0.0000, 0.0000,\n",
      "        0.0000, 0.0000, 0.0000, 0.0000, 0.0000, 0.5352, 0.9883, 0.9883, 0.9883,\n",
      "        0.9883, 0.9883, 0.9883, 0.6367, 0.0000, 0.0000, 0.9492, 0.9883, 0.9883,\n",
      "        0.0859, 0.0000, 0.0000, 0.0000, 0.0000, 0.0000, 0.0000, 0.0000, 0.0000,\n",
      "        0.0000, 0.0000, 0.0000, 0.0000, 0.0000, 0.0000, 0.0156, 0.7070, 0.9883,\n",
      "        0.9883, 0.9883, 0.6992, 0.4141, 0.0000, 0.0000, 0.1562, 0.9648, 0.9883,\n",
      "        0.7031, 0.0156, 0.0000, 0.0000, 0.0000, 0.0000, 0.0000, 0.0000, 0.0000,\n",
      "        0.0000, 0.0000, 0.0000, 0.0000, 0.0000, 0.0000, 0.0000, 0.0000, 0.0273,\n",
      "        0.0391, 0.0391, 0.0391, 0.0117, 0.0000, 0.0000, 0.0000, 0.3906, 0.9883,\n",
      "        0.9883, 0.6055, 0.0000, 0.0000, 0.0000, 0.0000, 0.0000, 0.0000, 0.0000,\n",
      "        0.0000, 0.0000, 0.0000, 0.0000, 0.0000, 0.0000, 0.0000, 0.0000, 0.0000,\n",
      "        0.0000, 0.0000, 0.0000, 0.0000, 0.0000, 0.0000, 0.0000, 0.0000, 0.4844,\n",
      "        0.9883, 0.9883, 0.2148, 0.0000, 0.0000, 0.0000, 0.0000, 0.0000, 0.0000,\n",
      "        0.0000, 0.0000, 0.0000, 0.0000, 0.0000, 0.0000, 0.0000, 0.0000, 0.0000,\n",
      "        0.0000, 0.0000, 0.0000, 0.0000, 0.0000, 0.0000, 0.0000, 0.0000, 0.0000,\n",
      "        0.8203, 0.9883, 0.8203, 0.0469, 0.0000, 0.0000, 0.0000, 0.0000, 0.0000,\n",
      "        0.0000, 0.0000, 0.0000, 0.0000, 0.0000, 0.0000, 0.0000, 0.0000, 0.0000,\n",
      "        0.0000, 0.0000, 0.0000, 0.0000, 0.0000, 0.0000, 0.0000, 0.0000, 0.0000,\n",
      "        0.0000, 0.8203, 0.9883, 0.7812, 0.1953, 0.0781, 0.0000, 0.0000, 0.0000,\n",
      "        0.0000, 0.0000, 0.0000, 0.0000, 0.0000, 0.0000, 0.0000, 0.0000, 0.0000,\n",
      "        0.0000, 0.0000, 0.0000, 0.0000, 0.0000, 0.0000, 0.0000, 0.0000, 0.0000,\n",
      "        0.0000, 0.0000, 0.8203, 0.9883, 0.9883, 0.9883, 0.8711, 0.0000, 0.0000,\n",
      "        0.0000, 0.0000, 0.0000, 0.0000, 0.0000, 0.0000, 0.0000, 0.0000, 0.0000,\n",
      "        0.0000, 0.0000, 0.0000, 0.0000, 0.0000, 0.0000, 0.0000, 0.0000, 0.0000,\n",
      "        0.0000, 0.0000, 0.0000, 0.8203, 0.9883, 0.9883, 0.9883, 0.1953, 0.0000,\n",
      "        0.0000, 0.0000, 0.0000, 0.0000, 0.0000, 0.0000, 0.0000, 0.0000, 0.0000,\n",
      "        0.0000, 0.0000, 0.0000, 0.0000, 0.0000, 0.0000, 0.0000, 0.0000, 0.0000,\n",
      "        0.0000, 0.0000, 0.0000, 0.0000, 0.2773, 0.9727, 0.8945, 0.4102, 0.0117,\n",
      "        0.0000, 0.0000, 0.0000, 0.0000, 0.0000, 0.0000, 0.0000, 0.0000, 0.0000,\n",
      "        0.0000, 0.0000, 0.0000, 0.0000, 0.0000, 0.0000, 0.0000, 0.0000, 0.0000,\n",
      "        0.0000, 0.0000, 0.0000, 0.0000, 0.0000, 0.0000, 0.0000, 0.0000, 0.0000,\n",
      "        0.0000, 0.0000, 0.0000, 0.0000, 0.0000, 0.0000, 0.0000, 0.0000, 0.0000,\n",
      "        0.0000, 0.0000, 0.0000, 0.0000, 0.0000, 0.0000, 0.0000, 0.0000, 0.0000,\n",
      "        0.0000, 0.0000, 0.0000, 0.0000, 0.0000, 0.0000, 0.0000, 0.0000, 0.0000,\n",
      "        0.0000, 0.0000, 0.0000, 0.0000, 0.0000, 0.0000, 0.0000, 0.0000, 0.0000,\n",
      "        0.0000])\n"
     ]
    }
   ],
   "source": [
    "print(yb[0])"
   ]
  },
  {
   "cell_type": "code",
   "execution_count": 226,
   "metadata": {
    "colab": {},
    "colab_type": "code",
    "id": "0zmzgf9wrywe"
   },
   "outputs": [
    {
     "name": "stdout",
     "output_type": "stream",
     "text": [
      "tensor(0.1286, grad_fn=<BinaryCrossEntropyBackward>)\n",
      "tensor(0.1456)\n"
     ]
    }
   ],
   "source": [
    "print(loss_func(model(xb), yb))\n",
    "print(loss_func(xt_us, x_train))\n"
   ]
  },
  {
   "cell_type": "markdown",
   "metadata": {
    "colab_type": "text",
    "id": "sLvjHRFNrywi"
   },
   "source": [
    "Using torch.nn.functional\n",
    "------------------------------\n",
    "\n",
    "We will now refactor our code, so that it does the same thing as before, only\n",
    "we'll start taking advantage of PyTorch's ``nn`` classes to make it more concise\n",
    "and flexible. At each step from here, we should be making our code one or more\n",
    "of: shorter, more understandable, and/or more flexible.\n",
    "\n",
    "The first and easiest step is to make our code shorter by replacing our\n",
    "hand-written activation and loss functions with those from ``torch.nn.functional``\n",
    "(which is generally imported into the namespace ``F`` by convention). This module\n",
    "contains all the functions in the ``torch.nn`` library (whereas other parts of the\n",
    "library contain classes). As well as a wide range of loss and activation\n",
    "functions, you'll also find here some convenient functions for creating neural\n",
    "nets, such as pooling functions. (There are also functions for doing convolutions,\n",
    "linear layers, etc, but as we'll see, these are usually better handled using\n",
    "other parts of the library.)\n",
    "\n",
    "If you're using negative log likelihood loss and log softmax activation,\n",
    "then Pytorch provides a single function ``F.cross_entropy`` that combines\n",
    "the two. So we can even remove the activation function from our model.\n",
    "\n"
   ]
  },
  {
   "cell_type": "code",
   "execution_count": 220,
   "metadata": {
    "colab": {},
    "colab_type": "code",
    "id": "yD0kluFYrywi"
   },
   "outputs": [],
   "source": [
    "import torch.nn.functional as F\n",
    "\n",
    "loss_func = F.binary_cross_entropy\n",
    "\n",
    "def model(xb):\n",
    "    return xb @ weights + bias"
   ]
  },
  {
   "cell_type": "code",
   "execution_count": 221,
   "metadata": {},
   "outputs": [
    {
     "name": "stdout",
     "output_type": "stream",
     "text": [
      "tensor(-0.5882, grad_fn=<MinBackward1>)\n"
     ]
    }
   ],
   "source": [
    "print(torch.min(model(xb)))"
   ]
  },
  {
   "cell_type": "markdown",
   "metadata": {
    "colab_type": "text",
    "id": "9S2ZpYc-rywm"
   },
   "source": [
    "Note that we no longer call ``log_softmax`` in the ``model`` function. Let's\n",
    "confirm that our loss and accuracy are the same as before:\n",
    "\n"
   ]
  },
  {
   "cell_type": "code",
   "execution_count": 222,
   "metadata": {
    "colab": {},
    "colab_type": "code",
    "id": "_aVx15AYrywn"
   },
   "outputs": [
    {
     "ename": "RuntimeError",
     "evalue": "Assertion `x >= 0. && x <= 1.' failed. input value should be between 0~1, but got -0.024270 at C:\\w\\1\\s\\tmp_conda_3.7_100118\\conda\\conda-bld\\pytorch_1579082551706\\work\\aten\\src\\THNN/generic/BCECriterion.c:62",
     "output_type": "error",
     "traceback": [
      "\u001b[1;31m---------------------------------------------------------------------------\u001b[0m",
      "\u001b[1;31mRuntimeError\u001b[0m                              Traceback (most recent call last)",
      "\u001b[1;32m<ipython-input-222-963e8354dd37>\u001b[0m in \u001b[0;36m<module>\u001b[1;34m\u001b[0m\n\u001b[1;32m----> 1\u001b[1;33m \u001b[0mloss_func\u001b[0m\u001b[1;33m(\u001b[0m\u001b[0mmodel\u001b[0m\u001b[1;33m(\u001b[0m\u001b[0mxb\u001b[0m\u001b[1;33m)\u001b[0m\u001b[1;33m,\u001b[0m \u001b[0myb\u001b[0m\u001b[1;33m)\u001b[0m\u001b[1;33m\u001b[0m\u001b[1;33m\u001b[0m\u001b[0m\n\u001b[0m",
      "\u001b[1;32m~\\anaconda3\\envs\\fastai\\lib\\site-packages\\torch\\nn\\functional.py\u001b[0m in \u001b[0;36mbinary_cross_entropy\u001b[1;34m(input, target, weight, size_average, reduce, reduction)\u001b[0m\n\u001b[0;32m   2075\u001b[0m \u001b[1;33m\u001b[0m\u001b[0m\n\u001b[0;32m   2076\u001b[0m     return torch._C._nn.binary_cross_entropy(\n\u001b[1;32m-> 2077\u001b[1;33m         input, target, weight, reduction_enum)\n\u001b[0m\u001b[0;32m   2078\u001b[0m \u001b[1;33m\u001b[0m\u001b[0m\n\u001b[0;32m   2079\u001b[0m \u001b[1;33m\u001b[0m\u001b[0m\n",
      "\u001b[1;31mRuntimeError\u001b[0m: Assertion `x >= 0. && x <= 1.' failed. input value should be between 0~1, but got -0.024270 at C:\\w\\1\\s\\tmp_conda_3.7_100118\\conda\\conda-bld\\pytorch_1579082551706\\work\\aten\\src\\THNN/generic/BCECriterion.c:62"
     ]
    }
   ],
   "source": [
    "loss_func(model(xb), yb)\n"
   ]
  },
  {
   "cell_type": "markdown",
   "metadata": {
    "colab_type": "text",
    "id": "ZO0YyyJWrywq"
   },
   "source": [
    "Refactor using nn.Module\n",
    "-----------------------------\n",
    "Next up, we'll use ``nn.Module`` and ``nn.Parameter``, for a clearer and more\n",
    "concise training loop. We subclass ``nn.Module`` (which itself is a class and\n",
    "able to keep track of state).  In this case, we want to create a class that\n",
    "holds our weights, bias, and method for the forward step.  ``nn.Module`` has a\n",
    "number of attributes and methods (such as ``.parameters()`` and ``.zero_grad()``)\n",
    "which we will be using.\n",
    "\n",
    "<div class=\"alert alert-info\"><h4>Note</h4><p>``nn.Module`` (uppercase M) is a PyTorch specific concept, and is a\n",
    "   class we'll be using a lot. ``nn.Module`` is not to be confused with the Python\n",
    "   concept of a (lowercase ``m``) `module <https://docs.python.org/3/tutorial/modules.html>`_,\n",
    "   which is a file of Python code that can be imported.</p></div>\n",
    "\n"
   ]
  },
  {
   "cell_type": "code",
   "execution_count": null,
   "metadata": {
    "colab": {},
    "colab_type": "code",
    "id": "6P4-eB9arywq"
   },
   "outputs": [],
   "source": [
    "from torch import nn\n",
    "\n",
    "class Mnist_Logistic(nn.Module):\n",
    "    def __init__(self):\n",
    "        super().__init__()\n",
    "        self.weights = nn.Parameter(torch.randn(784, 10) / math.sqrt(784))\n",
    "        self.bias = nn.Parameter(torch.zeros(10))\n",
    "\n",
    "    def forward(self, xb):\n",
    "        return xb @ self.weights + self.bias"
   ]
  },
  {
   "cell_type": "markdown",
   "metadata": {
    "colab_type": "text",
    "id": "7XTWSNwtryww"
   },
   "source": [
    "Since we're now using an object instead of just using a function, we\n",
    "first have to instantiate our model:\n",
    "\n"
   ]
  },
  {
   "cell_type": "code",
   "execution_count": null,
   "metadata": {
    "colab": {},
    "colab_type": "code",
    "id": "fXEIkDHqrywy"
   },
   "outputs": [],
   "source": [
    "model = Mnist_Logistic()"
   ]
  },
  {
   "cell_type": "markdown",
   "metadata": {
    "colab_type": "text",
    "id": "pStDDMckryw0"
   },
   "source": [
    "Now we can calculate the loss in the same way as before. Note that\n",
    "``nn.Module`` objects are used as if they are functions (i.e they are\n",
    "*callable*), but behind the scenes Pytorch will call our ``forward``\n",
    "method automatically.\n",
    "\n"
   ]
  },
  {
   "cell_type": "code",
   "execution_count": null,
   "metadata": {
    "colab": {},
    "colab_type": "code",
    "id": "uzlCRR4Oryw1"
   },
   "outputs": [],
   "source": [
    "print(loss_func(model(xb), yb))"
   ]
  },
  {
   "cell_type": "markdown",
   "metadata": {
    "colab_type": "text",
    "id": "8ncGx1KOryw4"
   },
   "source": [
    "Previously for our training loop we had to update the values for each parameter\n",
    "by name, and manually zero out the grads for each parameter separately, like this:\n",
    "::\n",
    "  with torch.no_grad():\n",
    "      weights -= weights.grad * lr\n",
    "      bias -= bias.grad * lr\n",
    "      weights.grad.zero_()\n",
    "      bias.grad.zero_()\n",
    "\n",
    "\n",
    "Now we can take advantage of model.parameters() and model.zero_grad() (which\n",
    "are both defined by PyTorch for ``nn.Module``) to make those steps more concise\n",
    "and less prone to the error of forgetting some of our parameters, particularly\n",
    "if we had a more complicated model:\n",
    "::\n",
    "  with torch.no_grad():\n",
    "      for p in model.parameters(): p -= p.grad * lr\n",
    "      model.zero_grad()\n",
    "\n",
    "\n",
    "We'll wrap our little training loop in a ``fit`` function so we can run it\n",
    "again later.\n",
    "\n"
   ]
  },
  {
   "cell_type": "code",
   "execution_count": null,
   "metadata": {
    "colab": {},
    "colab_type": "code",
    "id": "Wp2a3kU-ryw5"
   },
   "outputs": [],
   "source": [
    "def fit():\n",
    "    for epoch in range(epochs):\n",
    "        for i in range((n - 1) // bs + 1):\n",
    "            start_i = i * bs\n",
    "            end_i = start_i + bs\n",
    "            xb = x_train[start_i:end_i]\n",
    "            yb = y_train[start_i:end_i]\n",
    "            pred = model(xb)\n",
    "            loss = loss_func(pred, yb)\n",
    "\n",
    "            loss.backward()\n",
    "            with torch.no_grad():\n",
    "                for p in model.parameters():\n",
    "                    p -= p.grad * lr\n",
    "                model.zero_grad()\n",
    "\n",
    "fit()"
   ]
  },
  {
   "cell_type": "markdown",
   "metadata": {
    "colab_type": "text",
    "id": "RMucwk_Kryw9"
   },
   "source": [
    "Let's double-check that our loss has gone down:\n",
    "\n"
   ]
  },
  {
   "cell_type": "code",
   "execution_count": null,
   "metadata": {
    "colab": {},
    "colab_type": "code",
    "id": "dGvSWdEpryxA"
   },
   "outputs": [],
   "source": [
    "print(loss_func(model(xb), yb))"
   ]
  },
  {
   "cell_type": "markdown",
   "metadata": {
    "colab_type": "text",
    "id": "e9fOqVvNryxE"
   },
   "source": [
    "Refactor using nn.Linear\n",
    "-------------------------\n",
    "\n",
    "We continue to refactor our code.  Instead of manually defining and\n",
    "initializing ``self.weights`` and ``self.bias``, and calculating ``xb  @\n",
    "self.weights + self.bias``, we will instead use the Pytorch class\n",
    "`nn.Linear <https://pytorch.org/docs/stable/nn.html#linear-layers>`_ for a\n",
    "linear layer, which does all that for us. Pytorch has many types of\n",
    "predefined layers that can greatly simplify our code, and often makes it\n",
    "faster too.\n",
    "\n"
   ]
  },
  {
   "cell_type": "code",
   "execution_count": null,
   "metadata": {
    "colab": {},
    "colab_type": "code",
    "id": "TH0xxYm2ryxF"
   },
   "outputs": [],
   "source": [
    "class Mnist_Logistic(nn.Module):\n",
    "    def __init__(self):\n",
    "        super().__init__()\n",
    "        self.lin = nn.Linear(784, 10)\n",
    "\n",
    "    def forward(self, xb):\n",
    "        return self.lin(xb)"
   ]
  },
  {
   "cell_type": "markdown",
   "metadata": {
    "colab_type": "text",
    "id": "AIUqZuKKryxJ"
   },
   "source": [
    "We instantiate our model and calculate the loss in the same way as before:\n",
    "\n"
   ]
  },
  {
   "cell_type": "code",
   "execution_count": null,
   "metadata": {
    "colab": {},
    "colab_type": "code",
    "id": "1fShvHQIryxJ"
   },
   "outputs": [],
   "source": [
    "model = Mnist_Logistic()\n",
    "print(loss_func(model(xb), yb))"
   ]
  },
  {
   "cell_type": "markdown",
   "metadata": {
    "colab_type": "text",
    "id": "wZu5_JudryxM"
   },
   "source": [
    "We are still able to use our same ``fit`` method as before.\n",
    "\n"
   ]
  },
  {
   "cell_type": "code",
   "execution_count": null,
   "metadata": {
    "colab": {},
    "colab_type": "code",
    "id": "4mBqeknJryxM"
   },
   "outputs": [],
   "source": [
    "fit()\n",
    "\n",
    "print(loss_func(model(xb), yb))"
   ]
  },
  {
   "cell_type": "markdown",
   "metadata": {
    "colab_type": "text",
    "id": "M0YPzJfLryxR"
   },
   "source": [
    "Refactor using optim\n",
    "------------------------------\n",
    "\n",
    "Pytorch also has a package with various optimization algorithms, ``torch.optim``.\n",
    "We can use the ``step`` method from our optimizer to take a forward step, instead\n",
    "of manually updating each parameter.\n",
    "\n",
    "This will let us replace our previous manually coded optimization step:\n",
    "::\n",
    "  with torch.no_grad():\n",
    "      for p in model.parameters(): p -= p.grad * lr\n",
    "      model.zero_grad()\n",
    "\n",
    "and instead use just:\n",
    "::\n",
    "  opt.step()\n",
    "  opt.zero_grad()\n",
    "\n",
    "(``optim.zero_grad()`` resets the gradient to 0 and we need to call it before\n",
    "computing the gradient for the next minibatch.)\n",
    "\n"
   ]
  },
  {
   "cell_type": "code",
   "execution_count": null,
   "metadata": {
    "colab": {},
    "colab_type": "code",
    "id": "AYpxP7WtryxS"
   },
   "outputs": [],
   "source": [
    "from torch import optim"
   ]
  },
  {
   "cell_type": "markdown",
   "metadata": {
    "colab_type": "text",
    "id": "wXpp6IvaryxV"
   },
   "source": [
    "We'll define a little function to create our model and optimizer so we\n",
    "can reuse it in the future.\n",
    "\n"
   ]
  },
  {
   "cell_type": "code",
   "execution_count": null,
   "metadata": {
    "colab": {},
    "colab_type": "code",
    "id": "1wkfRciZryxW"
   },
   "outputs": [],
   "source": [
    "def get_model():\n",
    "    model = Mnist_Logistic()\n",
    "    return model, optim.SGD(model.parameters(), lr=lr)\n",
    "\n",
    "model, opt = get_model()\n",
    "print(loss_func(model(xb), yb))\n",
    "\n",
    "for epoch in range(epochs):\n",
    "    for i in range((n - 1) // bs + 1):\n",
    "        start_i = i * bs\n",
    "        end_i = start_i + bs\n",
    "        xb = x_train[start_i:end_i]\n",
    "        yb = y_train[start_i:end_i]\n",
    "        pred = model(xb)\n",
    "        loss = loss_func(pred, yb)\n",
    "\n",
    "        loss.backward()\n",
    "        opt.step()\n",
    "        opt.zero_grad()\n",
    "\n",
    "print(loss_func(model(xb), yb))"
   ]
  },
  {
   "cell_type": "markdown",
   "metadata": {
    "colab_type": "text",
    "id": "BCtYLuLNryxZ"
   },
   "source": [
    "Refactor using Dataset\n",
    "------------------------------\n",
    "\n",
    "PyTorch has an abstract Dataset class.  A Dataset can be anything that has\n",
    "a ``__len__`` function (called by Python's standard ``len`` function) and\n",
    "a ``__getitem__`` function as a way of indexing into it.\n",
    "`This tutorial <https://pytorch.org/tutorials/beginner/data_loading_tutorial.html>`_\n",
    "walks through a nice example of creating a custom ``FacialLandmarkDataset`` class\n",
    "as a subclass of ``Dataset``.\n",
    "\n",
    "PyTorch's `TensorDataset <https://pytorch.org/docs/stable/_modules/torch/utils/data/dataset.html#TensorDataset>`_\n",
    "is a Dataset wrapping tensors. By defining a length and way of indexing,\n",
    "this also gives us a way to iterate, index, and slice along the first\n",
    "dimension of a tensor. This will make it easier to access both the\n",
    "independent and dependent variables in the same line as we train.\n",
    "\n"
   ]
  },
  {
   "cell_type": "code",
   "execution_count": null,
   "metadata": {
    "colab": {},
    "colab_type": "code",
    "id": "JSonohrqryxZ"
   },
   "outputs": [],
   "source": [
    "from torch.utils.data import TensorDataset"
   ]
  },
  {
   "cell_type": "markdown",
   "metadata": {
    "colab_type": "text",
    "id": "7XeoIYKWryxb"
   },
   "source": [
    "Both ``x_train`` and ``y_train`` can be combined in a single ``TensorDataset``,\n",
    "which will be easier to iterate over and slice.\n",
    "\n"
   ]
  },
  {
   "cell_type": "code",
   "execution_count": null,
   "metadata": {
    "colab": {},
    "colab_type": "code",
    "id": "rzOHXzsDryxc"
   },
   "outputs": [],
   "source": [
    "train_ds = TensorDataset(x_train, y_train)"
   ]
  },
  {
   "cell_type": "markdown",
   "metadata": {
    "colab_type": "text",
    "id": "4-AuEq9mryxg"
   },
   "source": [
    "Previously, we had to iterate through minibatches of x and y values separately:\n",
    "::\n",
    "    xb = x_train[start_i:end_i]\n",
    "    yb = y_train[start_i:end_i]\n",
    "\n",
    "\n",
    "Now, we can do these two steps together:\n",
    "::\n",
    "    xb,yb = train_ds[i*bs : i*bs+bs]\n",
    "\n",
    "\n"
   ]
  },
  {
   "cell_type": "code",
   "execution_count": null,
   "metadata": {
    "colab": {},
    "colab_type": "code",
    "id": "uzg-Sv4Yryxh"
   },
   "outputs": [],
   "source": [
    "model, opt = get_model()\n",
    "\n",
    "for epoch in range(epochs):\n",
    "    for i in range((n - 1) // bs + 1):\n",
    "        xb, yb = train_ds[i * bs: i * bs + bs]\n",
    "        pred = model(xb)\n",
    "        loss = loss_func(pred, yb)\n",
    "\n",
    "        loss.backward()\n",
    "        opt.step()\n",
    "        opt.zero_grad()\n",
    "\n",
    "print(loss_func(model(xb), yb))"
   ]
  },
  {
   "cell_type": "markdown",
   "metadata": {
    "colab_type": "text",
    "id": "jXDC6amFryxm"
   },
   "source": [
    "Refactor using DataLoader\n",
    "------------------------------\n",
    "\n",
    "Pytorch's ``DataLoader`` is responsible for managing batches. You can\n",
    "create a ``DataLoader`` from any ``Dataset``. ``DataLoader`` makes it easier\n",
    "to iterate over batches. Rather than having to use ``train_ds[i*bs : i*bs+bs]``,\n",
    "the DataLoader gives us each minibatch automatically.\n",
    "\n"
   ]
  },
  {
   "cell_type": "code",
   "execution_count": null,
   "metadata": {
    "colab": {},
    "colab_type": "code",
    "id": "5LCSeTC8ryxm"
   },
   "outputs": [],
   "source": [
    "from torch.utils.data import DataLoader\n",
    "\n",
    "train_ds = TensorDataset(x_train, y_train)\n",
    "train_dl = DataLoader(train_ds, batch_size=bs)"
   ]
  },
  {
   "cell_type": "markdown",
   "metadata": {
    "colab_type": "text",
    "id": "Vj2ocHU6ryx2"
   },
   "source": [
    "Previously, our loop iterated over batches (xb, yb) like this:\n",
    "::\n",
    "      for i in range((n-1)//bs + 1):\n",
    "          xb,yb = train_ds[i*bs : i*bs+bs]\n",
    "          pred = model(xb)\n",
    "\n",
    "Now, our loop is much cleaner, as (xb, yb) are loaded automatically from the data loader:\n",
    "::\n",
    "      for xb,yb in train_dl:\n",
    "          pred = model(xb)\n",
    "\n"
   ]
  },
  {
   "cell_type": "code",
   "execution_count": null,
   "metadata": {
    "colab": {},
    "colab_type": "code",
    "id": "erM6CQPnryx3"
   },
   "outputs": [],
   "source": [
    "model, opt = get_model()\n",
    "\n",
    "for epoch in range(epochs):\n",
    "    for xb, yb in train_dl:\n",
    "        pred = model(xb)\n",
    "        loss = loss_func(pred, yb)\n",
    "\n",
    "        loss.backward()\n",
    "        opt.step()\n",
    "        opt.zero_grad()\n",
    "\n",
    "print(loss_func(model(xb), yb))"
   ]
  },
  {
   "cell_type": "markdown",
   "metadata": {
    "colab_type": "text",
    "id": "zRFhBk_Cryx4"
   },
   "source": [
    "Thanks to Pytorch's ``nn.Module``, ``nn.Parameter``, ``Dataset``, and ``DataLoader``,\n",
    "our training loop is now dramatically smaller and easier to understand. Let's\n",
    "now try to add the basic features necessary to create effecive models in practice.\n",
    "\n",
    "Add validation\n",
    "-----------------------\n",
    "\n",
    "In section 1, we were just trying to get a reasonable training loop set up for\n",
    "use on our training data.  In reality, you **always** should also have\n",
    "a `validation set <https://www.fast.ai/2017/11/13/validation-sets/>`_, in order\n",
    "to identify if you are overfitting.\n",
    "\n",
    "Shuffling the training data is\n",
    "`important <https://www.quora.com/Does-the-order-of-training-data-matter-when-training-neural-networks>`_\n",
    "to prevent correlation between batches and overfitting. On the other hand, the\n",
    "validation loss will be identical whether we shuffle the validation set or not.\n",
    "Since shuffling takes extra time, it makes no sense to shuffle the validation data.\n",
    "\n",
    "We'll use a batch size for the validation set that is twice as large as\n",
    "that for the training set. This is because the validation set does not\n",
    "need backpropagation and thus takes less memory (it doesn't need to\n",
    "store the gradients). We take advantage of this to use a larger batch\n",
    "size and compute the loss more quickly.\n",
    "\n"
   ]
  },
  {
   "cell_type": "code",
   "execution_count": null,
   "metadata": {
    "colab": {},
    "colab_type": "code",
    "id": "4qkotC3cryx5"
   },
   "outputs": [],
   "source": [
    "train_ds = TensorDataset(x_train, y_train)\n",
    "train_dl = DataLoader(train_ds, batch_size=bs, shuffle=True)\n",
    "\n",
    "valid_ds = TensorDataset(x_valid, y_valid)\n",
    "valid_dl = DataLoader(valid_ds, batch_size=bs * 2)"
   ]
  },
  {
   "cell_type": "markdown",
   "metadata": {
    "colab_type": "text",
    "id": "uCRYjVQHryx6"
   },
   "source": [
    "We will calculate and print the validation loss at the end of each epoch.\n",
    "\n",
    "(Note that we always call ``model.train()`` before training, and ``model.eval()``\n",
    "before inference, because these are used by layers such as ``nn.BatchNorm2d``\n",
    "and ``nn.Dropout`` to ensure appropriate behaviour for these different phases.)\n",
    "\n"
   ]
  },
  {
   "cell_type": "code",
   "execution_count": null,
   "metadata": {
    "colab": {},
    "colab_type": "code",
    "id": "E8aB8mzEryx6"
   },
   "outputs": [],
   "source": [
    "model, opt = get_model()\n",
    "\n",
    "for epoch in range(epochs):\n",
    "    model.train()\n",
    "    for xb, yb in train_dl:\n",
    "        pred = model(xb)\n",
    "        loss = loss_func(pred, yb)\n",
    "\n",
    "        loss.backward()\n",
    "        opt.step()\n",
    "        opt.zero_grad()\n",
    "\n",
    "    model.eval()\n",
    "    with torch.no_grad():\n",
    "        valid_loss = sum(loss_func(model(xb), yb) for xb, yb in valid_dl)\n",
    "\n",
    "    print(epoch, valid_loss / len(valid_dl))"
   ]
  },
  {
   "cell_type": "markdown",
   "metadata": {
    "colab_type": "text",
    "id": "baVc72zeryx8"
   },
   "source": [
    "Create fit() and get_data()\n",
    "----------------------------------\n",
    "\n",
    "We'll now do a little refactoring of our own. Since we go through a similar\n",
    "process twice of calculating the loss for both the training set and the\n",
    "validation set, let's make that into its own function, ``loss_batch``, which\n",
    "computes the loss for one batch.\n",
    "\n",
    "We pass an optimizer in for the training set, and use it to perform\n",
    "backprop.  For the validation set, we don't pass an optimizer, so the\n",
    "method doesn't perform backprop.\n",
    "\n"
   ]
  },
  {
   "cell_type": "code",
   "execution_count": null,
   "metadata": {
    "colab": {},
    "colab_type": "code",
    "id": "gnC4QnJvryx9"
   },
   "outputs": [],
   "source": [
    "def loss_batch(model, loss_func, xb, yb, opt=None):\n",
    "    loss = loss_func(model(xb), yb)\n",
    "\n",
    "    if opt is not None:\n",
    "        loss.backward()\n",
    "        opt.step()\n",
    "        opt.zero_grad()\n",
    "\n",
    "    return loss.item(), len(xb)"
   ]
  },
  {
   "cell_type": "markdown",
   "metadata": {
    "colab_type": "text",
    "id": "xUelO-cOryx_"
   },
   "source": [
    "``fit`` runs the necessary operations to train our model and compute the\n",
    "training and validation losses for each epoch.\n",
    "\n"
   ]
  },
  {
   "cell_type": "code",
   "execution_count": null,
   "metadata": {
    "colab": {},
    "colab_type": "code",
    "id": "dmz91ViuryyA"
   },
   "outputs": [],
   "source": [
    "import numpy as np\n",
    "\n",
    "def fit(epochs, model, loss_func, opt, train_dl, valid_dl):\n",
    "    for epoch in range(epochs):\n",
    "        model.train()\n",
    "        for xb, yb in train_dl:\n",
    "            loss_batch(model, loss_func, xb, yb, opt)\n",
    "\n",
    "        model.eval()\n",
    "        with torch.no_grad():\n",
    "            losses, nums = zip(\n",
    "                *[loss_batch(model, loss_func, xb, yb) for xb, yb in valid_dl]\n",
    "            )\n",
    "        val_loss = np.sum(np.multiply(losses, nums)) / np.sum(nums)\n",
    "\n",
    "        print(epoch, val_loss)"
   ]
  },
  {
   "cell_type": "markdown",
   "metadata": {
    "colab_type": "text",
    "id": "gr6yTe8pryyC"
   },
   "source": [
    "``get_data`` returns dataloaders for the training and validation sets.\n",
    "\n"
   ]
  },
  {
   "cell_type": "code",
   "execution_count": null,
   "metadata": {
    "colab": {},
    "colab_type": "code",
    "id": "3b9j3HmkryyC"
   },
   "outputs": [],
   "source": [
    "def get_data(train_ds, valid_ds, bs):\n",
    "    return (\n",
    "        DataLoader(train_ds, batch_size=bs, shuffle=True),\n",
    "        DataLoader(valid_ds, batch_size=bs * 2),\n",
    "    )"
   ]
  },
  {
   "cell_type": "markdown",
   "metadata": {
    "colab_type": "text",
    "id": "WdeKaQQdryyE"
   },
   "source": [
    "Now, our whole process of obtaining the data loaders and fitting the\n",
    "model can be run in 3 lines of code:\n",
    "\n"
   ]
  },
  {
   "cell_type": "code",
   "execution_count": null,
   "metadata": {
    "colab": {},
    "colab_type": "code",
    "id": "WHugCSAUryyF"
   },
   "outputs": [],
   "source": [
    "train_dl, valid_dl = get_data(train_ds, valid_ds, bs)\n",
    "model, opt = get_model()\n",
    "fit(epochs, model, loss_func, opt, train_dl, valid_dl)"
   ]
  },
  {
   "cell_type": "markdown",
   "metadata": {
    "colab_type": "text",
    "id": "8v_hJ62tryyH"
   },
   "source": [
    "You can use these basic 3 lines of code to train a wide variety of models.\n",
    "Let's see if we can use them to train a convolutional neural network (CNN)!\n",
    "\n",
    "Switch to CNN\n",
    "-------------\n",
    "\n",
    "We are now going to build our neural network with three convolutional layers.\n",
    "Because none of the functions in the previous section assume anything about\n",
    "the model form, we'll be able to use them to train a CNN without any modification.\n",
    "\n",
    "We will use Pytorch's predefined\n",
    "`Conv2d <https://pytorch.org/docs/stable/nn.html#torch.nn.Conv2d>`_ class\n",
    "as our convolutional layer. We define a CNN with 3 convolutional layers.\n",
    "Each convolution is followed by a ReLU.  At the end, we perform an\n",
    "average pooling.  (Note that ``view`` is PyTorch's version of numpy's\n",
    "``reshape``)\n",
    "\n"
   ]
  },
  {
   "cell_type": "code",
   "execution_count": null,
   "metadata": {
    "colab": {},
    "colab_type": "code",
    "id": "xMHqYdIgryyH"
   },
   "outputs": [],
   "source": [
    "class Mnist_CNN(nn.Module):\n",
    "    def __init__(self):\n",
    "        super().__init__()\n",
    "        self.conv1 = nn.Conv2d(1, 16, kernel_size=3, stride=2, padding=1)\n",
    "        self.conv2 = nn.Conv2d(16, 16, kernel_size=3, stride=2, padding=1)\n",
    "        self.conv3 = nn.Conv2d(16, 10, kernel_size=3, stride=2, padding=1)\n",
    "\n",
    "    def forward(self, xb):\n",
    "        xb = xb.view(-1, 1, 28, 28)\n",
    "        xb = F.relu(self.conv1(xb))\n",
    "        xb = F.relu(self.conv2(xb))\n",
    "        xb = F.relu(self.conv3(xb))\n",
    "        xb = F.avg_pool2d(xb, 4)\n",
    "        return xb.view(-1, xb.size(1))\n",
    "\n",
    "lr = 0.1"
   ]
  },
  {
   "cell_type": "markdown",
   "metadata": {
    "colab_type": "text",
    "id": "KRuHK7qPryyK"
   },
   "source": [
    "`Momentum <https://cs231n.github.io/neural-networks-3/#sgd>`_ is a variation on\n",
    "stochastic gradient descent that takes previous updates into account as well\n",
    "and generally leads to faster training.\n",
    "\n"
   ]
  },
  {
   "cell_type": "code",
   "execution_count": null,
   "metadata": {
    "colab": {},
    "colab_type": "code",
    "id": "zZWvSAmhryyL"
   },
   "outputs": [],
   "source": [
    "model = Mnist_CNN()\n",
    "opt = optim.SGD(model.parameters(), lr=lr, momentum=0.9)\n",
    "\n",
    "fit(epochs, model, loss_func, opt, train_dl, valid_dl)"
   ]
  },
  {
   "cell_type": "markdown",
   "metadata": {
    "colab_type": "text",
    "id": "hboRZNYRryyN"
   },
   "source": [
    "nn.Sequential\n",
    "------------------------\n",
    "\n",
    "``torch.nn`` has another handy class we can use to simply our code:\n",
    "`Sequential <https://pytorch.org/docs/stable/nn.html#torch.nn.Sequential>`_ .\n",
    "A ``Sequential`` object runs each of the modules contained within it, in a\n",
    "sequential manner. This is a simpler way of writing our neural network.\n",
    "\n",
    "To take advantage of this, we need to be able to easily define a\n",
    "**custom layer** from a given function.  For instance, PyTorch doesn't\n",
    "have a `view` layer, and we need to create one for our network. ``Lambda``\n",
    "will create a layer that we can then use when defining a network with\n",
    "``Sequential``.\n",
    "\n"
   ]
  },
  {
   "cell_type": "code",
   "execution_count": null,
   "metadata": {
    "colab": {},
    "colab_type": "code",
    "id": "Uih149xZryyN"
   },
   "outputs": [],
   "source": [
    "class Lambda(nn.Module):\n",
    "    def __init__(self, func):\n",
    "        super().__init__()\n",
    "        self.func = func\n",
    "\n",
    "    def forward(self, x):\n",
    "        return self.func(x)\n",
    "\n",
    "\n",
    "def preprocess(x):\n",
    "    return x.view(-1, 1, 28, 28)"
   ]
  },
  {
   "cell_type": "markdown",
   "metadata": {
    "colab_type": "text",
    "id": "5-nUNbKEryyO"
   },
   "source": [
    "The model created with ``Sequential`` is simply:\n",
    "\n"
   ]
  },
  {
   "cell_type": "code",
   "execution_count": null,
   "metadata": {
    "colab": {},
    "colab_type": "code",
    "id": "2Jsy8s9dryyP"
   },
   "outputs": [],
   "source": [
    "model = nn.Sequential(\n",
    "    Lambda(preprocess),\n",
    "    nn.Conv2d(1, 16, kernel_size=3, stride=2, padding=1),\n",
    "    nn.ReLU(),\n",
    "    nn.Conv2d(16, 16, kernel_size=3, stride=2, padding=1),\n",
    "    nn.ReLU(),\n",
    "    nn.Conv2d(16, 10, kernel_size=3, stride=2, padding=1),\n",
    "    nn.ReLU(),\n",
    "    nn.AvgPool2d(4),\n",
    "    Lambda(lambda x: x.view(x.size(0), -1)),\n",
    ")\n",
    "\n",
    "opt = optim.SGD(model.parameters(), lr=lr, momentum=0.9)\n",
    "\n",
    "fit(epochs, model, loss_func, opt, train_dl, valid_dl)"
   ]
  },
  {
   "cell_type": "markdown",
   "metadata": {
    "colab_type": "text",
    "id": "TVEsJYt2ryyR"
   },
   "source": [
    "Wrapping DataLoader\n",
    "-----------------------------\n",
    "\n",
    "Our CNN is fairly concise, but it only works with MNIST, because:\n",
    " - It assumes the input is a 28\\*28 long vector\n",
    " - It assumes that the final CNN grid size is 4\\*4 (since that's the average\n",
    "pooling kernel size we used)\n",
    "\n",
    "Let's get rid of these two assumptions, so our model works with any 2d\n",
    "single channel image. First, we can remove the initial Lambda layer but\n",
    "moving the data preprocessing into a generator:\n",
    "\n"
   ]
  },
  {
   "cell_type": "code",
   "execution_count": null,
   "metadata": {
    "colab": {},
    "colab_type": "code",
    "id": "2aIhV0dZryyS"
   },
   "outputs": [],
   "source": [
    "def preprocess(x, y):\n",
    "    return x.view(-1, 1, 28, 28), y\n",
    "\n",
    "\n",
    "class WrappedDataLoader:\n",
    "    def __init__(self, dl, func):\n",
    "        self.dl = dl\n",
    "        self.func = func\n",
    "\n",
    "    def __len__(self):\n",
    "        return len(self.dl)\n",
    "\n",
    "    def __iter__(self):\n",
    "        batches = iter(self.dl)\n",
    "        for b in batches:\n",
    "            yield (self.func(*b))\n",
    "\n",
    "train_dl, valid_dl = get_data(train_ds, valid_ds, bs)\n",
    "train_dl = WrappedDataLoader(train_dl, preprocess)\n",
    "valid_dl = WrappedDataLoader(valid_dl, preprocess)"
   ]
  },
  {
   "cell_type": "markdown",
   "metadata": {
    "colab_type": "text",
    "id": "xdnBhbx5ryyU"
   },
   "source": [
    "Next, we can replace ``nn.AvgPool2d`` with ``nn.AdaptiveAvgPool2d``, which\n",
    "allows us to define the size of the *output* tensor we want, rather than\n",
    "the *input* tensor we have. As a result, our model will work with any\n",
    "size input.\n",
    "\n"
   ]
  },
  {
   "cell_type": "code",
   "execution_count": null,
   "metadata": {
    "colab": {},
    "colab_type": "code",
    "id": "gfrPtblzryyV"
   },
   "outputs": [],
   "source": [
    "model = nn.Sequential(\n",
    "    nn.Conv2d(1, 16, kernel_size=3, stride=2, padding=1),\n",
    "    nn.ReLU(),\n",
    "    nn.Conv2d(16, 16, kernel_size=3, stride=2, padding=1),\n",
    "    nn.ReLU(),\n",
    "    nn.Conv2d(16, 10, kernel_size=3, stride=2, padding=1),\n",
    "    nn.ReLU(),\n",
    "    nn.AdaptiveAvgPool2d(1),\n",
    "    Lambda(lambda x: x.view(x.size(0), -1)),\n",
    ")\n",
    "\n",
    "opt = optim.SGD(model.parameters(), lr=lr, momentum=0.9)"
   ]
  },
  {
   "cell_type": "markdown",
   "metadata": {
    "colab_type": "text",
    "id": "zDcYJnWJryyY"
   },
   "source": [
    "Let's try it out:\n",
    "\n"
   ]
  },
  {
   "cell_type": "code",
   "execution_count": null,
   "metadata": {
    "colab": {},
    "colab_type": "code",
    "id": "Y9BvClRpryyY"
   },
   "outputs": [],
   "source": [
    "fit(epochs, model, loss_func, opt, train_dl, valid_dl)"
   ]
  },
  {
   "cell_type": "markdown",
   "metadata": {
    "colab_type": "text",
    "id": "1p_XKbRyryya"
   },
   "source": [
    "Using your GPU\n",
    "---------------\n",
    "\n",
    "If you're lucky enough to have access to a CUDA-capable GPU (you can\n",
    "rent one for about $0.50/hour from most cloud providers) you can\n",
    "use it to speed up your code. First check that your GPU is working in\n",
    "Pytorch:\n",
    "\n"
   ]
  },
  {
   "cell_type": "code",
   "execution_count": null,
   "metadata": {
    "colab": {},
    "colab_type": "code",
    "id": "OlkeeNkUryya"
   },
   "outputs": [],
   "source": [
    "print(torch.cuda.is_available())"
   ]
  },
  {
   "cell_type": "markdown",
   "metadata": {
    "colab_type": "text",
    "id": "2JUToGMgryyd"
   },
   "source": [
    "And then create a device object for it:\n",
    "\n"
   ]
  },
  {
   "cell_type": "code",
   "execution_count": null,
   "metadata": {
    "colab": {},
    "colab_type": "code",
    "id": "7vTHPc1rryyd"
   },
   "outputs": [],
   "source": [
    "dev = torch.device(\n",
    "    \"cuda\") if torch.cuda.is_available() else torch.device(\"cpu\")"
   ]
  },
  {
   "cell_type": "markdown",
   "metadata": {
    "colab_type": "text",
    "id": "yMLds7v2ryyg"
   },
   "source": [
    "Let's update ``preprocess`` to move batches to the GPU:\n",
    "\n"
   ]
  },
  {
   "cell_type": "code",
   "execution_count": null,
   "metadata": {
    "colab": {},
    "colab_type": "code",
    "id": "UsSTodAMryyg"
   },
   "outputs": [],
   "source": [
    "def preprocess(x, y):\n",
    "    return x.view(-1, 1, 28, 28).to(dev), y.to(dev)\n",
    "\n",
    "\n",
    "train_dl, valid_dl = get_data(train_ds, valid_ds, bs)\n",
    "train_dl = WrappedDataLoader(train_dl, preprocess)\n",
    "valid_dl = WrappedDataLoader(valid_dl, preprocess)"
   ]
  },
  {
   "cell_type": "markdown",
   "metadata": {
    "colab_type": "text",
    "id": "zzTL65dSryyi"
   },
   "source": [
    "Finally, we can move our model to the GPU.\n",
    "\n"
   ]
  },
  {
   "cell_type": "code",
   "execution_count": null,
   "metadata": {
    "colab": {},
    "colab_type": "code",
    "id": "ikzj91yJryyi"
   },
   "outputs": [],
   "source": [
    "model.to(dev)\n",
    "opt = optim.SGD(model.parameters(), lr=lr, momentum=0.9)"
   ]
  },
  {
   "cell_type": "markdown",
   "metadata": {
    "colab_type": "text",
    "id": "38r55mXMryyk"
   },
   "source": [
    "You should find it runs faster now:\n",
    "\n"
   ]
  },
  {
   "cell_type": "code",
   "execution_count": null,
   "metadata": {
    "colab": {},
    "colab_type": "code",
    "id": "fSgSG2czryyk"
   },
   "outputs": [],
   "source": [
    "fit(epochs, model, loss_func, opt, train_dl, valid_dl)"
   ]
  },
  {
   "cell_type": "markdown",
   "metadata": {
    "colab_type": "text",
    "id": "M_3x06iDryyn"
   },
   "source": [
    "Closing thoughts\n",
    "-----------------\n",
    "\n",
    "We now have a general data pipeline and training loop which you can use for\n",
    "training many types of models using Pytorch. To see how simple training a model\n",
    "can now be, take a look at the `mnist_sample` sample notebook.\n",
    "\n",
    "Of course, there are many things you'll want to add, such as data augmentation,\n",
    "hyperparameter tuning, monitoring training, transfer learning, and so forth.\n",
    "These features are available in the fastai library, which has been developed\n",
    "using the same design approach shown in this tutorial, providing a natural\n",
    "next step for practitioners looking to take their models further.\n",
    "\n",
    "We promised at the start of this tutorial we'd explain through example each of\n",
    "``torch.nn``, ``torch.optim``, ``Dataset``, and ``DataLoader``. So let's summarize\n",
    "what we've seen:\n",
    "\n",
    " - **torch.nn**\n",
    "\n",
    "   + ``Module``: creates a callable which behaves like a function, but can also\n",
    "     contain state(such as neural net layer weights). It knows what ``Parameter`` (s) it\n",
    "     contains and can zero all their gradients, loop through them for weight updates, etc.\n",
    "   + ``Parameter``: a wrapper for a tensor that tells a ``Module`` that it has weights\n",
    "     that need updating during backprop. Only tensors with the `requires_grad` attribute set are updated\n",
    "   + ``functional``: a module(usually imported into the ``F`` namespace by convention)\n",
    "     which contains activation functions, loss functions, etc, as well as non-stateful\n",
    "     versions of layers such as convolutional and linear layers.\n",
    " - ``torch.optim``: Contains optimizers such as ``SGD``, which update the weights\n",
    "   of ``Parameter`` during the backward step\n",
    " - ``Dataset``: An abstract interface of objects with a ``__len__`` and a ``__getitem__``,\n",
    "   including classes provided with Pytorch such as ``TensorDataset``\n",
    " - ``DataLoader``: Takes any ``Dataset`` and creates an iterator which returns batches of data.\n",
    "\n"
   ]
  }
 ],
 "metadata": {
  "colab": {
   "collapsed_sections": [
    "sLvjHRFNrywi",
    "ZO0YyyJWrywq",
    "e9fOqVvNryxE",
    "M0YPzJfLryxR",
    "BCtYLuLNryxZ",
    "jXDC6amFryxm",
    "zRFhBk_Cryx4",
    "baVc72zeryx8",
    "8v_hJ62tryyH",
    "hboRZNYRryyN",
    "TVEsJYt2ryyR",
    "1p_XKbRyryya",
    "M_3x06iDryyn"
   ],
   "name": "MNIST Up and Down Sampling",
   "provenance": []
  },
  "kernelspec": {
   "display_name": "Python [conda env:fastai] *",
   "language": "python",
   "name": "conda-env-fastai-py"
  },
  "language_info": {
   "codemirror_mode": {
    "name": "ipython",
    "version": 3
   },
   "file_extension": ".py",
   "mimetype": "text/x-python",
   "name": "python",
   "nbconvert_exporter": "python",
   "pygments_lexer": "ipython3",
   "version": "3.7.6"
  }
 },
 "nbformat": 4,
 "nbformat_minor": 1
}
