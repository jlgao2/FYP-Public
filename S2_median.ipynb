{
 "cells": [
  {
   "cell_type": "markdown",
   "metadata": {},
   "source": [
    "This notebook takes the sentinel 2 lowrez images for a given locID and takes the pixelwise median (removes clouds)\n",
    "- George Gao 2020"
   ]
  },
  {
   "cell_type": "code",
   "execution_count": 67,
   "metadata": {},
   "outputs": [],
   "source": [
    "#george gao 28_07_20\n",
    "#imports \n",
    "import numpy as np\n",
    "import os\n",
    "import PIL\n",
    "from PIL import Image\n",
    "import fnmatch\n",
    "import csv\n",
    "import re\n",
    "from matplotlib import cm\n",
    "from matplotlib import pyplot as plt\n",
    "import shutil"
   ]
  },
  {
   "cell_type": "code",
   "execution_count": 76,
   "metadata": {},
   "outputs": [],
   "source": [
    "s2pth = '/projects/qg35/jlgao2/s2_v2/'\n",
    "output_pth = '/projects/qg35/jlgao2/s2/'\n",
    "gt_input = '/projects/qg35/jlgao2/FYP-Sandbox/data/h5/img_wmasks/'\n",
    "gt_output = '/projects/qg35/jlgao2/s2-gt/'"
   ]
  },
  {
   "cell_type": "code",
   "execution_count": 5,
   "metadata": {},
   "outputs": [],
   "source": [
    "# create onlyfiles - list with loc ids\n",
    "onlyfiles = [f for f in os.listdir(s2pth) if os.path.isfile(os.path.join(s2pth, f))]\n",
    "data = []\n",
    "for idx, line in enumerate(onlyfiles):\n",
    "    data.append(line.replace('.tif', ''))\n",
    "data_list = [e[:15] for e in data]\n",
    "data_set = set(data_list)"
   ]
  },
  {
   "cell_type": "code",
   "execution_count": 62,
   "metadata": {},
   "outputs": [],
   "source": [
    "image_matrices = []\n",
    "\n",
    "for prefix in data_set:\n",
    "    prefixed = [filename for filename in os.listdir(s2pth) if filename.startswith(prefix)]\n",
    "\n",
    "    for img in prefixed: #just gets a list o|f photo filenames\n",
    "        image_matrix = np.array(Image.open(s2pth+img))\n",
    "        image_matrices.append(image_matrix)\n",
    "\n",
    "    image_stack = np.concatenate([im[..., None] for im in image_matrices], axis=3)\n",
    "    median_image = np.median(image_stack, axis=3)\n",
    "    image_matrices.clear()\n",
    "    med_im = Image.fromarray((median_image).astype(np.uint8))\n",
    "    if med_im.size == (60, 60):\n",
    "        med_im.save(output_pth+prefix+\".png\")    "
   ]
  },
  {
   "cell_type": "code",
   "execution_count": 79,
   "metadata": {},
   "outputs": [],
   "source": [
    "onlypngs = [f for f in os.listdir(output_pth) if os.path.isfile(os.path.join(output_pth, f))]\n",
    "\n",
    "for line in onlypngs:\n",
    "    gt = Image.open(gt_input+line)\n",
    "    gt = gt.resize((240, 240))\n",
    "    gt.save(gt_output+line)\n"
   ]
  },
  {
   "cell_type": "code",
   "execution_count": null,
   "metadata": {},
   "outputs": [],
   "source": []
  }
 ],
 "metadata": {
  "kernelspec": {
   "display_name": "Python 3",
   "language": "python",
   "name": "python3"
  },
  "language_info": {
   "codemirror_mode": {
    "name": "ipython",
    "version": 3
   },
   "file_extension": ".py",
   "mimetype": "text/x-python",
   "name": "python",
   "nbconvert_exporter": "python",
   "pygments_lexer": "ipython3",
   "version": "3.7.3"
  }
 },
 "nbformat": 4,
 "nbformat_minor": 4
}
