{
 "cells": [
  {
   "cell_type": "code",
   "execution_count": 1,
   "metadata": {},
   "outputs": [],
   "source": [
    "import os\n",
    "import numpy as np\n",
    "import pandas as pd\n",
    "import matplotlib as plt\n",
    "from pathlib2 import Path\n",
    "from PIL import Image\n",
    "import torch\n",
    "import math\n",
    "import torch.nn as nn\n",
    "from torchvision.transforms import transforms"
   ]
  },
  {
   "cell_type": "code",
   "execution_count": 3,
   "metadata": {},
   "outputs": [],
   "source": [
    "DATA_PATH = Path(os.getcwd()+\"/data\")\n",
    "PATH = DATA_PATH/\"kaggle\"\n",
    "TRAIN_PATH = PATH/\"Train/\"\n",
    "TEST_PATH = PATH/\"Test/\"\n",
    "\n",
    "PATH.mkdir(parents=True, exist_ok=True)\n",
    "TRAIN_PATH.mkdir(parents=True, exist_ok=True)\n",
    "TEST_PATH.mkdir(parents=True, exist_ok=True)\n"
   ]
  },
  {
   "cell_type": "code",
   "execution_count": 4,
   "metadata": {},
   "outputs": [],
   "source": [
    "dev = torch.device(\n",
    "     \"cuda\") if torch.cuda.is_available() else torch.device(\"cpu\")\n",
    "bs = 128\n",
    "\n",
    "cpu = torch.device(\"cpu\")"
   ]
  },
  {
   "cell_type": "code",
   "execution_count": 5,
   "metadata": {},
   "outputs": [],
   "source": [
    "train_x = np.genfromtxt(DATA_PATH/'sketches_train.csv', delimiter=',', dtype=np.uint8)\n",
    "train_x = train_x/256\n",
    "\n",
    "test_x = np.genfromtxt(DATA_PATH/'sketches_test.csv', delimiter=',', dtype=np.uint8)\n",
    "test_x = test_x/256"
   ]
  },
  {
   "cell_type": "code",
   "execution_count": 6,
   "metadata": {},
   "outputs": [],
   "source": [
    "train_y = np.genfromtxt(DATA_PATH/'labels_np.csv', delimiter=',', dtype=np.uint8) - 1"
   ]
  },
  {
   "cell_type": "code",
   "execution_count": 7,
   "metadata": {},
   "outputs": [
    {
     "data": {
      "text/plain": [
       "0"
      ]
     },
     "execution_count": 7,
     "metadata": {},
     "output_type": "execute_result"
    }
   ],
   "source": [
    "train_y[511]"
   ]
  },
  {
   "cell_type": "markdown",
   "metadata": {},
   "source": [
    "i = 0\n",
    "for row in train_x:\n",
    "    arr = row\n",
    "    i += 1\n",
    "    sqr = arr.reshape(28,28)\n",
    "    img = Image.fromarray(sqr)\n",
    "    img.save(str(TRAIN_PATH)+\"/\"+str(i)+\".png\", \"PNG\")\n"
   ]
  },
  {
   "cell_type": "markdown",
   "metadata": {},
   "source": [
    "i = 0\n",
    "for row in test_x:\n",
    "    arr = row\n",
    "    i += 1\n",
    "    sqr = arr.reshape(28,28)\n",
    "    img = Image.fromarray(sqr)\n",
    "    img.save(str(TEST_PATH)+\"/\"+str(i)+\".png\", \"PNG\")"
   ]
  },
  {
   "cell_type": "code",
   "execution_count": 8,
   "metadata": {},
   "outputs": [
    {
     "name": "stdout",
     "output_type": "stream",
     "text": [
      "torch.Size([6000, 784]) torch.Size([6000]) torch.Size([1200, 784])\n"
     ]
    }
   ],
   "source": [
    "train_x, train_y, test_x = map(\n",
    "    torch.tensor, (train_x, train_y, test_x)\n",
    ")\n",
    "print(train_x.shape, train_y.shape, test_x.shape)"
   ]
  },
  {
   "cell_type": "code",
   "execution_count": 9,
   "metadata": {},
   "outputs": [],
   "source": [
    "train_x = train_x.float().to(dev).view(-1, 1, 28, 28)\n",
    "test_x = test_x.float().to(cpu).view(-1, 1, 28, 28)\n",
    "train_y = train_y.long().to(dev)"
   ]
  },
  {
   "cell_type": "code",
   "execution_count": 10,
   "metadata": {},
   "outputs": [],
   "source": [
    "train_transformations = transforms.Compose([\n",
    "    transforms.RandomHorizontalFlip(),\n",
    "    transforms.RandomCrop(28,padding=4),\n",
    "    transforms.ToTensor(),\n",
    "    transforms.Normalize((0.5,0.5,0.5), (0.5,0.5,0.5))\n",
    "])"
   ]
  },
  {
   "cell_type": "code",
   "execution_count": 11,
   "metadata": {},
   "outputs": [],
   "source": [
    "from torch.utils.data import TensorDataset"
   ]
  },
  {
   "cell_type": "code",
   "execution_count": 12,
   "metadata": {},
   "outputs": [],
   "source": [
    "sketch_ds = TensorDataset(train_x, train_y)"
   ]
  },
  {
   "cell_type": "code",
   "execution_count": 13,
   "metadata": {},
   "outputs": [],
   "source": [
    "from torch.utils.data import random_split"
   ]
  },
  {
   "cell_type": "code",
   "execution_count": 14,
   "metadata": {},
   "outputs": [],
   "source": [
    "train_ds, test_ds = random_split(sketch_ds, [4000, 2000])"
   ]
  },
  {
   "cell_type": "code",
   "execution_count": 15,
   "metadata": {},
   "outputs": [
    {
     "data": {
      "text/plain": [
       "torch.Size([1, 28, 28])"
      ]
     },
     "execution_count": 15,
     "metadata": {},
     "output_type": "execute_result"
    }
   ],
   "source": [
    "train_ds[50][0].shape"
   ]
  },
  {
   "cell_type": "code",
   "execution_count": 16,
   "metadata": {},
   "outputs": [],
   "source": [
    "from torch.utils.data import DataLoader"
   ]
  },
  {
   "cell_type": "code",
   "execution_count": 17,
   "metadata": {},
   "outputs": [],
   "source": [
    "train_dl = DataLoader(train_ds, shuffle=True, batch_size=bs)\n",
    "test_dl = DataLoader(test_ds, batch_size=bs * 2)"
   ]
  },
  {
   "cell_type": "code",
   "execution_count": 18,
   "metadata": {},
   "outputs": [],
   "source": [
    "from torch import nn\n",
    "import torch.nn.functional as F\n",
    "from torch import optim\n",
    "\n",
    "class Mnist_Logistic(nn.Module):\n",
    "    def __init__(self):\n",
    "        super().__init__()\n",
    "        self.weights = nn.Parameter(torch.randn(784, 10)/ math.sqrt(784))\n",
    "        self.bias = nn.Parameter(torch.zeros(10))\n",
    "\n",
    "    def forward(self, xb):\n",
    "        return xb @ self.weights + self.bias\n",
    "\n",
    "def accuracy(out, yb):\n",
    "    preds = torch.argmax(out, dim=1)\n",
    "    return (preds == yb).float().mean()\n",
    "\n",
    "\n",
    "def get_model():\n",
    "    model = Mnist_Logistic().float().to(dev)\n",
    "    return model, optim.SGD(model.parameters(), lr=lr)\n",
    "\n",
    "loss_func = F.cross_entropy"
   ]
  },
  {
   "cell_type": "code",
   "execution_count": 19,
   "metadata": {},
   "outputs": [],
   "source": [
    "def loss_batch(model, loss_func, xb, yb, opt=None):\n",
    "    loss = loss_func(model(xb), yb)\n",
    "    acc2 = accuracy(model(xb), yb)\n",
    "    if opt is not None:\n",
    "        loss.backward()\n",
    "        opt.step()\n",
    "        opt.zero_grad()\n",
    "\n",
    "    return loss.item(), len(xb), acc2"
   ]
  },
  {
   "cell_type": "code",
   "execution_count": 37,
   "metadata": {},
   "outputs": [],
   "source": [
    "def save_models(epoch):\n",
    "    torch.save(model.state_dict(), \"kagglemodel_{}.model\".format(epoch))\n",
    "    print(\"Checkpoint saved\")\n",
    "    "
   ]
  },
  {
   "cell_type": "code",
   "execution_count": 41,
   "metadata": {},
   "outputs": [],
   "source": [
    "def fit(epochs, model, loss_func, opt, train_dl, valid_dl):\n",
    "    for epoch in range(epochs):\n",
    "        model.train()\n",
    "        for xb, yb in train_dl:\n",
    "            loss_batch(model, loss_func, xb, yb, opt)\n",
    "            acc = accuracy(model(xb), yb)\n",
    "        model.eval()\n",
    "        with torch.no_grad():\n",
    "            losses, nums, acc2 = zip(\n",
    "                *[loss_batch(model, loss_func, xb, yb) for xb, yb in valid_dl]\n",
    "            )\n",
    "        val_loss = np.sum(np.multiply(losses, nums)) / np.sum(nums)\n",
    "        \n",
    "        if 0.35 > val_loss:\n",
    "            torch.save(model,\"kagglemodel_{}.model\".format(epoch))\n",
    "            print(\"Checkpoint saved\")\n",
    "        \n",
    "        print(epoch, val_loss, acc, acc2)\n",
    "        print('\\n')\n",
    "\n",
    "\n",
    "def get_data(train_ds, valid_ds, bs):\n",
    "    return (\n",
    "        DataLoader(train_ds, batch_size=bs, shuffle=True),\n",
    "        DataLoader(valid_ds, batch_size=bs * 2),\n",
    "    )        "
   ]
  },
  {
   "cell_type": "code",
   "execution_count": null,
   "metadata": {},
   "outputs": [],
   "source": []
  },
  {
   "cell_type": "markdown",
   "metadata": {},
   "source": [
    "train_dl, valid_dl = get_data(train_ds, test_ds, bs)\n",
    "model, opt = get_model()\n",
    "fit(epochs, model, loss_func, opt, train_dl, valid_dl)"
   ]
  },
  {
   "cell_type": "code",
   "execution_count": 22,
   "metadata": {},
   "outputs": [
    {
     "name": "stdout",
     "output_type": "stream",
     "text": [
      "tensor(0, device='cuda:0')\n"
     ]
    },
    {
     "data": {
      "image/png": "[encoded data removed]",
      "text/plain": [
       "<Figure size 432x288 with 1 Axes>"
      ]
     },
     "metadata": {
      "needs_background": "light"
     },
     "output_type": "display_data"
    }
   ],
   "source": [
    "from matplotlib import pyplot\n",
    "plt.pyplot.imshow(train_x.cpu()[0].reshape((28, 28)), cmap=\"gray\")\n",
    "print(train_y[0])"
   ]
  },
  {
   "cell_type": "markdown",
   "metadata": {},
   "source": [
    "bs = 64\n",
    "lr = 0.1\n",
    "epochs = 10\n",
    "opt = optim.SGD(model.parameters(), lr=lr, momentum=0.9)\n",
    "fit(epochs, model, loss_func, opt, train_dl, valid_dl)"
   ]
  },
  {
   "cell_type": "code",
   "execution_count": 23,
   "metadata": {},
   "outputs": [],
   "source": [
    "class Unit(nn.Module):\n",
    "    def __init__(self, in_channels, out_channels):\n",
    "        super(Unit, self).__init__()\n",
    "\n",
    "        self.conv = nn.Conv2d(in_channels=in_channels, kernel_size=3, out_channels=out_channels, stride=1, padding=1)\n",
    "        self.bn = nn.BatchNorm2d(num_features=out_channels)\n",
    "        self.relu = nn.ReLU()\n",
    "\n",
    "    def forward(self, input):\n",
    "        output = self.conv(input)\n",
    "        output = self.bn(output)\n",
    "        output = self.relu(output)\n",
    "\n",
    "        return output"
   ]
  },
  {
   "cell_type": "code",
   "execution_count": 24,
   "metadata": {},
   "outputs": [],
   "source": [
    "class Unit1(nn.Module):\n",
    "    def __init__(self, in_channels, out_channels):\n",
    "        super(Unit1, self).__init__()\n",
    "\n",
    "        self.conv = nn.Conv2d(in_channels=in_channels, kernel_size=1, out_channels=out_channels, stride=1, padding=0)\n",
    "        self.bn = nn.BatchNorm2d(num_features=out_channels)\n",
    "        self.relu = nn.ReLU()\n",
    "\n",
    "    def forward(self, input):\n",
    "        output = self.conv(input)\n",
    "        output = self.bn(output)\n",
    "        output = self.relu(output)\n",
    "\n",
    "        return output"
   ]
  },
  {
   "cell_type": "code",
   "execution_count": 25,
   "metadata": {},
   "outputs": [],
   "source": [
    "class SimpleNet(nn.Module):\n",
    "    def __init__(self,num_classes=6):\n",
    "        super(SimpleNet,self).__init__()\n",
    "        \n",
    "        #Create 14 layers of the unit with max pooling in between\n",
    "        self.unit1 = Unit(in_channels=1,out_channels=32)\n",
    "        self.unit2 = Unit(in_channels=32, out_channels=64)\n",
    "        self.unit3 = Unit(in_channels=64, out_channels=128)\n",
    "\n",
    "        self.pool1 = nn.MaxPool2d(kernel_size=2)\n",
    "\n",
    "        self.unit4 = Unit(in_channels=128, out_channels=128)\n",
    "        self.unit5 = Unit(in_channels=128, out_channels=128)\n",
    "        self.unit6 = Unit(in_channels=128, out_channels=128)\n",
    "        self.unit7 = Unit(in_channels=128, out_channels=128)\n",
    "\n",
    "        self.pool2 = nn.MaxPool2d(kernel_size=2)\n",
    "\n",
    "        self.unit8 = Unit(in_channels=128, out_channels=128)\n",
    "        self.unit9 = Unit(in_channels=128, out_channels=128)\n",
    "        self.unit10 = Unit(in_channels=128, out_channels=128)\n",
    "        self.unit11 = Unit(in_channels=128, out_channels=128)\n",
    "\n",
    "        self.pool3 = nn.MaxPool2d(kernel_size=2)\n",
    "\n",
    "        self.unit12 = Unit1(in_channels=128, out_channels=128)\n",
    "        self.unit13 = Unit1(in_channels=128, out_channels=128)\n",
    "        self.unit14 = Unit(in_channels=128, out_channels=128)\n",
    "\n",
    "        self.avgpool = nn.AvgPool2d(kernel_size=3)\n",
    "        \n",
    "        #Add all the units into the Sequential layer in exact order\n",
    "        self.net = nn.Sequential(self.unit1, self.unit2, self.unit3, self.pool1, self.unit4, self.unit5, self.unit6\n",
    "                                 ,self.unit7, self.pool2, self.unit8, self.unit9, self.unit10, self.unit11, self.pool3,\n",
    "                                 self.unit12, self.unit13, self.unit14, self.avgpool)\n",
    "\n",
    "        self.fc = nn.Linear(in_features=128,out_features=num_classes)\n",
    "\n",
    "    def forward(self, input):\n",
    "        output = self.net(input)\n",
    "        output = output.view(-1,128)\n",
    "        output = self.fc(output)\n",
    "        return output"
   ]
  },
  {
   "cell_type": "code",
   "execution_count": 26,
   "metadata": {},
   "outputs": [
    {
     "data": {
      "text/plain": [
       "SimpleNet(\n",
       "  (unit1): Unit(\n",
       "    (conv): Conv2d(1, 32, kernel_size=(3, 3), stride=(1, 1), padding=(1, 1))\n",
       "    (bn): BatchNorm2d(32, eps=1e-05, momentum=0.1, affine=True, track_running_stats=True)\n",
       "    (relu): ReLU()\n",
       "  )\n",
       "  (unit2): Unit(\n",
       "    (conv): Conv2d(32, 64, kernel_size=(3, 3), stride=(1, 1), padding=(1, 1))\n",
       "    (bn): BatchNorm2d(64, eps=1e-05, momentum=0.1, affine=True, track_running_stats=True)\n",
       "    (relu): ReLU()\n",
       "  )\n",
       "  (unit3): Unit(\n",
       "    (conv): Conv2d(64, 128, kernel_size=(3, 3), stride=(1, 1), padding=(1, 1))\n",
       "    (bn): BatchNorm2d(128, eps=1e-05, momentum=0.1, affine=True, track_running_stats=True)\n",
       "    (relu): ReLU()\n",
       "  )\n",
       "  (pool1): MaxPool2d(kernel_size=2, stride=2, padding=0, dilation=1, ceil_mode=False)\n",
       "  (unit4): Unit(\n",
       "    (conv): Conv2d(128, 128, kernel_size=(3, 3), stride=(1, 1), padding=(1, 1))\n",
       "    (bn): BatchNorm2d(128, eps=1e-05, momentum=0.1, affine=True, track_running_stats=True)\n",
       "    (relu): ReLU()\n",
       "  )\n",
       "  (unit5): Unit(\n",
       "    (conv): Conv2d(128, 128, kernel_size=(3, 3), stride=(1, 1), padding=(1, 1))\n",
       "    (bn): BatchNorm2d(128, eps=1e-05, momentum=0.1, affine=True, track_running_stats=True)\n",
       "    (relu): ReLU()\n",
       "  )\n",
       "  (unit6): Unit(\n",
       "    (conv): Conv2d(128, 128, kernel_size=(3, 3), stride=(1, 1), padding=(1, 1))\n",
       "    (bn): BatchNorm2d(128, eps=1e-05, momentum=0.1, affine=True, track_running_stats=True)\n",
       "    (relu): ReLU()\n",
       "  )\n",
       "  (unit7): Unit(\n",
       "    (conv): Conv2d(128, 128, kernel_size=(3, 3), stride=(1, 1), padding=(1, 1))\n",
       "    (bn): BatchNorm2d(128, eps=1e-05, momentum=0.1, affine=True, track_running_stats=True)\n",
       "    (relu): ReLU()\n",
       "  )\n",
       "  (pool2): MaxPool2d(kernel_size=2, stride=2, padding=0, dilation=1, ceil_mode=False)\n",
       "  (unit8): Unit(\n",
       "    (conv): Conv2d(128, 128, kernel_size=(3, 3), stride=(1, 1), padding=(1, 1))\n",
       "    (bn): BatchNorm2d(128, eps=1e-05, momentum=0.1, affine=True, track_running_stats=True)\n",
       "    (relu): ReLU()\n",
       "  )\n",
       "  (unit9): Unit(\n",
       "    (conv): Conv2d(128, 128, kernel_size=(3, 3), stride=(1, 1), padding=(1, 1))\n",
       "    (bn): BatchNorm2d(128, eps=1e-05, momentum=0.1, affine=True, track_running_stats=True)\n",
       "    (relu): ReLU()\n",
       "  )\n",
       "  (unit10): Unit(\n",
       "    (conv): Conv2d(128, 128, kernel_size=(3, 3), stride=(1, 1), padding=(1, 1))\n",
       "    (bn): BatchNorm2d(128, eps=1e-05, momentum=0.1, affine=True, track_running_stats=True)\n",
       "    (relu): ReLU()\n",
       "  )\n",
       "  (unit11): Unit(\n",
       "    (conv): Conv2d(128, 128, kernel_size=(3, 3), stride=(1, 1), padding=(1, 1))\n",
       "    (bn): BatchNorm2d(128, eps=1e-05, momentum=0.1, affine=True, track_running_stats=True)\n",
       "    (relu): ReLU()\n",
       "  )\n",
       "  (pool3): MaxPool2d(kernel_size=2, stride=2, padding=0, dilation=1, ceil_mode=False)\n",
       "  (unit12): Unit1(\n",
       "    (conv): Conv2d(128, 128, kernel_size=(1, 1), stride=(1, 1))\n",
       "    (bn): BatchNorm2d(128, eps=1e-05, momentum=0.1, affine=True, track_running_stats=True)\n",
       "    (relu): ReLU()\n",
       "  )\n",
       "  (unit13): Unit1(\n",
       "    (conv): Conv2d(128, 128, kernel_size=(1, 1), stride=(1, 1))\n",
       "    (bn): BatchNorm2d(128, eps=1e-05, momentum=0.1, affine=True, track_running_stats=True)\n",
       "    (relu): ReLU()\n",
       "  )\n",
       "  (unit14): Unit(\n",
       "    (conv): Conv2d(128, 128, kernel_size=(3, 3), stride=(1, 1), padding=(1, 1))\n",
       "    (bn): BatchNorm2d(128, eps=1e-05, momentum=0.1, affine=True, track_running_stats=True)\n",
       "    (relu): ReLU()\n",
       "  )\n",
       "  (avgpool): AvgPool2d(kernel_size=3, stride=3, padding=0)\n",
       "  (net): Sequential(\n",
       "    (0): Unit(\n",
       "      (conv): Conv2d(1, 32, kernel_size=(3, 3), stride=(1, 1), padding=(1, 1))\n",
       "      (bn): BatchNorm2d(32, eps=1e-05, momentum=0.1, affine=True, track_running_stats=True)\n",
       "      (relu): ReLU()\n",
       "    )\n",
       "    (1): Unit(\n",
       "      (conv): Conv2d(32, 64, kernel_size=(3, 3), stride=(1, 1), padding=(1, 1))\n",
       "      (bn): BatchNorm2d(64, eps=1e-05, momentum=0.1, affine=True, track_running_stats=True)\n",
       "      (relu): ReLU()\n",
       "    )\n",
       "    (2): Unit(\n",
       "      (conv): Conv2d(64, 128, kernel_size=(3, 3), stride=(1, 1), padding=(1, 1))\n",
       "      (bn): BatchNorm2d(128, eps=1e-05, momentum=0.1, affine=True, track_running_stats=True)\n",
       "      (relu): ReLU()\n",
       "    )\n",
       "    (3): MaxPool2d(kernel_size=2, stride=2, padding=0, dilation=1, ceil_mode=False)\n",
       "    (4): Unit(\n",
       "      (conv): Conv2d(128, 128, kernel_size=(3, 3), stride=(1, 1), padding=(1, 1))\n",
       "      (bn): BatchNorm2d(128, eps=1e-05, momentum=0.1, affine=True, track_running_stats=True)\n",
       "      (relu): ReLU()\n",
       "    )\n",
       "    (5): Unit(\n",
       "      (conv): Conv2d(128, 128, kernel_size=(3, 3), stride=(1, 1), padding=(1, 1))\n",
       "      (bn): BatchNorm2d(128, eps=1e-05, momentum=0.1, affine=True, track_running_stats=True)\n",
       "      (relu): ReLU()\n",
       "    )\n",
       "    (6): Unit(\n",
       "      (conv): Conv2d(128, 128, kernel_size=(3, 3), stride=(1, 1), padding=(1, 1))\n",
       "      (bn): BatchNorm2d(128, eps=1e-05, momentum=0.1, affine=True, track_running_stats=True)\n",
       "      (relu): ReLU()\n",
       "    )\n",
       "    (7): Unit(\n",
       "      (conv): Conv2d(128, 128, kernel_size=(3, 3), stride=(1, 1), padding=(1, 1))\n",
       "      (bn): BatchNorm2d(128, eps=1e-05, momentum=0.1, affine=True, track_running_stats=True)\n",
       "      (relu): ReLU()\n",
       "    )\n",
       "    (8): MaxPool2d(kernel_size=2, stride=2, padding=0, dilation=1, ceil_mode=False)\n",
       "    (9): Unit(\n",
       "      (conv): Conv2d(128, 128, kernel_size=(3, 3), stride=(1, 1), padding=(1, 1))\n",
       "      (bn): BatchNorm2d(128, eps=1e-05, momentum=0.1, affine=True, track_running_stats=True)\n",
       "      (relu): ReLU()\n",
       "    )\n",
       "    (10): Unit(\n",
       "      (conv): Conv2d(128, 128, kernel_size=(3, 3), stride=(1, 1), padding=(1, 1))\n",
       "      (bn): BatchNorm2d(128, eps=1e-05, momentum=0.1, affine=True, track_running_stats=True)\n",
       "      (relu): ReLU()\n",
       "    )\n",
       "    (11): Unit(\n",
       "      (conv): Conv2d(128, 128, kernel_size=(3, 3), stride=(1, 1), padding=(1, 1))\n",
       "      (bn): BatchNorm2d(128, eps=1e-05, momentum=0.1, affine=True, track_running_stats=True)\n",
       "      (relu): ReLU()\n",
       "    )\n",
       "    (12): Unit(\n",
       "      (conv): Conv2d(128, 128, kernel_size=(3, 3), stride=(1, 1), padding=(1, 1))\n",
       "      (bn): BatchNorm2d(128, eps=1e-05, momentum=0.1, affine=True, track_running_stats=True)\n",
       "      (relu): ReLU()\n",
       "    )\n",
       "    (13): MaxPool2d(kernel_size=2, stride=2, padding=0, dilation=1, ceil_mode=False)\n",
       "    (14): Unit1(\n",
       "      (conv): Conv2d(128, 128, kernel_size=(1, 1), stride=(1, 1))\n",
       "      (bn): BatchNorm2d(128, eps=1e-05, momentum=0.1, affine=True, track_running_stats=True)\n",
       "      (relu): ReLU()\n",
       "    )\n",
       "    (15): Unit1(\n",
       "      (conv): Conv2d(128, 128, kernel_size=(1, 1), stride=(1, 1))\n",
       "      (bn): BatchNorm2d(128, eps=1e-05, momentum=0.1, affine=True, track_running_stats=True)\n",
       "      (relu): ReLU()\n",
       "    )\n",
       "    (16): Unit(\n",
       "      (conv): Conv2d(128, 128, kernel_size=(3, 3), stride=(1, 1), padding=(1, 1))\n",
       "      (bn): BatchNorm2d(128, eps=1e-05, momentum=0.1, affine=True, track_running_stats=True)\n",
       "      (relu): ReLU()\n",
       "    )\n",
       "    (17): AvgPool2d(kernel_size=3, stride=3, padding=0)\n",
       "  )\n",
       "  (fc): Linear(in_features=128, out_features=6, bias=True)\n",
       ")"
      ]
     },
     "execution_count": 26,
     "metadata": {},
     "output_type": "execute_result"
    }
   ],
   "source": [
    "# class SimpleNet(nn.Module):\n",
    "#     def __init__(self, num_classes=6):\n",
    "#         super(SimpleNet, self).__init__()\n",
    "\n",
    "#         self.conv1 = nn.Conv2d(in_channels=1, out_channels=12, kernel_size=3, stride=1, padding=1)\n",
    "#         self.relu1 = nn.ReLU()\n",
    "\n",
    "#         self.conv2 = nn.Conv2d(in_channels=12, out_channels=12, kernel_size=3, stride=1, padding=1)\n",
    "#         self.relu2 = nn.ReLU()\n",
    "\n",
    "#         self.pool = nn.MaxPool2d(kernel_size=2)\n",
    "\n",
    "#         self.conv3 = nn.Conv2d(in_channels=12, out_channels=24, kernel_size=3, stride=1, padding=1)\n",
    "#         self.relu3 = nn.ReLU()\n",
    "\n",
    "#         self.conv4 = nn.Conv2d(in_channels=24, out_channels=24, kernel_size=3, stride=1, padding=1)\n",
    "#         self.relu4 = nn.ReLU()\n",
    "\n",
    "#         self.fc = nn.Linear(in_features=14 * 14 * 24, out_features=num_classes)\n",
    "\n",
    "#     def forward(self, input):\n",
    "#         output = self.conv1(input)\n",
    "#         output = self.relu1(output)\n",
    "\n",
    "#         output = self.conv2(output)\n",
    "#         output = self.relu2(output)\n",
    "\n",
    "#         output = self.pool(output)\n",
    "\n",
    "#         output = self.conv3(output)\n",
    "#         output = self.relu3(output)\n",
    "\n",
    "#         output = self.conv4(output)\n",
    "#         output = self.relu4(output)\n",
    "\n",
    "#         output = output.view(-1, 14 * 14 * 24)\n",
    "\n",
    "#         output = self.fc(output)\n",
    "\n",
    "#         return output\n",
    "    \n",
    "model = SimpleNet(num_classes=6)\n",
    "\n",
    "opt   = optim.Adam(model.parameters(), lr=0.001, weight_decay=0.0001)\n",
    "\n",
    "model.to(dev)"
   ]
  },
  {
   "cell_type": "code",
   "execution_count": 43,
   "metadata": {},
   "outputs": [
    {
     "name": "stdout",
     "output_type": "stream",
     "text": [
      "0 0.3794380965232849 tensor(1., device='cuda:0') (tensor(0.9297, device='cuda:0'), tensor(0.8828, device='cuda:0'), tensor(0.9336, device='cuda:0'), tensor(0.8828, device='cuda:0'), tensor(0.9258, device='cuda:0'), tensor(0.9023, device='cuda:0'), tensor(0.9219, device='cuda:0'), tensor(0.9327, device='cuda:0'))\n",
      "\n",
      "\n",
      "1 0.4382816245555878 tensor(1., device='cuda:0') (tensor(0.9297, device='cuda:0'), tensor(0.8789, device='cuda:0'), tensor(0.9180, device='cuda:0'), tensor(0.8984, device='cuda:0'), tensor(0.9102, device='cuda:0'), tensor(0.9141, device='cuda:0'), tensor(0.9375, device='cuda:0'), tensor(0.9327, device='cuda:0'))\n",
      "\n",
      "\n",
      "2 0.4264542098045349 tensor(1., device='cuda:0') (tensor(0.9023, device='cuda:0'), tensor(0.9023, device='cuda:0'), tensor(0.9336, device='cuda:0'), tensor(0.8867, device='cuda:0'), tensor(0.9141, device='cuda:0'), tensor(0.9062, device='cuda:0'), tensor(0.9297, device='cuda:0'), tensor(0.9327, device='cuda:0'))\n",
      "\n",
      "\n",
      "3 0.3932993655204773 tensor(1., device='cuda:0') (tensor(0.9336, device='cuda:0'), tensor(0.9062, device='cuda:0'), tensor(0.9414, device='cuda:0'), tensor(0.8867, device='cuda:0'), tensor(0.9258, device='cuda:0'), tensor(0.9062, device='cuda:0'), tensor(0.9414, device='cuda:0'), tensor(0.9327, device='cuda:0'))\n",
      "\n",
      "\n",
      "4 0.39587940835952756 tensor(1., device='cuda:0') (tensor(0.9258, device='cuda:0'), tensor(0.9062, device='cuda:0'), tensor(0.9258, device='cuda:0'), tensor(0.8984, device='cuda:0'), tensor(0.9102, device='cuda:0'), tensor(0.8984, device='cuda:0'), tensor(0.9336, device='cuda:0'), tensor(0.9231, device='cuda:0'))\n",
      "\n",
      "\n",
      "5 0.39719373059272767 tensor(1., device='cuda:0') (tensor(0.9180, device='cuda:0'), tensor(0.9102, device='cuda:0'), tensor(0.9336, device='cuda:0'), tensor(0.8906, device='cuda:0'), tensor(0.9375, device='cuda:0'), tensor(0.8984, device='cuda:0'), tensor(0.9219, device='cuda:0'), tensor(0.9327, device='cuda:0'))\n",
      "\n",
      "\n",
      "6 0.4791881566047668 tensor(1., device='cuda:0') (tensor(0.9297, device='cuda:0'), tensor(0.8984, device='cuda:0'), tensor(0.8945, device='cuda:0'), tensor(0.8945, device='cuda:0'), tensor(0.9297, device='cuda:0'), tensor(0.8984, device='cuda:0'), tensor(0.9062, device='cuda:0'), tensor(0.9231, device='cuda:0'))\n",
      "\n",
      "\n",
      "7 0.4132472262382507 tensor(1., device='cuda:0') (tensor(0.9297, device='cuda:0'), tensor(0.9102, device='cuda:0'), tensor(0.9219, device='cuda:0'), tensor(0.8711, device='cuda:0'), tensor(0.9219, device='cuda:0'), tensor(0.9062, device='cuda:0'), tensor(0.9102, device='cuda:0'), tensor(0.9231, device='cuda:0'))\n",
      "\n",
      "\n",
      "8 0.4924663360118866 tensor(1., device='cuda:0') (tensor(0.9141, device='cuda:0'), tensor(0.8711, device='cuda:0'), tensor(0.9102, device='cuda:0'), tensor(0.8672, device='cuda:0'), tensor(0.9062, device='cuda:0'), tensor(0.8867, device='cuda:0'), tensor(0.9336, device='cuda:0'), tensor(0.9038, device='cuda:0'))\n",
      "\n",
      "\n",
      "9 0.43550760245323183 tensor(1., device='cuda:0') (tensor(0.9102, device='cuda:0'), tensor(0.9102, device='cuda:0'), tensor(0.9297, device='cuda:0'), tensor(0.8867, device='cuda:0'), tensor(0.9141, device='cuda:0'), tensor(0.8945, device='cuda:0'), tensor(0.9102, device='cuda:0'), tensor(0.9087, device='cuda:0'))\n",
      "\n",
      "\n",
      "10 0.5031898560523986 tensor(1., device='cuda:0') (tensor(0.9102, device='cuda:0'), tensor(0.8867, device='cuda:0'), tensor(0.9102, device='cuda:0'), tensor(0.8672, device='cuda:0'), tensor(0.9141, device='cuda:0'), tensor(0.8789, device='cuda:0'), tensor(0.8984, device='cuda:0'), tensor(0.9231, device='cuda:0'))\n",
      "\n",
      "\n",
      "11 0.5448112707138062 tensor(1., device='cuda:0') (tensor(0.9062, device='cuda:0'), tensor(0.8555, device='cuda:0'), tensor(0.8828, device='cuda:0'), tensor(0.8711, device='cuda:0'), tensor(0.8984, device='cuda:0'), tensor(0.8984, device='cuda:0'), tensor(0.9258, device='cuda:0'), tensor(0.9183, device='cuda:0'))\n",
      "\n",
      "\n",
      "12 0.4405217444896698 tensor(1., device='cuda:0') (tensor(0.9297, device='cuda:0'), tensor(0.8945, device='cuda:0'), tensor(0.9297, device='cuda:0'), tensor(0.8945, device='cuda:0'), tensor(0.9141, device='cuda:0'), tensor(0.9023, device='cuda:0'), tensor(0.9102, device='cuda:0'), tensor(0.9231, device='cuda:0'))\n",
      "\n",
      "\n",
      "13 0.39573303556442263 tensor(1., device='cuda:0') (tensor(0.9102, device='cuda:0'), tensor(0.8945, device='cuda:0'), tensor(0.9258, device='cuda:0'), tensor(0.9141, device='cuda:0'), tensor(0.9219, device='cuda:0'), tensor(0.9062, device='cuda:0'), tensor(0.9336, device='cuda:0'), tensor(0.9183, device='cuda:0'))\n",
      "\n",
      "\n",
      "14 0.39013038730621336 tensor(1., device='cuda:0') (tensor(0.9297, device='cuda:0'), tensor(0.8945, device='cuda:0'), tensor(0.9336, device='cuda:0'), tensor(0.9141, device='cuda:0'), tensor(0.9336, device='cuda:0'), tensor(0.8984, device='cuda:0'), tensor(0.9180, device='cuda:0'), tensor(0.9375, device='cuda:0'))\n",
      "\n",
      "\n",
      "15 0.3915658175945282 tensor(1., device='cuda:0') (tensor(0.9336, device='cuda:0'), tensor(0.8984, device='cuda:0'), tensor(0.9336, device='cuda:0'), tensor(0.9141, device='cuda:0'), tensor(0.9375, device='cuda:0'), tensor(0.9062, device='cuda:0'), tensor(0.9180, device='cuda:0'), tensor(0.9327, device='cuda:0'))\n",
      "\n",
      "\n",
      "16 0.38074964022636415 tensor(1., device='cuda:0') (tensor(0.9219, device='cuda:0'), tensor(0.9102, device='cuda:0'), tensor(0.9336, device='cuda:0'), tensor(0.9141, device='cuda:0'), tensor(0.9375, device='cuda:0'), tensor(0.9023, device='cuda:0'), tensor(0.9180, device='cuda:0'), tensor(0.9375, device='cuda:0'))\n",
      "\n",
      "\n",
      "17 0.40580312299728394 tensor(1., device='cuda:0') (tensor(0.9180, device='cuda:0'), tensor(0.9062, device='cuda:0'), tensor(0.9258, device='cuda:0'), tensor(0.9102, device='cuda:0'), tensor(0.9297, device='cuda:0'), tensor(0.9062, device='cuda:0'), tensor(0.9141, device='cuda:0'), tensor(0.9375, device='cuda:0'))\n",
      "\n",
      "\n",
      "18 0.41290492248535154 tensor(1., device='cuda:0') (tensor(0.9219, device='cuda:0'), tensor(0.9336, device='cuda:0'), tensor(0.9258, device='cuda:0'), tensor(0.9102, device='cuda:0'), tensor(0.9375, device='cuda:0'), tensor(0.9062, device='cuda:0'), tensor(0.9102, device='cuda:0'), tensor(0.9471, device='cuda:0'))\n",
      "\n",
      "\n",
      "19 0.4191609435081482 tensor(1., device='cuda:0') (tensor(0.9297, device='cuda:0'), tensor(0.8906, device='cuda:0'), tensor(0.9180, device='cuda:0'), tensor(0.9180, device='cuda:0'), tensor(0.9258, device='cuda:0'), tensor(0.9062, device='cuda:0'), tensor(0.9297, device='cuda:0'), tensor(0.9375, device='cuda:0'))\n",
      "\n",
      "\n"
     ]
    }
   ],
   "source": [
    "bs = 32\n",
    "lr = 0.0005\n",
    "epochs = 20\n",
    "opt = optim.Adam(model.parameters(), lr=lr, weight_decay=0.0001)\n",
    "fit(epochs, model, loss_func, opt, train_dl, test_dl)"
   ]
  },
  {
   "cell_type": "code",
   "execution_count": 46,
   "metadata": {},
   "outputs": [],
   "source": [
    "model_best = torch.load(str(PATH/'035.model')).to(cpu)\n",
    "model_best.eval()\n",
    "test_y = []\n",
    "for row in test_x:\n",
    "    res = model_best(row.unsqueeze(0))\n",
    "    test_y.append(res)\n",
    "\n"
   ]
  },
  {
   "cell_type": "code",
   "execution_count": 47,
   "metadata": {},
   "outputs": [
    {
     "data": {
      "text/plain": [
       "1200"
      ]
     },
     "execution_count": 47,
     "metadata": {},
     "output_type": "execute_result"
    }
   ],
   "source": [
    "len(test_y)"
   ]
  },
  {
   "cell_type": "code",
   "execution_count": 48,
   "metadata": {},
   "outputs": [],
   "source": [
    "preds = []\n",
    "for row in test_y:\n",
    "    pred = torch.argmax(row[0], dim=-1)\n",
    "    preds.append(pred.item()+1)"
   ]
  },
  {
   "cell_type": "code",
   "execution_count": 49,
   "metadata": {},
   "outputs": [],
   "source": [
    "key = { 1: 'boomerang', 2:'kangaroo', 3:'crab', 4:'cactus', 5:'flip flops', 6:'banana' }\n",
    "\n",
    "preds2 = []\n",
    "for item in preds:\n",
    "    preds2.append(key[item])"
   ]
  },
  {
   "cell_type": "code",
   "execution_count": 50,
   "metadata": {},
   "outputs": [
    {
     "name": "stdout",
     "output_type": "stream",
     "text": [
      "cactus\n"
     ]
    },
    {
     "data": {
      "image/png": "[encoded data removed]",
      "text/plain": [
       "<Figure size 432x288 with 1 Axes>"
      ]
     },
     "metadata": {
      "needs_background": "light"
     },
     "output_type": "display_data"
    }
   ],
   "source": [
    "x = 653\n",
    "plt.pyplot.imshow(test_x[x].reshape((28, 28)), cmap=\"gray\")\n",
    "print(preds2[x])"
   ]
  },
  {
   "cell_type": "code",
   "execution_count": 50,
   "metadata": {},
   "outputs": [],
   "source": [
    "import csv\n",
    "\n",
    "with open(\"results.csv\", \"w\", newline=\"\") as f:\n",
    "    writer = csv.writer(f)\n",
    "    writer.writerow(preds2)"
   ]
  }
 ],
 "metadata": {
  "kernelspec": {
   "display_name": "Python [conda env:fastai] *",
   "language": "python",
   "name": "conda-env-fastai-py"
  },
  "language_info": {
   "codemirror_mode": {
    "name": "ipython",
    "version": 3
   },
   "file_extension": ".py",
   "mimetype": "text/x-python",
   "name": "python",
   "nbconvert_exporter": "python",
   "pygments_lexer": "ipython3",
   "version": "3.7.6"
  }
 },
 "nbformat": 4,
 "nbformat_minor": 4
}
