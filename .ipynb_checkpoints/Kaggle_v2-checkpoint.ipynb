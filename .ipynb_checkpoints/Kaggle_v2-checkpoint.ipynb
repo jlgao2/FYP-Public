{
 "cells": [
  {
   "cell_type": "markdown",
   "metadata": {},
   "source": [
    "notes to improve on\n",
    "\n",
    "regularisation\n",
    "transforms\n",
    "auto lr find\n",
    "transfer learning?"
   ]
  },
  {
   "cell_type": "code",
   "execution_count": 1,
   "metadata": {},
   "outputs": [],
   "source": [
    "import os\n",
    "import numpy as np\n",
    "import pandas as pd\n",
    "import matplotlib as plt\n",
    "from pathlib2 import Path\n",
    "from PIL import Image\n",
    "import torch\n",
    "import math\n",
    "import torch.nn as nn\n",
    "from torchvision.transforms import transforms\n",
    "from matplotlib import pyplot\n",
    "import pandas as pd\n"
   ]
  },
  {
   "cell_type": "markdown",
   "metadata": {},
   "source": [
    "The key"
   ]
  },
  {
   "cell_type": "code",
   "execution_count": null,
   "metadata": {},
   "outputs": [],
   "source": []
  },
  {
   "cell_type": "markdown",
   "metadata": {},
   "source": [
    "Paths"
   ]
  },
  {
   "cell_type": "code",
   "execution_count": 2,
   "metadata": {},
   "outputs": [],
   "source": [
    "DATA_PATH = Path(os.getcwd()+\"/data\")\n",
    "PATH = DATA_PATH/\"kaggle\"\n",
    "TRAIN_PATH = PATH/\"Train/\"\n",
    "TEST_PATH = PATH/\"Test/\""
   ]
  },
  {
   "cell_type": "markdown",
   "metadata": {},
   "source": [
    "Select Devices"
   ]
  },
  {
   "cell_type": "markdown",
   "metadata": {},
   "source": [
    "Import CSVs"
   ]
  },
  {
   "cell_type": "code",
   "execution_count": 3,
   "metadata": {},
   "outputs": [],
   "source": [
    "sketch_df = pd.read_csv(PATH/'sketches_train.csv')"
   ]
  },
  {
   "cell_type": "code",
   "execution_count": 4,
   "metadata": {},
   "outputs": [
    {
     "data": {
      "text/plain": [
       "<bound method NDFrame.head of       V1  V2  V3  V4  V5  V6  V7  V8  V9  V10  ...  V775  V776  V777  V778  \\\n",
       "0      0   0   0   0   0   0   0   0   0    0  ...     0     0     0     0   \n",
       "1      0   0   0   0   0   0   0   0   0    0  ...     0     0     0     0   \n",
       "2      0   0   0   0   0   0   0   0   0    0  ...     0     0     0     0   \n",
       "3      0   0   0   0   0   0   0   0   0    0  ...     0     0     0     0   \n",
       "4      0   0   0   0   0   0   0   0   0    0  ...     0     0     0     0   \n",
       "...   ..  ..  ..  ..  ..  ..  ..  ..  ..  ...  ...   ...   ...   ...   ...   \n",
       "5995   0   0   0   0   0   0   0   0   0    0  ...     0     0     0     0   \n",
       "5996   0   0   0   0   0   0   0   0   0    0  ...     0     0     0     0   \n",
       "5997   0   0   0   0   0   0   0   0   0    0  ...     0     0     0     0   \n",
       "5998   0   0   0   0   0   0   0   0   0    0  ...     0     0     0     0   \n",
       "5999   0   0   0   0   0   0   0   0   0    0  ...     0     0     0     0   \n",
       "\n",
       "      V779  V780  V781  V782  V783  V784  \n",
       "0        0     0     0     0     0     0  \n",
       "1        0     0     0     0     0     0  \n",
       "2        0     0     0     0     0     0  \n",
       "3        0     0     0     0     0     0  \n",
       "4        0     0     0     0     0     0  \n",
       "...    ...   ...   ...   ...   ...   ...  \n",
       "5995     0     0     0     0     0     0  \n",
       "5996     0     0     0     0     0     0  \n",
       "5997     0     0     0     0     0     0  \n",
       "5998     0     0     0     0     0     0  \n",
       "5999     0     0     0     0     0     0  \n",
       "\n",
       "[6000 rows x 784 columns]>"
      ]
     },
     "execution_count": 4,
     "metadata": {},
     "output_type": "execute_result"
    }
   ],
   "source": [
    "sketch_x = sketch_df.iloc[:,1:785]\n",
    "sketch_x.head"
   ]
  },
  {
   "cell_type": "code",
   "execution_count": 5,
   "metadata": {},
   "outputs": [
    {
     "data": {
      "text/plain": [
       "<bound method NDFrame.head of            word\n",
       "0     boomerang\n",
       "1     boomerang\n",
       "2     boomerang\n",
       "3     boomerang\n",
       "4     boomerang\n",
       "...         ...\n",
       "5995     banana\n",
       "5996     banana\n",
       "5997     banana\n",
       "5998     banana\n",
       "5999     banana\n",
       "\n",
       "[6000 rows x 1 columns]>"
      ]
     },
     "execution_count": 5,
     "metadata": {},
     "output_type": "execute_result"
    }
   ],
   "source": [
    "sketch_y = sketch_df.iloc[:,785:786]\n",
    "sketch_y.head"
   ]
  },
  {
   "cell_type": "code",
   "execution_count": 6,
   "metadata": {},
   "outputs": [
    {
     "data": {
      "text/plain": [
       "(784,)"
      ]
     },
     "execution_count": 6,
     "metadata": {},
     "output_type": "execute_result"
    }
   ],
   "source": [
    "(sketch_x.to_numpy()[5]).shape"
   ]
  },
  {
   "cell_type": "code",
   "execution_count": 36,
   "metadata": {},
   "outputs": [],
   "source": [
    "#make images from array\n",
    "i = 0\n",
    "for row in sketch_x.to_numpy(): #get numpy array from pandas df \n",
    "    arr = row \n",
    "    i += 1\n",
    "    sqr = arr.reshape(28,28).astype(np.uint8)\n",
    "    img = Image.fromarray(sqr)\n",
    "    img.save(str(TRAIN_PATH)+\"/\"+str(i)+\".png\", \"PNG\")"
   ]
  },
  {
   "cell_type": "code",
   "execution_count": 22,
   "metadata": {},
   "outputs": [
    {
     "data": {
      "text/plain": [
       "WindowsPath('C:/Users/georg/.fyp/data/kaggle/Train')"
      ]
     },
     "execution_count": 22,
     "metadata": {},
     "output_type": "execute_result"
    }
   ],
   "source": [
    "TRAIN_PATH"
   ]
  },
  {
   "cell_type": "code",
   "execution_count": 39,
   "metadata": {},
   "outputs": [],
   "source": [
    "#organise images into class folders\n",
    "\n",
    "shapeIDs = list(sketch_y['word'].unique())\n",
    "\n",
    "#Run Once to make img\n",
    "for s in shapeIDs:\n",
    "    os.makedirs(str(TRAIN_PATH)+'/'+s)\n",
    "\n",
    "for idx in sketch_y.index:\n",
    "    image = str(idx+1)+'.png'\n",
    "    folder = sketch_y.loc[idx, 'word']\n",
    "    old = 'C:/Users/georg/.fyp/data/kaggle/Train/{}'.format(image)\n",
    "    new = 'C:/Users/georg/.fyp/data/kaggle/Train/{}/{}'.format(folder, image)\n",
    "    try:\n",
    "        os.rename(old, new)\n",
    "    except:\n",
    "        print('{} - {}'.format(image,folder))"
   ]
  },
  {
   "cell_type": "code",
   "execution_count": 3,
   "metadata": {},
   "outputs": [],
   "source": [
    "#try fastai method\n",
    "from fastai.vision import *\n",
    "np.random.seed(103078)\n",
    "sketch_data = ImageDataBunch.from_folder(TRAIN_PATH, train=\".\", valid_pct=0.2,\n",
    "        ds_tfms=get_transforms(), size=28, num_workers=1).normalize(mnist_stats)"
   ]
  },
  {
   "cell_type": "code",
   "execution_count": 6,
   "metadata": {},
   "outputs": [
    {
     "data": {
      "text/plain": [
       "['banana', 'boomerang', 'cactus', 'crab', 'flip flops', 'kangaroo']"
      ]
     },
     "execution_count": 6,
     "metadata": {},
     "output_type": "execute_result"
    }
   ],
   "source": [
    "sketch_data.classes"
   ]
  },
  {
   "cell_type": "code",
   "execution_count": 7,
   "metadata": {},
   "outputs": [
    {
     "data": {
      "image/png": "[encoded data removed]",
      "text/plain": [
       "<Figure size 504x576 with 9 Axes>"
      ]
     },
     "metadata": {
      "needs_background": "light"
     },
     "output_type": "display_data"
    }
   ],
   "source": [
    "sketch_data.show_batch(rows=3, figsize=(7,8))"
   ]
  },
  {
   "cell_type": "code",
   "execution_count": 4,
   "metadata": {},
   "outputs": [],
   "source": [
    "learn = cnn_learner(sketch_data, models.resnet18, metrics=error_rate)"
   ]
  },
  {
   "cell_type": "code",
   "execution_count": 5,
   "metadata": {},
   "outputs": [
    {
     "data": {
      "text/html": [
       "<table border=\"1\" class=\"dataframe\">\n",
       "  <thead>\n",
       "    <tr style=\"text-align: left;\">\n",
       "      <th>epoch</th>\n",
       "      <th>train_loss</th>\n",
       "      <th>valid_loss</th>\n",
       "      <th>error_rate</th>\n",
       "      <th>time</th>\n",
       "    </tr>\n",
       "  </thead>\n",
       "  <tbody>\n",
       "    <tr>\n",
       "      <td>0</td>\n",
       "      <td>1.829348</td>\n",
       "      <td>0.996797</td>\n",
       "      <td>0.330000</td>\n",
       "      <td>00:15</td>\n",
       "    </tr>\n",
       "    <tr>\n",
       "      <td>1</td>\n",
       "      <td>1.327040</td>\n",
       "      <td>1.024099</td>\n",
       "      <td>0.301667</td>\n",
       "      <td>00:13</td>\n",
       "    </tr>\n",
       "    <tr>\n",
       "      <td>2</td>\n",
       "      <td>1.121290</td>\n",
       "      <td>0.891089</td>\n",
       "      <td>0.272500</td>\n",
       "      <td>00:14</td>\n",
       "    </tr>\n",
       "    <tr>\n",
       "      <td>3</td>\n",
       "      <td>0.970518</td>\n",
       "      <td>0.802651</td>\n",
       "      <td>0.263333</td>\n",
       "      <td>00:12</td>\n",
       "    </tr>\n",
       "    <tr>\n",
       "      <td>4</td>\n",
       "      <td>0.885908</td>\n",
       "      <td>0.728460</td>\n",
       "      <td>0.237500</td>\n",
       "      <td>00:13</td>\n",
       "    </tr>\n",
       "    <tr>\n",
       "      <td>5</td>\n",
       "      <td>0.795257</td>\n",
       "      <td>0.660467</td>\n",
       "      <td>0.224167</td>\n",
       "      <td>00:13</td>\n",
       "    </tr>\n",
       "    <tr>\n",
       "      <td>6</td>\n",
       "      <td>0.740722</td>\n",
       "      <td>0.646777</td>\n",
       "      <td>0.204167</td>\n",
       "      <td>00:13</td>\n",
       "    </tr>\n",
       "    <tr>\n",
       "      <td>7</td>\n",
       "      <td>0.718460</td>\n",
       "      <td>0.619522</td>\n",
       "      <td>0.212500</td>\n",
       "      <td>00:13</td>\n",
       "    </tr>\n",
       "    <tr>\n",
       "      <td>8</td>\n",
       "      <td>0.677186</td>\n",
       "      <td>0.613215</td>\n",
       "      <td>0.205000</td>\n",
       "      <td>00:12</td>\n",
       "    </tr>\n",
       "    <tr>\n",
       "      <td>9</td>\n",
       "      <td>0.650759</td>\n",
       "      <td>0.610745</td>\n",
       "      <td>0.199167</td>\n",
       "      <td>00:13</td>\n",
       "    </tr>\n",
       "  </tbody>\n",
       "</table>"
      ],
      "text/plain": [
       "<IPython.core.display.HTML object>"
      ]
     },
     "metadata": {},
     "output_type": "display_data"
    }
   ],
   "source": [
    "learn.fit_one_cycle(10)"
   ]
  },
  {
   "cell_type": "code",
   "execution_count": 6,
   "metadata": {},
   "outputs": [],
   "source": [
    "learn.save('stage-1')"
   ]
  },
  {
   "cell_type": "code",
   "execution_count": 7,
   "metadata": {},
   "outputs": [],
   "source": [
    "learn.unfreeze()"
   ]
  },
  {
   "cell_type": "code",
   "execution_count": 11,
   "metadata": {},
   "outputs": [
    {
     "data": {
      "text/html": [
       "\n",
       "    <div>\n",
       "        <style>\n",
       "            /* Turns off some styling */\n",
       "            progress {\n",
       "                /* gets rid of default border in Firefox and Opera. */\n",
       "                border: none;\n",
       "                /* Needs to be in here for Safari polyfill so background images work as expected. */\n",
       "                background-size: auto;\n",
       "            }\n",
       "            .progress-bar-interrupted, .progress-bar-interrupted::-webkit-progress-bar {\n",
       "                background: #F44336;\n",
       "            }\n",
       "        </style>\n",
       "      <progress value='0' class='' max='2', style='width:300px; height:20px; vertical-align: middle;'></progress>\n",
       "      0.00% [0/2 00:00<00:00]\n",
       "    </div>\n",
       "    \n",
       "<table border=\"1\" class=\"dataframe\">\n",
       "  <thead>\n",
       "    <tr style=\"text-align: left;\">\n",
       "      <th>epoch</th>\n",
       "      <th>train_loss</th>\n",
       "      <th>valid_loss</th>\n",
       "      <th>error_rate</th>\n",
       "      <th>time</th>\n",
       "    </tr>\n",
       "  </thead>\n",
       "  <tbody>\n",
       "  </tbody>\n",
       "</table><p>\n",
       "\n",
       "    <div>\n",
       "        <style>\n",
       "            /* Turns off some styling */\n",
       "            progress {\n",
       "                /* gets rid of default border in Firefox and Opera. */\n",
       "                border: none;\n",
       "                /* Needs to be in here for Safari polyfill so background images work as expected. */\n",
       "                background-size: auto;\n",
       "            }\n",
       "            .progress-bar-interrupted, .progress-bar-interrupted::-webkit-progress-bar {\n",
       "                background: #F44336;\n",
       "            }\n",
       "        </style>\n",
       "      <progress value='74' class='' max='75', style='width:300px; height:20px; vertical-align: middle;'></progress>\n",
       "      98.67% [74/75 00:10<00:00 0.5881]\n",
       "    </div>\n",
       "    "
      ],
      "text/plain": [
       "<IPython.core.display.HTML object>"
      ]
     },
     "metadata": {},
     "output_type": "display_data"
    },
    {
     "name": "stdout",
     "output_type": "stream",
     "text": [
      "LR Finder is complete, type {learner_name}.recorder.plot() to see the graph.\n"
     ]
    }
   ],
   "source": [
    "learn.lr_find()"
   ]
  },
  {
   "cell_type": "code",
   "execution_count": 12,
   "metadata": {},
   "outputs": [
    {
     "data": {
      "image/png": "[encoded data removed]",
      "text/plain": [
       "<Figure size 432x288 with 1 Axes>"
      ]
     },
     "metadata": {
      "needs_background": "light"
     },
     "output_type": "display_data"
    }
   ],
   "source": [
    "# If the plot is not showing try to give a start and end learning rate\n",
    "# learn.lr_find(start_lr=1e-5, end_lr=1e-1)\n",
    "learn.recorder.plot()"
   ]
  },
  {
   "cell_type": "code",
   "execution_count": 10,
   "metadata": {},
   "outputs": [
    {
     "data": {
      "text/html": [
       "<table border=\"1\" class=\"dataframe\">\n",
       "  <thead>\n",
       "    <tr style=\"text-align: left;\">\n",
       "      <th>epoch</th>\n",
       "      <th>train_loss</th>\n",
       "      <th>valid_loss</th>\n",
       "      <th>error_rate</th>\n",
       "      <th>time</th>\n",
       "    </tr>\n",
       "  </thead>\n",
       "  <tbody>\n",
       "    <tr>\n",
       "      <td>0</td>\n",
       "      <td>0.608253</td>\n",
       "      <td>0.516518</td>\n",
       "      <td>0.156667</td>\n",
       "      <td>00:14</td>\n",
       "    </tr>\n",
       "    <tr>\n",
       "      <td>1</td>\n",
       "      <td>0.559510</td>\n",
       "      <td>0.533065</td>\n",
       "      <td>0.175833</td>\n",
       "      <td>00:14</td>\n",
       "    </tr>\n",
       "    <tr>\n",
       "      <td>2</td>\n",
       "      <td>0.585220</td>\n",
       "      <td>0.588249</td>\n",
       "      <td>0.192500</td>\n",
       "      <td>00:13</td>\n",
       "    </tr>\n",
       "    <tr>\n",
       "      <td>3</td>\n",
       "      <td>0.542999</td>\n",
       "      <td>0.575338</td>\n",
       "      <td>0.162500</td>\n",
       "      <td>00:12</td>\n",
       "    </tr>\n",
       "    <tr>\n",
       "      <td>4</td>\n",
       "      <td>0.483458</td>\n",
       "      <td>0.553818</td>\n",
       "      <td>0.172500</td>\n",
       "      <td>00:13</td>\n",
       "    </tr>\n",
       "    <tr>\n",
       "      <td>5</td>\n",
       "      <td>0.473940</td>\n",
       "      <td>0.496929</td>\n",
       "      <td>0.165000</td>\n",
       "      <td>00:13</td>\n",
       "    </tr>\n",
       "    <tr>\n",
       "      <td>6</td>\n",
       "      <td>0.430236</td>\n",
       "      <td>0.384575</td>\n",
       "      <td>0.116667</td>\n",
       "      <td>00:13</td>\n",
       "    </tr>\n",
       "    <tr>\n",
       "      <td>7</td>\n",
       "      <td>0.376217</td>\n",
       "      <td>0.392468</td>\n",
       "      <td>0.113333</td>\n",
       "      <td>00:13</td>\n",
       "    </tr>\n",
       "    <tr>\n",
       "      <td>8</td>\n",
       "      <td>0.352669</td>\n",
       "      <td>0.429339</td>\n",
       "      <td>0.138333</td>\n",
       "      <td>00:13</td>\n",
       "    </tr>\n",
       "    <tr>\n",
       "      <td>9</td>\n",
       "      <td>0.330632</td>\n",
       "      <td>0.350675</td>\n",
       "      <td>0.107500</td>\n",
       "      <td>00:13</td>\n",
       "    </tr>\n",
       "    <tr>\n",
       "      <td>10</td>\n",
       "      <td>0.300884</td>\n",
       "      <td>0.303975</td>\n",
       "      <td>0.095000</td>\n",
       "      <td>00:13</td>\n",
       "    </tr>\n",
       "    <tr>\n",
       "      <td>11</td>\n",
       "      <td>0.263151</td>\n",
       "      <td>0.314674</td>\n",
       "      <td>0.100000</td>\n",
       "      <td>00:13</td>\n",
       "    </tr>\n",
       "    <tr>\n",
       "      <td>12</td>\n",
       "      <td>0.228355</td>\n",
       "      <td>0.294839</td>\n",
       "      <td>0.096667</td>\n",
       "      <td>00:13</td>\n",
       "    </tr>\n",
       "    <tr>\n",
       "      <td>13</td>\n",
       "      <td>0.205362</td>\n",
       "      <td>0.284776</td>\n",
       "      <td>0.092500</td>\n",
       "      <td>00:13</td>\n",
       "    </tr>\n",
       "    <tr>\n",
       "      <td>14</td>\n",
       "      <td>0.199675</td>\n",
       "      <td>0.284560</td>\n",
       "      <td>0.094167</td>\n",
       "      <td>00:13</td>\n",
       "    </tr>\n",
       "  </tbody>\n",
       "</table>"
      ],
      "text/plain": [
       "<IPython.core.display.HTML object>"
      ]
     },
     "metadata": {},
     "output_type": "display_data"
    }
   ],
   "source": [
    "learn.fit_one_cycle(15, max_lr=slice(3e-3,1e-6))"
   ]
  },
  {
   "cell_type": "code",
   "execution_count": 33,
   "metadata": {},
   "outputs": [],
   "source": [
    "learn.save('stage-2')"
   ]
  },
  {
   "cell_type": "code",
   "execution_count": 72,
   "metadata": {},
   "outputs": [
    {
     "data": {
      "text/html": [],
      "text/plain": [
       "<IPython.core.display.HTML object>"
      ]
     },
     "metadata": {},
     "output_type": "display_data"
    }
   ],
   "source": [
    "interp = ClassificationInterpretation.from_learner(learn)"
   ]
  },
  {
   "cell_type": "code",
   "execution_count": 73,
   "metadata": {},
   "outputs": [
    {
     "data": {
      "image/png": "[encoded data removed]",
      "text/plain": [
       "<Figure size 432x288 with 1 Axes>"
      ]
     },
     "metadata": {
      "needs_background": "light"
     },
     "output_type": "display_data"
    }
   ],
   "source": [
    "interp.plot_confusion_matrix()"
   ]
  },
  {
   "cell_type": "code",
   "execution_count": 34,
   "metadata": {},
   "outputs": [],
   "source": [
    "learn.export()"
   ]
  },
  {
   "cell_type": "code",
   "execution_count": 18,
   "metadata": {},
   "outputs": [],
   "source": [
    "test_df = pd.read_csv(PATH/'sketches_test.csv')"
   ]
  },
  {
   "cell_type": "code",
   "execution_count": 85,
   "metadata": {},
   "outputs": [
    {
     "data": {
      "text/plain": [
       "<bound method NDFrame.head of       Unnamed: 0  V1  V2  V3  V4  V5  V6  V7  V8  V9  ...  V777  V778  V779  \\\n",
       "0              1   0   0   0   0   0   0   0   0   0  ...     0     0     0   \n",
       "1              2   0   0   0   0   0   0   0   0   0  ...     0     0     0   \n",
       "2              3   0   0   0   0   0   0   0   0   0  ...     0     0     0   \n",
       "3              4   0   0   0   0   0   0   0   0   0  ...     0     0     0   \n",
       "4              5   0   0   0   0   0   0   0   0   0  ...     0     0     0   \n",
       "...          ...  ..  ..  ..  ..  ..  ..  ..  ..  ..  ...   ...   ...   ...   \n",
       "1195        1196   0   0   0   0   0   0   0   0   0  ...     0     0     0   \n",
       "1196        1197   0   0   0   0   0   0   0   0   0  ...     0     0     0   \n",
       "1197        1198   0   0   0   0   0   0   0   0   0  ...     0     0     0   \n",
       "1198        1199   0   0   0   0   0   0   0   0   0  ...     0     0     0   \n",
       "1199        1200   0   0   0   0   0   0   0   0   0  ...     0     0     0   \n",
       "\n",
       "      V780  V781  V782  V783  V784  word    id  \n",
       "0        0     0     0     0     0   NaN     1  \n",
       "1        0     0     0     0     0   NaN     2  \n",
       "2        0     0     0     0     0   NaN     3  \n",
       "3        0     0     0     0     0   NaN     4  \n",
       "4        0     0     0     0     0   NaN     5  \n",
       "...    ...   ...   ...   ...   ...   ...   ...  \n",
       "1195     0     0     0     0     0   NaN  1196  \n",
       "1196     0     0     0     0     0   NaN  1197  \n",
       "1197     0     0     0     0     0   NaN  1198  \n",
       "1198     0     0     0     0     0   NaN  1199  \n",
       "1199     0     0     0     0     0   NaN  1200  \n",
       "\n",
       "[1200 rows x 787 columns]>"
      ]
     },
     "execution_count": 85,
     "metadata": {},
     "output_type": "execute_result"
    }
   ],
   "source": [
    "test_df.head"
   ]
  },
  {
   "cell_type": "code",
   "execution_count": 35,
   "metadata": {},
   "outputs": [],
   "source": [
    "defaults.device = torch.device('cpu')\n",
    "\n",
    "pred_class = []\n",
    "pred_idx = []\n",
    "outputs = []\n",
    "\n",
    "for i in range(1200):\n",
    "    idx = i+1\n",
    "    img = open_image(str(TEST_PATH)+\"/\"+str(idx)+\".png\")\n",
    "    a,b,c = learn.predict(img)\n",
    "    pred_class.append(a)\n",
    "    pred_idx.append(b)\n",
    "    outputs.append(c)\n",
    "\n",
    "\n"
   ]
  },
  {
   "cell_type": "code",
   "execution_count": 20,
   "metadata": {},
   "outputs": [],
   "source": [
    "df = pd.DataFrame(data={\"id\": range(1,1201,1), \"word\": pred_class})\n",
    "df.to_csv(\"./result_pd.csv\", sep=',',index=False)"
   ]
  }
 ],
 "metadata": {
  "kernelspec": {
   "display_name": "Python [conda env:fastai] *",
   "language": "python",
   "name": "conda-env-fastai-py"
  },
  "language_info": {
   "codemirror_mode": {
    "name": "ipython",
    "version": 3
   },
   "file_extension": ".py",
   "mimetype": "text/x-python",
   "name": "python",
   "nbconvert_exporter": "python",
   "pygments_lexer": "ipython3",
   "version": "3.7.6"
  }
 },
 "nbformat": 4,
 "nbformat_minor": 4
}
