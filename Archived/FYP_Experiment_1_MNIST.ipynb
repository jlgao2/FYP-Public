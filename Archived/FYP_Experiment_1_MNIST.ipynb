{
 "cells": [
  {
   "cell_type": "code",
   "execution_count": 214,
   "metadata": {
    "colab": {
     "base_uri": "https://localhost:8080/",
     "height": 72
    },
    "colab_type": "code",
    "id": "EnzyDhFcryu-",
    "outputId": "86fec1d2-6cd8-4785-a655-0abcc78ad01b"
   },
   "outputs": [],
   "source": [
    "%matplotlib inline\n",
    "import os\n",
    "import skimage\n",
    "from pathlib import Path\n",
    "import requests\n",
    "import pickle\n",
    "import gzip\n",
    "from matplotlib import pyplot\n",
    "import numpy as np\n",
    "import PIL\n",
    "import torch\n",
    "from skimage.measure import compare_ssim\n",
    "import matplotlib.pyplot as plt"
   ]
  },
  {
   "cell_type": "markdown",
   "metadata": {},
   "source": [
    "Author: Jia Lin Gao 2020"
   ]
  },
  {
   "cell_type": "markdown",
   "metadata": {},
   "source": [
    "This notebook is adapted from blockquoted tutorial below\n"
   ]
  },
  {
   "cell_type": "markdown",
   "metadata": {
    "colab_type": "text",
    "id": "Dw79PqmAryvH"
   },
   "source": [
    "\n",
    ">What is `torch.nn` *really*?\n",
    "============================\n",
    "by Jeremy Howard, `fast.ai <https://www.fast.ai>`_. Thanks to Rachel Thomas and Francisco Ingham.\n"
   ]
  },
  {
   "cell_type": "code",
   "execution_count": 6,
   "metadata": {
    "colab": {},
    "colab_type": "code",
    "id": "-imu9jYFryvO"
   },
   "outputs": [],
   "source": [
    "DATA_PATH = os.getcwd()+\"/data\"\n",
    "PATH = Path(DATA_PATH+\"/mnist\")\n",
    "\n",
    "PATH.mkdir(parents=True, exist_ok=True)\n",
    "\n",
    "URL = \"http://deeplearning.net/data/mnist/\"\n",
    "FILENAME = \"mnist.pkl.gz\"\n",
    "\n",
    "if not (PATH / FILENAME).exists():\n",
    "        content = requests.get(URL + FILENAME).content\n",
    "        (PATH / FILENAME).open(\"wb\").write(content)"
   ]
  },
  {
   "cell_type": "markdown",
   "metadata": {
    "colab_type": "text",
    "id": "GXsyHWlTryvT"
   },
   "source": [
    ">This dataset is in numpy array format, and has been stored using pickle,\n",
    "a python-specific format for serializing data.\n",
    "\n"
   ]
  },
  {
   "cell_type": "code",
   "execution_count": 7,
   "metadata": {
    "colab": {},
    "colab_type": "code",
    "id": "4OdIvjDaryvV"
   },
   "outputs": [],
   "source": [
    "with gzip.open((PATH / FILENAME).as_posix(), \"rb\") as f:\n",
    "        ((x_train, y_train), (x_valid, y_valid), _) = pickle.load(f, encoding=\"latin-1\")"
   ]
  },
  {
   "cell_type": "markdown",
   "metadata": {
    "colab_type": "text",
    "id": "rJTytUHKryve"
   },
   "source": [
    ">Each image is 28 x 28, and is being stored as a flattened row of length\n",
    "784 (=28x28). Let's take a look at one; we need to reshape it to 2d\n",
    "first.\n",
    "\n"
   ]
  },
  {
   "cell_type": "code",
   "execution_count": 39,
   "metadata": {
    "colab": {
     "base_uri": "https://localhost:8080/",
     "height": 283
    },
    "colab_type": "code",
    "id": "4RQxBoaoryvf",
    "outputId": "d80fc41c-fc47-4e76-af1c-ce54daf2fd56"
   },
   "outputs": [
    {
     "ename": "AttributeError",
     "evalue": "'numpy.ndarray' object has no attribute 'detach'",
     "output_type": "error",
     "traceback": [
      "\u001b[0;31m---------------------------------------------------------------------------\u001b[0m",
      "\u001b[0;31mAttributeError\u001b[0m                            Traceback (most recent call last)",
      "\u001b[0;32m<ipython-input-39-22477f5f7133>\u001b[0m in \u001b[0;36m<module>\u001b[0;34m\u001b[0m\n\u001b[1;32m      6\u001b[0m         \u001b[0mpyplot\u001b[0m\u001b[0;34m.\u001b[0m\u001b[0mimshow\u001b[0m\u001b[0;34m(\u001b[0m\u001b[0mx\u001b[0m\u001b[0;34m[\u001b[0m\u001b[0midx\u001b[0m\u001b[0;34m]\u001b[0m\u001b[0;34m.\u001b[0m\u001b[0mdetach\u001b[0m\u001b[0;34m(\u001b[0m\u001b[0;34m)\u001b[0m\u001b[0;34m.\u001b[0m\u001b[0mnumpy\u001b[0m\u001b[0;34m(\u001b[0m\u001b[0;34m)\u001b[0m\u001b[0;34m.\u001b[0m\u001b[0mreshape\u001b[0m\u001b[0;34m(\u001b[0m\u001b[0;34m(\u001b[0m\u001b[0mdim\u001b[0m\u001b[0;34m,\u001b[0m\u001b[0mdim\u001b[0m\u001b[0;34m)\u001b[0m\u001b[0;34m)\u001b[0m\u001b[0;34m,\u001b[0m \u001b[0mcmap\u001b[0m\u001b[0;34m=\u001b[0m\u001b[0;34m'gray'\u001b[0m\u001b[0;34m)\u001b[0m\u001b[0;34m\u001b[0m\u001b[0;34m\u001b[0m\u001b[0m\n\u001b[1;32m      7\u001b[0m \u001b[0;34m\u001b[0m\u001b[0m\n\u001b[0;32m----> 8\u001b[0;31m \u001b[0mshowTensor\u001b[0m\u001b[0;34m(\u001b[0m\u001b[0mx_train\u001b[0m\u001b[0;34m,\u001b[0m \u001b[0;36m28\u001b[0m\u001b[0;34m)\u001b[0m\u001b[0;34m\u001b[0m\u001b[0;34m\u001b[0m\u001b[0m\n\u001b[0m\u001b[1;32m      9\u001b[0m \u001b[0mprint\u001b[0m\u001b[0;34m(\u001b[0m\u001b[0mx_train\u001b[0m\u001b[0;34m.\u001b[0m\u001b[0mshape\u001b[0m\u001b[0;34m)\u001b[0m\u001b[0;34m\u001b[0m\u001b[0;34m\u001b[0m\u001b[0m\n",
      "\u001b[0;32m<ipython-input-39-22477f5f7133>\u001b[0m in \u001b[0;36mshowTensor\u001b[0;34m(x, dim, idx)\u001b[0m\n\u001b[1;32m      4\u001b[0m         \u001b[0mpyplot\u001b[0m\u001b[0;34m.\u001b[0m\u001b[0mimshow\u001b[0m\u001b[0;34m(\u001b[0m\u001b[0mx\u001b[0m\u001b[0;34m.\u001b[0m\u001b[0mnumpy\u001b[0m\u001b[0;34m(\u001b[0m\u001b[0;34m)\u001b[0m\u001b[0;34m,\u001b[0m \u001b[0mcmap\u001b[0m\u001b[0;34m=\u001b[0m\u001b[0;34m\"gray\"\u001b[0m\u001b[0;34m)\u001b[0m\u001b[0;34m\u001b[0m\u001b[0;34m\u001b[0m\u001b[0m\n\u001b[1;32m      5\u001b[0m     \u001b[0;32melse\u001b[0m\u001b[0;34m:\u001b[0m\u001b[0;34m\u001b[0m\u001b[0;34m\u001b[0m\u001b[0m\n\u001b[0;32m----> 6\u001b[0;31m         \u001b[0mpyplot\u001b[0m\u001b[0;34m.\u001b[0m\u001b[0mimshow\u001b[0m\u001b[0;34m(\u001b[0m\u001b[0mx\u001b[0m\u001b[0;34m[\u001b[0m\u001b[0midx\u001b[0m\u001b[0;34m]\u001b[0m\u001b[0;34m.\u001b[0m\u001b[0mdetach\u001b[0m\u001b[0;34m(\u001b[0m\u001b[0;34m)\u001b[0m\u001b[0;34m.\u001b[0m\u001b[0mnumpy\u001b[0m\u001b[0;34m(\u001b[0m\u001b[0;34m)\u001b[0m\u001b[0;34m.\u001b[0m\u001b[0mreshape\u001b[0m\u001b[0;34m(\u001b[0m\u001b[0;34m(\u001b[0m\u001b[0mdim\u001b[0m\u001b[0;34m,\u001b[0m\u001b[0mdim\u001b[0m\u001b[0;34m)\u001b[0m\u001b[0;34m)\u001b[0m\u001b[0;34m,\u001b[0m \u001b[0mcmap\u001b[0m\u001b[0;34m=\u001b[0m\u001b[0;34m'gray'\u001b[0m\u001b[0;34m)\u001b[0m\u001b[0;34m\u001b[0m\u001b[0;34m\u001b[0m\u001b[0m\n\u001b[0m\u001b[1;32m      7\u001b[0m \u001b[0;34m\u001b[0m\u001b[0m\n\u001b[1;32m      8\u001b[0m \u001b[0mshowTensor\u001b[0m\u001b[0;34m(\u001b[0m\u001b[0mx_train\u001b[0m\u001b[0;34m,\u001b[0m \u001b[0;36m28\u001b[0m\u001b[0;34m)\u001b[0m\u001b[0;34m\u001b[0m\u001b[0;34m\u001b[0m\u001b[0m\n",
      "\u001b[0;31mAttributeError\u001b[0m: 'numpy.ndarray' object has no attribute 'detach'"
     ]
    }
   ],
   "source": [
    "def showTensor(x, dim = 28, idx = 0):\n",
    "    if x.shape[1]==dim:\n",
    "        pyplot.imshow(x.numpy(), cmap=\"gray\")\n",
    "    else:\n",
    "        pyplot.imshow(x[idx].detach().numpy().reshape((dim,dim)), cmap='gray')\n",
    "    \n",
    "showTensor(x_train, 28)\n",
    "print(x_train.shape)"
   ]
  },
  {
   "cell_type": "markdown",
   "metadata": {},
   "source": [
    "We can now play with some matrix and image transformations using PIL and Numpy"
   ]
  },
  {
   "cell_type": "code",
   "execution_count": 30,
   "metadata": {
    "colab": {
     "base_uri": "https://localhost:8080/",
     "height": 283
    },
    "colab_type": "code",
    "id": "K-zwvlI9RFxW",
    "outputId": "5a1fdec3-24e7-4a85-c09b-827b8b074e81"
   },
   "outputs": [
    {
     "data": {
      "image/png": "[encoded data removed]",
      "text/plain": [
       "<Figure size 432x288 with 1 Axes>"
      ]
     },
     "metadata": {
      "needs_background": "light"
     },
     "output_type": "display_data"
    }
   ],
   "source": [
    "e1 = x_train[0].reshape((28,28))\n",
    "showTensor(e1)"
   ]
  },
  {
   "cell_type": "markdown",
   "metadata": {
    "colab_type": "text",
    "id": "ZNrZnj9HJmko"
   },
   "source": [
    "Lets convert it into unsigned int form so we can then convert them to PIL format and use the PIL library for image transformations"
   ]
  },
  {
   "cell_type": "code",
   "execution_count": 10,
   "metadata": {
    "colab": {
     "base_uri": "https://localhost:8080/",
     "height": 283
    },
    "colab_type": "code",
    "id": "Dx_e6t8ZUf_U",
    "outputId": "941425a7-a9a4-4cbf-e3a8-95593f6b79ca"
   },
   "outputs": [],
   "source": [
    "e2 = np.uint8(e1*255)"
   ]
  },
  {
   "cell_type": "markdown",
   "metadata": {
    "colab_type": "text",
    "id": "yOG7NdYsJ15d"
   },
   "source": [
    "Pil does the downsampling for us wew"
   ]
  },
  {
   "cell_type": "code",
   "execution_count": 38,
   "metadata": {
    "colab": {},
    "colab_type": "code",
    "id": "REYvInneU0zv"
   },
   "outputs": [
    {
     "ename": "AttributeError",
     "evalue": "'Image' object has no attribute 'numpy'",
     "output_type": "error",
     "traceback": [
      "\u001b[0;31m---------------------------------------------------------------------------\u001b[0m",
      "\u001b[0;31mAttributeError\u001b[0m                            Traceback (most recent call last)",
      "\u001b[0;32m<ipython-input-38-87bda96a0387>\u001b[0m in \u001b[0;36m<module>\u001b[0;34m\u001b[0m\n\u001b[1;32m      2\u001b[0m \u001b[0me4\u001b[0m \u001b[0;34m=\u001b[0m \u001b[0me3\u001b[0m\u001b[0;34m.\u001b[0m\u001b[0mresize\u001b[0m\u001b[0;34m(\u001b[0m\u001b[0;34m(\u001b[0m\u001b[0;36m14\u001b[0m\u001b[0;34m,\u001b[0m \u001b[0;36m14\u001b[0m\u001b[0;34m)\u001b[0m\u001b[0;34m)\u001b[0m\u001b[0;34m\u001b[0m\u001b[0;34m\u001b[0m\u001b[0m\n\u001b[1;32m      3\u001b[0m \u001b[0mpyplot\u001b[0m\u001b[0;34m.\u001b[0m\u001b[0mimshow\u001b[0m\u001b[0;34m(\u001b[0m\u001b[0me4\u001b[0m\u001b[0;34m,\u001b[0m \u001b[0mcmap\u001b[0m\u001b[0;34m=\u001b[0m\u001b[0;34m\"gray\"\u001b[0m\u001b[0;34m)\u001b[0m\u001b[0;34m\u001b[0m\u001b[0;34m\u001b[0m\u001b[0m\n\u001b[0;32m----> 4\u001b[0;31m \u001b[0mshowTensor\u001b[0m\u001b[0;34m(\u001b[0m\u001b[0me4\u001b[0m\u001b[0;34m)\u001b[0m\u001b[0;34m\u001b[0m\u001b[0;34m\u001b[0m\u001b[0m\n\u001b[0m",
      "\u001b[0;32m<ipython-input-36-cbac47334c2b>\u001b[0m in \u001b[0;36mshowTensor\u001b[0;34m(x, dim, idx)\u001b[0m\n\u001b[1;32m      1\u001b[0m \u001b[0;32mdef\u001b[0m \u001b[0mshowTensor\u001b[0m\u001b[0;34m(\u001b[0m\u001b[0mx\u001b[0m\u001b[0;34m,\u001b[0m \u001b[0mdim\u001b[0m \u001b[0;34m=\u001b[0m \u001b[0;36m28\u001b[0m\u001b[0;34m,\u001b[0m \u001b[0midx\u001b[0m \u001b[0;34m=\u001b[0m \u001b[0;36m0\u001b[0m\u001b[0;34m)\u001b[0m\u001b[0;34m:\u001b[0m\u001b[0;34m\u001b[0m\u001b[0;34m\u001b[0m\u001b[0m\n\u001b[0;32m----> 2\u001b[0;31m     \u001b[0mx\u001b[0m\u001b[0;34m.\u001b[0m\u001b[0mnumpy\u001b[0m\u001b[0;34m(\u001b[0m\u001b[0;34m)\u001b[0m\u001b[0;34m\u001b[0m\u001b[0;34m\u001b[0m\u001b[0m\n\u001b[0m\u001b[1;32m      3\u001b[0m     \u001b[0;32mif\u001b[0m \u001b[0mx\u001b[0m\u001b[0;34m.\u001b[0m\u001b[0mshape\u001b[0m\u001b[0;34m[\u001b[0m\u001b[0;36m1\u001b[0m\u001b[0;34m]\u001b[0m\u001b[0;34m==\u001b[0m\u001b[0mdim\u001b[0m\u001b[0;34m:\u001b[0m\u001b[0;34m\u001b[0m\u001b[0;34m\u001b[0m\u001b[0m\n\u001b[1;32m      4\u001b[0m         \u001b[0mpyplot\u001b[0m\u001b[0;34m.\u001b[0m\u001b[0mimshow\u001b[0m\u001b[0;34m(\u001b[0m\u001b[0mx\u001b[0m\u001b[0;34m.\u001b[0m\u001b[0mnumpy\u001b[0m\u001b[0;34m(\u001b[0m\u001b[0;34m)\u001b[0m\u001b[0;34m,\u001b[0m \u001b[0mcmap\u001b[0m\u001b[0;34m=\u001b[0m\u001b[0;34m\"gray\"\u001b[0m\u001b[0;34m)\u001b[0m\u001b[0;34m\u001b[0m\u001b[0;34m\u001b[0m\u001b[0m\n\u001b[1;32m      5\u001b[0m     \u001b[0;32melse\u001b[0m\u001b[0;34m:\u001b[0m\u001b[0;34m\u001b[0m\u001b[0;34m\u001b[0m\u001b[0m\n",
      "\u001b[0;31mAttributeError\u001b[0m: 'Image' object has no attribute 'numpy'"
     ]
    },
    {
     "data": {
      "image/png": "[encoded data removed]",
      "text/plain": [
       "<Figure size 432x288 with 1 Axes>"
      ]
     },
     "metadata": {
      "needs_background": "light"
     },
     "output_type": "display_data"
    }
   ],
   "source": [
    "e3 = PIL.Image.fromarray(e2)\n",
    "e4 = e3.resize((14, 14))\n",
    "pyplot.imshow(e4, cmap=\"gray\")\n",
    "showTensor(e4)"
   ]
  },
  {
   "cell_type": "markdown",
   "metadata": {
    "colab_type": "text",
    "id": "gJeSwMAzJ8rp"
   },
   "source": [
    "The PIL library can also upsample for us which is convenient - no need to do it manually"
   ]
  },
  {
   "cell_type": "code",
   "execution_count": 37,
   "metadata": {
    "colab": {
     "base_uri": "https://localhost:8080/",
     "height": 283
    },
    "colab_type": "code",
    "id": "_fvC3WX6RzQv",
    "outputId": "4080c983-4796-4232-e2e5-27ae0e1d31c0"
   },
   "outputs": [
    {
     "data": {
      "text/plain": [
       "<matplotlib.image.AxesImage at 0x7f3eec98c2e8>"
      ]
     },
     "execution_count": 37,
     "metadata": {},
     "output_type": "execute_result"
    },
    {
     "data": {
      "image/png": "[encoded data removed]",
      "text/plain": [
       "<Figure size 432x288 with 1 Axes>"
      ]
     },
     "metadata": {
      "needs_background": "light"
     },
     "output_type": "display_data"
    }
   ],
   "source": [
    "e5 = e4.resize((28,28),resample = 3)\n",
    "pyplot.imshow(e5, cmap=\"gray\")"
   ]
  },
  {
   "cell_type": "markdown",
   "metadata": {},
   "source": [
    "We can then calculate mean absolute error, mean squared error and structural similarity index"
   ]
  },
  {
   "cell_type": "code",
   "execution_count": 13,
   "metadata": {
    "colab": {
     "base_uri": "https://localhost:8080/",
     "height": 35
    },
    "colab_type": "code",
    "id": "Pr9zPN8kZFcc",
    "outputId": "1b1b19bc-2122-4f80-c067-2f733ec26b29"
   },
   "outputs": [
    {
     "name": "stdout",
     "output_type": "stream",
     "text": [
      "The MSE of bicubic interpolation on this image is 40.17602040816327\n",
      "The SSIM of bicubic interpolation on this image is 0.839661764924514\n"
     ]
    },
    {
     "name": "stderr",
     "output_type": "stream",
     "text": [
      "/projects/qg35/jlgao2/venvs/lib/python3.7/site-packages/ipykernel_launcher.py:5: UserWarning: DEPRECATED: skimage.measure.compare_ssim has been moved to skimage.metrics.structural_similarity. It will be removed from skimage.measure in version 0.18.\n",
      "  \"\"\"\n"
     ]
    }
   ],
   "source": [
    "e5_mae = np.average(np.asarray(e5) - np.asarray(e3))\n",
    "e5_mse = np.average(np.square(np.asarray(e5)-np.asarray(e3))) \n",
    "\n",
    "print(\"The MSE of bicubic interpolation on this image is\", e5_mse)\n",
    "e5_ssim = ssim(np.asarray(e5), np.asarray(e3))\n",
    "print(\"The SSIM of bicubic interpolation on this image is\", e5_ssim)\n"
   ]
  },
  {
   "cell_type": "markdown",
   "metadata": {
    "colab_type": "text",
    "id": "TjwREgqpKAy2"
   },
   "source": [
    "We've validated the approach, now lets downsample the whole dataset\n",
    "\n",
    "wew I just did a python\n"
   ]
  },
  {
   "cell_type": "markdown",
   "metadata": {
    "colab_type": "text",
    "id": "xCDTB0VkKUYn"
   },
   "source": [
    "We can use much of the same code to obtain upsampleed images using bicubic or bilinear interpolations to measure the network that we will surely build ^__^\n"
   ]
  },
  {
   "cell_type": "code",
   "execution_count": 14,
   "metadata": {
    "colab": {},
    "colab_type": "code",
    "id": "-QaAPo7g0lU9"
   },
   "outputs": [],
   "source": [
    "def downupsample(array):\n",
    "  dsda = np.ones((array.shape[0],196)) \n",
    "  usda = np.ones((array.shape[0],784)) \n",
    "\n",
    "  for i in range(array.shape[0]):\n",
    "    ar = array[i].reshape((28,28))\n",
    "    ar = np.int8(ar*255)\n",
    "    ar2 = PIL.Image.fromarray(ar)\n",
    "    ar3 = ar2.resize((14,14))\n",
    "    ar4 = np.asarray(ar3).reshape((1, 196))\n",
    "    ar5 = ar4.astype(np.float64)/255\n",
    "    dsda[i,:] = np.clip(ar5,0,1)\n",
    "    ar6 = ar3.resize((28,28), resample = 3)\n",
    "    ar7 = np.asarray(ar6).reshape((1, 784))\n",
    "    ar8 = ar7.astype(np.float32)/255\n",
    "    usda[i,:] = np.clip(ar8,0,1)\n",
    "  return dsda, usda\n",
    "xt_ds, xt_us = downupsample(x_train)\n",
    "xv_ds, xv_us= downupsample(x_valid)\n"
   ]
  },
  {
   "cell_type": "code",
   "execution_count": 20,
   "metadata": {
    "colab": {
     "base_uri": "https://localhost:8080/",
     "height": 183
    },
    "colab_type": "code",
    "id": "wLotz1h2ryvl",
    "outputId": "cb0f0eb6-5b47-4f78-cb11-ac6591fcea19",
    "scrolled": true
   },
   "outputs": [
    {
     "name": "stderr",
     "output_type": "stream",
     "text": [
      "/projects/qg35/jlgao2/venvs/lib/python3.7/site-packages/ipykernel_launcher.py:2: UserWarning: To copy construct from a tensor, it is recommended to use sourceTensor.clone().detach() or sourceTensor.clone().detach().requires_grad_(True), rather than torch.tensor(sourceTensor).\n",
      "  \n",
      "/projects/qg35/jlgao2/venvs/lib/python3.7/site-packages/ipykernel_launcher.py:6: UserWarning: To copy construct from a tensor, it is recommended to use sourceTensor.clone().detach() or sourceTensor.clone().detach().requires_grad_(True), rather than torch.tensor(sourceTensor).\n",
      "  \n"
     ]
    }
   ],
   "source": [
    "x_train, xt_ds, xt_us = map(\n",
    "torch.tensor, (x_train, xt_ds, xt_us)\n",
    "    )\n",
    "\n",
    "x_valid, xv_ds, xv_us = map(\n",
    "torch.tensor, (x_valid, xv_ds, xv_us)\n",
    "    )\n",
    "\n",
    "[n, c] = x_train.shape\n",
    "\n",
    "x_train = x_train.float()\n",
    "xt_ds = xt_ds.float()\n",
    "xt_us = xt_us.float()\n",
    "x_valid = x_valid.float()\n",
    "xv_ds = xv_ds.float()\n",
    "xv_us = xv_us.float()"
   ]
  },
  {
   "cell_type": "code",
   "execution_count": 48,
   "metadata": {
    "colab": {
     "base_uri": "https://localhost:8080/",
     "height": 35
    },
    "colab_type": "code",
    "id": "YbFlN9Q2szAi",
    "outputId": "32b8508e-ce9f-469f-9914-dc020727f7fc"
   },
   "outputs": [
    {
     "name": "stdout",
     "output_type": "stream",
     "text": [
      "0.010889884\n",
      "0.8491649687219552\n"
     ]
    },
    {
     "name": "stderr",
     "output_type": "stream",
     "text": [
      "/projects/qg35/jlgao2/venvs/lib/python3.7/site-packages/ipykernel_launcher.py:6: UserWarning: DEPRECATED: skimage.measure.compare_ssim has been moved to skimage.metrics.structural_similarity. It will be removed from skimage.measure in version 0.18.\n",
      "  \n"
     ]
    }
   ],
   "source": [
    "mse = []\n",
    "ssim = []\n",
    "\n",
    "for i in range(100):\n",
    "    mse.append(np.average(np.square(np.asarray(xt_us[i])-np.asarray(x_train[i]))))\n",
    "    ssim.append(compare_ssim(np.asarray(xt_us[i]), np.asarray(x_train[i])))\n",
    "\n",
    "#     e5_mse =  \n",
    "# from skimage.measure import compare_ssim as ssim\n",
    "# print(\"The MSE of bicubic interpolation on this image is\", e5_mse)\n",
    "# e5_ssim = \n",
    "# print(\"The SSIM of bicubic interpolation on this image is\", e5_ssim)\n",
    "\n",
    "print(np.mean(mse))\n",
    "print(np.mean(ssim))\n",
    "    "
   ]
  },
  {
   "cell_type": "markdown",
   "metadata": {
    "colab_type": "text",
    "id": "jE1eLYgvsywZ"
   },
   "source": [
    "\n",
    "    "
   ]
  },
  {
   "cell_type": "code",
   "execution_count": null,
   "metadata": {},
   "outputs": [],
   "source": []
  },
  {
   "cell_type": "markdown",
   "metadata": {
    "colab_type": "text",
    "id": "2-VKlkVdryvu"
   },
   "source": [
    ">Neural net from scratch (no torch.nn)\n",
    "---------------------------------------------\n",
    "\n",
    ">Let's first create a model using nothing but PyTorch tensor operations. We're assuming\n",
    "you're already familiar with the basics of neural networks. (If you're not, you can\n",
    "learn them at `course.fast.ai <https://course.fast.ai>`_).\n",
    "\n",
    ">PyTorch provides methods to create random or zero-filled tensors, which we will\n",
    "use to create our weights and bias for a simple linear model. These are just regular\n",
    "tensors, with one very special addition: we tell PyTorch that they require a\n",
    "gradient. This causes PyTorch to record all of the operations done on the tensor,\n",
    "so that it can calculate the gradient during back-propagation *automatically*!\n",
    "\n",
    ">For the weights, we set ``requires_grad`` **after** the initialization, since we\n",
    "don't want that step included in the gradient. (Note that a trailling ``_`` in\n",
    "PyTorch signifies that the operation is performed in-place.)\n",
    "\n",
    "<div class=\"alert alert-info\"><h4>Note</h4><p>We are initializing the weights here with\n",
    "   `Xavier initialisation <http://proceedings.mlr.press/v9/glorot10a/glorot10a.pdf>`_\n",
    "   (by multiplying with 1/sqrt(n)).</p></div>\n",
    "\n"
   ]
  },
  {
   "cell_type": "code",
   "execution_count": 49,
   "metadata": {
    "colab": {},
    "colab_type": "code",
    "id": "Llsgi-Lwryvw"
   },
   "outputs": [
    {
     "data": {
      "text/plain": [
       "'torch.FloatTensor'"
      ]
     },
     "execution_count": 49,
     "metadata": {},
     "output_type": "execute_result"
    }
   ],
   "source": [
    "import math\n",
    "\n",
    "weights = torch.randn(196, 784) / 196\n",
    "weights.requires_grad_()\n",
    "bias = torch.zeros(784, requires_grad=True)\n",
    "\n",
    "xt_ds.type()"
   ]
  },
  {
   "cell_type": "markdown",
   "metadata": {
    "colab_type": "text",
    "id": "eXsxpMuKryv0"
   },
   "source": [
    ">Thanks to PyTorch's ability to calculate gradients automatically, we can\n",
    "use any standard Python function (or callable object) as a model! So\n",
    "let's just write a plain matrix multiplication and broadcasted addition\n",
    "to create a simple linear model. We also need an activation function, so\n",
    "we'll write `log_softmax` and use it. Remember: although PyTorch\n",
    "provides lots of pre-written loss functions, activation functions, and\n",
    "so forth, you can easily write your own using plain python. PyTorch will\n",
    "even create fast GPU or vectorized CPU code for your function\n",
    "automatically.\n",
    "\n",
    "For a regression problem we cannot use a log softmax, so we modify this model to use a Relu activation function. Jeremy Howard says it works better for classification problems anyway\n",
    "\n"
   ]
  },
  {
   "cell_type": "code",
   "execution_count": 50,
   "metadata": {
    "colab": {},
    "colab_type": "code",
    "id": "288zx75Iryv1"
   },
   "outputs": [],
   "source": [
    "def relu(x): #activation function\n",
    "    return torch.clamp(x, 0, 1)\n",
    "\n",
    "def model(xb): \n",
    "    return relu(xb @ weights + bias)"
   ]
  },
  {
   "cell_type": "markdown",
   "metadata": {
    "colab_type": "text",
    "id": "F35xmdJwryv5"
   },
   "source": [
    ">In the above, the ``@`` stands for the dot product operation. We will call\n",
    "our function on one batch of data (in this case, 64 images).  This is\n",
    "one *forward pass*.  Note that our predictions won't be any better than\n",
    "random at this stage, since we start with random weights.\n",
    "\n"
   ]
  },
  {
   "cell_type": "code",
   "execution_count": 51,
   "metadata": {
    "colab": {},
    "colab_type": "code",
    "id": "EHfdVe0nryv6",
    "scrolled": true
   },
   "outputs": [
    {
     "name": "stdout",
     "output_type": "stream",
     "text": [
      "tensor([4.9451e-02, 4.4994e-02, 0.0000e+00, 1.5130e-02, 1.8985e-02, 0.0000e+00,\n",
      "        2.0024e-02, 2.1164e-02, 0.0000e+00, 0.0000e+00, 0.0000e+00, 0.0000e+00,\n",
      "        5.4662e-03, 0.0000e+00, 0.0000e+00, 1.9227e-02, 0.0000e+00, 6.0804e-03,\n",
      "        0.0000e+00, 0.0000e+00, 0.0000e+00, 1.0985e-02, 0.0000e+00, 1.2064e-02,\n",
      "        7.2111e-03, 1.8518e-02, 2.7636e-02, 0.0000e+00, 1.9305e-03, 3.5012e-02,\n",
      "        2.1956e-02, 0.0000e+00, 3.7554e-02, 0.0000e+00, 0.0000e+00, 2.6167e-02,\n",
      "        0.0000e+00, 1.9710e-02, 8.7647e-03, 0.0000e+00, 2.5703e-02, 9.9076e-03,\n",
      "        1.8519e-02, 0.0000e+00, 6.0988e-02, 1.1830e-02, 0.0000e+00, 0.0000e+00,\n",
      "        2.0182e-03, 3.1915e-02, 1.0914e-02, 6.3087e-03, 0.0000e+00, 0.0000e+00,\n",
      "        0.0000e+00, 0.0000e+00, 0.0000e+00, 2.0874e-02, 0.0000e+00, 2.5244e-02,\n",
      "        0.0000e+00, 0.0000e+00, 0.0000e+00, 0.0000e+00, 0.0000e+00, 0.0000e+00,\n",
      "        3.5343e-02, 0.0000e+00, 0.0000e+00, 0.0000e+00, 2.0243e-02, 0.0000e+00,\n",
      "        0.0000e+00, 0.0000e+00, 1.2911e-02, 6.8407e-02, 0.0000e+00, 0.0000e+00,\n",
      "        1.3558e-02, 8.8630e-03, 0.0000e+00, 0.0000e+00, 0.0000e+00, 8.4822e-03,\n",
      "        5.0821e-03, 0.0000e+00, 1.2693e-03, 2.0745e-02, 0.0000e+00, 0.0000e+00,\n",
      "        0.0000e+00, 2.9945e-03, 0.0000e+00, 8.8706e-03, 2.7267e-02, 0.0000e+00,\n",
      "        2.6034e-02, 8.3103e-03, 0.0000e+00, 2.5393e-02, 2.9679e-02, 1.7712e-03,\n",
      "        2.1928e-03, 0.0000e+00, 4.2747e-02, 2.2807e-02, 1.3673e-02, 6.8406e-03,\n",
      "        0.0000e+00, 0.0000e+00, 2.5645e-02, 4.4512e-03, 0.0000e+00, 0.0000e+00,\n",
      "        0.0000e+00, 2.8088e-02, 0.0000e+00, 0.0000e+00, 0.0000e+00, 2.9636e-02,\n",
      "        0.0000e+00, 8.7909e-03, 0.0000e+00, 9.2851e-03, 0.0000e+00, 2.2166e-02,\n",
      "        0.0000e+00, 0.0000e+00, 1.4239e-02, 0.0000e+00, 0.0000e+00, 0.0000e+00,\n",
      "        7.7130e-03, 0.0000e+00, 3.9777e-02, 2.2517e-02, 3.3885e-02, 0.0000e+00,\n",
      "        1.8065e-03, 6.2844e-03, 1.8806e-02, 1.3611e-02, 3.4080e-02, 2.8929e-02,\n",
      "        0.0000e+00, 0.0000e+00, 1.2753e-02, 0.0000e+00, 0.0000e+00, 0.0000e+00,\n",
      "        0.0000e+00, 0.0000e+00, 1.7165e-02, 0.0000e+00, 0.0000e+00, 4.3790e-02,\n",
      "        5.9093e-03, 0.0000e+00, 9.9401e-03, 0.0000e+00, 0.0000e+00, 0.0000e+00,\n",
      "        9.9771e-03, 0.0000e+00, 0.0000e+00, 0.0000e+00, 0.0000e+00, 5.5318e-03,\n",
      "        1.4915e-02, 0.0000e+00, 0.0000e+00, 0.0000e+00, 3.2052e-04, 0.0000e+00,\n",
      "        2.7839e-04, 1.1793e-02, 0.0000e+00, 0.0000e+00, 4.2514e-03, 0.0000e+00,\n",
      "        0.0000e+00, 1.4770e-02, 9.4719e-03, 2.4087e-02, 0.0000e+00, 0.0000e+00,\n",
      "        2.1479e-02, 2.7548e-02, 0.0000e+00, 3.1993e-02, 0.0000e+00, 0.0000e+00,\n",
      "        6.5583e-02, 0.0000e+00, 0.0000e+00, 0.0000e+00, 0.0000e+00, 3.3401e-03,\n",
      "        0.0000e+00, 0.0000e+00, 2.8849e-03, 1.8797e-02, 2.7971e-03, 0.0000e+00,\n",
      "        0.0000e+00, 3.3509e-03, 3.3390e-02, 0.0000e+00, 1.9971e-02, 2.6373e-02,\n",
      "        8.3248e-03, 0.0000e+00, 0.0000e+00, 4.7285e-02, 0.0000e+00, 0.0000e+00,\n",
      "        1.6213e-02, 2.6060e-03, 1.6059e-02, 6.4566e-03, 1.8046e-02, 1.4203e-03,\n",
      "        0.0000e+00, 0.0000e+00, 8.4880e-03, 2.4456e-02, 1.3174e-02, 7.4450e-03,\n",
      "        0.0000e+00, 1.7674e-02, 0.0000e+00, 0.0000e+00, 3.8881e-03, 0.0000e+00,\n",
      "        0.0000e+00, 3.4694e-02, 0.0000e+00, 0.0000e+00, 2.6041e-02, 0.0000e+00,\n",
      "        6.0661e-03, 0.0000e+00, 7.7585e-03, 0.0000e+00, 0.0000e+00, 0.0000e+00,\n",
      "        0.0000e+00, 0.0000e+00, 0.0000e+00, 2.1238e-02, 7.8301e-03, 5.8383e-03,\n",
      "        4.4252e-03, 2.9099e-02, 0.0000e+00, 5.6875e-03, 0.0000e+00, 0.0000e+00,\n",
      "        0.0000e+00, 0.0000e+00, 0.0000e+00, 9.2140e-03, 8.9846e-04, 0.0000e+00,\n",
      "        0.0000e+00, 2.4892e-03, 2.9636e-04, 1.9289e-02, 0.0000e+00, 5.8458e-03,\n",
      "        9.4640e-03, 0.0000e+00, 0.0000e+00, 0.0000e+00, 1.0701e-02, 1.5759e-02,\n",
      "        0.0000e+00, 9.4482e-03, 0.0000e+00, 0.0000e+00, 0.0000e+00, 0.0000e+00,\n",
      "        0.0000e+00, 6.2873e-03, 3.4575e-05, 1.8760e-03, 5.9702e-02, 0.0000e+00,\n",
      "        1.4966e-03, 0.0000e+00, 1.3324e-02, 1.6120e-02, 0.0000e+00, 0.0000e+00,\n",
      "        0.0000e+00, 1.0222e-02, 1.8712e-03, 0.0000e+00, 2.8874e-02, 1.5470e-02,\n",
      "        0.0000e+00, 0.0000e+00, 1.7393e-02, 4.0390e-02, 0.0000e+00, 0.0000e+00,\n",
      "        0.0000e+00, 0.0000e+00, 6.4479e-03, 0.0000e+00, 0.0000e+00, 0.0000e+00,\n",
      "        3.6738e-04, 6.3188e-03, 0.0000e+00, 3.2563e-03, 8.2416e-03, 0.0000e+00,\n",
      "        3.5189e-04, 0.0000e+00, 2.1966e-02, 0.0000e+00, 0.0000e+00, 0.0000e+00,\n",
      "        1.4303e-02, 0.0000e+00, 2.7250e-02, 0.0000e+00, 0.0000e+00, 8.6177e-03,\n",
      "        1.4413e-02, 1.8804e-02, 3.0493e-02, 2.5179e-02, 0.0000e+00, 1.5937e-02,\n",
      "        1.6033e-02, 0.0000e+00, 0.0000e+00, 0.0000e+00, 0.0000e+00, 4.3472e-02,\n",
      "        0.0000e+00, 0.0000e+00, 0.0000e+00, 2.4646e-02, 3.3880e-02, 3.4016e-02,\n",
      "        1.3456e-02, 0.0000e+00, 2.8986e-03, 2.7867e-02, 0.0000e+00, 0.0000e+00,\n",
      "        0.0000e+00, 2.6257e-04, 0.0000e+00, 4.1689e-02, 1.2617e-02, 1.3339e-03,\n",
      "        1.0315e-02, 2.6870e-02, 1.2041e-02, 4.7000e-03, 1.6873e-03, 0.0000e+00,\n",
      "        0.0000e+00, 3.6373e-02, 5.4411e-03, 6.6000e-03, 0.0000e+00, 2.7483e-03,\n",
      "        0.0000e+00, 3.0767e-02, 7.8759e-03, 0.0000e+00, 4.1241e-02, 2.1866e-02,\n",
      "        1.7476e-02, 0.0000e+00, 3.0751e-03, 0.0000e+00, 0.0000e+00, 2.4198e-03,\n",
      "        0.0000e+00, 0.0000e+00, 0.0000e+00, 2.5516e-02, 0.0000e+00, 1.2039e-03,\n",
      "        8.0386e-05, 7.7617e-03, 1.8059e-02, 0.0000e+00, 0.0000e+00, 3.0911e-02,\n",
      "        2.5978e-02, 3.0537e-02, 3.3396e-02, 0.0000e+00, 0.0000e+00, 2.1550e-02,\n",
      "        1.8193e-02, 5.0127e-02, 9.9611e-03, 0.0000e+00, 2.7125e-02, 2.9712e-02,\n",
      "        3.4957e-02, 7.5532e-03, 0.0000e+00, 2.4743e-02, 0.0000e+00, 1.1655e-02,\n",
      "        3.8427e-02, 5.1783e-03, 0.0000e+00, 1.2445e-02, 2.1681e-02, 0.0000e+00,\n",
      "        3.4665e-02, 0.0000e+00, 0.0000e+00, 2.9553e-03, 2.3587e-02, 0.0000e+00,\n",
      "        6.5250e-03, 4.0534e-03, 9.8774e-03, 0.0000e+00, 1.9572e-02, 0.0000e+00,\n",
      "        0.0000e+00, 0.0000e+00, 0.0000e+00, 0.0000e+00, 1.8606e-04, 0.0000e+00,\n",
      "        1.2690e-02, 1.6973e-02, 0.0000e+00, 4.4127e-02, 3.2556e-02, 7.3859e-04,\n",
      "        0.0000e+00, 0.0000e+00, 1.2662e-03, 0.0000e+00, 2.6262e-02, 0.0000e+00,\n",
      "        0.0000e+00, 0.0000e+00, 1.3320e-03, 6.4796e-03, 0.0000e+00, 5.0846e-03,\n",
      "        2.7723e-02, 1.5953e-02, 0.0000e+00, 0.0000e+00, 0.0000e+00, 0.0000e+00,\n",
      "        7.1615e-03, 5.3924e-04, 0.0000e+00, 1.6208e-03, 2.0500e-02, 1.9590e-02,\n",
      "        0.0000e+00, 0.0000e+00, 2.3461e-03, 0.0000e+00, 0.0000e+00, 2.2184e-02,\n",
      "        1.6747e-02, 0.0000e+00, 0.0000e+00, 0.0000e+00, 0.0000e+00, 9.0288e-03,\n",
      "        1.9273e-02, 0.0000e+00, 0.0000e+00, 0.0000e+00, 7.4677e-03, 6.1949e-02,\n",
      "        0.0000e+00, 2.1596e-02, 1.3106e-02, 0.0000e+00, 5.4853e-03, 0.0000e+00,\n",
      "        0.0000e+00, 0.0000e+00, 3.4151e-03, 0.0000e+00, 2.9415e-02, 2.7701e-02,\n",
      "        0.0000e+00, 0.0000e+00, 0.0000e+00, 4.4517e-02, 0.0000e+00, 0.0000e+00,\n",
      "        3.0658e-02, 0.0000e+00, 2.7946e-02, 4.9078e-02, 2.0990e-02, 1.3861e-03,\n",
      "        0.0000e+00, 0.0000e+00, 0.0000e+00, 1.4697e-02, 1.9094e-02, 1.7637e-02,\n",
      "        1.0727e-02, 9.8851e-03, 0.0000e+00, 2.8415e-03, 5.4244e-02, 1.9421e-02,\n",
      "        2.8558e-02, 2.7009e-02, 0.0000e+00, 1.4192e-02, 0.0000e+00, 9.8058e-03,\n",
      "        0.0000e+00, 0.0000e+00, 0.0000e+00, 3.5581e-02, 6.5617e-03, 0.0000e+00,\n",
      "        3.4558e-02, 0.0000e+00, 9.3185e-03, 0.0000e+00, 0.0000e+00, 4.6440e-03,\n",
      "        2.6977e-03, 1.2810e-02, 5.0489e-03, 0.0000e+00, 0.0000e+00, 2.0612e-02,\n",
      "        3.3778e-02, 2.4346e-02, 0.0000e+00, 6.0858e-03, 1.0287e-02, 1.1202e-02,\n",
      "        0.0000e+00, 0.0000e+00, 4.8028e-03, 0.0000e+00, 0.0000e+00, 1.0854e-02,\n",
      "        0.0000e+00, 0.0000e+00, 2.7856e-02, 0.0000e+00, 0.0000e+00, 1.8763e-02,\n",
      "        7.9071e-03, 8.3594e-03, 4.2409e-02, 5.9858e-03, 3.8555e-03, 0.0000e+00,\n",
      "        6.7782e-03, 0.0000e+00, 1.0420e-02, 0.0000e+00, 0.0000e+00, 8.1879e-03,\n",
      "        2.4007e-02, 1.6558e-02, 0.0000e+00, 2.0047e-02, 0.0000e+00, 1.0840e-02,\n",
      "        0.0000e+00, 3.9935e-03, 0.0000e+00, 0.0000e+00, 0.0000e+00, 3.1231e-03,\n",
      "        0.0000e+00, 1.1253e-02, 0.0000e+00, 7.2680e-04, 2.6119e-02, 0.0000e+00,\n",
      "        0.0000e+00, 0.0000e+00, 0.0000e+00, 0.0000e+00, 2.6923e-02, 1.3974e-03,\n",
      "        0.0000e+00, 1.0586e-02, 2.1638e-02, 1.5337e-02, 3.6974e-04, 2.3960e-03,\n",
      "        5.8932e-03, 3.0077e-02, 1.9828e-02, 0.0000e+00, 0.0000e+00, 1.1681e-02,\n",
      "        2.5906e-02, 2.1915e-03, 0.0000e+00, 0.0000e+00, 0.0000e+00, 0.0000e+00,\n",
      "        1.5590e-03, 2.5830e-02, 0.0000e+00, 2.1659e-02, 8.7718e-03, 0.0000e+00,\n",
      "        2.1154e-02, 0.0000e+00, 0.0000e+00, 3.2764e-03, 3.1238e-04, 0.0000e+00,\n",
      "        1.7686e-02, 1.0220e-02, 1.3523e-02, 0.0000e+00, 1.1598e-02, 2.9122e-03,\n",
      "        0.0000e+00, 0.0000e+00, 2.8636e-02, 2.3426e-02, 4.8806e-04, 2.9141e-03,\n",
      "        3.8022e-03, 4.7784e-03, 0.0000e+00, 1.0549e-03, 0.0000e+00, 0.0000e+00,\n",
      "        0.0000e+00, 0.0000e+00, 0.0000e+00, 3.0106e-03, 0.0000e+00, 8.0436e-03,\n",
      "        1.9957e-02, 2.8717e-03, 0.0000e+00, 0.0000e+00, 4.3507e-02, 0.0000e+00,\n",
      "        0.0000e+00, 0.0000e+00, 4.4814e-03, 2.7036e-02, 7.6757e-03, 2.5966e-04,\n",
      "        0.0000e+00, 0.0000e+00, 0.0000e+00, 0.0000e+00, 0.0000e+00, 8.7467e-03,\n",
      "        0.0000e+00, 4.2101e-02, 1.3451e-03, 1.2361e-02, 2.9674e-03, 0.0000e+00,\n",
      "        4.8215e-02, 0.0000e+00, 0.0000e+00, 0.0000e+00, 2.9935e-03, 1.3500e-02,\n",
      "        0.0000e+00, 0.0000e+00, 0.0000e+00, 3.3568e-04, 5.7747e-02, 2.1392e-02,\n",
      "        4.5756e-02, 0.0000e+00, 0.0000e+00, 1.1525e-02, 3.5862e-02, 0.0000e+00,\n",
      "        1.2016e-02, 4.1200e-02, 0.0000e+00, 2.4883e-03, 1.3064e-03, 1.3282e-02,\n",
      "        0.0000e+00, 0.0000e+00, 2.4324e-02, 0.0000e+00, 0.0000e+00, 2.1337e-02,\n",
      "        0.0000e+00, 0.0000e+00, 0.0000e+00, 0.0000e+00, 1.7070e-02, 0.0000e+00,\n",
      "        4.5480e-03, 0.0000e+00, 0.0000e+00, 0.0000e+00, 0.0000e+00, 0.0000e+00,\n",
      "        2.3990e-02, 0.0000e+00, 4.3413e-02, 4.3777e-03, 0.0000e+00, 0.0000e+00,\n",
      "        0.0000e+00, 0.0000e+00, 0.0000e+00, 0.0000e+00, 1.3751e-02, 1.7686e-03,\n",
      "        2.4966e-03, 0.0000e+00, 7.7573e-03, 0.0000e+00, 0.0000e+00, 0.0000e+00,\n",
      "        0.0000e+00, 1.0138e-02, 2.2617e-04, 0.0000e+00, 0.0000e+00, 0.0000e+00,\n",
      "        0.0000e+00, 0.0000e+00, 5.0617e-02, 5.1056e-03, 0.0000e+00, 0.0000e+00,\n",
      "        0.0000e+00, 1.6144e-02, 0.0000e+00, 0.0000e+00, 0.0000e+00, 0.0000e+00,\n",
      "        0.0000e+00, 0.0000e+00, 0.0000e+00, 0.0000e+00, 0.0000e+00, 2.9895e-02,\n",
      "        0.0000e+00, 0.0000e+00, 0.0000e+00, 0.0000e+00, 0.0000e+00, 9.9638e-04,\n",
      "        0.0000e+00, 1.8101e-03, 0.0000e+00, 8.7484e-04, 0.0000e+00, 3.8494e-02,\n",
      "        0.0000e+00, 0.0000e+00, 1.9265e-02, 0.0000e+00, 3.8993e-02, 2.1805e-02,\n",
      "        3.3903e-02, 0.0000e+00, 0.0000e+00, 0.0000e+00],\n",
      "       grad_fn=<SelectBackward>) tensor([ 1.3477e-03, -6.9730e-03,  3.4687e-03,  2.7482e-03,  8.8088e-03,\n",
      "         3.8709e-03,  1.1051e-02, -1.6449e-03, -2.2403e-03, -9.4582e-03,\n",
      "         6.1003e-03, -6.8457e-03,  5.6094e-03, -2.5407e-03, -1.1083e-02,\n",
      "        -2.9756e-03,  6.8697e-03, -5.5022e-03,  1.3378e-03,  6.8012e-03,\n",
      "         9.0285e-04, -3.3984e-03,  2.0889e-03, -3.6804e-03,  3.9407e-03,\n",
      "        -5.5826e-03,  2.3696e-03, -9.5690e-03, -7.3104e-03, -1.2550e-03,\n",
      "        -1.4364e-03,  1.1694e-02,  4.5194e-03,  1.0147e-02,  4.3105e-03,\n",
      "         1.0785e-03,  6.2917e-03,  2.7874e-03, -1.4490e-03,  7.2071e-03,\n",
      "         1.0952e-02,  6.0858e-03,  2.7890e-03,  1.0029e-02,  1.3757e-03,\n",
      "        -5.0073e-03, -5.9716e-03, -2.3325e-03, -5.2764e-04,  7.8837e-04,\n",
      "        -5.5671e-03,  7.1788e-04, -6.0835e-03,  6.1201e-04, -2.9801e-03,\n",
      "        -7.6422e-03,  4.9371e-03, -2.3326e-03,  7.3566e-03,  1.9583e-03,\n",
      "        -3.0261e-03, -1.5543e-04, -3.2950e-03,  4.9123e-03, -8.6790e-04,\n",
      "        -1.2312e-03, -1.5722e-03,  5.9622e-03,  1.4450e-03, -1.0350e-02,\n",
      "         3.6257e-03,  1.5457e-03, -4.2502e-03, -9.7257e-03, -1.1341e-03,\n",
      "         3.5733e-03, -1.0396e-02, -1.5436e-03,  2.7912e-03, -3.7892e-04,\n",
      "        -4.6095e-03, -2.7803e-04,  1.9844e-03, -5.7262e-03, -6.6511e-03,\n",
      "         5.4078e-03,  1.1126e-02,  1.1798e-03,  4.9001e-03,  4.2074e-03,\n",
      "         7.8439e-04,  3.5089e-03, -5.1925e-04,  2.2599e-03, -1.2510e-03,\n",
      "        -7.1698e-03, -6.9298e-03,  1.8520e-04,  1.1460e-02,  4.7775e-03,\n",
      "        -5.4946e-05,  2.3392e-03, -1.6301e-03, -5.6389e-03, -1.5939e-04,\n",
      "         1.7286e-03,  8.8530e-03, -2.4324e-03, -9.0625e-03,  7.1193e-03,\n",
      "        -5.1849e-03,  1.8011e-03, -1.8536e-03, -2.3966e-03,  2.6068e-03,\n",
      "        -8.2831e-04,  4.4171e-03,  1.0936e-03,  2.2811e-03,  8.7677e-03,\n",
      "         4.5068e-03,  5.7862e-03, -3.8003e-03,  4.3221e-03, -3.5055e-03,\n",
      "         3.2021e-04,  8.1847e-03, -2.5406e-03,  1.1623e-03,  2.2556e-04,\n",
      "        -4.5161e-03,  7.9044e-03, -6.2530e-03,  2.0640e-03, -1.6170e-03,\n",
      "        -3.0062e-04,  4.3745e-03, -1.0417e-03, -4.4161e-03, -5.2958e-03,\n",
      "         1.5056e-03,  2.9464e-03, -1.0663e-02,  3.1842e-03, -8.1862e-03,\n",
      "         5.8999e-03,  4.6711e-03,  2.8907e-03, -5.8095e-03, -2.6317e-05,\n",
      "        -1.9668e-03, -5.6324e-03, -5.4265e-03, -2.4963e-03, -7.3814e-03,\n",
      "        -4.0712e-03, -1.2946e-02, -7.6783e-03,  3.1869e-03,  3.9595e-03,\n",
      "         7.7097e-05,  3.0630e-03, -3.8116e-03,  8.0733e-03, -5.7101e-04,\n",
      "        -1.6394e-03,  2.4937e-03,  3.5013e-03,  2.7629e-03, -7.9942e-03,\n",
      "        -5.8632e-03, -4.7253e-03,  6.2047e-03, -4.1902e-03, -7.2085e-03,\n",
      "         2.1121e-03,  1.5091e-03,  5.2000e-03,  4.7760e-03, -1.4966e-04,\n",
      "        -1.1004e-03,  1.6412e-03,  2.5404e-03,  2.5988e-03,  7.6205e-03,\n",
      "         1.2090e-02,  1.3542e-03, -5.8578e-03, -6.7083e-03,  8.5894e-03,\n",
      "        -3.9638e-03, -1.0010e-02, -1.1867e-03, -3.8923e-03,  4.0309e-03,\n",
      "         7.3145e-03, -2.9257e-03, -1.1193e-03,  1.9022e-04, -4.2063e-03,\n",
      "         5.5650e-03, -3.0555e-03,  6.5945e-03,  2.2386e-03, -8.2684e-03,\n",
      "         1.4974e-03, -2.0183e-03,  8.2478e-04, -9.9198e-04, -7.4526e-03,\n",
      "        -2.8283e-03, -7.0087e-04,  9.5200e-03, -1.9149e-03,  6.5671e-03,\n",
      "         4.2536e-03,  1.2107e-02,  4.0466e-03, -4.7932e-03,  7.5468e-03,\n",
      "        -2.6120e-03,  2.3576e-03,  2.4790e-03,  2.4525e-03, -8.3366e-04,\n",
      "        -5.0666e-03,  2.0129e-03, -2.9309e-03,  3.1422e-03,  3.3380e-03,\n",
      "        -9.0674e-04, -5.3850e-03, -8.5950e-03, -3.9724e-03, -5.6690e-03,\n",
      "        -1.5357e-03,  1.0272e-02,  8.0534e-03,  6.4345e-03,  8.6847e-04,\n",
      "         3.4312e-04,  7.5896e-03, -1.5010e-03,  8.5872e-03,  3.2439e-03,\n",
      "        -8.1758e-03, -6.5249e-03,  5.6396e-03, -6.6897e-03, -1.1626e-02,\n",
      "         6.8516e-05, -4.7038e-03,  2.2464e-03, -3.3046e-03, -3.9715e-03,\n",
      "        -6.2249e-03, -2.1931e-03,  2.5124e-03,  2.4518e-03,  1.3467e-03,\n",
      "        -4.0388e-03, -3.6002e-03,  7.9802e-03, -4.4913e-03,  4.3948e-03,\n",
      "         1.5407e-02, -1.0382e-02, -3.5223e-03, -1.6727e-03, -3.3385e-03,\n",
      "        -6.7621e-03, -8.8602e-03,  6.7470e-03, -5.2807e-04,  5.7470e-03,\n",
      "        -3.6207e-03,  4.0289e-03,  3.6389e-03,  2.8731e-03, -2.1949e-03,\n",
      "        -3.3620e-03, -1.0805e-02,  6.2659e-03, -1.7976e-03, -4.8829e-03,\n",
      "        -5.6134e-03, -3.9198e-03,  6.9625e-03, -4.5219e-03,  2.4473e-03,\n",
      "        -1.8416e-03,  2.5592e-03,  1.6535e-03,  8.8958e-03,  3.6232e-04,\n",
      "         1.9992e-03,  6.2282e-03,  9.5035e-03, -5.7551e-03, -4.8874e-03,\n",
      "         9.7163e-03, -1.3342e-03,  5.5895e-03,  4.6323e-03,  1.0642e-02,\n",
      "         4.1888e-03, -1.9658e-03, -2.5133e-03, -3.1500e-03, -4.3732e-04,\n",
      "         2.6182e-03, -2.1913e-03,  7.2234e-03, -4.4828e-03, -7.0601e-03,\n",
      "        -5.6644e-03, -5.9603e-03, -1.1295e-02, -2.5075e-03, -2.0259e-03,\n",
      "         7.5948e-03,  4.7568e-03,  3.1450e-03,  4.8148e-04, -5.1234e-03,\n",
      "        -4.5007e-03, -6.9630e-03, -4.5286e-03, -5.1002e-03,  4.6041e-03,\n",
      "         6.9827e-03, -1.1855e-03, -6.9960e-03, -4.4938e-03,  1.7746e-03,\n",
      "         3.6291e-03,  3.1493e-03,  4.9855e-03, -5.9076e-03, -1.0783e-03,\n",
      "         6.4564e-03, -2.6240e-03,  1.0714e-02,  3.2856e-05, -3.6315e-03,\n",
      "         1.8578e-03, -2.6205e-03,  2.4018e-03, -5.9891e-03,  1.1504e-02,\n",
      "        -5.8167e-03,  1.0559e-02, -3.6027e-03, -7.1525e-04, -8.7684e-04,\n",
      "        -3.7751e-03, -1.8332e-03,  6.9884e-03, -7.5489e-03, -3.2399e-03,\n",
      "         3.2872e-03,  7.7746e-03,  9.4409e-04,  1.9985e-03,  1.4147e-03,\n",
      "         6.2624e-03,  1.9922e-03,  1.2587e-03, -3.1742e-03,  3.8018e-03,\n",
      "        -8.3691e-04,  8.5362e-03,  3.3800e-03,  4.4827e-03,  1.0808e-02,\n",
      "         2.4502e-03,  2.7996e-03,  3.8944e-03, -3.2036e-03,  7.1820e-03,\n",
      "         5.5694e-03,  8.7730e-03,  4.3114e-04,  3.9504e-03,  4.4384e-03,\n",
      "         5.9946e-03,  1.0780e-04, -1.6191e-03,  3.0874e-03, -4.6954e-03,\n",
      "        -3.2898e-03,  4.7054e-03,  3.5391e-03, -3.9565e-03, -6.0168e-03,\n",
      "         1.2577e-02,  4.2471e-03, -1.8346e-03, -2.4192e-03,  4.5062e-03,\n",
      "         2.4305e-03,  4.2387e-03,  7.8188e-03,  4.0672e-03,  3.8888e-03,\n",
      "         3.1115e-03, -1.4683e-03, -8.6096e-03,  3.2101e-03, -3.3175e-03,\n",
      "         2.9755e-03,  4.4635e-03, -1.6574e-04,  5.1473e-03, -1.0094e-02,\n",
      "        -7.6782e-03,  3.6558e-03, -6.8473e-03,  2.8290e-03,  1.2684e-03,\n",
      "         2.0766e-03,  3.6610e-03,  5.0291e-03, -2.6451e-03, -1.5576e-03,\n",
      "         4.7707e-03, -2.6656e-04, -6.0379e-04, -8.8659e-03, -1.6721e-03,\n",
      "        -2.0811e-04, -4.9743e-03, -2.5683e-03,  3.2823e-03,  1.9905e-03,\n",
      "         2.7207e-03, -1.9452e-03,  4.0074e-03, -9.8406e-03,  3.2662e-03,\n",
      "         4.8740e-03,  1.0986e-02,  3.9547e-03, -1.3858e-02,  6.7311e-03,\n",
      "         4.1684e-03, -4.8773e-03, -1.8608e-03, -2.4040e-03, -9.0241e-04,\n",
      "        -6.2788e-03,  4.3233e-03, -4.6239e-03,  2.8310e-03, -1.9684e-03,\n",
      "         5.8447e-03, -4.4640e-04,  2.0936e-03, -1.9640e-03,  4.0731e-03,\n",
      "        -6.9506e-03, -3.9727e-03,  3.9343e-03, -3.1710e-03, -5.6688e-04,\n",
      "         1.5269e-03,  1.8542e-03, -1.0032e-02,  8.5526e-03, -4.6005e-04,\n",
      "        -8.9390e-03, -3.3353e-04, -9.5264e-03, -6.3344e-04,  7.7191e-04,\n",
      "         1.7258e-03,  3.0122e-03, -5.3724e-03,  6.0093e-03, -2.9438e-03,\n",
      "        -1.0120e-03,  2.5263e-03,  2.9166e-03, -8.8378e-03, -5.3887e-03,\n",
      "         7.0878e-04,  2.6894e-03, -2.3817e-03,  8.0029e-03, -2.2581e-03,\n",
      "        -3.5983e-03,  1.1513e-03, -1.0521e-02,  7.1191e-03, -3.4230e-03,\n",
      "         2.3210e-03,  4.5692e-03,  5.2878e-03,  8.1849e-04, -1.0076e-03,\n",
      "        -8.5749e-03,  1.0876e-03,  2.3672e-03, -3.4707e-03,  3.2409e-03,\n",
      "         4.5227e-03,  2.8048e-03, -3.8126e-03,  2.5145e-03,  5.5663e-03,\n",
      "         1.1079e-02,  5.4390e-03, -5.4132e-03, -5.1450e-03,  7.2141e-03,\n",
      "         6.4292e-03,  4.7897e-03, -2.8690e-03,  3.8222e-03,  2.6175e-03,\n",
      "         2.6068e-03,  6.9078e-05, -2.4404e-03, -5.5203e-04,  2.9025e-03,\n",
      "        -4.4161e-03, -7.3644e-03, -8.5251e-03,  1.3178e-03,  2.1465e-03,\n",
      "        -3.7577e-03, -2.7397e-03,  4.1143e-03,  6.3600e-03, -2.5181e-03,\n",
      "         5.8973e-03,  3.5216e-03,  5.4097e-03, -7.7734e-03, -2.8055e-03,\n",
      "        -4.8055e-03, -3.5528e-03,  1.0054e-02, -5.7227e-03, -5.9349e-03,\n",
      "         8.0356e-03,  9.7974e-04, -3.4037e-03,  2.1212e-03, -4.7140e-03,\n",
      "        -1.5766e-03,  2.5833e-03,  5.6607e-03, -4.4134e-03,  4.2873e-03,\n",
      "         5.5990e-03,  4.1702e-03, -3.6006e-03, -6.6050e-03, -1.0734e-03,\n",
      "         4.1587e-04,  1.8800e-03,  9.0861e-03, -2.7616e-03,  4.2323e-03,\n",
      "         1.2901e-03,  2.5149e-03,  7.4662e-04,  5.2610e-03,  2.7076e-03,\n",
      "        -5.6982e-03,  4.1358e-04,  1.5292e-03, -5.2231e-03, -5.6114e-04,\n",
      "        -2.8083e-03,  2.7738e-03,  5.2372e-03,  1.2836e-03, -3.6090e-03,\n",
      "         7.0002e-03, -6.7250e-03,  1.2047e-03,  4.1932e-03,  4.6361e-03,\n",
      "         7.2052e-03, -8.6748e-03, -2.2045e-03,  5.3337e-03, -3.7742e-03,\n",
      "         3.7509e-03, -1.3373e-03,  4.8468e-04,  7.0749e-03,  4.0533e-03,\n",
      "        -1.4684e-03, -1.7467e-03,  6.3349e-03, -6.3700e-03,  2.4356e-03,\n",
      "         5.3682e-04, -2.1789e-03, -7.7984e-03, -3.5435e-03,  2.2231e-03,\n",
      "         1.5549e-03, -3.4156e-03,  9.5116e-03,  6.8193e-03, -3.9551e-03,\n",
      "         1.7345e-03,  1.1038e-02, -4.4787e-03, -3.3984e-03, -4.6461e-03,\n",
      "         3.4691e-03, -4.3896e-03, -5.2341e-03,  3.6531e-03,  6.5750e-03,\n",
      "         5.5547e-03, -5.2353e-03, -4.4399e-03,  7.0036e-03, -4.1564e-03,\n",
      "         5.1180e-04,  4.5499e-03, -9.1752e-03,  9.1278e-03,  2.2241e-03,\n",
      "        -3.4503e-03, -6.8971e-03,  1.5338e-02, -6.0445e-03,  2.4624e-03,\n",
      "         1.1921e-02, -6.0374e-03,  2.7444e-03,  5.7527e-03, -1.3097e-04,\n",
      "         3.9570e-03, -4.3752e-03,  7.1645e-03, -1.8757e-03,  1.2949e-03,\n",
      "         1.8569e-03, -1.1805e-03,  2.9194e-03, -5.9065e-04,  3.7765e-03,\n",
      "         5.6737e-03, -6.8377e-03,  4.4937e-04, -4.8974e-03,  1.0359e-03,\n",
      "         3.7280e-03, -4.1205e-03, -7.9062e-03,  4.5675e-03,  1.3543e-02,\n",
      "         7.3825e-04,  2.9717e-03,  3.5274e-03,  6.2243e-03,  1.6170e-03,\n",
      "        -5.1832e-03, -7.1699e-03,  3.9569e-03, -5.1746e-03,  1.1112e-02,\n",
      "        -3.7749e-03, -3.1474e-03, -2.2622e-04,  1.0319e-02, -1.5942e-04,\n",
      "         7.3028e-03,  2.9748e-03,  5.2027e-03, -8.7211e-04, -1.0130e-03,\n",
      "         7.3141e-04, -8.2265e-03, -4.5096e-03,  6.2704e-03,  7.2122e-03,\n",
      "        -7.8724e-03, -8.3062e-03, -2.2988e-03, -3.2725e-03,  1.8109e-03,\n",
      "         3.6401e-03,  6.5169e-03, -9.1461e-03,  5.5769e-04, -5.5392e-03,\n",
      "         1.7486e-03,  3.9937e-03,  6.4953e-03, -7.2768e-03, -1.1404e-02,\n",
      "         2.8498e-03, -9.1895e-05, -3.8815e-03,  3.2750e-03, -3.6753e-03,\n",
      "        -4.3099e-03,  1.2775e-02, -4.3530e-03, -7.1744e-03, -3.7723e-03,\n",
      "         3.9271e-03, -2.2709e-03,  2.1427e-03, -2.0389e-03, -3.5295e-03,\n",
      "        -1.2139e-03, -2.8593e-03,  2.3124e-03,  1.3273e-02,  2.2552e-03,\n",
      "         5.8996e-03, -1.9346e-03,  2.3624e-03,  4.2759e-03, -3.7107e-03,\n",
      "        -1.3829e-02, -8.1982e-03, -1.2866e-04,  4.4511e-03,  2.9679e-05,\n",
      "        -2.9812e-04, -1.2088e-02, -3.3779e-03,  4.2797e-03, -3.5016e-03,\n",
      "         8.5653e-03,  7.5631e-03, -8.3069e-03,  1.1426e-02,  2.7008e-03,\n",
      "         1.1263e-03,  2.0470e-03, -4.9172e-03,  4.3774e-03,  6.1225e-03,\n",
      "        -1.8042e-03,  1.6787e-04, -7.0097e-03, -1.4599e-03, -1.0280e-02,\n",
      "        -3.9889e-03,  2.2782e-03,  1.6378e-03,  6.4694e-03,  7.5487e-03,\n",
      "        -1.0359e-02, -4.8820e-03,  7.5296e-03,  5.2889e-03,  5.0081e-03,\n",
      "        -1.5664e-03,  9.0648e-03,  1.6798e-03, -1.1869e-03, -5.7785e-03,\n",
      "        -9.1497e-04,  7.2059e-03,  5.1142e-03, -1.0999e-03, -1.2630e-03,\n",
      "        -2.4263e-03,  9.8588e-03, -2.6589e-03,  3.7397e-03,  2.9911e-03,\n",
      "         5.3010e-04,  2.9471e-03, -2.5079e-03,  2.0323e-03,  1.6733e-03,\n",
      "        -5.3212e-04, -3.3120e-03,  3.4498e-03,  8.8168e-04],\n",
      "       grad_fn=<SelectBackward>) tensor([0.0000, 0.0000, 0.0000, 0.0000, 0.0000, 0.0000, 0.0000, 0.0000, 0.0000,\n",
      "        0.0000, 0.0000, 0.0000, 0.0000, 0.0000, 0.0000, 0.0000, 0.0000, 0.0000,\n",
      "        0.0000, 0.0000, 0.0000, 0.0000, 0.0000, 0.0000, 0.0000, 0.0000, 0.0000,\n",
      "        0.0000, 0.0000, 0.0000, 0.0000, 0.0000, 0.0000, 0.0039, 0.0627, 0.1098,\n",
      "        0.2902, 0.2549, 0.4392, 0.3686, 0.0039, 0.0000, 0.0000, 0.0000, 0.0000,\n",
      "        0.0706, 0.5373, 0.7137, 0.8667, 0.9647, 0.9843, 0.5686, 0.6118, 0.3333,\n",
      "        0.0000, 0.0000, 0.0000, 0.0000, 0.0000, 0.0549, 0.6510, 0.8902, 0.9137,\n",
      "        0.4392, 0.5804, 0.0667, 0.0000, 0.0000, 0.0000, 0.0000, 0.0000, 0.0000,\n",
      "        0.0000, 0.0000, 0.0000, 0.3451, 0.7529, 0.0000, 0.0000, 0.0000, 0.0000,\n",
      "        0.0000, 0.0000, 0.0000, 0.0000, 0.0000, 0.0000, 0.0000, 0.0000, 0.0275,\n",
      "        0.6549, 0.5333, 0.1176, 0.0000, 0.0000, 0.0000, 0.0000, 0.0000, 0.0000,\n",
      "        0.0000, 0.0000, 0.0000, 0.0000, 0.0000, 0.1020, 0.7020, 0.8157, 0.2275,\n",
      "        0.0000, 0.0000, 0.0000, 0.0000, 0.0000, 0.0000, 0.0000, 0.0000, 0.0000,\n",
      "        0.0000, 0.0000, 0.0000, 0.6471, 0.9020, 0.0941, 0.0000, 0.0000, 0.0000,\n",
      "        0.0000, 0.0000, 0.0000, 0.0000, 0.0000, 0.0000, 0.2157, 0.6235, 0.9333,\n",
      "        0.8157, 0.0510, 0.0000, 0.0000, 0.0000, 0.0000, 0.0000, 0.0000, 0.0000,\n",
      "        0.1412, 0.5804, 0.9686, 0.9333, 0.5294, 0.1137, 0.0000, 0.0000, 0.0000,\n",
      "        0.0000, 0.0000, 0.0000, 0.2588, 0.6824, 0.9451, 0.9765, 0.5804, 0.1216,\n",
      "        0.0000, 0.0000, 0.0000, 0.0000, 0.0000, 0.0000, 0.0000, 0.0039, 0.3608,\n",
      "        0.5294, 0.3804, 0.1765, 0.0000, 0.0000, 0.0000, 0.0000, 0.0000, 0.0000,\n",
      "        0.0000, 0.0000, 0.0000, 0.0000, 0.0000, 0.0000, 0.0000, 0.0000, 0.0000,\n",
      "        0.0000, 0.0000, 0.0000, 0.0000, 0.0000, 0.0000, 0.0000])\n"
     ]
    }
   ],
   "source": [
    "bs = 64  # batch size\n",
    "\n",
    "xb = xt_ds[0:bs]  # a mini-batch from x\n",
    "preds = model(xb)  # predictions\n",
    "preds[0], preds.shape\n",
    "print(preds[0], weights[0], xt_ds[0])\n"
   ]
  },
  {
   "cell_type": "code",
   "execution_count": 52,
   "metadata": {},
   "outputs": [
    {
     "name": "stdout",
     "output_type": "stream",
     "text": [
      "tensor(0.0684, grad_fn=<MaxBackward1>)\n"
     ]
    }
   ],
   "source": [
    "print(torch.max(preds[0]))"
   ]
  },
  {
   "cell_type": "markdown",
   "metadata": {
    "colab_type": "text",
    "id": "oD9GjH0arywA"
   },
   "source": [
    ">As you see, the ``preds`` tensor contains not only the tensor values, but also a\n",
    "gradient function. We'll use this later to do backprop.\n",
    "\n",
    ">Let's implement negative log-likelihood to use as the loss function\n",
    "(again, we can just use standard Python):\n",
    "\n",
    "Well we can't use log liklihood in this case as it is a regression problem, therefore we use mean squared error here"
   ]
  },
  {
   "cell_type": "code",
   "execution_count": 53,
   "metadata": {
    "colab": {},
    "colab_type": "code",
    "id": "MM5yn2gtrywB"
   },
   "outputs": [],
   "source": [
    "def mse(input, target):\n",
    "    return torch.mean((input-target)**2)\n",
    "\n",
    "loss_func = mse"
   ]
  },
  {
   "cell_type": "markdown",
   "metadata": {
    "colab_type": "text",
    "id": "X4X3Up4DrywF"
   },
   "source": [
    ">Let's check our loss with our random model, so we can see if we improve\n",
    "after a backprop pass later.\n",
    "\n"
   ]
  },
  {
   "cell_type": "code",
   "execution_count": 54,
   "metadata": {
    "colab": {},
    "colab_type": "code",
    "id": "Z7-b88ZFrywG"
   },
   "outputs": [
    {
     "name": "stdout",
     "output_type": "stream",
     "text": [
      "tensor(0.1052, grad_fn=<MeanBackward0>)\n"
     ]
    }
   ],
   "source": [
    "yb = x_train[0:bs]\n",
    "print(loss_func(preds, yb))"
   ]
  },
  {
   "cell_type": "markdown",
   "metadata": {
    "colab_type": "text",
    "id": "YrQQ0Fl8rywK"
   },
   "source": [
    ">Let's also implement a function to calculate the accuracy of our model.\n",
    "For each prediction, if the index with the largest value matches the\n",
    "target value, then the prediction was correct.\n",
    "\n",
    "Lets not do this\n"
   ]
  },
  {
   "cell_type": "markdown",
   "metadata": {
    "colab_type": "text",
    "id": "AtGjH1qrrywS"
   },
   "source": [
    "Let's check the accuracy of our random model, so we can see if our\n",
    "accuracy improves as our loss improves.\n",
    "\n"
   ]
  },
  {
   "cell_type": "markdown",
   "metadata": {
    "colab_type": "text",
    "id": "LaJfLGyjrywX"
   },
   "source": [
    "We can now run a training loop.  For each iteration, we will:\n",
    "\n",
    "- select a mini-batch of data (of size ``bs``)\n",
    "- use the model to make predictions\n",
    "- calculate the loss\n",
    "- ``loss.backward()`` updates the gradients of the model, in this case, ``weights``\n",
    "  and ``bias``.\n",
    "\n",
    "We now use these gradients to update the weights and bias.  We do this\n",
    "within the ``torch.no_grad()`` context manager, because we do not want these\n",
    "actions to be recorded for our next calculation of the gradient.  You can read\n",
    "more about how PyTorch's Autograd records operations\n",
    "`here <https://pytorch.org/docs/stable/notes/autograd.html>`_.\n",
    "\n",
    "We then set the\n",
    "gradients to zero, so that we are ready for the next loop.\n",
    "Otherwise, our gradients would record a running tally of all the operations\n",
    "that had happened (i.e. ``loss.backward()`` *adds* the gradients to whatever is\n",
    "already stored, rather than replacing them).\n",
    "\n",
    ".. tip:: You can use the standard python debugger to step through PyTorch\n",
    "   code, allowing you to check the various variable values at each step.\n",
    "   Uncomment ``set_trace()`` below to try it out.\n",
    "\n",
    "\n"
   ]
  },
  {
   "cell_type": "code",
   "execution_count": 138,
   "metadata": {
    "colab": {},
    "colab_type": "code",
    "id": "Oz8xjyeyrywX"
   },
   "outputs": [],
   "source": [
    "from IPython.core.debugger import set_trace\n",
    "\n",
    "lr = 0.2  # learning rate\n",
    "epochs = 20  # how many epochs to train for\n",
    "\n",
    "for epoch in range(epochs):\n",
    "    for i in range((n - 1) // bs + 1):\n",
    "        #         set_trace()\n",
    "        start_i = i * bs\n",
    "        end_i = start_i + bs\n",
    "        xb = xt_us[start_i:end_i]\n",
    "        yb = x_train[start_i:end_i]\n",
    "        pred = model(xb)\n",
    "        loss = loss_func(pred, yb)\n",
    "\n",
    "        loss.backward()\n",
    "        with torch.no_grad():\n",
    "            weights -= weights.grad * lr\n",
    "            bias -= bias.grad * lr\n",
    "            weights.grad.zero_()\n",
    "            bias.grad.zero_()"
   ]
  },
  {
   "cell_type": "markdown",
   "metadata": {
    "colab_type": "text",
    "id": "EE71t4fPrywd"
   },
   "source": [
    "That's it: we've created and trained a minimal neural network (in this case, a\n",
    "logistic regression, since we have no hidden layers) entirely from scratch!\n",
    "\n",
    "Let's check the loss and accuracy and compare those to what we got\n",
    "earlier. We expect that the loss will have decreased and accuracy to\n",
    "have increased, and they have.\n",
    "\n"
   ]
  },
  {
   "cell_type": "code",
   "execution_count": 57,
   "metadata": {},
   "outputs": [
    {
     "data": {
      "text/plain": [
       "<matplotlib.image.AxesImage at 0x7f3eec623048>"
      ]
     },
     "execution_count": 57,
     "metadata": {},
     "output_type": "execute_result"
    },
    {
     "data": {
      "image/png": "[encoded data removed]",
      "text/plain": [
       "<Figure size 432x288 with 1 Axes>"
      ]
     },
     "metadata": {
      "needs_background": "light"
     },
     "output_type": "display_data"
    }
   ],
   "source": [
    "pyplot.imshow(model(xt_ds[0]).detach().numpy().reshape((28,28)), cmap='gray')"
   ]
  },
  {
   "cell_type": "code",
   "execution_count": null,
   "metadata": {},
   "outputs": [],
   "source": [
    "yb.size()"
   ]
  },
  {
   "cell_type": "code",
   "execution_count": 60,
   "metadata": {
    "colab": {},
    "colab_type": "code",
    "id": "0zmzgf9wrywe"
   },
   "outputs": [
    {
     "name": "stdout",
     "output_type": "stream",
     "text": [
      "Loss of the model: tensor(0.0187, grad_fn=<MeanBackward0>)\n",
      "Loss of Binear Interpolation: tensor(0.0108)\n"
     ]
    }
   ],
   "source": [
    "print(\"Loss of the model:\", loss_func(model(xb), yb))\n",
    "print(\"Loss of Binear Interpolation:\", loss_func(xt_us, x_train))\n",
    "\n"
   ]
  },
  {
   "cell_type": "markdown",
   "metadata": {
    "colab_type": "text",
    "id": "sLvjHRFNrywi"
   },
   "source": [
    ">Using torch.nn.functional\n",
    "------------------------------\n",
    "\n",
    ">We will now refactor our code, so that it does the same thing as before, only\n",
    "we'll start taking advantage of PyTorch's ``nn`` classes to make it more concise\n",
    "and flexible. At each step from here, we should be making our code one or more\n",
    "of: shorter, more understandable, and/or more flexible.\n",
    "\n",
    ">The first and easiest step is to make our code shorter by replacing our\n",
    "hand-written activation and loss functions with those from ``torch.nn.functional``\n",
    "(which is generally imported into the namespace ``F`` by convention). This module\n",
    "contains all the functions in the ``torch.nn`` library (whereas other parts of the\n",
    "library contain classes). As well as a wide range of loss and activation\n",
    "functions, you'll also find here some convenient functions for creating neural\n",
    "nets, such as pooling functions. (There are also functions for doing convolutions,\n",
    "linear layers, etc, but as we'll see, these are usually better handled using\n",
    "other parts of the library.)\n",
    "\n",
    ">If you're using negative log likelihood loss and log softmax activation,\n",
    "then Pytorch provides a single function ``F.cross_entropy`` that combines\n",
    "the two. So we can even remove the activation function from our model.\n",
    "\n",
    "We cannot use cross entropy\n",
    "So we use relu and mse and we put the activation function back into the loss function\n"
   ]
  },
  {
   "cell_type": "code",
   "execution_count": 61,
   "metadata": {
    "colab": {},
    "colab_type": "code",
    "id": "yD0kluFYrywi"
   },
   "outputs": [],
   "source": [
    "import torch.nn.functional as F\n",
    "\n",
    "loss_func = F.mse_loss\n",
    "activ_func = F.relu\n",
    "\n",
    "def model(xb):\n",
    "    return activ_func(xb @ weights + bias)"
   ]
  },
  {
   "cell_type": "code",
   "execution_count": 62,
   "metadata": {},
   "outputs": [
    {
     "name": "stdout",
     "output_type": "stream",
     "text": [
      "tensor(0., grad_fn=<MinBackward1>)\n"
     ]
    }
   ],
   "source": [
    "print(torch.min(model(xb)))"
   ]
  },
  {
   "cell_type": "markdown",
   "metadata": {
    "colab_type": "text",
    "id": "9S2ZpYc-rywm"
   },
   "source": [
    ">Note that we no longer call ``log_softmax`` in the ``model`` function. Let's\n",
    "confirm that our loss and accuracy are the same as before:\n",
    "\n",
    "Ok that's fixed"
   ]
  },
  {
   "cell_type": "code",
   "execution_count": 63,
   "metadata": {
    "colab": {},
    "colab_type": "code",
    "id": "_aVx15AYrywn"
   },
   "outputs": [
    {
     "data": {
      "text/plain": [
       "tensor(0.0188, grad_fn=<MseLossBackward>)"
      ]
     },
     "execution_count": 63,
     "metadata": {},
     "output_type": "execute_result"
    }
   ],
   "source": [
    "loss_func(model(xb), yb)\n"
   ]
  },
  {
   "cell_type": "markdown",
   "metadata": {
    "colab_type": "text",
    "id": "ZO0YyyJWrywq"
   },
   "source": [
    "Refactor using nn.Module\n",
    "-----------------------------\n",
    "Next up, we'll use ``nn.Module`` and ``nn.Parameter``, for a clearer and more\n",
    "concise training loop. We subclass ``nn.Module`` (which itself is a class and\n",
    "able to keep track of state).  In this case, we want to create a class that\n",
    "holds our weights, bias, and method for the forward step.  ``nn.Module`` has a\n",
    "number of attributes and methods (such as ``.parameters()`` and ``.zero_grad()``)\n",
    "which we will be using.\n",
    "\n",
    "<div class=\"alert alert-info\"><h4>Note</h4><p>``nn.Module`` (uppercase M) is a PyTorch specific concept, and is a\n",
    "   class we'll be using a lot. ``nn.Module`` is not to be confused with the Python\n",
    "   concept of a (lowercase ``m``) `module <https://docs.python.org/3/tutorial/modules.html>`_,\n",
    "   which is a file of Python code that can be imported.</p></div>\n",
    "\n"
   ]
  },
  {
   "cell_type": "code",
   "execution_count": 135,
   "metadata": {
    "colab": {},
    "colab_type": "code",
    "id": "6P4-eB9arywq"
   },
   "outputs": [],
   "source": [
    "from torch import nn\n",
    "\n",
    "class Mnist_Logistic(nn.Module):\n",
    "    def __init__(self):\n",
    "        super().__init__()\n",
    "        self.weights = nn.Parameter(torch.randn(784, 784) / 784)\n",
    "        self.bias = nn.Parameter(torch.zeros(784))\n",
    "\n",
    "    def forward(self, xb):\n",
    "        return activ_func(xb @ self.weights + self.bias)"
   ]
  },
  {
   "cell_type": "markdown",
   "metadata": {
    "colab_type": "text",
    "id": "7XTWSNwtryww"
   },
   "source": [
    "Since we're now using an object instead of just using a function, we\n",
    "first have to instantiate our model:\n",
    "\n"
   ]
  },
  {
   "cell_type": "code",
   "execution_count": 139,
   "metadata": {
    "colab": {},
    "colab_type": "code",
    "id": "fXEIkDHqrywy"
   },
   "outputs": [],
   "source": [
    "model = Mnist_Logistic()"
   ]
  },
  {
   "cell_type": "markdown",
   "metadata": {
    "colab_type": "text",
    "id": "pStDDMckryw0"
   },
   "source": [
    "Now we can calculate the loss in the same way as before. Note that\n",
    "``nn.Module`` objects are used as if they are functions (i.e they are\n",
    "*callable*), but behind the scenes Pytorch will call our ``forward``\n",
    "method automatically.\n",
    "\n"
   ]
  },
  {
   "cell_type": "code",
   "execution_count": 140,
   "metadata": {
    "colab": {},
    "colab_type": "code",
    "id": "uzlCRR4Oryw1"
   },
   "outputs": [
    {
     "name": "stdout",
     "output_type": "stream",
     "text": [
      "tensor(0.1144, grad_fn=<MseLossBackward>)\n"
     ]
    }
   ],
   "source": [
    "print(loss_func(model(xb), yb))"
   ]
  },
  {
   "cell_type": "markdown",
   "metadata": {
    "colab_type": "text",
    "id": "8ncGx1KOryw4"
   },
   "source": [
    "Previously for our training loop we had to update the values for each parameter\n",
    "by name, and manually zero out the grads for each parameter separately, like this:\n",
    "::\n",
    "  with torch.no_grad():\n",
    "      weights -= weights.grad * lr\n",
    "      bias -= bias.grad * lr\n",
    "      weights.grad.zero_()\n",
    "      bias.grad.zero_()\n",
    "\n",
    "\n",
    "Now we can take advantage of model.parameters() and model.zero_grad() (which\n",
    "are both defined by PyTorch for ``nn.Module``) to make those steps more concise\n",
    "and less prone to the error of forgetting some of our parameters, particularly\n",
    "if we had a more complicated model:\n",
    "::\n",
    "  with torch.no_grad():\n",
    "      for p in model.parameters(): p -= p.grad * lr\n",
    "      model.zero_grad()\n",
    "\n",
    "\n",
    "We'll wrap our little training loop in a ``fit`` function so we can run it\n",
    "again later.\n",
    "\n"
   ]
  },
  {
   "cell_type": "code",
   "execution_count": 141,
   "metadata": {},
   "outputs": [
    {
     "data": {
      "text/plain": [
       "torch.Size([50000, 784])"
      ]
     },
     "execution_count": 141,
     "metadata": {},
     "output_type": "execute_result"
    }
   ],
   "source": [
    "pred = model(xb)\n",
    "xb.size()\n",
    "bs\n",
    "x_train.size()"
   ]
  },
  {
   "cell_type": "code",
   "execution_count": 143,
   "metadata": {
    "colab": {},
    "colab_type": "code",
    "id": "Wp2a3kU-ryw5"
   },
   "outputs": [],
   "source": [
    "def fit():\n",
    "    for epoch in range(epochs):\n",
    "        for i in range((n - 1) // bs + 1):\n",
    "            start_i = i * bs\n",
    "            end_i = start_i + bs\n",
    "            xb = xt_us[start_i:end_i]\n",
    "            yb = x_train[start_i:end_i]\n",
    "            xb.size()\n",
    "            pred = model(xb)\n",
    "            loss = loss_func(pred, yb)\n",
    "\n",
    "            loss.backward()\n",
    "            with torch.no_grad():\n",
    "                for p in model.parameters():\n",
    "                    p -= p.grad * lr\n",
    "                model.zero_grad()\n",
    "\n",
    "fit()"
   ]
  },
  {
   "cell_type": "markdown",
   "metadata": {
    "colab_type": "text",
    "id": "RMucwk_Kryw9"
   },
   "source": [
    "Let's double-check that our loss has gone down:\n",
    "\n"
   ]
  },
  {
   "cell_type": "code",
   "execution_count": 80,
   "metadata": {
    "colab": {},
    "colab_type": "code",
    "id": "dGvSWdEpryxA"
   },
   "outputs": [
    {
     "name": "stdout",
     "output_type": "stream",
     "text": [
      "tensor(0.0082, grad_fn=<MseLossBackward>)\n"
     ]
    }
   ],
   "source": [
    "print(loss_func(model(xb), yb))"
   ]
  },
  {
   "cell_type": "code",
   "execution_count": 90,
   "metadata": {},
   "outputs": [
    {
     "name": "stdout",
     "output_type": "stream",
     "text": [
      "[0.0071407687, 0.9117204455330581]\n",
      "torch.Size([100, 784])\n",
      "nan\n",
      "nan\n"
     ]
    },
    {
     "name": "stderr",
     "output_type": "stream",
     "text": [
      "/projects/qg35/jlgao2/venvs/lib/python3.7/site-packages/ipykernel_launcher.py:13: UserWarning: DEPRECATED: skimage.measure.compare_ssim has been moved to skimage.metrics.structural_similarity. It will be removed from skimage.measure in version 0.18.\n",
      "  del sys.path[0]\n"
     ]
    }
   ],
   "source": [
    "x_sample = model(xt_ds[0:100])\n",
    "y_sample = x_train[0:100]\n",
    "\n",
    "\n",
    "\n",
    "def testTensors(x, y):\n",
    "    mse = []\n",
    "    ssim = []\n",
    "    x = x.detach().numpy()\n",
    "    y = y.detach().numpy()\n",
    "    for i in range(100):\n",
    "        mse.append(np.average(np.square(y[i]-x[i])))\n",
    "        ssim.append(compare_ssim(y[i],x[i]))\n",
    "    return [np.mean(mse), np.mean(ssim)]\n",
    "\n",
    "print(testTensors(x_sample, y_sample))\n",
    "        \n",
    "#     e5_mse =  \n",
    "# from skimage.measure import compare_ssim as ssim\n",
    "# print(\"The MSE of bicubic interpolation on this image is\", e5_mse)\n",
    "# e5_ssim = \n",
    "# print(\"The SSIM of bicubic interpolation on this image is\", e5_ssim)\n",
    "print(x_sample.shape)\n",
    "\n",
    "print(np.mean(mse))\n",
    "print(np.mean(ssim))"
   ]
  },
  {
   "cell_type": "code",
   "execution_count": 93,
   "metadata": {},
   "outputs": [
    {
     "data": {
      "text/plain": [
       "<matplotlib.image.AxesImage at 0x7f3eec586d68>"
      ]
     },
     "execution_count": 93,
     "metadata": {},
     "output_type": "execute_result"
    },
    {
     "data": {
      "image/png": "[encoded data removed]",
      "text/plain": [
       "<Figure size 432x288 with 1 Axes>"
      ]
     },
     "metadata": {
      "needs_background": "light"
     },
     "output_type": "display_data"
    }
   ],
   "source": [
    "pyplot.imshow(x_sample[0].detach().numpy().reshape((28,28)), cmap='gray')"
   ]
  },
  {
   "cell_type": "markdown",
   "metadata": {
    "colab_type": "text",
    "id": "e9fOqVvNryxE"
   },
   "source": [
    "Refactor using nn.Linear\n",
    "-------------------------\n",
    "\n",
    "We continue to refactor our code.  Instead of manually defining and\n",
    "initializing ``self.weights`` and ``self.bias``, and calculating ``xb  @\n",
    "self.weights + self.bias``, we will instead use the Pytorch class\n",
    "`nn.Linear <https://pytorch.org/docs/stable/nn.html#linear-layers>`_ for a\n",
    "linear layer, which does all that for us. Pytorch has many types of\n",
    "predefined layers that can greatly simplify our code, and often makes it\n",
    "faster too.\n",
    "\n"
   ]
  },
  {
   "cell_type": "code",
   "execution_count": 122,
   "metadata": {
    "colab": {},
    "colab_type": "code",
    "id": "TH0xxYm2ryxF"
   },
   "outputs": [],
   "source": [
    "class Mnist_Logistic(nn.Module):\n",
    "    def __init__(self):\n",
    "        super().__init__()\n",
    "        self.lin = nn.Linear(784, 784)\n",
    "\n",
    "    def forward(self, xb):\n",
    "        return activ_func(self.lin(xb))"
   ]
  },
  {
   "cell_type": "markdown",
   "metadata": {
    "colab_type": "text",
    "id": "AIUqZuKKryxJ"
   },
   "source": [
    "We instantiate our model and calculate the loss in the same way as before:\n",
    "\n"
   ]
  },
  {
   "cell_type": "code",
   "execution_count": 123,
   "metadata": {
    "colab": {},
    "colab_type": "code",
    "id": "1fShvHQIryxJ"
   },
   "outputs": [
    {
     "name": "stdout",
     "output_type": "stream",
     "text": [
      "tensor(0.1094, grad_fn=<MseLossBackward>)\n"
     ]
    }
   ],
   "source": [
    "model = Mnist_Logistic()\n",
    "print(loss_func(model(xb), yb))"
   ]
  },
  {
   "cell_type": "markdown",
   "metadata": {
    "colab_type": "text",
    "id": "wZu5_JudryxM"
   },
   "source": [
    "We are still able to use our same ``fit`` method as before.\n",
    "\n"
   ]
  },
  {
   "cell_type": "markdown",
   "metadata": {
    "colab_type": "text",
    "id": "M0YPzJfLryxR"
   },
   "source": [
    "Refactor using optim\n",
    "------------------------------\n",
    "\n",
    "Pytorch also has a package with various optimization algorithms, ``torch.optim``.\n",
    "We can use the ``step`` method from our optimizer to take a forward step, instead\n",
    "of manually updating each parameter.\n",
    "\n",
    "This will let us replace our previous manually coded optimization step:\n",
    "::\n",
    "  with torch.no_grad():\n",
    "      for p in model.parameters(): p -= p.grad * lr\n",
    "      model.zero_grad()\n",
    "\n",
    "and instead use just:\n",
    "::\n",
    "  opt.step()\n",
    "  opt.zero_grad()\n",
    "\n",
    "(``optim.zero_grad()`` resets the gradient to 0 and we need to call it before\n",
    "computing the gradient for the next minibatch.)\n",
    "\n"
   ]
  },
  {
   "cell_type": "code",
   "execution_count": 100,
   "metadata": {
    "colab": {},
    "colab_type": "code",
    "id": "AYpxP7WtryxS"
   },
   "outputs": [],
   "source": [
    "from torch import optim"
   ]
  },
  {
   "cell_type": "markdown",
   "metadata": {
    "colab_type": "text",
    "id": "wXpp6IvaryxV"
   },
   "source": [
    "We'll define a little function to create our model and optimizer so we\n",
    "can reuse it in the future.\n",
    "\n"
   ]
  },
  {
   "cell_type": "code",
   "execution_count": 144,
   "metadata": {
    "colab": {},
    "colab_type": "code",
    "id": "1wkfRciZryxW"
   },
   "outputs": [
    {
     "name": "stdout",
     "output_type": "stream",
     "text": [
      "tensor(0.1145, grad_fn=<MseLossBackward>)\n",
      "tensor(0.0119, grad_fn=<MseLossBackward>)\n"
     ]
    }
   ],
   "source": [
    "def get_model():\n",
    "    model = Mnist_Logistic()\n",
    "    return model, optim.SGD(model.parameters(), lr=lr)\n",
    "\n",
    "model, opt = get_model()\n",
    "print(loss_func(model(xb), yb))\n",
    "\n",
    "for epoch in range(epochs):\n",
    "    for i in range((n - 1) // bs + 1):\n",
    "        start_i = i * bs\n",
    "        end_i = start_i + bs\n",
    "        xb = xt_us[start_i:end_i]\n",
    "        yb = x_train[start_i:end_i]\n",
    "        pred = model(xb)\n",
    "        loss = loss_func(pred, yb)\n",
    "\n",
    "        loss.backward()\n",
    "        opt.step()\n",
    "        opt.zero_grad()\n",
    "\n",
    "print(loss_func(model(xb), yb))"
   ]
  },
  {
   "cell_type": "code",
   "execution_count": 134,
   "metadata": {},
   "outputs": [
    {
     "data": {
      "text/plain": [
       "torch.Size([50000, 784])"
      ]
     },
     "execution_count": 134,
     "metadata": {},
     "output_type": "execute_result"
    }
   ],
   "source": [
    "xt_us.size()"
   ]
  },
  {
   "cell_type": "code",
   "execution_count": 102,
   "metadata": {
    "colab": {},
    "colab_type": "code",
    "id": "JSonohrqryxZ"
   },
   "outputs": [],
   "source": [
    "from torch.utils.data import TensorDataset"
   ]
  },
  {
   "cell_type": "markdown",
   "metadata": {
    "colab_type": "text",
    "id": "7XeoIYKWryxb"
   },
   "source": [
    "Both ``x_train`` and ``y_train`` can be combined in a single ``TensorDataset``,\n",
    "which will be easier to iterate over and slice.\n",
    "\n"
   ]
  },
  {
   "cell_type": "code",
   "execution_count": 120,
   "metadata": {
    "colab": {},
    "colab_type": "code",
    "id": "4qkotC3cryx5"
   },
   "outputs": [],
   "source": [
    "train_ds = TensorDataset(xt_us, x_train)\n",
    "train_dl = DataLoader(train_ds, batch_size=bs, shuffle=True)\n",
    "\n",
    "valid_ds = TensorDataset(xv_us, x_valid)\n",
    "valid_dl = DataLoader(valid_ds, batch_size=bs * 2)"
   ]
  },
  {
   "cell_type": "markdown",
   "metadata": {
    "colab_type": "text",
    "id": "uCRYjVQHryx6"
   },
   "source": [
    "We will calculate and print the validation loss at the end of each epoch.\n",
    "\n",
    "(Note that we always call ``model.train()`` before training, and ``model.eval()``\n",
    "before inference, because these are used by layers such as ``nn.BatchNorm2d``\n",
    "and ``nn.Dropout`` to ensure appropriate behaviour for these different phases.)\n",
    "\n"
   ]
  },
  {
   "cell_type": "markdown",
   "metadata": {
    "colab_type": "text",
    "id": "baVc72zeryx8"
   },
   "source": [
    "Create fit() and get_data()\n",
    "----------------------------------\n",
    "\n",
    "We'll now do a little refactoring of our own. Since we go through a similar\n",
    "process twice of calculating the loss for both the training set and the\n",
    "validation set, let's make that into its own function, ``loss_batch``, which\n",
    "computes the loss for one batch.\n",
    "\n",
    "We pass an optimizer in for the training set, and use it to perform\n",
    "backprop.  For the validation set, we don't pass an optimizer, so the\n",
    "method doesn't perform backprop.\n",
    "\n"
   ]
  },
  {
   "cell_type": "code",
   "execution_count": 112,
   "metadata": {
    "colab": {},
    "colab_type": "code",
    "id": "gnC4QnJvryx9"
   },
   "outputs": [],
   "source": [
    "def loss_batch(model, loss_func, xb, yb, opt=None):\n",
    "    loss = loss_func(model(xb), yb)\n",
    "\n",
    "    if opt is not None:\n",
    "        loss.backward()\n",
    "        opt.step()\n",
    "        opt.zero_grad()\n",
    "\n",
    "    return loss.item(), len(xb)"
   ]
  },
  {
   "cell_type": "markdown",
   "metadata": {
    "colab_type": "text",
    "id": "xUelO-cOryx_"
   },
   "source": [
    "``fit`` runs the necessary operations to train our model and compute the\n",
    "training and validation losses for each epoch.\n",
    "\n"
   ]
  },
  {
   "cell_type": "code",
   "execution_count": 149,
   "metadata": {
    "colab": {},
    "colab_type": "code",
    "id": "dmz91ViuryyA"
   },
   "outputs": [],
   "source": [
    "import numpy as np\n",
    "\n",
    "def fit(epochs, model, loss_func, opt, train_dl, valid_dl):\n",
    "    for epoch in range(epochs):\n",
    "        model.train()\n",
    "        for xb, yb in train_dl:\n",
    "            loss_batch(model, loss_func, xb, yb, opt)\n",
    "        model.eval()\n",
    "        with torch.no_grad():\n",
    "            losses, nums = zip(\n",
    "                *[loss_batch(model, loss_func, xb, yb) for xb, yb in valid_dl]\n",
    "            )\n",
    "        val_loss = np.sum(np.multiply(losses, nums)) / np.sum(nums)\n",
    "\n",
    "        print(epoch, val_loss)"
   ]
  },
  {
   "cell_type": "markdown",
   "metadata": {
    "colab_type": "text",
    "id": "gr6yTe8pryyC"
   },
   "source": [
    "``get_data`` returns dataloaders for the training and validation sets.\n",
    "\n"
   ]
  },
  {
   "cell_type": "code",
   "execution_count": 185,
   "metadata": {
    "colab": {},
    "colab_type": "code",
    "id": "3b9j3HmkryyC"
   },
   "outputs": [],
   "source": [
    "def get_data(train_ds, valid_ds, bs):\n",
    "    return (\n",
    "        DataLoader(train_ds, batch_size=bs, shuffle=True),\n",
    "        DataLoader(valid_ds, batch_size=bs * 2),\n",
    "    )"
   ]
  },
  {
   "cell_type": "markdown",
   "metadata": {
    "colab_type": "text",
    "id": "WdeKaQQdryyE"
   },
   "source": [
    "Now, our whole process of obtaining the data loaders and fitting the\n",
    "model can be run in 3 lines of code:\n",
    "\n"
   ]
  },
  {
   "cell_type": "code",
   "execution_count": 186,
   "metadata": {
    "colab": {},
    "colab_type": "code",
    "id": "WHugCSAUryyF"
   },
   "outputs": [
    {
     "name": "stdout",
     "output_type": "stream",
     "text": [
      "0 0.043536354666948315\n",
      "1 0.034637879544496535\n",
      "2 0.02981453269124031\n",
      "3 0.026702913030982017\n",
      "4 0.024470594796538354\n",
      "5 0.02276384028196335\n",
      "6 0.02131422400176525\n",
      "7 0.02016535888314247\n",
      "8 0.01920258931517601\n",
      "9 0.018377615958452224\n",
      "10 0.017659854301810263\n",
      "11 0.017027694776654244\n",
      "12 0.016467397597432137\n",
      "13 0.015964249891042708\n",
      "14 0.015511864733695984\n",
      "15 0.015098925122618675\n",
      "16 0.014722148871421814\n",
      "17 0.014376439225673675\n",
      "18 0.014057751497626305\n",
      "19 0.013763205996155738\n"
     ]
    }
   ],
   "source": [
    "train_dl, valid_dl = get_data(train_ds, valid_ds, bs)\n",
    "model, opt = get_model()\n",
    "fit(epochs, model, loss_func, opt, train_dl, valid_dl)"
   ]
  },
  {
   "cell_type": "markdown",
   "metadata": {
    "colab_type": "text",
    "id": "8v_hJ62tryyH"
   },
   "source": [
    "You can use these basic 3 lines of code to train a wide variety of models.\n",
    "Let's see if we can use them to train a convolutional neural network (CNN)!\n",
    "\n",
    "Switch to CNN\n",
    "-------------\n",
    "\n",
    "We are now going to build our neural network with three convolutional layers.\n",
    "Because none of the functions in the previous section assume anything about\n",
    "the model form, we'll be able to use them to train a CNN without any modification.\n",
    "\n",
    "We will use Pytorch's predefined\n",
    "`Conv2d <https://pytorch.org/docs/stable/nn.html#torch.nn.Conv2d>`_ class\n",
    "as our convolutional layer. We define a CNN with 3 convolutional layers.\n",
    "Each convolution is followed by a ReLU.  At the end, we perform an\n",
    "average pooling.  (Note that ``view`` is PyTorch's version of numpy's\n",
    "``reshape``)\n",
    "\n"
   ]
  },
  {
   "cell_type": "markdown",
   "metadata": {
    "colab_type": "text",
    "id": "KRuHK7qPryyK"
   },
   "source": [
    "`Momentum <https://cs231n.github.io/neural-networks-3/#sgd>`_ is a variation on\n",
    "stochastic gradient descent that takes previous updates into account as well\n",
    "and generally leads to faster training.\n",
    "\n"
   ]
  },
  {
   "cell_type": "code",
   "execution_count": null,
   "metadata": {},
   "outputs": [],
   "source": [
    "model(xb).size()"
   ]
  },
  {
   "cell_type": "code",
   "execution_count": 180,
   "metadata": {},
   "outputs": [
    {
     "data": {
      "text/plain": [
       "torch.Size([16, 784])"
      ]
     },
     "execution_count": 180,
     "metadata": {},
     "output_type": "execute_result"
    }
   ],
   "source": [
    "yb.size()"
   ]
  },
  {
   "cell_type": "markdown",
   "metadata": {
    "colab_type": "text",
    "id": "hboRZNYRryyN"
   },
   "source": [
    "nn.Sequential\n",
    "------------------------\n",
    "\n",
    "``torch.nn`` has another handy class we can use to simply our code:\n",
    "`Sequential <https://pytorch.org/docs/stable/nn.html#torch.nn.Sequential>`_ .\n",
    "A ``Sequential`` object runs each of the modules contained within it, in a\n",
    "sequential manner. This is a simpler way of writing our neural network.\n",
    "\n",
    "To take advantage of this, we need to be able to easily define a\n",
    "**custom layer** from a given function.  For instance, PyTorch doesn't\n",
    "have a `view` layer, and we need to create one for our network. ``Lambda``\n",
    "will create a layer that we can then use when defining a network with\n",
    "``Sequential``.\n",
    "\n"
   ]
  },
  {
   "cell_type": "code",
   "execution_count": 200,
   "metadata": {
    "colab": {},
    "colab_type": "code",
    "id": "Uih149xZryyN"
   },
   "outputs": [],
   "source": [
    "class Lambda(nn.Module):\n",
    "    def __init__(self, func):\n",
    "        super().__init__()\n",
    "        self.func = func\n",
    "\n",
    "    def forward(self, x):\n",
    "        return self.func(x)"
   ]
  },
  {
   "cell_type": "markdown",
   "metadata": {
    "colab_type": "text",
    "id": "5-nUNbKEryyO"
   },
   "source": [
    "The model created with ``Sequential`` is simply:\n",
    "\n"
   ]
  },
  {
   "cell_type": "markdown",
   "metadata": {
    "colab_type": "text",
    "id": "TVEsJYt2ryyR"
   },
   "source": [
    "Wrapping DataLoader\n",
    "-----------------------------\n",
    "\n",
    "Our CNN is fairly concise, but it only works with MNIST, because:\n",
    " - It assumes the input is a 28\\*28 long vector\n",
    " - It assumes that the final CNN grid size is 4\\*4 (since that's the average\n",
    "pooling kernel size we used)\n",
    "\n",
    "Let's get rid of these two assumptions, so our model works with any 2d\n",
    "single channel image. First, we can remove the initial Lambda layer but\n",
    "moving the data preprocessing into a generator:\n",
    "\n"
   ]
  },
  {
   "cell_type": "code",
   "execution_count": 201,
   "metadata": {
    "colab": {},
    "colab_type": "code",
    "id": "2aIhV0dZryyS"
   },
   "outputs": [],
   "source": [
    "class WrappedDataLoader:\n",
    "    def __init__(self, dl, func):\n",
    "        self.dl = dl\n",
    "        self.func = func\n",
    "\n",
    "    def __len__(self):\n",
    "        return len(self.dl)\n",
    "\n",
    "    def __iter__(self):\n",
    "        batches = iter(self.dl)\n",
    "        for b in batches:\n",
    "            yield (self.func(*b))\n",
    "\n",
    "train_dl, valid_dl = get_data(train_ds, valid_ds, bs)\n",
    "train_dl = WrappedDataLoader(train_dl, preprocess)\n",
    "valid_dl = WrappedDataLoader(valid_dl, preprocess)"
   ]
  },
  {
   "cell_type": "markdown",
   "metadata": {
    "colab_type": "text",
    "id": "xdnBhbx5ryyU"
   },
   "source": [
    "Next, we can replace ``nn.AvgPool2d`` with ``nn.AdaptiveAvgPool2d``, which\n",
    "allows us to define the size of the *output* tensor we want, rather than\n",
    "the *input* tensor we have. As a result, our model will work with any\n",
    "size input.\n",
    "\n"
   ]
  },
  {
   "cell_type": "code",
   "execution_count": 183,
   "metadata": {
    "colab": {},
    "colab_type": "code",
    "id": "gfrPtblzryyV"
   },
   "outputs": [],
   "source": [
    "model = nn.Sequential(\n",
    "            #28*28*1\n",
    "            nn.Conv2d(1, 16, kernel_size=5, stride=2, padding=2, bias=False),\n",
    "            nn.BatchNorm2d(16),\n",
    "            nn.ReLU(),\n",
    "            #14*14*16\n",
    "            nn.Conv2d(16, 32, kernel_size=3, stride=1, padding=1, bias=False),\n",
    "            nn.BatchNorm2d(32),\n",
    "            nn.ReLU(),\n",
    "            #14*14*32\n",
    "            nn.ConvTranspose2d(32, 16, kernel_size=3, stride=2, padding=1, bias=False),\n",
    "            nn.BatchNorm2d(16),\n",
    "            nn.ReLU(),\n",
    "            #28x28x16\n",
    "            nn.ConvTranspose2d(16, 1, kernel_size=4, stride=1, padding=1, bias=False)\n",
    "            #28x28x1   \n",
    "        )\n",
    "\n",
    "opt = optim.SGD(model.parameters(), lr=lr, momentum=0.9)"
   ]
  },
  {
   "cell_type": "code",
   "execution_count": 187,
   "metadata": {
    "colab": {},
    "colab_type": "code",
    "id": "OlkeeNkUryya"
   },
   "outputs": [
    {
     "name": "stdout",
     "output_type": "stream",
     "text": [
      "True\n"
     ]
    }
   ],
   "source": [
    "print(torch.cuda.is_available())"
   ]
  },
  {
   "cell_type": "markdown",
   "metadata": {
    "colab_type": "text",
    "id": "2JUToGMgryyd"
   },
   "source": [
    "And then create a device object for it:\n",
    "\n"
   ]
  },
  {
   "cell_type": "code",
   "execution_count": 188,
   "metadata": {
    "colab": {},
    "colab_type": "code",
    "id": "7vTHPc1rryyd"
   },
   "outputs": [],
   "source": [
    "dev = torch.device(\n",
    "    \"cuda\") if torch.cuda.is_available() else torch.device(\"cpu\")"
   ]
  },
  {
   "cell_type": "markdown",
   "metadata": {
    "colab_type": "text",
    "id": "yMLds7v2ryyg"
   },
   "source": [
    "Let's update ``preprocess`` to move batches to the GPU:\n",
    "\n"
   ]
  },
  {
   "cell_type": "code",
   "execution_count": 206,
   "metadata": {
    "colab": {},
    "colab_type": "code",
    "id": "UsSTodAMryyg"
   },
   "outputs": [],
   "source": [
    "def preprocess(x, y):\n",
    "    return x.to(dev), y.to(dev)\n",
    "\n",
    "\n",
    "train_dl, valid_dl = get_data(train_ds, valid_ds, bs)\n",
    "train_dl = WrappedDataLoader(train_dl, preprocess)\n",
    "valid_dl = WrappedDataLoader(valid_dl, preprocess)"
   ]
  },
  {
   "cell_type": "markdown",
   "metadata": {
    "colab_type": "text",
    "id": "zzTL65dSryyi"
   },
   "source": [
    "Finally, we can move our model to the GPU.\n",
    "\n"
   ]
  },
  {
   "cell_type": "code",
   "execution_count": 204,
   "metadata": {
    "colab": {},
    "colab_type": "code",
    "id": "ikzj91yJryyi"
   },
   "outputs": [],
   "source": [
    "model.to(dev)\n",
    "opt = optim.SGD(model.parameters(), lr=lr, momentum=0.9)"
   ]
  },
  {
   "cell_type": "markdown",
   "metadata": {
    "colab_type": "text",
    "id": "38r55mXMryyk"
   },
   "source": [
    "You should find it runs faster now:\n",
    "\n"
   ]
  },
  {
   "cell_type": "code",
   "execution_count": 215,
   "metadata": {
    "colab": {},
    "colab_type": "code",
    "id": "fSgSG2czryyk"
   },
   "outputs": [
    {
     "name": "stdout",
     "output_type": "stream",
     "text": [
      "0 0.006070752645283938\n",
      "1 0.006013445632904768\n",
      "2 0.005957098051160574\n",
      "3 0.005905575553327799\n",
      "4 0.005858712063729763\n",
      "5 0.005814067430049181\n",
      "6 0.005769696255773306\n",
      "7 0.0057284526631236074\n",
      "8 0.005689675119519234\n",
      "9 0.0056561275467276574\n",
      "10 0.00561918348968029\n",
      "11 0.00558917403370142\n",
      "12 0.005557484621554613\n",
      "13 0.005526570887118578\n",
      "14 0.005500036523491144\n",
      "15 0.0054724472790956494\n",
      "16 0.005446424344927072\n",
      "17 0.005421431645005941\n",
      "18 0.005398137820512057\n",
      "19 0.00537549922093749\n",
      "20 0.0053534118108451365\n",
      "21 0.0053330804571509365\n",
      "22 0.005311884227395058\n",
      "23 0.00529219608977437\n",
      "24 0.0052737728275358674\n",
      "25 0.005255887055397034\n",
      "26 0.005237679877877236\n",
      "27 0.0052215172566473485\n",
      "28 0.005204095690697431\n",
      "29 0.0051886571899056435\n"
     ]
    }
   ],
   "source": [
    "fit(30, model, loss_func, opt, train_dl, valid_dl)"
   ]
  },
  {
   "cell_type": "code",
   "execution_count": 216,
   "metadata": {},
   "outputs": [
    {
     "name": "stdout",
     "output_type": "stream",
     "text": [
      "[0.0051259575, 0.9390531106113823]\n",
      "torch.Size([100, 784])\n",
      "nan\n",
      "nan\n"
     ]
    },
    {
     "name": "stderr",
     "output_type": "stream",
     "text": [
      "/projects/qg35/jlgao2/venvs/lib/python3.7/site-packages/ipykernel_launcher.py:11: UserWarning: DEPRECATED: skimage.measure.compare_ssim has been moved to skimage.metrics.structural_similarity. It will be removed from skimage.measure in version 0.18.\n",
      "  # This is added back by InteractiveShellApp.init_path()\n"
     ]
    }
   ],
   "source": [
    "x_sample = model(xt_us[0:100].to(dev)).to('cpu')\n",
    "y_sample = x_train[0:100]\n",
    "\n",
    "def testTensors(x, y):\n",
    "    mse = []\n",
    "    ssim = []\n",
    "    x = x.detach().numpy()\n",
    "    y = y.detach().numpy()\n",
    "    for i in range(100):\n",
    "        mse.append(np.average(np.square(y[i]-x[i])))\n",
    "        ssim.append(compare_ssim(y[i],x[i]))\n",
    "    return [np.mean(mse), np.mean(ssim)]\n",
    "\n",
    "print(testTensors(x_sample, y_sample))\n",
    "        \n",
    "#     e5_mse =  \n",
    "# from skimage.measure import compare_ssim as ssim\n",
    "# print(\"The MSE of bicubic interpolation on this image is\", e5_mse)\n",
    "# e5_ssim = \n",
    "# print(\"The SSIM of bicubic interpolation on this image is\", e5_ssim)\n",
    "print(x_sample.shape)\n",
    "\n",
    "print(np.mean(mse))\n",
    "print(np.mean(ssim))\n"
   ]
  },
  {
   "cell_type": "code",
   "execution_count": 217,
   "metadata": {},
   "outputs": [
    {
     "data": {
      "image/png": "[encoded data removed]",
      "text/plain": [
       "<Figure size 432x288 with 1 Axes>"
      ]
     },
     "metadata": {
      "needs_background": "light"
     },
     "output_type": "display_data"
    }
   ],
   "source": [
    "img_cnn = pyplot.imshow(x_sample[0].detach().numpy().reshape((28,28)), cmap='gray')"
   ]
  },
  {
   "cell_type": "markdown",
   "metadata": {
    "colab_type": "text",
    "id": "M_3x06iDryyn"
   },
   "source": [
    "Closing thoughts\n",
    "-----------------\n",
    "\n",
    "We now have a general data pipeline and training loop which you can use for\n",
    "training many types of models using Pytorch. To see how simple training a model\n",
    "can now be, take a look at the `mnist_sample` sample notebook.\n",
    "\n",
    "Of course, there are many things you'll want to add, such as data augmentation,\n",
    "hyperparameter tuning, monitoring training, transfer learning, and so forth.\n",
    "These features are available in the fastai library, which has been developed\n",
    "using the same design approach shown in this tutorial, providing a natural\n",
    "next step for practitioners looking to take their models further.\n",
    "\n",
    "We promised at the start of this tutorial we'd explain through example each of\n",
    "``torch.nn``, ``torch.optim``, ``Dataset``, and ``DataLoader``. So let's summarize\n",
    "what we've seen:\n",
    "\n",
    " - **torch.nn**\n",
    "\n",
    "   + ``Module``: creates a callable which behaves like a function, but can also\n",
    "     contain state(such as neural net layer weights). It knows what ``Parameter`` (s) it\n",
    "     contains and can zero all their gradients, loop through them for weight updates, etc.\n",
    "   + ``Parameter``: a wrapper for a tensor that tells a ``Module`` that it has weights\n",
    "     that need updating during backprop. Only tensors with the `requires_grad` attribute set are updated\n",
    "   + ``functional``: a module(usually imported into the ``F`` namespace by convention)\n",
    "     which contains activation functions, loss functions, etc, as well as non-stateful\n",
    "     versions of layers such as convolutional and linear layers.\n",
    " - ``torch.optim``: Contains optimizers such as ``SGD``, which update the weights\n",
    "   of ``Parameter`` during the backward step\n",
    " - ``Dataset``: An abstract interface of objects with a ``__len__`` and a ``__getitem__``,\n",
    "   including classes provided with Pytorch such as ``TensorDataset``\n",
    " - ``DataLoader``: Takes any ``Dataset`` and creates an iterator which returns batches of data.\n",
    "\n"
   ]
  }
 ],
 "metadata": {
  "celltoolbar": "Raw Cell Format",
  "colab": {
   "collapsed_sections": [
    "sLvjHRFNrywi",
    "ZO0YyyJWrywq",
    "e9fOqVvNryxE",
    "M0YPzJfLryxR",
    "BCtYLuLNryxZ",
    "jXDC6amFryxm",
    "zRFhBk_Cryx4",
    "baVc72zeryx8",
    "8v_hJ62tryyH",
    "hboRZNYRryyN",
    "TVEsJYt2ryyR",
    "1p_XKbRyryya",
    "M_3x06iDryyn"
   ],
   "name": "MNIST Up and Down Sampling",
   "provenance": []
  },
  "kernelspec": {
   "display_name": "Python 3",
   "language": "python",
   "name": "python3"
  },
  "language_info": {
   "codemirror_mode": {
    "name": "ipython",
    "version": 3
   },
   "file_extension": ".py",
   "mimetype": "text/x-python",
   "name": "python",
   "nbconvert_exporter": "python",
   "pygments_lexer": "ipython3",
   "version": "3.7.6"
  }
 },
 "nbformat": 4,
 "nbformat_minor": 1
}
