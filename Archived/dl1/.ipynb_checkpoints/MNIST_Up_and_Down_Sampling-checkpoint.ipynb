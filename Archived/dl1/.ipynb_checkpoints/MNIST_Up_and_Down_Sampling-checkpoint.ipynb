{
 "cells": [
  {
   "cell_type": "code",
   "execution_count": 149,
   "metadata": {
    "colab": {
     "base_uri": "https://localhost:8080/",
     "height": 72
    },
    "colab_type": "code",
    "id": "EnzyDhFcryu-",
    "outputId": "86fec1d2-6cd8-4785-a655-0abcc78ad01b"
   },
   "outputs": [],
   "source": [
    "%matplotlib inline\n"
   ]
  },
  {
   "cell_type": "markdown",
   "metadata": {
    "colab_type": "text",
    "id": "Dw79PqmAryvH"
   },
   "source": [
    "\n",
    "What is `torch.nn` *really*?\n",
    "============================\n",
    "by Jeremy Howard, `fast.ai <https://www.fast.ai>`_. Thanks to Rachel Thomas and Francisco Ingham.\n"
   ]
  },
  {
   "cell_type": "markdown",
   "metadata": {
    "colab_type": "text",
    "id": "x-EnyqEIryvJ"
   },
   "source": [
    "We recommend running this tutorial as a notebook, not a script. To download the notebook (.ipynb) file,\n",
    "click the link at the top of the page.\n",
    "\n",
    "PyTorch provides the elegantly designed modules and classes `torch.nn <https://pytorch.org/docs/stable/nn.html>`_ ,\n",
    "`torch.optim <https://pytorch.org/docs/stable/optim.html>`_ ,\n",
    "`Dataset <https://pytorch.org/docs/stable/data.html?highlight=dataset#torch.utils.data.Dataset>`_ ,\n",
    "and `DataLoader <https://pytorch.org/docs/stable/data.html?highlight=dataloader#torch.utils.data.DataLoader>`_\n",
    "to help you create and train neural networks.\n",
    "In order to fully utilize their power and customize\n",
    "them for your problem, you need to really understand exactly what they're\n",
    "doing. To develop this understanding, we will first train basic neural net\n",
    "on the MNIST data set without using any features from these models; we will\n",
    "initially only use the most basic PyTorch tensor functionality. Then, we will\n",
    "incrementally add one feature from ``torch.nn``, ``torch.optim``, ``Dataset``, or\n",
    "``DataLoader`` at a time, showing exactly what each piece does, and how it\n",
    "works to make the code either more concise, or more flexible.\n",
    "\n",
    "**This tutorial assumes you already have PyTorch installed, and are familiar\n",
    "with the basics of tensor operations.** (If you're familiar with Numpy array\n",
    "operations, you'll find the PyTorch tensor operations used here nearly identical).\n",
    "\n",
    "MNIST data setup\n",
    "----------------\n",
    "\n",
    "We will use the classic `MNIST <http://deeplearning.net/data/mnist/>`_ dataset,\n",
    "which consists of black-and-white images of hand-drawn digits (between 0 and 9).\n",
    "\n",
    "We will use `pathlib <https://docs.python.org/3/library/pathlib.html>`_\n",
    "for dealing with paths (part of the Python 3 standard library), and will\n",
    "download the dataset using\n",
    "`requests <http://docs.python-requests.org/en/master/>`_. We will only\n",
    "import modules when we use them, so you can see exactly what's being\n",
    "used at each point.\n",
    "\n"
   ]
  },
  {
   "cell_type": "code",
   "execution_count": 150,
   "metadata": {},
   "outputs": [
    {
     "data": {
      "text/plain": [
       "WindowsPath('/data/mnist')"
      ]
     },
     "execution_count": 150,
     "metadata": {},
     "output_type": "execute_result"
    }
   ],
   "source": [
    "PATH"
   ]
  },
  {
   "cell_type": "code",
   "execution_count": 151,
   "metadata": {
    "colab": {},
    "colab_type": "code",
    "id": "-imu9jYFryvO"
   },
   "outputs": [],
   "source": [
    "from pathlib import Path\n",
    "import requests\n",
    "\n",
    "DATA_PATH = Path(\"/data\")\n",
    "PATH = DATA_PATH/\"mnist\"\n",
    "\n",
    "PATH.mkdir(parents=True, exist_ok=True)\n",
    "\n",
    "URL = \"http://deeplearning.net/data/mnist/\"\n",
    "FILENAME = \"mnist.pkl.gz\"\n",
    "\n",
    "if not (PATH / FILENAME).exists():\n",
    "        content = requests.get(URL + FILENAME).content\n",
    "        (PATH / FILENAME).open(\"wb\").write(content)"
   ]
  },
  {
   "cell_type": "markdown",
   "metadata": {
    "colab_type": "text",
    "id": "GXsyHWlTryvT"
   },
   "source": [
    "This dataset is in numpy array format, and has been stored using pickle,\n",
    "a python-specific format for serializing data.\n",
    "\n"
   ]
  },
  {
   "cell_type": "code",
   "execution_count": 152,
   "metadata": {
    "colab": {},
    "colab_type": "code",
    "id": "4OdIvjDaryvV"
   },
   "outputs": [],
   "source": [
    "import pickle\n",
    "import gzip\n",
    "\n",
    "with gzip.open((PATH / FILENAME).as_posix(), \"rb\") as f:\n",
    "        ((x_train, y_train), (x_valid, y_valid), _) = pickle.load(f, encoding=\"latin-1\")"
   ]
  },
  {
   "cell_type": "markdown",
   "metadata": {
    "colab_type": "text",
    "id": "rJTytUHKryve"
   },
   "source": [
    "Each image is 28 x 28, and is being stored as a flattened row of length\n",
    "784 (=28x28). Let's take a look at one; we need to reshape it to 2d\n",
    "first.\n",
    "\n"
   ]
  },
  {
   "cell_type": "code",
   "execution_count": 153,
   "metadata": {
    "colab": {
     "base_uri": "https://localhost:8080/",
     "height": 283
    },
    "colab_type": "code",
    "id": "4RQxBoaoryvf",
    "outputId": "d80fc41c-fc47-4e76-af1c-ce54daf2fd56"
   },
   "outputs": [
    {
     "name": "stdout",
     "output_type": "stream",
     "text": [
      "(50000, 784)\n"
     ]
    },
    {
     "data": {
      "image/png": "[encoded data removed]",
      "text/plain": [
       "<Figure size 432x288 with 1 Axes>"
      ]
     },
     "metadata": {
      "needs_background": "light"
     },
     "output_type": "display_data"
    }
   ],
   "source": [
    "from matplotlib import pyplot\n",
    "import numpy as np\n",
    "\n",
    "pyplot.imshow(x_train[0].reshape((28, 28)), cmap=\"gray\")\n",
    "print(x_train.shape)"
   ]
  },
  {
   "cell_type": "code",
   "execution_count": 154,
   "metadata": {
    "colab": {},
    "colab_type": "code",
    "id": "i-_bUe_JzCnM"
   },
   "outputs": [],
   "source": [
    "import PIL"
   ]
  },
  {
   "cell_type": "code",
   "execution_count": 155,
   "metadata": {
    "colab": {
     "base_uri": "https://localhost:8080/",
     "height": 283
    },
    "colab_type": "code",
    "id": "K-zwvlI9RFxW",
    "outputId": "5a1fdec3-24e7-4a85-c09b-827b8b074e81"
   },
   "outputs": [
    {
     "data": {
      "text/plain": [
       "<matplotlib.image.AxesImage at 0x2c02386db08>"
      ]
     },
     "execution_count": 155,
     "metadata": {},
     "output_type": "execute_result"
    },
    {
     "data": {
      "image/png": "[encoded data removed]",
      "text/plain": [
       "<Figure size 432x288 with 1 Axes>"
      ]
     },
     "metadata": {
      "needs_background": "light"
     },
     "output_type": "display_data"
    }
   ],
   "source": [
    "e1 = x_train[0].reshape((28,28))\n",
    "imshow(e1, cmap=\"gray\")"
   ]
  },
  {
   "cell_type": "markdown",
   "metadata": {
    "colab_type": "text",
    "id": "ZNrZnj9HJmko"
   },
   "source": [
    "Lets convert it into unsigned int form so we can use the PIL library for image transformations"
   ]
  },
  {
   "cell_type": "code",
   "execution_count": 156,
   "metadata": {
    "colab": {
     "base_uri": "https://localhost:8080/",
     "height": 283
    },
    "colab_type": "code",
    "id": "Dx_e6t8ZUf_U",
    "outputId": "941425a7-a9a4-4cbf-e3a8-95593f6b79ca"
   },
   "outputs": [
    {
     "ename": "NameError",
     "evalue": "name 'e2' is not defined",
     "output_type": "error",
     "traceback": [
      "\u001b[1;31m---------------------------------------------------------------------------\u001b[0m",
      "\u001b[1;31mNameError\u001b[0m                                 Traceback (most recent call last)",
      "\u001b[1;32m<ipython-input-156-e008633a8683>\u001b[0m in \u001b[0;36m<module>\u001b[1;34m\u001b[0m\n\u001b[1;32m----> 1\u001b[1;33m \u001b[0me2\u001b[0m \u001b[1;33m=\u001b[0m \u001b[0mnp\u001b[0m\u001b[1;33m.\u001b[0m\u001b[0muint8\u001b[0m\u001b[1;33m(\u001b[0m\u001b[0me2\u001b[0m\u001b[1;33m*\u001b[0m\u001b[1;36m255\u001b[0m\u001b[1;33m)\u001b[0m\u001b[1;33m\u001b[0m\u001b[1;33m\u001b[0m\u001b[0m\n\u001b[0m",
      "\u001b[1;31mNameError\u001b[0m: name 'e2' is not defined"
     ]
    }
   ],
   "source": [
    "e2 = np.uint8(e2*255)\n"
   ]
  },
  {
   "cell_type": "markdown",
   "metadata": {
    "colab_type": "text",
    "id": "yOG7NdYsJ15d"
   },
   "source": [
    "And now we can downsample"
   ]
  },
  {
   "cell_type": "code",
   "execution_count": 157,
   "metadata": {
    "colab": {},
    "colab_type": "code",
    "id": "2-2xP4e_VXAP"
   },
   "outputs": [],
   "source": [
    "from IPython.display import Image \n",
    "from matplotlib.pyplot import imshow"
   ]
  },
  {
   "cell_type": "code",
   "execution_count": 158,
   "metadata": {
    "colab": {},
    "colab_type": "code",
    "id": "REYvInneU0zv"
   },
   "outputs": [
    {
     "ename": "NameError",
     "evalue": "name 'e2' is not defined",
     "output_type": "error",
     "traceback": [
      "\u001b[1;31m---------------------------------------------------------------------------\u001b[0m",
      "\u001b[1;31mNameError\u001b[0m                                 Traceback (most recent call last)",
      "\u001b[1;32m<ipython-input-158-d9664deb3902>\u001b[0m in \u001b[0;36m<module>\u001b[1;34m\u001b[0m\n\u001b[1;32m----> 1\u001b[1;33m \u001b[0me3\u001b[0m \u001b[1;33m=\u001b[0m \u001b[0mPIL\u001b[0m\u001b[1;33m.\u001b[0m\u001b[0mImage\u001b[0m\u001b[1;33m.\u001b[0m\u001b[0mfromarray\u001b[0m\u001b[1;33m(\u001b[0m\u001b[0me2\u001b[0m\u001b[1;33m)\u001b[0m\u001b[1;33m\u001b[0m\u001b[1;33m\u001b[0m\u001b[0m\n\u001b[0m\u001b[0;32m      2\u001b[0m \u001b[0mimshow\u001b[0m\u001b[1;33m(\u001b[0m\u001b[0me3\u001b[0m\u001b[1;33m,\u001b[0m \u001b[0mcmap\u001b[0m\u001b[1;33m=\u001b[0m\u001b[1;34m\"gray\"\u001b[0m\u001b[1;33m)\u001b[0m\u001b[1;33m\u001b[0m\u001b[1;33m\u001b[0m\u001b[0m\n",
      "\u001b[1;31mNameError\u001b[0m: name 'e2' is not defined"
     ]
    }
   ],
   "source": [
    "e3 = PIL.Image.fromarray(e2)\n",
    "imshow(e3, cmap=\"gray\")"
   ]
  },
  {
   "cell_type": "code",
   "execution_count": 159,
   "metadata": {
    "colab": {
     "base_uri": "https://localhost:8080/",
     "height": 283
    },
    "colab_type": "code",
    "id": "o-3GXD4BRSjI",
    "outputId": "349fca64-b441-4f3b-b91a-a57f7bb36df5"
   },
   "outputs": [
    {
     "ename": "NameError",
     "evalue": "name 'e3' is not defined",
     "output_type": "error",
     "traceback": [
      "\u001b[1;31m---------------------------------------------------------------------------\u001b[0m",
      "\u001b[1;31mNameError\u001b[0m                                 Traceback (most recent call last)",
      "\u001b[1;32m<ipython-input-159-df45d9ac7ac5>\u001b[0m in \u001b[0;36m<module>\u001b[1;34m\u001b[0m\n\u001b[1;32m----> 1\u001b[1;33m \u001b[0me4\u001b[0m \u001b[1;33m=\u001b[0m \u001b[0me3\u001b[0m\u001b[1;33m.\u001b[0m\u001b[0mresize\u001b[0m\u001b[1;33m(\u001b[0m\u001b[1;33m(\u001b[0m\u001b[1;36m14\u001b[0m\u001b[1;33m,\u001b[0m \u001b[1;36m14\u001b[0m\u001b[1;33m)\u001b[0m\u001b[1;33m)\u001b[0m\u001b[1;33m\u001b[0m\u001b[1;33m\u001b[0m\u001b[0m\n\u001b[0m\u001b[0;32m      2\u001b[0m \u001b[0mimshow\u001b[0m\u001b[1;33m(\u001b[0m\u001b[0me4\u001b[0m\u001b[1;33m,\u001b[0m \u001b[0mcmap\u001b[0m\u001b[1;33m=\u001b[0m\u001b[1;34m\"gray\"\u001b[0m\u001b[1;33m)\u001b[0m\u001b[1;33m\u001b[0m\u001b[1;33m\u001b[0m\u001b[0m\n",
      "\u001b[1;31mNameError\u001b[0m: name 'e3' is not defined"
     ]
    }
   ],
   "source": [
    "e4 = e3.resize((14, 14))\n",
    "imshow(e4, cmap=\"gray\")"
   ]
  },
  {
   "cell_type": "markdown",
   "metadata": {
    "colab_type": "text",
    "id": "gJeSwMAzJ8rp"
   },
   "source": [
    "The PIL library can also upsample for us"
   ]
  },
  {
   "cell_type": "code",
   "execution_count": 160,
   "metadata": {
    "colab": {
     "base_uri": "https://localhost:8080/",
     "height": 283
    },
    "colab_type": "code",
    "id": "_fvC3WX6RzQv",
    "outputId": "4080c983-4796-4232-e2e5-27ae0e1d31c0"
   },
   "outputs": [
    {
     "ename": "NameError",
     "evalue": "name 'e4' is not defined",
     "output_type": "error",
     "traceback": [
      "\u001b[1;31m---------------------------------------------------------------------------\u001b[0m",
      "\u001b[1;31mNameError\u001b[0m                                 Traceback (most recent call last)",
      "\u001b[1;32m<ipython-input-160-6da8ea941d50>\u001b[0m in \u001b[0;36m<module>\u001b[1;34m\u001b[0m\n\u001b[1;32m----> 1\u001b[1;33m \u001b[0me5\u001b[0m \u001b[1;33m=\u001b[0m \u001b[0me4\u001b[0m\u001b[1;33m.\u001b[0m\u001b[0mresize\u001b[0m\u001b[1;33m(\u001b[0m\u001b[1;33m(\u001b[0m\u001b[1;36m28\u001b[0m\u001b[1;33m,\u001b[0m\u001b[1;36m28\u001b[0m\u001b[1;33m)\u001b[0m\u001b[1;33m,\u001b[0m\u001b[0mresample\u001b[0m \u001b[1;33m=\u001b[0m \u001b[1;36m3\u001b[0m\u001b[1;33m)\u001b[0m\u001b[1;33m\u001b[0m\u001b[1;33m\u001b[0m\u001b[0m\n\u001b[0m\u001b[0;32m      2\u001b[0m \u001b[0mimshow\u001b[0m\u001b[1;33m(\u001b[0m\u001b[0me5\u001b[0m\u001b[1;33m,\u001b[0m \u001b[0mcmap\u001b[0m\u001b[1;33m=\u001b[0m\u001b[1;34m\"gray\"\u001b[0m\u001b[1;33m)\u001b[0m\u001b[1;33m\u001b[0m\u001b[1;33m\u001b[0m\u001b[0m\n",
      "\u001b[1;31mNameError\u001b[0m: name 'e4' is not defined"
     ]
    }
   ],
   "source": [
    "e5 = e4.resize((28,28),resample = 3)\n",
    "imshow(e5, cmap=\"gray\")"
   ]
  },
  {
   "cell_type": "code",
   "execution_count": 161,
   "metadata": {
    "colab": {
     "base_uri": "https://localhost:8080/",
     "height": 35
    },
    "colab_type": "code",
    "id": "Pr9zPN8kZFcc",
    "outputId": "1b1b19bc-2122-4f80-c067-2f733ec26b29"
   },
   "outputs": [
    {
     "ename": "NameError",
     "evalue": "name 'e5' is not defined",
     "output_type": "error",
     "traceback": [
      "\u001b[1;31m---------------------------------------------------------------------------\u001b[0m",
      "\u001b[1;31mNameError\u001b[0m                                 Traceback (most recent call last)",
      "\u001b[1;32m<ipython-input-161-3c53cbff4bc3>\u001b[0m in \u001b[0;36m<module>\u001b[1;34m\u001b[0m\n\u001b[1;32m----> 1\u001b[1;33m \u001b[0me5_mae\u001b[0m \u001b[1;33m=\u001b[0m \u001b[0mnp\u001b[0m\u001b[1;33m.\u001b[0m\u001b[0maverage\u001b[0m\u001b[1;33m(\u001b[0m\u001b[0mnp\u001b[0m\u001b[1;33m.\u001b[0m\u001b[0masarray\u001b[0m\u001b[1;33m(\u001b[0m\u001b[0me5\u001b[0m\u001b[1;33m)\u001b[0m \u001b[1;33m-\u001b[0m \u001b[0mnp\u001b[0m\u001b[1;33m.\u001b[0m\u001b[0masarray\u001b[0m\u001b[1;33m(\u001b[0m\u001b[0me3\u001b[0m\u001b[1;33m)\u001b[0m\u001b[1;33m)\u001b[0m\u001b[1;33m\u001b[0m\u001b[1;33m\u001b[0m\u001b[0m\n\u001b[0m\u001b[0;32m      2\u001b[0m \u001b[0me5_mse\u001b[0m \u001b[1;33m=\u001b[0m \u001b[0mnp\u001b[0m\u001b[1;33m.\u001b[0m\u001b[0maverage\u001b[0m\u001b[1;33m(\u001b[0m\u001b[0mnp\u001b[0m\u001b[1;33m.\u001b[0m\u001b[0msquare\u001b[0m\u001b[1;33m(\u001b[0m\u001b[0mnp\u001b[0m\u001b[1;33m.\u001b[0m\u001b[0masarray\u001b[0m\u001b[1;33m(\u001b[0m\u001b[0me5\u001b[0m\u001b[1;33m)\u001b[0m\u001b[1;33m-\u001b[0m\u001b[0mnp\u001b[0m\u001b[1;33m.\u001b[0m\u001b[0masarray\u001b[0m\u001b[1;33m(\u001b[0m\u001b[0me3\u001b[0m\u001b[1;33m)\u001b[0m\u001b[1;33m)\u001b[0m\u001b[1;33m)\u001b[0m\u001b[1;33m\u001b[0m\u001b[1;33m\u001b[0m\u001b[0m\n\u001b[0;32m      3\u001b[0m \u001b[0mprint\u001b[0m\u001b[1;33m(\u001b[0m\u001b[0me5_mse\u001b[0m\u001b[1;33m)\u001b[0m\u001b[1;33m\u001b[0m\u001b[1;33m\u001b[0m\u001b[0m\n",
      "\u001b[1;31mNameError\u001b[0m: name 'e5' is not defined"
     ]
    }
   ],
   "source": [
    "e5_mae = np.average(np.asarray(e5) - np.asarray(e3))\n",
    "e5_mse = np.average(np.square(np.asarray(e5)-np.asarray(e3)))\n",
    "print(e5_mse)"
   ]
  },
  {
   "cell_type": "code",
   "execution_count": 162,
   "metadata": {
    "colab": {
     "base_uri": "https://localhost:8080/",
     "height": 35
    },
    "colab_type": "code",
    "id": "DaOcVjhy8D8p",
    "outputId": "6b383f73-9dad-464c-ac64-d85cfa8fd46b"
   },
   "outputs": [
    {
     "data": {
      "text/plain": [
       "10000"
      ]
     },
     "execution_count": 162,
     "metadata": {},
     "output_type": "execute_result"
    }
   ],
   "source": [
    "x_valid.shape[0]"
   ]
  },
  {
   "cell_type": "markdown",
   "metadata": {
    "colab_type": "text",
    "id": "TjwREgqpKAy2"
   },
   "source": [
    "We've validated the approach, now lets downsample the whole dataset\n",
    "\n",
    "wew I just did a python\n"
   ]
  },
  {
   "cell_type": "code",
   "execution_count": 163,
   "metadata": {
    "colab": {},
    "colab_type": "code",
    "id": "ctXGUL_8z8zB"
   },
   "outputs": [],
   "source": [
    "def downsample(array):\n",
    "  dsda = np.ones((array.shape[0],196)) \n",
    "  for i in range(array.shape[0]):\n",
    "    ar = array[i].reshape((28,28))\n",
    "    ar = np.int8(ar*255)\n",
    "    ar2 = PIL.Image.fromarray(ar)\n",
    "    ar3 = ar2.resize((14,14))\n",
    "    ar4 = np.asarray(ar3).reshape((1, 196))\n",
    "    ar5 = ar4.astype(np.float32)/255\n",
    "    dsda[i,:] = ar5\n",
    "  return dsda\n",
    "\n",
    "xt_ds = downsample(x_train)\n",
    "xv_ds = downsample(x_valid)\n",
    "\n"
   ]
  },
  {
   "cell_type": "code",
   "execution_count": 164,
   "metadata": {
    "colab": {
     "base_uri": "https://localhost:8080/",
     "height": 283
    },
    "colab_type": "code",
    "id": "ftSiPGsXAcer",
    "outputId": "1971b8a9-ebe1-4eb6-96e0-45de0e724bca"
   },
   "outputs": [
    {
     "data": {
      "text/plain": [
       "<matplotlib.image.AxesImage at 0x2c0211be988>"
      ]
     },
     "execution_count": 164,
     "metadata": {},
     "output_type": "execute_result"
    },
    {
     "data": {
      "image/png": "[encoded data removed]",
      "text/plain": [
       "<Figure size 432x288 with 1 Axes>"
      ]
     },
     "metadata": {
      "needs_background": "light"
     },
     "output_type": "display_data"
    }
   ],
   "source": [
    "imshow(xv_ds[555].reshape((14,14)), cmap='gray')"
   ]
  },
  {
   "cell_type": "markdown",
   "metadata": {
    "colab_type": "text",
    "id": "xCDTB0VkKUYn"
   },
   "source": [
    "We can use much of the same code to obtain upsampleed images using bicubic or bilinear interpolations to measure the network that we will surely build ^__^\n"
   ]
  },
  {
   "cell_type": "code",
   "execution_count": 165,
   "metadata": {
    "colab": {},
    "colab_type": "code",
    "id": "-QaAPo7g0lU9"
   },
   "outputs": [],
   "source": [
    "def downupsample(array):\n",
    "  dsda = np.ones((array.shape[0],196)) \n",
    "  usda = np.ones((array.shape[0],784)) \n",
    "\n",
    "  for i in range(array.shape[0]):\n",
    "    ar = array[i].reshape((28,28))\n",
    "    ar = np.int8(ar*255)\n",
    "    ar2 = PIL.Image.fromarray(ar)\n",
    "    ar3 = ar2.resize((14,14))\n",
    "    ar4 = np.asarray(ar3).reshape((1, 196))\n",
    "    ar5 = ar4.astype(np.float64)/255\n",
    "    dsda[i,:] = ar5\n",
    "    ar6 = ar3.resize((28,28), resample = 3)\n",
    "    ar7 = np.asarray(ar6).reshape((1, 784))\n",
    "    ar8 = ar7.astype(np.float32)/255\n",
    "    usda[i,:] = ar8\n",
    "  return dsda, usda\n",
    "\n",
    "xt_ds, xt_us = downupsample(x_train)\n",
    "xv_ds, xv_us= downupsample(x_valid)\n"
   ]
  },
  {
   "cell_type": "markdown",
   "metadata": {
    "colab_type": "text",
    "id": "4Hm_eVgjy1B7"
   },
   "source": [
    "## Now lets try it the pytorch way"
   ]
  },
  {
   "cell_type": "markdown",
   "metadata": {
    "colab_type": "text",
    "id": "Ok1DSXwIryvk"
   },
   "source": [
    "PyTorch uses ``torch.tensor``, rather than numpy arrays, so we need to\n",
    "convert our data.\n",
    "\n"
   ]
  },
  {
   "cell_type": "code",
   "execution_count": 166,
   "metadata": {},
   "outputs": [
    {
     "data": {
      "text/plain": [
       "(50000, 784)"
      ]
     },
     "execution_count": 166,
     "metadata": {},
     "output_type": "execute_result"
    }
   ],
   "source": [
    "x_train.shape"
   ]
  },
  {
   "cell_type": "code",
   "execution_count": 167,
   "metadata": {
    "colab": {
     "base_uri": "https://localhost:8080/",
     "height": 183
    },
    "colab_type": "code",
    "id": "wLotz1h2ryvl",
    "outputId": "cb0f0eb6-5b47-4f78-cb11-ac6591fcea19",
    "scrolled": true
   },
   "outputs": [],
   "source": [
    "import torch\n",
    "#change this code from \n",
    "\"\"\"\n",
    "x_train, y_train, x_valid, y_valid = map(\n",
    "    torch.tensor, (x_train, y_train, x_valid, y_valid)\n",
    ")\n",
    "\"\"\"\n",
    "#to\n",
    "\n",
    "x_train, xt_ds, xt_us = map(\n",
    "torch.tensor, (x_train, xt_ds, xt_us)\n",
    "    )\n",
    "[n, c] = x_train.shape\n",
    "\n"
   ]
  },
  {
   "cell_type": "code",
   "execution_count": 168,
   "metadata": {
    "colab": {
     "base_uri": "https://localhost:8080/",
     "height": 35
    },
    "colab_type": "code",
    "id": "YbFlN9Q2szAi",
    "outputId": "32b8508e-ce9f-469f-9914-dc020727f7fc"
   },
   "outputs": [],
   "source": [
    "x_train = x_train.float()\n",
    "xt_ds = xt_ds.float()\n",
    "xt_us = xt_us.float()"
   ]
  },
  {
   "cell_type": "markdown",
   "metadata": {
    "colab_type": "text",
    "id": "jE1eLYgvsywZ"
   },
   "source": [
    "\n",
    "    "
   ]
  },
  {
   "cell_type": "code",
   "execution_count": 169,
   "metadata": {},
   "outputs": [],
   "source": [
    "def showTensor(x, dim):\n",
    "    imshow(x[0].detach().numpy().reshape((dim,dim)), cmap='gray')"
   ]
  },
  {
   "cell_type": "markdown",
   "metadata": {
    "colab_type": "text",
    "id": "2-VKlkVdryvu"
   },
   "source": [
    "Neural net from scratch (no torch.nn)\n",
    "---------------------------------------------\n",
    "\n",
    "Let's first create a model using nothing but PyTorch tensor operations. We're assuming\n",
    "you're already familiar with the basics of neural networks. (If you're not, you can\n",
    "learn them at `course.fast.ai <https://course.fast.ai>`_).\n",
    "\n",
    "PyTorch provides methods to create random or zero-filled tensors, which we will\n",
    "use to create our weights and bias for a simple linear model. These are just regular\n",
    "tensors, with one very special addition: we tell PyTorch that they require a\n",
    "gradient. This causes PyTorch to record all of the operations done on the tensor,\n",
    "so that it can calculate the gradient during back-propagation *automatically*!\n",
    "\n",
    "For the weights, we set ``requires_grad`` **after** the initialization, since we\n",
    "don't want that step included in the gradient. (Note that a trailling ``_`` in\n",
    "PyTorch signifies that the operation is performed in-place.)\n",
    "\n",
    "<div class=\"alert alert-info\"><h4>Note</h4><p>We are initializing the weights here with\n",
    "   `Xavier initialisation <http://proceedings.mlr.press/v9/glorot10a/glorot10a.pdf>`_\n",
    "   (by multiplying with 1/sqrt(n)).</p></div>\n",
    "\n"
   ]
  },
  {
   "cell_type": "code",
   "execution_count": 170,
   "metadata": {
    "colab": {},
    "colab_type": "code",
    "id": "Llsgi-Lwryvw"
   },
   "outputs": [
    {
     "data": {
      "text/plain": [
       "'torch.FloatTensor'"
      ]
     },
     "execution_count": 170,
     "metadata": {},
     "output_type": "execute_result"
    }
   ],
   "source": [
    "import math\n",
    "\n",
    "weights = torch.randn(196, 784) / 196\n",
    "weights.requires_grad_()\n",
    "bias = torch.zeros(784, requires_grad=True)\n",
    "\n",
    "xt_ds.type()"
   ]
  },
  {
   "cell_type": "markdown",
   "metadata": {
    "colab_type": "text",
    "id": "eXsxpMuKryv0"
   },
   "source": [
    "Thanks to PyTorch's ability to calculate gradients automatically, we can\n",
    "use any standard Python function (or callable object) as a model! So\n",
    "let's just write a plain matrix multiplication and broadcasted addition\n",
    "to create a simple linear model. We also need an activation function, so\n",
    "we'll write `log_softmax` and use it. Remember: although PyTorch\n",
    "provides lots of pre-written loss functions, activation functions, and\n",
    "so forth, you can easily write your own using plain python. PyTorch will\n",
    "even create fast GPU or vectorized CPU code for your function\n",
    "automatically.\n",
    "\n"
   ]
  },
  {
   "cell_type": "code",
   "execution_count": 171,
   "metadata": {
    "colab": {},
    "colab_type": "code",
    "id": "288zx75Iryv1"
   },
   "outputs": [],
   "source": [
    "def log_softmax(x):\n",
    "    return torch.clamp(x, 0, 1)\n",
    "\n",
    "def model(xb):\n",
    "    return log_softmax(xb @ weights + bias)"
   ]
  },
  {
   "cell_type": "markdown",
   "metadata": {
    "colab_type": "text",
    "id": "F35xmdJwryv5"
   },
   "source": [
    "In the above, the ``@`` stands for the dot product operation. We will call\n",
    "our function on one batch of data (in this case, 64 images).  This is\n",
    "one *forward pass*.  Note that our predictions won't be any better than\n",
    "random at this stage, since we start with random weights.\n",
    "\n"
   ]
  },
  {
   "cell_type": "code",
   "execution_count": 172,
   "metadata": {
    "colab": {},
    "colab_type": "code",
    "id": "EHfdVe0nryv6",
    "scrolled": true
   },
   "outputs": [
    {
     "name": "stdout",
     "output_type": "stream",
     "text": [
      "tensor([5.3132e-02, 7.4322e-03, 8.8324e-03, 0.0000e+00, 1.7297e-02, 0.0000e+00,\n",
      "        0.0000e+00, 0.0000e+00, 0.0000e+00, 0.0000e+00, 2.2474e-02, 4.6466e-02,\n",
      "        5.6253e-02, 0.0000e+00, 0.0000e+00, 1.0054e-02, 9.9687e-03, 3.9483e-03,\n",
      "        0.0000e+00, 1.9397e-03, 7.4351e-03, 0.0000e+00, 0.0000e+00, 0.0000e+00,\n",
      "        3.8919e-02, 5.6654e-03, 4.0201e-02, 0.0000e+00, 1.1856e-03, 2.4085e-02,\n",
      "        0.0000e+00, 0.0000e+00, 3.0032e-02, 2.3959e-02, 0.0000e+00, 4.1262e-03,\n",
      "        0.0000e+00, 0.0000e+00, 0.0000e+00, 4.5143e-02, 0.0000e+00, 0.0000e+00,\n",
      "        0.0000e+00, 2.9725e-03, 0.0000e+00, 0.0000e+00, 0.0000e+00, 0.0000e+00,\n",
      "        0.0000e+00, 2.2036e-02, 4.8747e-02, 0.0000e+00, 0.0000e+00, 2.1893e-02,\n",
      "        3.4204e-02, 0.0000e+00, 2.3451e-03, 1.4863e-02, 0.0000e+00, 2.0355e-02,\n",
      "        1.2619e-02, 4.2207e-02, 0.0000e+00, 0.0000e+00, 2.1356e-02, 1.3698e-02,\n",
      "        3.0875e-02, 9.8392e-03, 0.0000e+00, 1.0817e-02, 1.6902e-02, 4.5232e-02,\n",
      "        0.0000e+00, 1.5290e-02, 0.0000e+00, 0.0000e+00, 4.6651e-02, 0.0000e+00,\n",
      "        0.0000e+00, 0.0000e+00, 0.0000e+00, 0.0000e+00, 0.0000e+00, 0.0000e+00,\n",
      "        0.0000e+00, 5.8136e-03, 0.0000e+00, 0.0000e+00, 2.9316e-02, 0.0000e+00,\n",
      "        0.0000e+00, 0.0000e+00, 2.1747e-02, 0.0000e+00, 1.9679e-02, 0.0000e+00,\n",
      "        1.8836e-02, 0.0000e+00, 0.0000e+00, 1.7199e-02, 0.0000e+00, 2.6635e-02,\n",
      "        0.0000e+00, 0.0000e+00, 0.0000e+00, 0.0000e+00, 4.4742e-02, 0.0000e+00,\n",
      "        0.0000e+00, 0.0000e+00, 1.6492e-02, 0.0000e+00, 0.0000e+00, 9.3969e-03,\n",
      "        0.0000e+00, 3.3908e-02, 0.0000e+00, 3.9612e-02, 0.0000e+00, 0.0000e+00,\n",
      "        0.0000e+00, 0.0000e+00, 0.0000e+00, 5.5788e-03, 0.0000e+00, 0.0000e+00,\n",
      "        0.0000e+00, 0.0000e+00, 3.3586e-04, 1.6733e-03, 1.0716e-02, 0.0000e+00,\n",
      "        0.0000e+00, 0.0000e+00, 1.6496e-02, 1.1046e-03, 0.0000e+00, 0.0000e+00,\n",
      "        0.0000e+00, 1.7441e-02, 1.8410e-02, 2.6564e-02, 1.1122e-02, 0.0000e+00,\n",
      "        0.0000e+00, 6.6379e-03, 0.0000e+00, 0.0000e+00, 4.4623e-02, 0.0000e+00,\n",
      "        0.0000e+00, 0.0000e+00, 0.0000e+00, 4.0252e-03, 2.0349e-02, 0.0000e+00,\n",
      "        0.0000e+00, 0.0000e+00, 0.0000e+00, 0.0000e+00, 0.0000e+00, 0.0000e+00,\n",
      "        5.2007e-03, 1.9725e-02, 6.0695e-02, 0.0000e+00, 0.0000e+00, 0.0000e+00,\n",
      "        0.0000e+00, 3.8829e-02, 0.0000e+00, 7.3426e-03, 2.5772e-02, 1.3400e-02,\n",
      "        0.0000e+00, 0.0000e+00, 0.0000e+00, 0.0000e+00, 0.0000e+00, 1.9546e-02,\n",
      "        0.0000e+00, 0.0000e+00, 0.0000e+00, 0.0000e+00, 1.5525e-02, 0.0000e+00,\n",
      "        0.0000e+00, 0.0000e+00, 0.0000e+00, 6.4798e-03, 2.7245e-02, 0.0000e+00,\n",
      "        0.0000e+00, 0.0000e+00, 0.0000e+00, 0.0000e+00, 2.4550e-03, 0.0000e+00,\n",
      "        0.0000e+00, 0.0000e+00, 2.3338e-02, 0.0000e+00, 0.0000e+00, 0.0000e+00,\n",
      "        6.2798e-03, 0.0000e+00, 7.0579e-02, 1.8808e-02, 1.9319e-03, 2.7069e-02,\n",
      "        0.0000e+00, 1.8571e-02, 0.0000e+00, 7.3608e-03, 1.5281e-02, 1.3301e-02,\n",
      "        2.1936e-02, 3.7556e-02, 0.0000e+00, 0.0000e+00, 0.0000e+00, 3.9854e-03,\n",
      "        0.0000e+00, 5.2440e-02, 6.8034e-03, 0.0000e+00, 0.0000e+00, 2.2250e-02,\n",
      "        0.0000e+00, 4.4104e-02, 1.9816e-02, 3.7537e-03, 0.0000e+00, 0.0000e+00,\n",
      "        3.7579e-02, 3.8436e-02, 1.9016e-02, 0.0000e+00, 2.4242e-02, 2.4230e-02,\n",
      "        3.3549e-02, 3.3717e-03, 1.7077e-02, 0.0000e+00, 0.0000e+00, 8.9398e-03,\n",
      "        3.2490e-02, 2.3427e-02, 0.0000e+00, 2.4195e-02, 3.0977e-02, 1.5804e-02,\n",
      "        0.0000e+00, 0.0000e+00, 0.0000e+00, 1.1356e-02, 2.7622e-02, 5.0018e-02,\n",
      "        0.0000e+00, 0.0000e+00, 1.0456e-02, 2.2718e-02, 0.0000e+00, 0.0000e+00,\n",
      "        2.8835e-02, 2.6976e-02, 0.0000e+00, 0.0000e+00, 1.5108e-02, 0.0000e+00,\n",
      "        0.0000e+00, 0.0000e+00, 0.0000e+00, 8.8891e-04, 2.7351e-03, 2.7736e-02,\n",
      "        0.0000e+00, 0.0000e+00, 1.0599e-02, 1.2710e-02, 0.0000e+00, 3.9457e-02,\n",
      "        0.0000e+00, 0.0000e+00, 3.9030e-03, 4.8235e-02, 4.7999e-02, 0.0000e+00,\n",
      "        1.9950e-02, 0.0000e+00, 0.0000e+00, 2.0951e-02, 8.9363e-03, 1.9766e-02,\n",
      "        0.0000e+00, 2.5107e-03, 1.1479e-02, 5.3541e-03, 0.0000e+00, 0.0000e+00,\n",
      "        2.0820e-02, 2.3679e-02, 6.6088e-03, 0.0000e+00, 0.0000e+00, 0.0000e+00,\n",
      "        0.0000e+00, 1.7871e-02, 1.2880e-02, 0.0000e+00, 0.0000e+00, 3.4151e-02,\n",
      "        1.9461e-02, 0.0000e+00, 4.5457e-02, 0.0000e+00, 0.0000e+00, 5.7827e-02,\n",
      "        2.5825e-02, 0.0000e+00, 0.0000e+00, 1.0163e-02, 0.0000e+00, 0.0000e+00,\n",
      "        7.5772e-03, 0.0000e+00, 2.7209e-02, 2.4083e-02, 0.0000e+00, 4.6338e-03,\n",
      "        1.2731e-02, 2.1497e-03, 2.6142e-02, 6.6986e-02, 2.6421e-02, 0.0000e+00,\n",
      "        0.0000e+00, 0.0000e+00, 0.0000e+00, 0.0000e+00, 0.0000e+00, 2.7880e-02,\n",
      "        0.0000e+00, 1.9596e-02, 9.8326e-03, 4.8715e-02, 0.0000e+00, 1.3544e-02,\n",
      "        0.0000e+00, 9.3761e-04, 0.0000e+00, 2.3996e-02, 0.0000e+00, 2.8350e-02,\n",
      "        4.1308e-03, 0.0000e+00, 4.4372e-02, 1.3451e-02, 0.0000e+00, 1.0380e-02,\n",
      "        0.0000e+00, 7.0981e-03, 0.0000e+00, 0.0000e+00, 0.0000e+00, 8.7759e-03,\n",
      "        0.0000e+00, 0.0000e+00, 3.7893e-02, 0.0000e+00, 0.0000e+00, 1.8428e-02,\n",
      "        2.4434e-02, 2.8583e-03, 4.4267e-02, 0.0000e+00, 0.0000e+00, 1.8005e-03,\n",
      "        4.9708e-02, 0.0000e+00, 1.0328e-02, 2.9603e-02, 8.5375e-03, 4.0780e-02,\n",
      "        5.0668e-02, 1.8540e-02, 0.0000e+00, 3.3942e-02, 8.8552e-03, 1.6859e-02,\n",
      "        2.0574e-02, 3.8564e-02, 0.0000e+00, 2.8773e-02, 0.0000e+00, 9.5773e-03,\n",
      "        0.0000e+00, 0.0000e+00, 1.5756e-02, 0.0000e+00, 2.2213e-03, 3.0760e-02,\n",
      "        0.0000e+00, 0.0000e+00, 2.6885e-02, 1.5594e-02, 3.6844e-02, 2.0023e-02,\n",
      "        0.0000e+00, 0.0000e+00, 0.0000e+00, 0.0000e+00, 0.0000e+00, 1.2349e-02,\n",
      "        1.1492e-02, 0.0000e+00, 0.0000e+00, 1.3923e-02, 3.6774e-03, 2.6361e-02,\n",
      "        0.0000e+00, 3.3004e-02, 0.0000e+00, 9.1923e-03, 0.0000e+00, 0.0000e+00,\n",
      "        7.1098e-03, 1.6970e-02, 2.1551e-02, 0.0000e+00, 0.0000e+00, 2.0889e-02,\n",
      "        0.0000e+00, 0.0000e+00, 0.0000e+00, 4.6883e-02, 0.0000e+00, 1.8066e-02,\n",
      "        1.6698e-02, 8.7076e-03, 2.6659e-03, 5.9003e-03, 1.1096e-04, 1.8501e-02,\n",
      "        1.7839e-02, 2.9004e-02, 2.4018e-02, 4.5818e-02, 0.0000e+00, 2.4819e-02,\n",
      "        0.0000e+00, 0.0000e+00, 0.0000e+00, 6.0996e-03, 8.8194e-03, 9.2335e-04,\n",
      "        1.4478e-02, 0.0000e+00, 0.0000e+00, 0.0000e+00, 1.1651e-02, 0.0000e+00,\n",
      "        1.4052e-04, 0.0000e+00, 1.1192e-02, 0.0000e+00, 4.4065e-02, 0.0000e+00,\n",
      "        6.6554e-02, 2.3107e-02, 2.1689e-02, 0.0000e+00, 1.0893e-02, 2.0750e-03,\n",
      "        0.0000e+00, 6.9185e-03, 2.0704e-03, 1.3683e-02, 0.0000e+00, 1.1790e-02,\n",
      "        6.2446e-03, 3.9280e-02, 0.0000e+00, 2.9254e-03, 0.0000e+00, 2.1180e-02,\n",
      "        2.8581e-02, 0.0000e+00, 2.5596e-02, 3.5692e-02, 7.1195e-03, 0.0000e+00,\n",
      "        0.0000e+00, 2.2129e-02, 0.0000e+00, 0.0000e+00, 0.0000e+00, 0.0000e+00,\n",
      "        0.0000e+00, 0.0000e+00, 0.0000e+00, 0.0000e+00, 0.0000e+00, 0.0000e+00,\n",
      "        3.9687e-02, 0.0000e+00, 2.7497e-02, 0.0000e+00, 0.0000e+00, 0.0000e+00,\n",
      "        2.3940e-02, 5.6771e-03, 2.8467e-02, 0.0000e+00, 7.0653e-03, 4.7606e-04,\n",
      "        0.0000e+00, 0.0000e+00, 1.4609e-02, 2.1945e-02, 0.0000e+00, 0.0000e+00,\n",
      "        6.5575e-03, 0.0000e+00, 0.0000e+00, 0.0000e+00, 1.2341e-03, 2.3908e-02,\n",
      "        1.0328e-02, 2.6752e-02, 2.8208e-02, 0.0000e+00, 2.5512e-02, 1.1679e-02,\n",
      "        3.2612e-02, 1.6429e-02, 1.6025e-02, 3.9017e-02, 3.2300e-02, 1.9487e-02,\n",
      "        0.0000e+00, 0.0000e+00, 1.9943e-02, 1.4397e-02, 0.0000e+00, 4.0315e-05,\n",
      "        0.0000e+00, 0.0000e+00, 2.7879e-02, 0.0000e+00, 1.4691e-03, 0.0000e+00,\n",
      "        4.3012e-02, 0.0000e+00, 0.0000e+00, 0.0000e+00, 0.0000e+00, 0.0000e+00,\n",
      "        2.5165e-02, 0.0000e+00, 0.0000e+00, 0.0000e+00, 0.0000e+00, 2.9677e-02,\n",
      "        1.1215e-02, 2.4182e-02, 0.0000e+00, 0.0000e+00, 0.0000e+00, 1.3375e-02,\n",
      "        2.5327e-02, 1.2981e-02, 0.0000e+00, 0.0000e+00, 4.5655e-03, 1.1209e-02,\n",
      "        1.8790e-02, 0.0000e+00, 0.0000e+00, 1.8140e-02, 7.0902e-03, 0.0000e+00,\n",
      "        0.0000e+00, 0.0000e+00, 2.2193e-02, 0.0000e+00, 0.0000e+00, 0.0000e+00,\n",
      "        0.0000e+00, 7.3149e-03, 2.9655e-05, 0.0000e+00, 4.8418e-02, 2.9195e-02,\n",
      "        2.5456e-02, 9.8030e-03, 1.4446e-02, 1.8197e-02, 0.0000e+00, 2.4490e-03,\n",
      "        1.6143e-02, 9.5198e-03, 0.0000e+00, 0.0000e+00, 1.2752e-02, 1.2058e-04,\n",
      "        0.0000e+00, 5.9131e-03, 0.0000e+00, 4.6658e-02, 0.0000e+00, 1.5254e-02,\n",
      "        2.5846e-03, 0.0000e+00, 0.0000e+00, 1.3555e-02, 7.8229e-02, 2.0900e-02,\n",
      "        2.3755e-02, 3.7645e-02, 4.3358e-02, 0.0000e+00, 1.4462e-02, 0.0000e+00,\n",
      "        5.3102e-02, 1.1710e-02, 0.0000e+00, 0.0000e+00, 4.0931e-03, 0.0000e+00,\n",
      "        0.0000e+00, 2.2194e-02, 4.3466e-03, 0.0000e+00, 0.0000e+00, 3.8446e-02,\n",
      "        3.6779e-02, 0.0000e+00, 0.0000e+00, 0.0000e+00, 0.0000e+00, 1.5723e-03,\n",
      "        5.6355e-03, 6.9447e-03, 0.0000e+00, 0.0000e+00, 3.6535e-02, 3.5688e-02,\n",
      "        0.0000e+00, 0.0000e+00, 0.0000e+00, 1.8200e-02, 0.0000e+00, 0.0000e+00,\n",
      "        1.3114e-03, 4.7481e-03, 1.8070e-02, 7.9094e-05, 3.7065e-02, 5.6308e-03,\n",
      "        8.3889e-03, 0.0000e+00, 2.8961e-03, 4.6363e-02, 2.2443e-02, 0.0000e+00,\n",
      "        0.0000e+00, 2.9376e-02, 0.0000e+00, 3.1422e-02, 4.8117e-02, 1.3021e-02,\n",
      "        0.0000e+00, 0.0000e+00, 0.0000e+00, 1.7792e-02, 0.0000e+00, 3.0542e-02,\n",
      "        0.0000e+00, 6.6217e-03, 0.0000e+00, 0.0000e+00, 4.7190e-03, 3.5650e-03,\n",
      "        0.0000e+00, 0.0000e+00, 6.1121e-03, 0.0000e+00, 1.8998e-02, 5.0745e-02,\n",
      "        3.2349e-02, 0.0000e+00, 2.6472e-02, 0.0000e+00, 0.0000e+00, 0.0000e+00,\n",
      "        0.0000e+00, 2.2051e-02, 7.0203e-03, 0.0000e+00, 0.0000e+00, 0.0000e+00,\n",
      "        0.0000e+00, 3.6268e-04, 1.0224e-02, 2.4601e-02, 0.0000e+00, 0.0000e+00,\n",
      "        0.0000e+00, 1.9289e-02, 1.1958e-02, 1.0115e-02, 5.0034e-02, 2.4380e-02,\n",
      "        0.0000e+00, 0.0000e+00, 2.2867e-02, 0.0000e+00, 0.0000e+00, 1.2858e-03,\n",
      "        0.0000e+00, 3.1419e-03, 2.2707e-02, 2.1935e-02, 1.4986e-02, 1.8329e-02,\n",
      "        2.5876e-02, 0.0000e+00, 2.8766e-04, 0.0000e+00, 0.0000e+00, 2.8229e-02,\n",
      "        0.0000e+00, 1.8185e-02, 0.0000e+00, 1.2357e-02, 0.0000e+00, 8.2426e-03,\n",
      "        0.0000e+00, 0.0000e+00, 0.0000e+00, 1.5671e-02, 3.1014e-02, 0.0000e+00,\n",
      "        0.0000e+00, 2.3600e-02, 4.3603e-02, 0.0000e+00, 0.0000e+00, 1.9723e-02,\n",
      "        1.5457e-02, 0.0000e+00, 0.0000e+00, 3.2572e-02, 0.0000e+00, 3.9574e-02,\n",
      "        2.0039e-02, 0.0000e+00, 8.7626e-03, 3.5561e-02, 0.0000e+00, 3.8323e-03,\n",
      "        2.4376e-03, 5.5524e-02, 6.1741e-03, 4.1761e-03, 5.0129e-02, 0.0000e+00,\n",
      "        1.1816e-02, 1.6774e-02, 1.7703e-02, 1.7053e-02, 1.0256e-02, 1.4989e-02,\n",
      "        2.4807e-02, 0.0000e+00, 0.0000e+00, 3.4616e-02, 0.0000e+00, 1.5688e-02,\n",
      "        0.0000e+00, 9.4630e-03, 7.9844e-04, 1.2705e-02],\n",
      "       grad_fn=<SelectBackward>) tensor([ 6.9624e-03,  2.3750e-03, -4.7716e-03,  2.2685e-03,  2.2080e-03,\n",
      "        -8.6992e-03, -1.9500e-03, -2.0002e-03,  5.9830e-04,  2.8838e-04,\n",
      "        -7.7127e-04,  2.3333e-03, -5.7905e-03, -6.2246e-03, -6.8949e-03,\n",
      "         2.4048e-03, -5.6337e-03,  3.4310e-03,  5.1812e-03,  1.3956e-03,\n",
      "         4.2744e-03,  1.6085e-03,  6.9228e-03, -2.8960e-03, -3.8592e-03,\n",
      "         8.0991e-03, -8.8342e-03, -7.1665e-03,  9.6095e-03, -5.5621e-03,\n",
      "        -5.0302e-03,  2.4573e-03,  9.0553e-03,  4.1957e-03,  7.0793e-03,\n",
      "        -4.3788e-04, -2.3411e-03, -7.0348e-03, -3.2529e-03,  8.0201e-03,\n",
      "         8.8440e-05,  7.7889e-03,  1.6421e-03,  5.1764e-03, -1.8877e-03,\n",
      "        -6.0283e-03, -9.6761e-03,  7.3795e-04, -1.4471e-03, -4.0659e-03,\n",
      "         4.1027e-03,  1.3771e-03, -1.0467e-03, -8.0843e-04,  2.5371e-04,\n",
      "        -7.9788e-04,  9.4701e-04,  1.1680e-03,  3.5474e-03,  2.6062e-03,\n",
      "        -7.7352e-03,  5.0842e-05,  5.5491e-03, -6.3035e-04,  3.4398e-04,\n",
      "         2.1659e-03, -2.5824e-03, -1.7100e-03, -2.9817e-03,  9.1885e-03,\n",
      "        -5.5687e-03,  4.9355e-03,  3.8595e-03, -6.6932e-03,  1.0542e-02,\n",
      "         3.9967e-03, -2.4647e-03, -8.7652e-04, -1.7744e-03,  5.7704e-03,\n",
      "         1.2310e-02,  1.7116e-03,  2.1153e-03, -2.3114e-03, -2.9099e-03,\n",
      "         1.3064e-03,  9.7058e-03,  6.5367e-04, -2.7245e-03, -1.5607e-03,\n",
      "        -3.7537e-03, -1.7127e-03,  1.0890e-02, -1.2537e-03, -1.3699e-02,\n",
      "        -4.1165e-03, -1.3817e-02,  9.1761e-05,  1.1442e-02,  5.9606e-03,\n",
      "        -5.1843e-03,  6.1071e-03, -1.0790e-02,  3.9219e-03, -2.3004e-03,\n",
      "         9.5088e-03, -2.0732e-03,  1.0110e-02, -1.3952e-03,  3.0603e-03,\n",
      "         3.8524e-03, -5.1168e-03,  7.6705e-03, -5.9709e-03, -1.2714e-05,\n",
      "         5.1629e-04,  3.4550e-03, -6.6977e-04, -4.2651e-03, -3.2003e-03,\n",
      "        -7.6186e-04, -1.0504e-03, -7.8629e-03,  1.6785e-03,  1.0653e-02,\n",
      "        -1.9905e-03, -1.8379e-03,  1.3154e-03, -8.9715e-04,  4.2898e-03,\n",
      "         1.6245e-03, -1.4539e-04,  7.9263e-03,  4.8544e-03,  1.0328e-03,\n",
      "        -1.3434e-02, -7.7092e-04,  8.4437e-03, -4.6111e-03, -2.4395e-03,\n",
      "        -3.8823e-04, -6.4634e-03, -4.9730e-04,  8.4455e-03,  9.1863e-03,\n",
      "        -6.9924e-03, -1.2907e-04, -7.4388e-03,  7.6745e-03, -1.0425e-04,\n",
      "         1.3247e-02,  1.9517e-03,  6.9299e-03,  4.9859e-03, -1.6691e-03,\n",
      "        -1.7441e-03, -2.4015e-03, -4.9424e-03, -3.6045e-03,  3.7307e-04,\n",
      "        -1.1528e-02, -8.6087e-04, -5.1501e-03,  7.2068e-03, -1.3103e-03,\n",
      "         3.0395e-03, -1.2957e-04,  1.6762e-03,  4.8544e-03,  1.2524e-03,\n",
      "         2.6223e-03, -4.9709e-03, -1.3156e-02,  1.4575e-03, -5.0897e-03,\n",
      "        -9.0489e-04,  2.6983e-03, -7.5390e-03, -4.8078e-05, -3.6161e-03,\n",
      "         5.6361e-03, -1.4448e-03, -4.4063e-03,  3.8603e-03, -1.0796e-04,\n",
      "        -6.5313e-03, -3.0611e-03, -1.5616e-03,  5.0095e-03,  5.4533e-03,\n",
      "        -1.1846e-03, -2.7541e-03,  5.4902e-04, -5.7290e-03,  6.5466e-03,\n",
      "         7.1593e-03, -7.6258e-03,  1.2938e-03,  1.0652e-02,  6.1911e-03,\n",
      "        -3.2755e-03,  1.6294e-03, -9.3990e-04,  5.9633e-03,  7.9005e-03,\n",
      "         9.0372e-03,  1.3730e-03, -4.0293e-04, -8.4260e-04,  2.1846e-03,\n",
      "        -3.3487e-03, -4.2911e-03, -5.9263e-03, -4.7536e-03,  2.0601e-03,\n",
      "         6.2694e-03,  3.2468e-04, -7.2076e-04,  3.9115e-03, -1.6009e-03,\n",
      "         2.7181e-03,  4.3349e-03,  2.6699e-03,  1.5585e-03, -3.9112e-03,\n",
      "        -4.7924e-03, -2.8270e-03, -6.3353e-04,  1.4061e-04, -5.6290e-03,\n",
      "        -2.0487e-03, -1.0129e-04,  4.3936e-03,  3.9996e-04, -6.4668e-03,\n",
      "        -7.3419e-03,  1.0942e-03, -7.1561e-04,  5.0903e-03,  1.2532e-03,\n",
      "         1.6548e-03, -1.1902e-02,  5.9975e-04,  8.5249e-03, -1.7749e-03,\n",
      "         9.8744e-03,  1.1540e-03, -5.1346e-04, -3.7491e-03,  1.3555e-03,\n",
      "         7.8866e-04,  4.5010e-03,  1.1736e-03,  4.7546e-03,  2.5053e-03,\n",
      "        -1.0675e-02, -7.2504e-03,  2.0489e-03,  8.8077e-03, -2.8527e-03,\n",
      "        -4.8150e-03, -1.8884e-03,  5.2980e-03,  1.7853e-03, -5.9351e-03,\n",
      "         5.9508e-03, -1.1829e-04, -6.0413e-03,  5.5944e-03, -2.9197e-04,\n",
      "         4.2477e-04,  9.7229e-04,  5.8908e-03, -5.5361e-03, -4.4766e-03,\n",
      "         5.1235e-03,  3.4364e-03,  3.3736e-04, -4.4128e-03,  1.4847e-03,\n",
      "         1.4831e-03,  1.7675e-03,  3.9100e-03, -6.6025e-03, -1.0982e-03,\n",
      "        -6.2031e-03,  3.5219e-03,  3.9935e-03, -1.6343e-03,  4.1066e-03,\n",
      "         2.7110e-03,  1.0734e-02, -1.8134e-03,  3.7465e-03, -6.4553e-03,\n",
      "         9.4003e-03, -5.4301e-03, -3.9424e-03, -3.2139e-03,  2.0599e-03,\n",
      "         6.8540e-03, -7.5164e-04,  3.0490e-03,  5.3457e-04,  2.7951e-03,\n",
      "        -1.2510e-03,  6.6349e-04,  2.0223e-03,  1.1275e-03,  4.2131e-03,\n",
      "         4.7560e-03,  4.7508e-03, -2.2350e-04,  5.0372e-04,  2.8433e-03,\n",
      "         7.3183e-03, -5.2786e-03,  3.7225e-03,  6.7893e-03,  7.5128e-04,\n",
      "         2.0883e-03,  2.1204e-03,  1.8884e-03, -2.2686e-03, -4.2455e-03,\n",
      "        -4.8002e-03,  8.9582e-04,  1.0707e-02,  8.6321e-03, -9.7903e-03,\n",
      "         5.6406e-03,  4.0717e-03,  1.3484e-02,  5.3289e-03, -5.7829e-03,\n",
      "        -1.1881e-03, -7.0199e-03,  6.2681e-03,  4.0470e-04,  5.1425e-03,\n",
      "        -3.1378e-03,  8.6040e-03,  2.5325e-03, -1.5846e-03,  4.6541e-04,\n",
      "        -2.5376e-03,  6.4296e-03,  5.9842e-04,  1.5540e-03, -1.0956e-03,\n",
      "         8.4863e-05, -7.9372e-04, -7.2633e-03, -3.4609e-04, -3.9339e-04,\n",
      "         1.0352e-04,  5.2626e-03, -6.7610e-03,  1.6577e-03,  1.9272e-03,\n",
      "         5.3005e-03, -2.9048e-03,  4.2526e-03, -1.3601e-03, -3.3058e-03,\n",
      "        -7.2770e-03, -1.5360e-03,  3.4804e-03,  2.5597e-03, -1.8344e-03,\n",
      "        -5.6567e-04, -9.4318e-03,  1.9767e-03, -8.9717e-03, -1.4171e-03,\n",
      "         3.8546e-03,  7.1760e-03,  6.0689e-03,  2.2975e-03, -7.1488e-03,\n",
      "        -3.8421e-03, -1.2909e-03, -4.2642e-03, -2.3990e-03,  6.6443e-03,\n",
      "        -1.2739e-03, -2.7445e-04,  3.7543e-03, -2.2624e-04,  2.8183e-04,\n",
      "         8.8913e-03, -7.3179e-03, -6.8969e-04, -9.9521e-03,  7.3780e-03,\n",
      "         5.6426e-03,  4.2633e-03, -5.4438e-03,  9.2513e-03,  2.1203e-03,\n",
      "        -7.5176e-04,  3.8386e-03,  3.7275e-03, -3.6406e-03,  4.0695e-03,\n",
      "        -3.9328e-03,  9.4308e-04,  4.0947e-03,  1.6891e-03,  1.5334e-03,\n",
      "         6.5139e-03, -3.8108e-03,  4.2948e-03,  1.7829e-03,  3.2808e-03,\n",
      "         5.6840e-03, -5.3528e-03, -5.0828e-03,  1.6660e-03,  4.0738e-03,\n",
      "        -7.1841e-03, -2.0154e-03,  4.8283e-03,  3.7132e-03,  5.8037e-03,\n",
      "        -2.4755e-03, -6.4314e-03, -1.0106e-02,  6.4064e-03, -5.5175e-03,\n",
      "         5.0275e-03,  7.3117e-03, -2.2774e-03,  1.2376e-02,  5.1784e-03,\n",
      "        -4.7898e-03, -8.8528e-03, -1.6930e-03,  1.0493e-03,  1.2277e-03,\n",
      "        -3.5082e-03,  9.9770e-04,  9.2516e-04,  5.5919e-03, -6.0463e-03,\n",
      "         4.2870e-04,  4.3536e-04,  7.1057e-03,  5.9117e-03, -3.1781e-03,\n",
      "        -7.8645e-03, -8.0104e-05,  2.5216e-03,  1.2183e-03, -4.1007e-03,\n",
      "         3.6554e-03,  3.7208e-03, -2.1210e-03, -7.9284e-03, -4.4828e-04,\n",
      "         2.7575e-04, -3.5443e-03,  2.2181e-03, -1.4608e-02,  3.2477e-03,\n",
      "         5.0009e-03, -4.5344e-03,  9.1065e-03,  2.5062e-03,  4.3298e-03,\n",
      "         1.9481e-03,  2.9119e-03, -1.0510e-03,  4.6137e-03,  4.6026e-03,\n",
      "         5.2740e-03,  6.2197e-03,  2.7882e-03, -2.9535e-03, -1.5630e-04,\n",
      "        -8.4978e-03,  7.5350e-03,  4.8213e-04, -3.6431e-04, -4.0096e-03,\n",
      "         2.7693e-03,  8.5288e-04, -6.3233e-03,  4.5000e-03,  3.1539e-03,\n",
      "         5.9332e-03,  7.2879e-03,  2.0953e-03, -1.2328e-03,  9.9236e-04,\n",
      "        -4.8468e-04,  8.0031e-03,  5.8239e-04,  5.6787e-03, -2.9156e-03,\n",
      "         6.4948e-03, -1.3773e-02, -6.8078e-04,  5.7207e-04,  1.8382e-03,\n",
      "         3.5530e-03,  6.5922e-03, -2.9302e-03, -3.5456e-03,  5.5720e-05,\n",
      "         9.8509e-03,  6.5043e-03,  8.0721e-03,  5.9305e-03, -3.5457e-03,\n",
      "         3.8208e-03, -6.4615e-03, -7.2042e-03, -1.4437e-03,  6.6873e-03,\n",
      "        -6.1976e-04,  3.8435e-03, -8.3182e-03, -4.8333e-04, -1.4898e-03,\n",
      "         1.3823e-03, -1.0659e-02,  1.3508e-03,  5.7311e-03, -3.3009e-03,\n",
      "        -1.9470e-04, -1.0724e-02, -3.3124e-03,  8.9695e-03, -1.9821e-03,\n",
      "         1.0820e-02,  4.7125e-03,  3.0794e-03,  6.0564e-03,  4.8332e-03,\n",
      "         1.1409e-03,  8.5914e-04, -6.1075e-04,  1.8674e-03, -1.6625e-03,\n",
      "         7.4611e-03, -5.7608e-03, -2.2751e-03, -7.8835e-03, -5.9750e-03,\n",
      "         1.0179e-02, -4.9516e-03, -4.5433e-03, -1.7053e-03, -2.2604e-03,\n",
      "        -8.3420e-03,  3.6431e-03,  4.6112e-03,  4.7336e-03,  3.7178e-03,\n",
      "         5.4144e-03, -9.7562e-03,  2.4577e-03,  5.9094e-03, -2.5410e-03,\n",
      "         1.1485e-03,  1.9606e-03,  7.5995e-03, -1.2321e-03, -3.7610e-03,\n",
      "        -2.1529e-03,  9.2016e-04, -5.9322e-05,  7.6578e-03, -2.1053e-04,\n",
      "         2.8355e-03,  1.0004e-02, -6.1026e-03, -8.7250e-03,  3.7393e-03,\n",
      "        -6.4649e-03, -9.7276e-03,  9.7475e-03, -6.0106e-05, -1.8409e-03,\n",
      "        -2.9757e-03, -1.5390e-03,  6.3746e-03, -1.3965e-05, -1.0186e-03,\n",
      "        -4.1094e-03,  1.7090e-02, -1.0335e-03,  1.2180e-03,  5.0694e-03,\n",
      "        -9.4093e-04,  3.6832e-03,  1.9871e-03,  2.7804e-03,  2.9101e-03,\n",
      "         2.0084e-03, -9.3951e-03, -2.6297e-03, -1.1125e-03, -2.2899e-03,\n",
      "         3.1217e-04, -3.3939e-03, -5.3929e-03,  1.0383e-03, -5.7679e-03,\n",
      "        -9.5388e-03, -1.1860e-02, -3.0662e-03, -5.0101e-03,  5.3794e-03,\n",
      "         5.4520e-03,  1.9315e-03,  1.0636e-03,  5.9509e-03,  9.5816e-03,\n",
      "        -1.3901e-04, -1.1470e-02, -4.5133e-04, -2.6432e-03,  1.9512e-03,\n",
      "         2.3015e-03,  5.8396e-03, -8.3558e-03,  4.0546e-03,  2.9854e-03,\n",
      "        -5.4492e-03,  1.4658e-03,  3.1633e-03, -2.7564e-03,  1.7212e-03,\n",
      "        -5.2491e-04, -1.1880e-03,  1.2823e-02,  1.2548e-02,  9.1759e-04,\n",
      "        -4.2254e-03, -4.5801e-03,  8.3932e-04, -5.2589e-03, -2.4685e-03,\n",
      "         1.6142e-03, -5.2957e-03,  8.4232e-03,  2.4560e-03,  1.8874e-03,\n",
      "         1.2416e-03,  3.6235e-03, -5.6718e-03,  2.8927e-04,  4.9868e-03,\n",
      "        -7.1002e-03,  3.7389e-03,  3.2218e-03, -1.6309e-04, -1.0403e-02,\n",
      "         7.2879e-03, -2.9538e-03, -1.5801e-03,  4.1315e-03, -1.5339e-03,\n",
      "        -6.1531e-03, -2.7344e-03, -9.3932e-03, -2.9716e-03,  1.2180e-03,\n",
      "         1.1059e-04,  5.5214e-03,  3.3290e-03,  6.8712e-03, -9.6402e-03,\n",
      "         7.0283e-03, -8.9489e-03,  3.6059e-05, -1.8935e-04, -7.2501e-04,\n",
      "        -3.5033e-03,  6.7006e-05, -5.3432e-03, -1.0844e-02,  1.5982e-03,\n",
      "        -1.3651e-03,  4.2478e-04, -2.4685e-03,  4.9939e-03, -5.3971e-03,\n",
      "        -3.4534e-03, -7.2730e-03,  1.6095e-03,  4.3124e-03,  1.9510e-03,\n",
      "         6.7282e-03, -1.1010e-03,  1.5461e-03,  1.8999e-03,  6.5208e-03,\n",
      "         1.7618e-03,  6.9028e-03,  6.3609e-04, -2.3011e-03,  4.0240e-03,\n",
      "         9.0455e-03,  2.1960e-03, -9.5819e-03, -3.9977e-03, -6.5688e-03,\n",
      "        -4.5178e-03,  1.1261e-02,  3.1919e-03, -5.7599e-03,  8.1980e-03,\n",
      "         2.5867e-03, -4.0105e-03, -2.1857e-03, -6.7678e-03, -1.5442e-03,\n",
      "        -3.9052e-03,  1.8990e-03, -9.1197e-03, -4.8652e-04, -1.0388e-02,\n",
      "        -5.4028e-03, -1.0301e-03, -1.0102e-02, -7.3611e-03, -6.2014e-03,\n",
      "        -2.5850e-03, -6.0028e-03,  4.7296e-03,  6.1786e-03,  8.6474e-03,\n",
      "         8.4812e-03,  2.7513e-03, -2.6102e-03,  5.3516e-03, -3.3312e-03,\n",
      "         7.0389e-04, -8.0429e-03, -2.1006e-04, -1.0850e-02,  6.3541e-03,\n",
      "        -1.2308e-02,  4.6880e-03, -6.2614e-03, -1.7272e-04,  1.7963e-03,\n",
      "         3.9601e-03,  2.8128e-03,  1.0321e-02, -7.3967e-04, -1.8976e-03,\n",
      "         1.9654e-03, -3.2213e-03, -2.7923e-03, -5.3656e-03,  5.1970e-03,\n",
      "         1.2841e-03,  2.9069e-03, -1.0931e-03, -1.5015e-03,  3.5281e-04,\n",
      "         2.4566e-03, -7.2816e-03,  4.6313e-03, -9.4188e-03, -2.1746e-03,\n",
      "        -1.0149e-03, -1.2062e-03,  3.3009e-03,  1.7248e-03,  2.8767e-03,\n",
      "         7.4228e-03,  2.4218e-04, -5.0703e-03,  7.9114e-03, -6.9633e-03,\n",
      "         2.8117e-03, -1.4748e-03, -3.5751e-03, -1.2340e-03],\n",
      "       grad_fn=<SelectBackward>) tensor([0.0000, 0.0000, 0.0000, 0.0000, 0.0000, 0.0000, 0.0000, 0.0000, 0.0000,\n",
      "        0.0000, 0.0000, 0.0000, 0.0000, 0.0000, 0.0000, 0.0000, 0.0000, 0.0000,\n",
      "        0.0000, 0.0000, 0.0000, 0.0000, 0.0000, 0.0000, 0.0000, 0.0000, 0.0000,\n",
      "        0.0000, 0.0000, 0.0000, 0.0000, 0.0000, 0.0000, 0.0000, 0.0667, 0.0667,\n",
      "        0.5294, 0.0980, 0.9961, 0.4941, 0.0000, 0.0000, 0.0000, 0.0000, 0.0000,\n",
      "        0.1882, 0.9882, 0.9882, 0.9882, 0.9882, 0.9804, 0.3176, 0.2157, 0.0000,\n",
      "        0.0000, 0.0000, 0.0000, 0.0000, 0.0000, 0.0000, 0.6078, 0.9882, 0.8000,\n",
      "        0.0000, 0.6000, 0.0000, 0.0000, 0.0000, 0.0000, 0.0000, 0.0000, 0.0000,\n",
      "        0.0000, 0.0000, 0.0000, 0.5412, 0.7412, 0.0000, 0.0000, 0.0000, 0.0000,\n",
      "        0.0000, 0.0000, 0.0000, 0.0000, 0.0000, 0.0000, 0.0000, 0.0000, 0.0000,\n",
      "        0.9412, 0.6235, 0.0000, 0.0000, 0.0000, 0.0000, 0.0000, 0.0000, 0.0000,\n",
      "        0.0000, 0.0000, 0.0000, 0.0000, 0.0000, 0.0000, 0.7255, 0.9882, 0.1020,\n",
      "        0.0000, 0.0000, 0.0000, 0.0000, 0.0000, 0.0000, 0.0000, 0.0000, 0.0000,\n",
      "        0.0000, 0.0000, 0.0000, 0.9725, 0.9725, 0.0000, 0.0000, 0.0000, 0.0000,\n",
      "        0.0000, 0.0000, 0.0000, 0.0000, 0.0000, 0.0000, 0.5765, 0.9882, 0.9882,\n",
      "        0.7098, 0.0000, 0.0000, 0.0000, 0.0000, 0.0000, 0.0000, 0.0000, 0.0000,\n",
      "        0.2549, 0.9882, 0.9882, 0.7725, 0.0039, 0.0000, 0.0000, 0.0000, 0.0000,\n",
      "        0.0000, 0.0000, 0.0000, 0.6706, 0.9882, 0.9882, 0.9529, 0.0392, 0.0000,\n",
      "        0.0000, 0.0000, 0.0000, 0.0000, 0.0000, 0.0000, 0.0000, 0.0000, 0.0000,\n",
      "        0.0000, 0.0000, 0.0000, 0.0000, 0.0000, 0.0000, 0.0000, 0.0000, 0.0000,\n",
      "        0.0000, 0.0000, 0.0000, 0.0000, 0.0000, 0.0000, 0.0000, 0.0000, 0.0000,\n",
      "        0.0000, 0.0000, 0.0000, 0.0000, 0.0000, 0.0000, 0.0000])\n"
     ]
    }
   ],
   "source": [
    "bs = 64  # batch size\n",
    "\n",
    "xb = xt_ds[0:bs]  # a mini-batch from x\n",
    "preds = model(xb)  # predictions\n",
    "preds[0], preds.shape\n",
    "print(preds[0], weights[0], xt_ds[0])\n"
   ]
  },
  {
   "cell_type": "code",
   "execution_count": 173,
   "metadata": {},
   "outputs": [
    {
     "name": "stdout",
     "output_type": "stream",
     "text": [
      "tensor(0.0782, grad_fn=<MaxBackward1>)\n"
     ]
    }
   ],
   "source": [
    "print(torch.max(preds[0]))"
   ]
  },
  {
   "cell_type": "markdown",
   "metadata": {
    "colab_type": "text",
    "id": "oD9GjH0arywA"
   },
   "source": [
    "As you see, the ``preds`` tensor contains not only the tensor values, but also a\n",
    "gradient function. We'll use this later to do backprop.\n",
    "\n",
    "Let's implement negative log-likelihood to use as the loss function\n",
    "(again, we can just use standard Python):\n",
    "\n"
   ]
  },
  {
   "cell_type": "code",
   "execution_count": 174,
   "metadata": {
    "colab": {},
    "colab_type": "code",
    "id": "MM5yn2gtrywB"
   },
   "outputs": [],
   "source": [
    "def nll(input, target):\n",
    "    return torch.pow(input-target, 2).mean()\n",
    "\n",
    "loss_func = nll"
   ]
  },
  {
   "cell_type": "markdown",
   "metadata": {
    "colab_type": "text",
    "id": "X4X3Up4DrywF"
   },
   "source": [
    "Let's check our loss with our random model, so we can see if we improve\n",
    "after a backprop pass later.\n",
    "\n"
   ]
  },
  {
   "cell_type": "code",
   "execution_count": 175,
   "metadata": {
    "colab": {},
    "colab_type": "code",
    "id": "Z7-b88ZFrywG"
   },
   "outputs": [
    {
     "name": "stdout",
     "output_type": "stream",
     "text": [
      "tensor(0.1050, grad_fn=<MeanBackward0>)\n"
     ]
    }
   ],
   "source": [
    "yb = x_train[0:bs]\n",
    "print(loss_func(preds, yb))"
   ]
  },
  {
   "cell_type": "markdown",
   "metadata": {
    "colab_type": "text",
    "id": "YrQQ0Fl8rywK"
   },
   "source": [
    "Let's also implement a function to calculate the accuracy of our model.\n",
    "For each prediction, if the index with the largest value matches the\n",
    "target value, then the prediction was correct.\n",
    "\n"
   ]
  },
  {
   "cell_type": "code",
   "execution_count": 181,
   "metadata": {
    "colab": {},
    "colab_type": "code",
    "id": "q3SFRYUUrywM"
   },
   "outputs": [
    {
     "data": {
      "text/plain": [
       "<matplotlib.image.AxesImage at 0x2c021f28488>"
      ]
     },
     "execution_count": 181,
     "metadata": {},
     "output_type": "execute_result"
    },
    {
     "data": {
      "image/png": "[encoded data removed]",
      "text/plain": [
       "<Figure size 432x288 with 1 Axes>"
      ]
     },
     "metadata": {
      "needs_background": "light"
     },
     "output_type": "display_data"
    }
   ],
   "source": []
  },
  {
   "cell_type": "markdown",
   "metadata": {
    "colab_type": "text",
    "id": "AtGjH1qrrywS"
   },
   "source": [
    "Let's check the accuracy of our random model, so we can see if our\n",
    "accuracy improves as our loss improves.\n",
    "\n"
   ]
  },
  {
   "cell_type": "code",
   "execution_count": null,
   "metadata": {
    "colab": {},
    "colab_type": "code",
    "id": "mo4B7uxDrywT"
   },
   "outputs": [],
   "source": []
  },
  {
   "cell_type": "markdown",
   "metadata": {
    "colab_type": "text",
    "id": "LaJfLGyjrywX"
   },
   "source": [
    "We can now run a training loop.  For each iteration, we will:\n",
    "\n",
    "- select a mini-batch of data (of size ``bs``)\n",
    "- use the model to make predictions\n",
    "- calculate the loss\n",
    "- ``loss.backward()`` updates the gradients of the model, in this case, ``weights``\n",
    "  and ``bias``.\n",
    "\n",
    "We now use these gradients to update the weights and bias.  We do this\n",
    "within the ``torch.no_grad()`` context manager, because we do not want these\n",
    "actions to be recorded for our next calculation of the gradient.  You can read\n",
    "more about how PyTorch's Autograd records operations\n",
    "`here <https://pytorch.org/docs/stable/notes/autograd.html>`_.\n",
    "\n",
    "We then set the\n",
    "gradients to zero, so that we are ready for the next loop.\n",
    "Otherwise, our gradients would record a running tally of all the operations\n",
    "that had happened (i.e. ``loss.backward()`` *adds* the gradients to whatever is\n",
    "already stored, rather than replacing them).\n",
    "\n",
    ".. tip:: You can use the standard python debugger to step through PyTorch\n",
    "   code, allowing you to check the various variable values at each step.\n",
    "   Uncomment ``set_trace()`` below to try it out.\n",
    "\n",
    "\n"
   ]
  },
  {
   "cell_type": "code",
   "execution_count": 182,
   "metadata": {
    "colab": {},
    "colab_type": "code",
    "id": "Oz8xjyeyrywX"
   },
   "outputs": [],
   "source": [
    "from IPython.core.debugger import set_trace\n",
    "\n",
    "lr = 0.2  # learning rate\n",
    "epochs = 20  # how many epochs to train for\n",
    "\n",
    "for epoch in range(epochs):\n",
    "    for i in range((n - 1) // bs + 1):\n",
    "        #         set_trace()\n",
    "        start_i = i * bs\n",
    "        end_i = start_i + bs\n",
    "        xb = xt_ds[start_i:end_i]\n",
    "        yb = x_train[start_i:end_i]\n",
    "        pred = model(xb)\n",
    "        loss = loss_func(pred, yb)\n",
    "\n",
    "        loss.backward()\n",
    "        with torch.no_grad():\n",
    "            weights -= weights.grad * lr\n",
    "            bias -= bias.grad * lr\n",
    "            weights.grad.zero_()\n",
    "            bias.grad.zero_()"
   ]
  },
  {
   "cell_type": "markdown",
   "metadata": {
    "colab_type": "text",
    "id": "EE71t4fPrywd"
   },
   "source": [
    "That's it: we've created and trained a minimal neural network (in this case, a\n",
    "logistic regression, since we have no hidden layers) entirely from scratch!\n",
    "\n",
    "Let's check the loss and accuracy and compare those to what we got\n",
    "earlier. We expect that the loss will have decreased and accuracy to\n",
    "have increased, and they have.\n",
    "\n"
   ]
  },
  {
   "cell_type": "code",
   "execution_count": 186,
   "metadata": {},
   "outputs": [
    {
     "data": {
      "image/png": "[encoded data removed]",
      "text/plain": [
       "<Figure size 432x288 with 1 Axes>"
      ]
     },
     "metadata": {
      "needs_background": "light"
     },
     "output_type": "display_data"
    }
   ],
   "source": [
    "showTensor(xt_us, 28)"
   ]
  },
  {
   "cell_type": "code",
   "execution_count": 184,
   "metadata": {},
   "outputs": [
    {
     "data": {
      "text/plain": [
       "<matplotlib.image.AxesImage at 0x2c021f8a9c8>"
      ]
     },
     "execution_count": 184,
     "metadata": {},
     "output_type": "execute_result"
    },
    {
     "data": {
      "image/png": "[encoded data removed]",
      "text/plain": [
       "<Figure size 432x288 with 1 Axes>"
      ]
     },
     "metadata": {
      "needs_background": "light"
     },
     "output_type": "display_data"
    }
   ],
   "source": [
    "imshow(model(xt_ds[0]).detach().numpy().reshape((28,28)), cmap='gray')"
   ]
  },
  {
   "cell_type": "code",
   "execution_count": 188,
   "metadata": {
    "colab": {},
    "colab_type": "code",
    "id": "0zmzgf9wrywe"
   },
   "outputs": [
    {
     "name": "stdout",
     "output_type": "stream",
     "text": [
      "tensor(0.0151, grad_fn=<MeanBackward0>)\n",
      "tensor(0.0240)\n"
     ]
    }
   ],
   "source": [
    "print(loss_func(model(xb), yb))\n",
    "print(loss_func(xt_us, x_train))"
   ]
  },
  {
   "cell_type": "markdown",
   "metadata": {
    "colab_type": "text",
    "id": "sLvjHRFNrywi"
   },
   "source": [
    "Using torch.nn.functional\n",
    "------------------------------\n",
    "\n",
    "We will now refactor our code, so that it does the same thing as before, only\n",
    "we'll start taking advantage of PyTorch's ``nn`` classes to make it more concise\n",
    "and flexible. At each step from here, we should be making our code one or more\n",
    "of: shorter, more understandable, and/or more flexible.\n",
    "\n",
    "The first and easiest step is to make our code shorter by replacing our\n",
    "hand-written activation and loss functions with those from ``torch.nn.functional``\n",
    "(which is generally imported into the namespace ``F`` by convention). This module\n",
    "contains all the functions in the ``torch.nn`` library (whereas other parts of the\n",
    "library contain classes). As well as a wide range of loss and activation\n",
    "functions, you'll also find here some convenient functions for creating neural\n",
    "nets, such as pooling functions. (There are also functions for doing convolutions,\n",
    "linear layers, etc, but as we'll see, these are usually better handled using\n",
    "other parts of the library.)\n",
    "\n",
    "If you're using negative log likelihood loss and log softmax activation,\n",
    "then Pytorch provides a single function ``F.cross_entropy`` that combines\n",
    "the two. So we can even remove the activation function from our model.\n",
    "\n"
   ]
  },
  {
   "cell_type": "code",
   "execution_count": null,
   "metadata": {
    "colab": {},
    "colab_type": "code",
    "id": "yD0kluFYrywi"
   },
   "outputs": [],
   "source": [
    "import torch.nn.functional as F\n",
    "\n",
    "loss_func = F.cross_entropy\n",
    "\n",
    "def model(xb):\n",
    "    return xb @ weights + bias"
   ]
  },
  {
   "cell_type": "markdown",
   "metadata": {
    "colab_type": "text",
    "id": "9S2ZpYc-rywm"
   },
   "source": [
    "Note that we no longer call ``log_softmax`` in the ``model`` function. Let's\n",
    "confirm that our loss and accuracy are the same as before:\n",
    "\n"
   ]
  },
  {
   "cell_type": "code",
   "execution_count": null,
   "metadata": {
    "colab": {},
    "colab_type": "code",
    "id": "_aVx15AYrywn"
   },
   "outputs": [],
   "source": [
    "print(loss_func(model(xb), yb), accuracy(model(xb), yb))"
   ]
  },
  {
   "cell_type": "markdown",
   "metadata": {
    "colab_type": "text",
    "id": "ZO0YyyJWrywq"
   },
   "source": [
    "Refactor using nn.Module\n",
    "-----------------------------\n",
    "Next up, we'll use ``nn.Module`` and ``nn.Parameter``, for a clearer and more\n",
    "concise training loop. We subclass ``nn.Module`` (which itself is a class and\n",
    "able to keep track of state).  In this case, we want to create a class that\n",
    "holds our weights, bias, and method for the forward step.  ``nn.Module`` has a\n",
    "number of attributes and methods (such as ``.parameters()`` and ``.zero_grad()``)\n",
    "which we will be using.\n",
    "\n",
    "<div class=\"alert alert-info\"><h4>Note</h4><p>``nn.Module`` (uppercase M) is a PyTorch specific concept, and is a\n",
    "   class we'll be using a lot. ``nn.Module`` is not to be confused with the Python\n",
    "   concept of a (lowercase ``m``) `module <https://docs.python.org/3/tutorial/modules.html>`_,\n",
    "   which is a file of Python code that can be imported.</p></div>\n",
    "\n"
   ]
  },
  {
   "cell_type": "code",
   "execution_count": null,
   "metadata": {
    "colab": {},
    "colab_type": "code",
    "id": "6P4-eB9arywq"
   },
   "outputs": [],
   "source": [
    "from torch import nn\n",
    "\n",
    "class Mnist_Logistic(nn.Module):\n",
    "    def __init__(self):\n",
    "        super().__init__()\n",
    "        self.weights = nn.Parameter(torch.randn(784, 10) / math.sqrt(784))\n",
    "        self.bias = nn.Parameter(torch.zeros(10))\n",
    "\n",
    "    def forward(self, xb):\n",
    "        return xb @ self.weights + self.bias"
   ]
  },
  {
   "cell_type": "markdown",
   "metadata": {
    "colab_type": "text",
    "id": "7XTWSNwtryww"
   },
   "source": [
    "Since we're now using an object instead of just using a function, we\n",
    "first have to instantiate our model:\n",
    "\n"
   ]
  },
  {
   "cell_type": "code",
   "execution_count": null,
   "metadata": {
    "colab": {},
    "colab_type": "code",
    "id": "fXEIkDHqrywy"
   },
   "outputs": [],
   "source": [
    "model = Mnist_Logistic()"
   ]
  },
  {
   "cell_type": "markdown",
   "metadata": {
    "colab_type": "text",
    "id": "pStDDMckryw0"
   },
   "source": [
    "Now we can calculate the loss in the same way as before. Note that\n",
    "``nn.Module`` objects are used as if they are functions (i.e they are\n",
    "*callable*), but behind the scenes Pytorch will call our ``forward``\n",
    "method automatically.\n",
    "\n"
   ]
  },
  {
   "cell_type": "code",
   "execution_count": null,
   "metadata": {
    "colab": {},
    "colab_type": "code",
    "id": "uzlCRR4Oryw1"
   },
   "outputs": [],
   "source": [
    "print(loss_func(model(xb), yb))"
   ]
  },
  {
   "cell_type": "markdown",
   "metadata": {
    "colab_type": "text",
    "id": "8ncGx1KOryw4"
   },
   "source": [
    "Previously for our training loop we had to update the values for each parameter\n",
    "by name, and manually zero out the grads for each parameter separately, like this:\n",
    "::\n",
    "  with torch.no_grad():\n",
    "      weights -= weights.grad * lr\n",
    "      bias -= bias.grad * lr\n",
    "      weights.grad.zero_()\n",
    "      bias.grad.zero_()\n",
    "\n",
    "\n",
    "Now we can take advantage of model.parameters() and model.zero_grad() (which\n",
    "are both defined by PyTorch for ``nn.Module``) to make those steps more concise\n",
    "and less prone to the error of forgetting some of our parameters, particularly\n",
    "if we had a more complicated model:\n",
    "::\n",
    "  with torch.no_grad():\n",
    "      for p in model.parameters(): p -= p.grad * lr\n",
    "      model.zero_grad()\n",
    "\n",
    "\n",
    "We'll wrap our little training loop in a ``fit`` function so we can run it\n",
    "again later.\n",
    "\n"
   ]
  },
  {
   "cell_type": "code",
   "execution_count": null,
   "metadata": {
    "colab": {},
    "colab_type": "code",
    "id": "Wp2a3kU-ryw5"
   },
   "outputs": [],
   "source": [
    "def fit():\n",
    "    for epoch in range(epochs):\n",
    "        for i in range((n - 1) // bs + 1):\n",
    "            start_i = i * bs\n",
    "            end_i = start_i + bs\n",
    "            xb = x_train[start_i:end_i]\n",
    "            yb = y_train[start_i:end_i]\n",
    "            pred = model(xb)\n",
    "            loss = loss_func(pred, yb)\n",
    "\n",
    "            loss.backward()\n",
    "            with torch.no_grad():\n",
    "                for p in model.parameters():\n",
    "                    p -= p.grad * lr\n",
    "                model.zero_grad()\n",
    "\n",
    "fit()"
   ]
  },
  {
   "cell_type": "markdown",
   "metadata": {
    "colab_type": "text",
    "id": "RMucwk_Kryw9"
   },
   "source": [
    "Let's double-check that our loss has gone down:\n",
    "\n"
   ]
  },
  {
   "cell_type": "code",
   "execution_count": null,
   "metadata": {
    "colab": {},
    "colab_type": "code",
    "id": "dGvSWdEpryxA"
   },
   "outputs": [],
   "source": [
    "print(loss_func(model(xb), yb))"
   ]
  },
  {
   "cell_type": "markdown",
   "metadata": {
    "colab_type": "text",
    "id": "e9fOqVvNryxE"
   },
   "source": [
    "Refactor using nn.Linear\n",
    "-------------------------\n",
    "\n",
    "We continue to refactor our code.  Instead of manually defining and\n",
    "initializing ``self.weights`` and ``self.bias``, and calculating ``xb  @\n",
    "self.weights + self.bias``, we will instead use the Pytorch class\n",
    "`nn.Linear <https://pytorch.org/docs/stable/nn.html#linear-layers>`_ for a\n",
    "linear layer, which does all that for us. Pytorch has many types of\n",
    "predefined layers that can greatly simplify our code, and often makes it\n",
    "faster too.\n",
    "\n"
   ]
  },
  {
   "cell_type": "code",
   "execution_count": null,
   "metadata": {
    "colab": {},
    "colab_type": "code",
    "id": "TH0xxYm2ryxF"
   },
   "outputs": [],
   "source": [
    "class Mnist_Logistic(nn.Module):\n",
    "    def __init__(self):\n",
    "        super().__init__()\n",
    "        self.lin = nn.Linear(784, 10)\n",
    "\n",
    "    def forward(self, xb):\n",
    "        return self.lin(xb)"
   ]
  },
  {
   "cell_type": "markdown",
   "metadata": {
    "colab_type": "text",
    "id": "AIUqZuKKryxJ"
   },
   "source": [
    "We instantiate our model and calculate the loss in the same way as before:\n",
    "\n"
   ]
  },
  {
   "cell_type": "code",
   "execution_count": null,
   "metadata": {
    "colab": {},
    "colab_type": "code",
    "id": "1fShvHQIryxJ"
   },
   "outputs": [],
   "source": [
    "model = Mnist_Logistic()\n",
    "print(loss_func(model(xb), yb))"
   ]
  },
  {
   "cell_type": "markdown",
   "metadata": {
    "colab_type": "text",
    "id": "wZu5_JudryxM"
   },
   "source": [
    "We are still able to use our same ``fit`` method as before.\n",
    "\n"
   ]
  },
  {
   "cell_type": "code",
   "execution_count": null,
   "metadata": {
    "colab": {},
    "colab_type": "code",
    "id": "4mBqeknJryxM"
   },
   "outputs": [],
   "source": [
    "fit()\n",
    "\n",
    "print(loss_func(model(xb), yb))"
   ]
  },
  {
   "cell_type": "markdown",
   "metadata": {
    "colab_type": "text",
    "id": "M0YPzJfLryxR"
   },
   "source": [
    "Refactor using optim\n",
    "------------------------------\n",
    "\n",
    "Pytorch also has a package with various optimization algorithms, ``torch.optim``.\n",
    "We can use the ``step`` method from our optimizer to take a forward step, instead\n",
    "of manually updating each parameter.\n",
    "\n",
    "This will let us replace our previous manually coded optimization step:\n",
    "::\n",
    "  with torch.no_grad():\n",
    "      for p in model.parameters(): p -= p.grad * lr\n",
    "      model.zero_grad()\n",
    "\n",
    "and instead use just:\n",
    "::\n",
    "  opt.step()\n",
    "  opt.zero_grad()\n",
    "\n",
    "(``optim.zero_grad()`` resets the gradient to 0 and we need to call it before\n",
    "computing the gradient for the next minibatch.)\n",
    "\n"
   ]
  },
  {
   "cell_type": "code",
   "execution_count": null,
   "metadata": {
    "colab": {},
    "colab_type": "code",
    "id": "AYpxP7WtryxS"
   },
   "outputs": [],
   "source": [
    "from torch import optim"
   ]
  },
  {
   "cell_type": "markdown",
   "metadata": {
    "colab_type": "text",
    "id": "wXpp6IvaryxV"
   },
   "source": [
    "We'll define a little function to create our model and optimizer so we\n",
    "can reuse it in the future.\n",
    "\n"
   ]
  },
  {
   "cell_type": "code",
   "execution_count": null,
   "metadata": {
    "colab": {},
    "colab_type": "code",
    "id": "1wkfRciZryxW"
   },
   "outputs": [],
   "source": [
    "def get_model():\n",
    "    model = Mnist_Logistic()\n",
    "    return model, optim.SGD(model.parameters(), lr=lr)\n",
    "\n",
    "model, opt = get_model()\n",
    "print(loss_func(model(xb), yb))\n",
    "\n",
    "for epoch in range(epochs):\n",
    "    for i in range((n - 1) // bs + 1):\n",
    "        start_i = i * bs\n",
    "        end_i = start_i + bs\n",
    "        xb = x_train[start_i:end_i]\n",
    "        yb = y_train[start_i:end_i]\n",
    "        pred = model(xb)\n",
    "        loss = loss_func(pred, yb)\n",
    "\n",
    "        loss.backward()\n",
    "        opt.step()\n",
    "        opt.zero_grad()\n",
    "\n",
    "print(loss_func(model(xb), yb))"
   ]
  },
  {
   "cell_type": "markdown",
   "metadata": {
    "colab_type": "text",
    "id": "BCtYLuLNryxZ"
   },
   "source": [
    "Refactor using Dataset\n",
    "------------------------------\n",
    "\n",
    "PyTorch has an abstract Dataset class.  A Dataset can be anything that has\n",
    "a ``__len__`` function (called by Python's standard ``len`` function) and\n",
    "a ``__getitem__`` function as a way of indexing into it.\n",
    "`This tutorial <https://pytorch.org/tutorials/beginner/data_loading_tutorial.html>`_\n",
    "walks through a nice example of creating a custom ``FacialLandmarkDataset`` class\n",
    "as a subclass of ``Dataset``.\n",
    "\n",
    "PyTorch's `TensorDataset <https://pytorch.org/docs/stable/_modules/torch/utils/data/dataset.html#TensorDataset>`_\n",
    "is a Dataset wrapping tensors. By defining a length and way of indexing,\n",
    "this also gives us a way to iterate, index, and slice along the first\n",
    "dimension of a tensor. This will make it easier to access both the\n",
    "independent and dependent variables in the same line as we train.\n",
    "\n"
   ]
  },
  {
   "cell_type": "code",
   "execution_count": null,
   "metadata": {
    "colab": {},
    "colab_type": "code",
    "id": "JSonohrqryxZ"
   },
   "outputs": [],
   "source": [
    "from torch.utils.data import TensorDataset"
   ]
  },
  {
   "cell_type": "markdown",
   "metadata": {
    "colab_type": "text",
    "id": "7XeoIYKWryxb"
   },
   "source": [
    "Both ``x_train`` and ``y_train`` can be combined in a single ``TensorDataset``,\n",
    "which will be easier to iterate over and slice.\n",
    "\n"
   ]
  },
  {
   "cell_type": "code",
   "execution_count": null,
   "metadata": {
    "colab": {},
    "colab_type": "code",
    "id": "rzOHXzsDryxc"
   },
   "outputs": [],
   "source": [
    "train_ds = TensorDataset(x_train, y_train)"
   ]
  },
  {
   "cell_type": "markdown",
   "metadata": {
    "colab_type": "text",
    "id": "4-AuEq9mryxg"
   },
   "source": [
    "Previously, we had to iterate through minibatches of x and y values separately:\n",
    "::\n",
    "    xb = x_train[start_i:end_i]\n",
    "    yb = y_train[start_i:end_i]\n",
    "\n",
    "\n",
    "Now, we can do these two steps together:\n",
    "::\n",
    "    xb,yb = train_ds[i*bs : i*bs+bs]\n",
    "\n",
    "\n"
   ]
  },
  {
   "cell_type": "code",
   "execution_count": null,
   "metadata": {
    "colab": {},
    "colab_type": "code",
    "id": "uzg-Sv4Yryxh"
   },
   "outputs": [],
   "source": [
    "model, opt = get_model()\n",
    "\n",
    "for epoch in range(epochs):\n",
    "    for i in range((n - 1) // bs + 1):\n",
    "        xb, yb = train_ds[i * bs: i * bs + bs]\n",
    "        pred = model(xb)\n",
    "        loss = loss_func(pred, yb)\n",
    "\n",
    "        loss.backward()\n",
    "        opt.step()\n",
    "        opt.zero_grad()\n",
    "\n",
    "print(loss_func(model(xb), yb))"
   ]
  },
  {
   "cell_type": "markdown",
   "metadata": {
    "colab_type": "text",
    "id": "jXDC6amFryxm"
   },
   "source": [
    "Refactor using DataLoader\n",
    "------------------------------\n",
    "\n",
    "Pytorch's ``DataLoader`` is responsible for managing batches. You can\n",
    "create a ``DataLoader`` from any ``Dataset``. ``DataLoader`` makes it easier\n",
    "to iterate over batches. Rather than having to use ``train_ds[i*bs : i*bs+bs]``,\n",
    "the DataLoader gives us each minibatch automatically.\n",
    "\n"
   ]
  },
  {
   "cell_type": "code",
   "execution_count": null,
   "metadata": {
    "colab": {},
    "colab_type": "code",
    "id": "5LCSeTC8ryxm"
   },
   "outputs": [],
   "source": [
    "from torch.utils.data import DataLoader\n",
    "\n",
    "train_ds = TensorDataset(x_train, y_train)\n",
    "train_dl = DataLoader(train_ds, batch_size=bs)"
   ]
  },
  {
   "cell_type": "markdown",
   "metadata": {
    "colab_type": "text",
    "id": "Vj2ocHU6ryx2"
   },
   "source": [
    "Previously, our loop iterated over batches (xb, yb) like this:\n",
    "::\n",
    "      for i in range((n-1)//bs + 1):\n",
    "          xb,yb = train_ds[i*bs : i*bs+bs]\n",
    "          pred = model(xb)\n",
    "\n",
    "Now, our loop is much cleaner, as (xb, yb) are loaded automatically from the data loader:\n",
    "::\n",
    "      for xb,yb in train_dl:\n",
    "          pred = model(xb)\n",
    "\n"
   ]
  },
  {
   "cell_type": "code",
   "execution_count": null,
   "metadata": {
    "colab": {},
    "colab_type": "code",
    "id": "erM6CQPnryx3"
   },
   "outputs": [],
   "source": [
    "model, opt = get_model()\n",
    "\n",
    "for epoch in range(epochs):\n",
    "    for xb, yb in train_dl:\n",
    "        pred = model(xb)\n",
    "        loss = loss_func(pred, yb)\n",
    "\n",
    "        loss.backward()\n",
    "        opt.step()\n",
    "        opt.zero_grad()\n",
    "\n",
    "print(loss_func(model(xb), yb))"
   ]
  },
  {
   "cell_type": "markdown",
   "metadata": {
    "colab_type": "text",
    "id": "zRFhBk_Cryx4"
   },
   "source": [
    "Thanks to Pytorch's ``nn.Module``, ``nn.Parameter``, ``Dataset``, and ``DataLoader``,\n",
    "our training loop is now dramatically smaller and easier to understand. Let's\n",
    "now try to add the basic features necessary to create effecive models in practice.\n",
    "\n",
    "Add validation\n",
    "-----------------------\n",
    "\n",
    "In section 1, we were just trying to get a reasonable training loop set up for\n",
    "use on our training data.  In reality, you **always** should also have\n",
    "a `validation set <https://www.fast.ai/2017/11/13/validation-sets/>`_, in order\n",
    "to identify if you are overfitting.\n",
    "\n",
    "Shuffling the training data is\n",
    "`important <https://www.quora.com/Does-the-order-of-training-data-matter-when-training-neural-networks>`_\n",
    "to prevent correlation between batches and overfitting. On the other hand, the\n",
    "validation loss will be identical whether we shuffle the validation set or not.\n",
    "Since shuffling takes extra time, it makes no sense to shuffle the validation data.\n",
    "\n",
    "We'll use a batch size for the validation set that is twice as large as\n",
    "that for the training set. This is because the validation set does not\n",
    "need backpropagation and thus takes less memory (it doesn't need to\n",
    "store the gradients). We take advantage of this to use a larger batch\n",
    "size and compute the loss more quickly.\n",
    "\n"
   ]
  },
  {
   "cell_type": "code",
   "execution_count": null,
   "metadata": {
    "colab": {},
    "colab_type": "code",
    "id": "4qkotC3cryx5"
   },
   "outputs": [],
   "source": [
    "train_ds = TensorDataset(x_train, y_train)\n",
    "train_dl = DataLoader(train_ds, batch_size=bs, shuffle=True)\n",
    "\n",
    "valid_ds = TensorDataset(x_valid, y_valid)\n",
    "valid_dl = DataLoader(valid_ds, batch_size=bs * 2)"
   ]
  },
  {
   "cell_type": "markdown",
   "metadata": {
    "colab_type": "text",
    "id": "uCRYjVQHryx6"
   },
   "source": [
    "We will calculate and print the validation loss at the end of each epoch.\n",
    "\n",
    "(Note that we always call ``model.train()`` before training, and ``model.eval()``\n",
    "before inference, because these are used by layers such as ``nn.BatchNorm2d``\n",
    "and ``nn.Dropout`` to ensure appropriate behaviour for these different phases.)\n",
    "\n"
   ]
  },
  {
   "cell_type": "code",
   "execution_count": null,
   "metadata": {
    "colab": {},
    "colab_type": "code",
    "id": "E8aB8mzEryx6"
   },
   "outputs": [],
   "source": [
    "model, opt = get_model()\n",
    "\n",
    "for epoch in range(epochs):\n",
    "    model.train()\n",
    "    for xb, yb in train_dl:\n",
    "        pred = model(xb)\n",
    "        loss = loss_func(pred, yb)\n",
    "\n",
    "        loss.backward()\n",
    "        opt.step()\n",
    "        opt.zero_grad()\n",
    "\n",
    "    model.eval()\n",
    "    with torch.no_grad():\n",
    "        valid_loss = sum(loss_func(model(xb), yb) for xb, yb in valid_dl)\n",
    "\n",
    "    print(epoch, valid_loss / len(valid_dl))"
   ]
  },
  {
   "cell_type": "markdown",
   "metadata": {
    "colab_type": "text",
    "id": "baVc72zeryx8"
   },
   "source": [
    "Create fit() and get_data()\n",
    "----------------------------------\n",
    "\n",
    "We'll now do a little refactoring of our own. Since we go through a similar\n",
    "process twice of calculating the loss for both the training set and the\n",
    "validation set, let's make that into its own function, ``loss_batch``, which\n",
    "computes the loss for one batch.\n",
    "\n",
    "We pass an optimizer in for the training set, and use it to perform\n",
    "backprop.  For the validation set, we don't pass an optimizer, so the\n",
    "method doesn't perform backprop.\n",
    "\n"
   ]
  },
  {
   "cell_type": "code",
   "execution_count": null,
   "metadata": {
    "colab": {},
    "colab_type": "code",
    "id": "gnC4QnJvryx9"
   },
   "outputs": [],
   "source": [
    "def loss_batch(model, loss_func, xb, yb, opt=None):\n",
    "    loss = loss_func(model(xb), yb)\n",
    "\n",
    "    if opt is not None:\n",
    "        loss.backward()\n",
    "        opt.step()\n",
    "        opt.zero_grad()\n",
    "\n",
    "    return loss.item(), len(xb)"
   ]
  },
  {
   "cell_type": "markdown",
   "metadata": {
    "colab_type": "text",
    "id": "xUelO-cOryx_"
   },
   "source": [
    "``fit`` runs the necessary operations to train our model and compute the\n",
    "training and validation losses for each epoch.\n",
    "\n"
   ]
  },
  {
   "cell_type": "code",
   "execution_count": null,
   "metadata": {
    "colab": {},
    "colab_type": "code",
    "id": "dmz91ViuryyA"
   },
   "outputs": [],
   "source": [
    "import numpy as np\n",
    "\n",
    "def fit(epochs, model, loss_func, opt, train_dl, valid_dl):\n",
    "    for epoch in range(epochs):\n",
    "        model.train()\n",
    "        for xb, yb in train_dl:\n",
    "            loss_batch(model, loss_func, xb, yb, opt)\n",
    "\n",
    "        model.eval()\n",
    "        with torch.no_grad():\n",
    "            losses, nums = zip(\n",
    "                *[loss_batch(model, loss_func, xb, yb) for xb, yb in valid_dl]\n",
    "            )\n",
    "        val_loss = np.sum(np.multiply(losses, nums)) / np.sum(nums)\n",
    "\n",
    "        print(epoch, val_loss)"
   ]
  },
  {
   "cell_type": "markdown",
   "metadata": {
    "colab_type": "text",
    "id": "gr6yTe8pryyC"
   },
   "source": [
    "``get_data`` returns dataloaders for the training and validation sets.\n",
    "\n"
   ]
  },
  {
   "cell_type": "code",
   "execution_count": null,
   "metadata": {
    "colab": {},
    "colab_type": "code",
    "id": "3b9j3HmkryyC"
   },
   "outputs": [],
   "source": [
    "def get_data(train_ds, valid_ds, bs):\n",
    "    return (\n",
    "        DataLoader(train_ds, batch_size=bs, shuffle=True),\n",
    "        DataLoader(valid_ds, batch_size=bs * 2),\n",
    "    )"
   ]
  },
  {
   "cell_type": "markdown",
   "metadata": {
    "colab_type": "text",
    "id": "WdeKaQQdryyE"
   },
   "source": [
    "Now, our whole process of obtaining the data loaders and fitting the\n",
    "model can be run in 3 lines of code:\n",
    "\n"
   ]
  },
  {
   "cell_type": "code",
   "execution_count": null,
   "metadata": {
    "colab": {},
    "colab_type": "code",
    "id": "WHugCSAUryyF"
   },
   "outputs": [],
   "source": [
    "train_dl, valid_dl = get_data(train_ds, valid_ds, bs)\n",
    "model, opt = get_model()\n",
    "fit(epochs, model, loss_func, opt, train_dl, valid_dl)"
   ]
  },
  {
   "cell_type": "markdown",
   "metadata": {
    "colab_type": "text",
    "id": "8v_hJ62tryyH"
   },
   "source": [
    "You can use these basic 3 lines of code to train a wide variety of models.\n",
    "Let's see if we can use them to train a convolutional neural network (CNN)!\n",
    "\n",
    "Switch to CNN\n",
    "-------------\n",
    "\n",
    "We are now going to build our neural network with three convolutional layers.\n",
    "Because none of the functions in the previous section assume anything about\n",
    "the model form, we'll be able to use them to train a CNN without any modification.\n",
    "\n",
    "We will use Pytorch's predefined\n",
    "`Conv2d <https://pytorch.org/docs/stable/nn.html#torch.nn.Conv2d>`_ class\n",
    "as our convolutional layer. We define a CNN with 3 convolutional layers.\n",
    "Each convolution is followed by a ReLU.  At the end, we perform an\n",
    "average pooling.  (Note that ``view`` is PyTorch's version of numpy's\n",
    "``reshape``)\n",
    "\n"
   ]
  },
  {
   "cell_type": "code",
   "execution_count": null,
   "metadata": {
    "colab": {},
    "colab_type": "code",
    "id": "xMHqYdIgryyH"
   },
   "outputs": [],
   "source": [
    "class Mnist_CNN(nn.Module):\n",
    "    def __init__(self):\n",
    "        super().__init__()\n",
    "        self.conv1 = nn.Conv2d(1, 16, kernel_size=3, stride=2, padding=1)\n",
    "        self.conv2 = nn.Conv2d(16, 16, kernel_size=3, stride=2, padding=1)\n",
    "        self.conv3 = nn.Conv2d(16, 10, kernel_size=3, stride=2, padding=1)\n",
    "\n",
    "    def forward(self, xb):\n",
    "        xb = xb.view(-1, 1, 28, 28)\n",
    "        xb = F.relu(self.conv1(xb))\n",
    "        xb = F.relu(self.conv2(xb))\n",
    "        xb = F.relu(self.conv3(xb))\n",
    "        xb = F.avg_pool2d(xb, 4)\n",
    "        return xb.view(-1, xb.size(1))\n",
    "\n",
    "lr = 0.1"
   ]
  },
  {
   "cell_type": "markdown",
   "metadata": {
    "colab_type": "text",
    "id": "KRuHK7qPryyK"
   },
   "source": [
    "`Momentum <https://cs231n.github.io/neural-networks-3/#sgd>`_ is a variation on\n",
    "stochastic gradient descent that takes previous updates into account as well\n",
    "and generally leads to faster training.\n",
    "\n"
   ]
  },
  {
   "cell_type": "code",
   "execution_count": null,
   "metadata": {
    "colab": {},
    "colab_type": "code",
    "id": "zZWvSAmhryyL"
   },
   "outputs": [],
   "source": [
    "model = Mnist_CNN()\n",
    "opt = optim.SGD(model.parameters(), lr=lr, momentum=0.9)\n",
    "\n",
    "fit(epochs, model, loss_func, opt, train_dl, valid_dl)"
   ]
  },
  {
   "cell_type": "markdown",
   "metadata": {
    "colab_type": "text",
    "id": "hboRZNYRryyN"
   },
   "source": [
    "nn.Sequential\n",
    "------------------------\n",
    "\n",
    "``torch.nn`` has another handy class we can use to simply our code:\n",
    "`Sequential <https://pytorch.org/docs/stable/nn.html#torch.nn.Sequential>`_ .\n",
    "A ``Sequential`` object runs each of the modules contained within it, in a\n",
    "sequential manner. This is a simpler way of writing our neural network.\n",
    "\n",
    "To take advantage of this, we need to be able to easily define a\n",
    "**custom layer** from a given function.  For instance, PyTorch doesn't\n",
    "have a `view` layer, and we need to create one for our network. ``Lambda``\n",
    "will create a layer that we can then use when defining a network with\n",
    "``Sequential``.\n",
    "\n"
   ]
  },
  {
   "cell_type": "code",
   "execution_count": null,
   "metadata": {
    "colab": {},
    "colab_type": "code",
    "id": "Uih149xZryyN"
   },
   "outputs": [],
   "source": [
    "class Lambda(nn.Module):\n",
    "    def __init__(self, func):\n",
    "        super().__init__()\n",
    "        self.func = func\n",
    "\n",
    "    def forward(self, x):\n",
    "        return self.func(x)\n",
    "\n",
    "\n",
    "def preprocess(x):\n",
    "    return x.view(-1, 1, 28, 28)"
   ]
  },
  {
   "cell_type": "markdown",
   "metadata": {
    "colab_type": "text",
    "id": "5-nUNbKEryyO"
   },
   "source": [
    "The model created with ``Sequential`` is simply:\n",
    "\n"
   ]
  },
  {
   "cell_type": "code",
   "execution_count": null,
   "metadata": {
    "colab": {},
    "colab_type": "code",
    "id": "2Jsy8s9dryyP"
   },
   "outputs": [],
   "source": [
    "model = nn.Sequential(\n",
    "    Lambda(preprocess),\n",
    "    nn.Conv2d(1, 16, kernel_size=3, stride=2, padding=1),\n",
    "    nn.ReLU(),\n",
    "    nn.Conv2d(16, 16, kernel_size=3, stride=2, padding=1),\n",
    "    nn.ReLU(),\n",
    "    nn.Conv2d(16, 10, kernel_size=3, stride=2, padding=1),\n",
    "    nn.ReLU(),\n",
    "    nn.AvgPool2d(4),\n",
    "    Lambda(lambda x: x.view(x.size(0), -1)),\n",
    ")\n",
    "\n",
    "opt = optim.SGD(model.parameters(), lr=lr, momentum=0.9)\n",
    "\n",
    "fit(epochs, model, loss_func, opt, train_dl, valid_dl)"
   ]
  },
  {
   "cell_type": "markdown",
   "metadata": {
    "colab_type": "text",
    "id": "TVEsJYt2ryyR"
   },
   "source": [
    "Wrapping DataLoader\n",
    "-----------------------------\n",
    "\n",
    "Our CNN is fairly concise, but it only works with MNIST, because:\n",
    " - It assumes the input is a 28\\*28 long vector\n",
    " - It assumes that the final CNN grid size is 4\\*4 (since that's the average\n",
    "pooling kernel size we used)\n",
    "\n",
    "Let's get rid of these two assumptions, so our model works with any 2d\n",
    "single channel image. First, we can remove the initial Lambda layer but\n",
    "moving the data preprocessing into a generator:\n",
    "\n"
   ]
  },
  {
   "cell_type": "code",
   "execution_count": null,
   "metadata": {
    "colab": {},
    "colab_type": "code",
    "id": "2aIhV0dZryyS"
   },
   "outputs": [],
   "source": [
    "def preprocess(x, y):\n",
    "    return x.view(-1, 1, 28, 28), y\n",
    "\n",
    "\n",
    "class WrappedDataLoader:\n",
    "    def __init__(self, dl, func):\n",
    "        self.dl = dl\n",
    "        self.func = func\n",
    "\n",
    "    def __len__(self):\n",
    "        return len(self.dl)\n",
    "\n",
    "    def __iter__(self):\n",
    "        batches = iter(self.dl)\n",
    "        for b in batches:\n",
    "            yield (self.func(*b))\n",
    "\n",
    "train_dl, valid_dl = get_data(train_ds, valid_ds, bs)\n",
    "train_dl = WrappedDataLoader(train_dl, preprocess)\n",
    "valid_dl = WrappedDataLoader(valid_dl, preprocess)"
   ]
  },
  {
   "cell_type": "markdown",
   "metadata": {
    "colab_type": "text",
    "id": "xdnBhbx5ryyU"
   },
   "source": [
    "Next, we can replace ``nn.AvgPool2d`` with ``nn.AdaptiveAvgPool2d``, which\n",
    "allows us to define the size of the *output* tensor we want, rather than\n",
    "the *input* tensor we have. As a result, our model will work with any\n",
    "size input.\n",
    "\n"
   ]
  },
  {
   "cell_type": "code",
   "execution_count": null,
   "metadata": {
    "colab": {},
    "colab_type": "code",
    "id": "gfrPtblzryyV"
   },
   "outputs": [],
   "source": [
    "model = nn.Sequential(\n",
    "    nn.Conv2d(1, 16, kernel_size=3, stride=2, padding=1),\n",
    "    nn.ReLU(),\n",
    "    nn.Conv2d(16, 16, kernel_size=3, stride=2, padding=1),\n",
    "    nn.ReLU(),\n",
    "    nn.Conv2d(16, 10, kernel_size=3, stride=2, padding=1),\n",
    "    nn.ReLU(),\n",
    "    nn.AdaptiveAvgPool2d(1),\n",
    "    Lambda(lambda x: x.view(x.size(0), -1)),\n",
    ")\n",
    "\n",
    "opt = optim.SGD(model.parameters(), lr=lr, momentum=0.9)"
   ]
  },
  {
   "cell_type": "markdown",
   "metadata": {
    "colab_type": "text",
    "id": "zDcYJnWJryyY"
   },
   "source": [
    "Let's try it out:\n",
    "\n"
   ]
  },
  {
   "cell_type": "code",
   "execution_count": null,
   "metadata": {
    "colab": {},
    "colab_type": "code",
    "id": "Y9BvClRpryyY"
   },
   "outputs": [],
   "source": [
    "fit(epochs, model, loss_func, opt, train_dl, valid_dl)"
   ]
  },
  {
   "cell_type": "markdown",
   "metadata": {
    "colab_type": "text",
    "id": "1p_XKbRyryya"
   },
   "source": [
    "Using your GPU\n",
    "---------------\n",
    "\n",
    "If you're lucky enough to have access to a CUDA-capable GPU (you can\n",
    "rent one for about $0.50/hour from most cloud providers) you can\n",
    "use it to speed up your code. First check that your GPU is working in\n",
    "Pytorch:\n",
    "\n"
   ]
  },
  {
   "cell_type": "code",
   "execution_count": null,
   "metadata": {
    "colab": {},
    "colab_type": "code",
    "id": "OlkeeNkUryya"
   },
   "outputs": [],
   "source": [
    "print(torch.cuda.is_available())"
   ]
  },
  {
   "cell_type": "markdown",
   "metadata": {
    "colab_type": "text",
    "id": "2JUToGMgryyd"
   },
   "source": [
    "And then create a device object for it:\n",
    "\n"
   ]
  },
  {
   "cell_type": "code",
   "execution_count": null,
   "metadata": {
    "colab": {},
    "colab_type": "code",
    "id": "7vTHPc1rryyd"
   },
   "outputs": [],
   "source": [
    "dev = torch.device(\n",
    "    \"cuda\") if torch.cuda.is_available() else torch.device(\"cpu\")"
   ]
  },
  {
   "cell_type": "markdown",
   "metadata": {
    "colab_type": "text",
    "id": "yMLds7v2ryyg"
   },
   "source": [
    "Let's update ``preprocess`` to move batches to the GPU:\n",
    "\n"
   ]
  },
  {
   "cell_type": "code",
   "execution_count": null,
   "metadata": {
    "colab": {},
    "colab_type": "code",
    "id": "UsSTodAMryyg"
   },
   "outputs": [],
   "source": [
    "def preprocess(x, y):\n",
    "    return x.view(-1, 1, 28, 28).to(dev), y.to(dev)\n",
    "\n",
    "\n",
    "train_dl, valid_dl = get_data(train_ds, valid_ds, bs)\n",
    "train_dl = WrappedDataLoader(train_dl, preprocess)\n",
    "valid_dl = WrappedDataLoader(valid_dl, preprocess)"
   ]
  },
  {
   "cell_type": "markdown",
   "metadata": {
    "colab_type": "text",
    "id": "zzTL65dSryyi"
   },
   "source": [
    "Finally, we can move our model to the GPU.\n",
    "\n"
   ]
  },
  {
   "cell_type": "code",
   "execution_count": null,
   "metadata": {
    "colab": {},
    "colab_type": "code",
    "id": "ikzj91yJryyi"
   },
   "outputs": [],
   "source": [
    "model.to(dev)\n",
    "opt = optim.SGD(model.parameters(), lr=lr, momentum=0.9)"
   ]
  },
  {
   "cell_type": "markdown",
   "metadata": {
    "colab_type": "text",
    "id": "38r55mXMryyk"
   },
   "source": [
    "You should find it runs faster now:\n",
    "\n"
   ]
  },
  {
   "cell_type": "code",
   "execution_count": null,
   "metadata": {
    "colab": {},
    "colab_type": "code",
    "id": "fSgSG2czryyk"
   },
   "outputs": [],
   "source": [
    "fit(epochs, model, loss_func, opt, train_dl, valid_dl)"
   ]
  },
  {
   "cell_type": "markdown",
   "metadata": {
    "colab_type": "text",
    "id": "M_3x06iDryyn"
   },
   "source": [
    "Closing thoughts\n",
    "-----------------\n",
    "\n",
    "We now have a general data pipeline and training loop which you can use for\n",
    "training many types of models using Pytorch. To see how simple training a model\n",
    "can now be, take a look at the `mnist_sample` sample notebook.\n",
    "\n",
    "Of course, there are many things you'll want to add, such as data augmentation,\n",
    "hyperparameter tuning, monitoring training, transfer learning, and so forth.\n",
    "These features are available in the fastai library, which has been developed\n",
    "using the same design approach shown in this tutorial, providing a natural\n",
    "next step for practitioners looking to take their models further.\n",
    "\n",
    "We promised at the start of this tutorial we'd explain through example each of\n",
    "``torch.nn``, ``torch.optim``, ``Dataset``, and ``DataLoader``. So let's summarize\n",
    "what we've seen:\n",
    "\n",
    " - **torch.nn**\n",
    "\n",
    "   + ``Module``: creates a callable which behaves like a function, but can also\n",
    "     contain state(such as neural net layer weights). It knows what ``Parameter`` (s) it\n",
    "     contains and can zero all their gradients, loop through them for weight updates, etc.\n",
    "   + ``Parameter``: a wrapper for a tensor that tells a ``Module`` that it has weights\n",
    "     that need updating during backprop. Only tensors with the `requires_grad` attribute set are updated\n",
    "   + ``functional``: a module(usually imported into the ``F`` namespace by convention)\n",
    "     which contains activation functions, loss functions, etc, as well as non-stateful\n",
    "     versions of layers such as convolutional and linear layers.\n",
    " - ``torch.optim``: Contains optimizers such as ``SGD``, which update the weights\n",
    "   of ``Parameter`` during the backward step\n",
    " - ``Dataset``: An abstract interface of objects with a ``__len__`` and a ``__getitem__``,\n",
    "   including classes provided with Pytorch such as ``TensorDataset``\n",
    " - ``DataLoader``: Takes any ``Dataset`` and creates an iterator which returns batches of data.\n",
    "\n"
   ]
  }
 ],
 "metadata": {
  "colab": {
   "collapsed_sections": [
    "sLvjHRFNrywi",
    "ZO0YyyJWrywq",
    "e9fOqVvNryxE",
    "M0YPzJfLryxR",
    "BCtYLuLNryxZ",
    "jXDC6amFryxm",
    "zRFhBk_Cryx4",
    "baVc72zeryx8",
    "8v_hJ62tryyH",
    "hboRZNYRryyN",
    "TVEsJYt2ryyR",
    "1p_XKbRyryya",
    "M_3x06iDryyn"
   ],
   "name": "MNIST Up and Down Sampling",
   "provenance": []
  },
  "kernelspec": {
   "display_name": "Python [conda env:fastai] *",
   "language": "python",
   "name": "conda-env-fastai-py"
  },
  "language_info": {
   "codemirror_mode": {
    "name": "ipython",
    "version": 3
   },
   "file_extension": ".py",
   "mimetype": "text/x-python",
   "name": "python",
   "nbconvert_exporter": "python",
   "pygments_lexer": "ipython3",
   "version": "3.7.7"
  }
 },
 "nbformat": 4,
 "nbformat_minor": 1
}
