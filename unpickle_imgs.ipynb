{
 "cells": [
  {
   "cell_type": "code",
   "execution_count": 1,
   "metadata": {},
   "outputs": [
    {
     "name": "stdout",
     "output_type": "stream",
     "text": [
      "C:\\Users\\georg\\fyp\n",
      "C:\\Users\\georg\\fyp/data/h5/img_wmasks/\n"
     ]
    }
   ],
   "source": [
    "from PIL import Image\n",
    "import h5py\n",
    "import os\n",
    "import re\n",
    "\n",
    "files_dir = '/data/h5/h5_wmasks/' #relative to this script\n",
    "output_dir = '/data/h5/img_wmasks/'\n",
    "\n",
    "cwd = os.getcwd()\n",
    "print(cwd)\n",
    "save_dir = cwd+output_dir\n",
    "print(save_dir)\n",
    "\n",
    "if __name__ == '__main__':\n",
    "    with Pool(5) as p:\n",
    "        print(p.map(f, [1, 2, 3]))\n",
    "\n",
    "for filename in os.listdir(cwd+files_dir):\n",
    "    h5file_in = h5py.File(cwd+files_dir+filename, 'r')\n",
    "    for i in range(len(h5file_in['/train_imgs/'])):\n",
    "        compound = h5file_in['/train_imgs/'][i]\n",
    "        nm = str(compound[0])\n",
    "        nm = nm.replace('b\\'', '') #I am the lord of regex\n",
    "        nm = nm.replace('\\'', '')\n",
    "        im = Image.fromarray(compound[1])\n",
    "        im.save(save_dir+nm+'.png')\n"
   ]
  },
  {
   "cell_type": "code",
   "execution_count": null,
   "metadata": {},
   "outputs": [],
   "source": []
  }
 ],
 "metadata": {
  "kernelspec": {
   "display_name": "Python [conda env:fastai] *",
   "language": "python",
   "name": "conda-env-fastai-py"
  },
  "language_info": {
   "codemirror_mode": {
    "name": "ipython",
    "version": 3
   },
   "file_extension": ".py",
   "mimetype": "text/x-python",
   "name": "python",
   "nbconvert_exporter": "python",
   "pygments_lexer": "ipython3",
   "version": "3.7.6"
  }
 },
 "nbformat": 4,
 "nbformat_minor": 4
}
